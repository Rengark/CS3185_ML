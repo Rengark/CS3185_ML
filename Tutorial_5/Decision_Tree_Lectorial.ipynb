{
 "cells": [
  {
   "cell_type": "markdown",
   "id": "27d2863c-66a1-4a9b-a076-22d0ddb4f781",
   "metadata": {},
   "source": [
    "### Table of Content\n",
    "\n",
    "[1. Decision Tree Codes](#dt1) <br>\n",
    "\n",
    "[2. Comparison with Scikit-Learn](#dt2) <br>\n"
   ]
  },
  {
   "cell_type": "markdown",
   "id": "1df45d53-3138-4cf8-ad8f-782fbcdf3582",
   "metadata": {},
   "source": [
    "## <a id='dt1'></a> 1. Decision Tree Codes"
   ]
  },
  {
   "cell_type": "code",
   "execution_count": 1,
   "id": "7dbd4dbb-4f3a-4305-b59b-4511bba78f4a",
   "metadata": {},
   "outputs": [],
   "source": [
    "import numpy as np\n",
    "import pandas as pd"
   ]
  },
  {
   "cell_type": "code",
   "execution_count": 2,
   "id": "328bcb3b-c5e2-4810-b52f-1adc6aacce59",
   "metadata": {},
   "outputs": [],
   "source": [
    "def entropy(y):\n",
    "    \"\"\"\n",
    "    Calculate the entropy at each node\n",
    "    Inputs: \n",
    "        y - numpy.ndarray, array of labels in the node. e.g., array([0, 1, 1, 1, 1]) in root node\n",
    "    Outputs: \n",
    "        entropy - float, the calculated entropy value\n",
    "    \"\"\"\n",
    "    _, counts = np.unique(y, return_counts=True) # return_counts : bool, optional. \n",
    "                                                 # If True, also return the number of times each unique item appears\n",
    "    probabilities = counts / len(y)\n",
    "    entropy = np.sum( -(probabilities * np.log2(probabilities)) )\n",
    "    return entropy"
   ]
  },
  {
   "cell_type": "code",
   "execution_count": 3,
   "id": "f21e9cfc-f37c-4f01-b9f8-55bd4f9fa7bd",
   "metadata": {},
   "outputs": [],
   "source": [
    "def split_data(X, y, feature_idx, value):\n",
    "    \"\"\"\n",
    "    Split the dataset into two subsets (left and right) based on the given feature index and value\n",
    "    Inputs: \n",
    "        X - numpy.ndarray, array of features\n",
    "        y - numpy.ndarray, array of labels\n",
    "        feature_idx - int, index of the feature to split on\n",
    "        value - float, the value to split the dataset\n",
    "    Outputs: \n",
    "        X_left, y_left - numpy.ndarray, the subset with feature values <= value\n",
    "        X_right, y_right - numpy.ndarray, the subset with feature values > value\n",
    "    \"\"\"\n",
    "    left_mask = X[:, feature_idx] <= value # mask using True and False\n",
    "    right_mask = X[:, feature_idx] > value # mask using True and False\n",
    "    return X[left_mask], y[left_mask], X[right_mask], y[right_mask]"
   ]
  },
  {
   "cell_type": "code",
   "execution_count": 4,
   "id": "f70e6322-b511-49f2-a6a2-eeba77df2d75",
   "metadata": {},
   "outputs": [],
   "source": [
    "def best_split(X, y, n_features):\n",
    "    \"\"\"\n",
    "    Find the best split by iterating through all possible splits and calculating information gain\n",
    "    Inputs: \n",
    "        X - numpy.ndarray, array of features\n",
    "        y - numpy.ndarray, array of labels\n",
    "        n_features - int, number of features\n",
    "    Outputs: \n",
    "        best_gain - float, the best information gain found\n",
    "        best_feature - int, index of the best feature to split on\n",
    "        best_value - float, the best value to split the dataset\n",
    "    \"\"\"\n",
    "    best_gain, best_feature, best_value = 0, None, None\n",
    "    \n",
    "    parent_entropy = entropy(y) # # Equation (5.2) in book: Entropy(parent)\n",
    "\n",
    "    for feature_idx in range(n_features): # iterate all features\n",
    "        values = np.unique(X[:, feature_idx])\n",
    "        split_values = (values[:-1] + values[1:]) / 2  # Calculate the middle values between unique feature values\n",
    "                                                       # e.g., values = [0,1,2]; ([0,1] + [1,2])/2 = [1,3]/2 = [0.5, 1.5]\n",
    "        \n",
    "        for value in split_values: # iterate all possible splits\n",
    "            X_left, y_left, X_right, y_right = split_data(X, y, feature_idx, value)\n",
    "\n",
    "            if len(y_left) == 0 or len(y_right) == 0:\n",
    "                continue\n",
    "\n",
    "            left_entropy = entropy(y_left)\n",
    "            right_entropy = entropy(y_right)\n",
    "            \n",
    "            # Equation (5.2) in book: Weighted sum of Entropy(children)\n",
    "            child_entropy = (len(y_left) / len(y)) * left_entropy + (len(y_right) / len(y)) * right_entropy\n",
    "\n",
    "            # Equation (5.2) in book\n",
    "            information_gain = parent_entropy - child_entropy\n",
    "\n",
    "            if information_gain > best_gain:\n",
    "                best_gain, best_feature, best_value = information_gain, feature_idx, value\n",
    "    \n",
    "    return best_gain, best_feature, best_value"
   ]
  },
  {
   "cell_type": "code",
   "execution_count": 5,
   "id": "4b5e32fd-208d-4845-bddf-91e3e5ef0df4",
   "metadata": {},
   "outputs": [],
   "source": [
    "# Recursive function to build the decision tree\n",
    "def build_tree(X, y, n_features, max_depth, depth=0):\n",
    "    \"\"\"\n",
    "    Recursively build the decision tree\n",
    "    Inputs: \n",
    "        X - numpy.ndarray, array of features\n",
    "        y - numpy.ndarray, array of labels\n",
    "        n_features - int, number of features\n",
    "        max_depth - int, maximum depth of the decision tree\n",
    "    Outputs: \n",
    "        tree - dict, the built decision tree structure\n",
    "    \"\"\"\n",
    "    if depth == max_depth or entropy(y) == 0 or len(y) <= 1:\n",
    "        return {'label': np.argmax(np.bincount(y))} # bincount: count 0's occurences, 1's occurences, 2's, 3's\n",
    "                                                    # argmax: return index of max value\n",
    "\n",
    "    information_gain, feature, value = best_split(X, y, n_features) # returned feature is the index of the feature in feature_cols\n",
    "    print(f\"best split at depth {depth}: best_gain = {round(information_gain,3)}, split on {feature_cols[feature]} <= {value}\")\n",
    "    \n",
    "    if information_gain == 0:\n",
    "        return {'label': np.argmax(np.bincount(y))} \n",
    "\n",
    "    X_left, y_left, X_right, y_right = split_data(X, y, feature, value) # real split happens here after figure out which split give best gain\n",
    "    # print(\"X_left, y_left\\n\", X_left, y_left)\n",
    "    # print(\"X_right, y_right\\n\", X_right, y_right)\n",
    "    \n",
    "    return {\n",
    "        'feature': feature,\n",
    "        'value': value,\n",
    "        'left': build_tree(X_left, y_left, n_features, max_depth, depth + 1),\n",
    "        'right': build_tree(X_right, y_right, n_features, max_depth, depth + 1),\n",
    "    }"
   ]
  },
  {
   "cell_type": "code",
   "execution_count": 6,
   "id": "6ddbfb93-5100-48f6-9710-3bfba3b505d2",
   "metadata": {},
   "outputs": [],
   "source": [
    "def predict(tree, x):\n",
    "    \"\"\"\n",
    "    Make predictions for a single instance using the decision tree\n",
    "    Inputs: \n",
    "        tree - dict, the decision tree structure\n",
    "        x - numpy.ndarray, a single feature instance\n",
    "    Outputs: \n",
    "        prediction - int, the predicted label for the input instance\n",
    "    \"\"\"\n",
    "    if 'label' in tree: # i.e., reached the leaf node\n",
    "        return tree['label']\n",
    "\n",
    "    feature = tree['feature']\n",
    "    value = tree['value']\n",
    "\n",
    "    # navigate to the left or right subtree (like how we explored binary tree)\n",
    "    if x[feature] <= value:\n",
    "        return predict(tree['left'], x) \n",
    "    else:\n",
    "        return predict(tree['right'], x)"
   ]
  },
  {
   "cell_type": "code",
   "execution_count": 7,
   "id": "3d010e4e-aa19-447a-942a-99db1f16d07c",
   "metadata": {},
   "outputs": [
    {
     "name": "stdout",
     "output_type": "stream",
     "text": [
      "Original data:\n",
      "     Outlook Temperature Play_Tennis\n",
      "0     rainy         hot          no\n",
      "1     rainy        cool         yes\n",
      "2  overcast        cool         yes\n",
      "3     sunny         hot         yes\n",
      "4     sunny        cool         yes \n",
      "\n"
     ]
    }
   ],
   "source": [
    "data = np.array([[\"rainy\",\"hot\",\"no\"],\n",
    "                 [\"rainy\",\"cool\",\"yes\"],\n",
    "                 [\"overcast\",\"cool\",\"yes\"],\n",
    "                 [\"sunny\",\"hot\",\"yes\"],\n",
    "                 [\"sunny\",\"cool\",\"yes\"]])\n",
    "\n",
    "col_names = [\"Outlook\",\"Temperature\",\"Play_Tennis\"]\n",
    "data = pd.DataFrame(data, columns=col_names)\n",
    "print(\"Original data:\\n\", data, \"\\n\")"
   ]
  },
  {
   "cell_type": "code",
   "execution_count": 8,
   "id": "da380dfc-48fe-426c-ab1e-72b3736db690",
   "metadata": {},
   "outputs": [
    {
     "name": "stdout",
     "output_type": "stream",
     "text": [
      "Encoded data:\n",
      "    Outlook  Temperature  Play_Tennis\n",
      "0        1            1            0\n",
      "1        1            0            1\n",
      "2        0            0            1\n",
      "3        2            1            1\n",
      "4        2            0            1 \n",
      "\n"
     ]
    }
   ],
   "source": [
    "def label_encode_dataframe(data):\n",
    "    \"\"\"\n",
    "    Perform label encoding on a pandas DataFrame by replacing categorical values with integer labels\n",
    "    Inputs: \n",
    "        data - pandas.DataFrame, the input DataFrame with categorical values\n",
    "    Outputs:\n",
    "        encoded_data - pandas.DataFrame, the DataFrame with integer labels instead of categorical values\n",
    "    \"\"\"\n",
    "    encoded_data = data.copy()\n",
    "    for column in encoded_data.columns:\n",
    "        unique_values = sorted(encoded_data[column].unique())\n",
    "        value_to_int = {value: idx for idx, value in enumerate(unique_values)}\n",
    "        encoded_data[column] = encoded_data[column].map(value_to_int)\n",
    "    return encoded_data\n",
    "\n",
    "data = label_encode_dataframe(data)\n",
    "print(\"Encoded data:\\n\", data, \"\\n\")"
   ]
  },
  {
   "cell_type": "code",
   "execution_count": 9,
   "id": "cc317ee8-64d7-4e49-97bc-ac007c3e9532",
   "metadata": {},
   "outputs": [
    {
     "name": "stdout",
     "output_type": "stream",
     "text": [
      "best split at depth 0: best_gain = 0.322, split on Temperature <= 0.5\n",
      "best split at depth 1: best_gain = 1.0, split on Outlook <= 1.5\n"
     ]
    }
   ],
   "source": [
    "feature_cols = [\"Outlook\", \"Temperature\"]\n",
    "X = data[feature_cols].to_numpy()                               \n",
    "y = data[\"Play_Tennis\"].to_numpy()\n",
    "\n",
    "tree = build_tree(X, y, n_features=len(feature_cols), max_depth=3)"
   ]
  },
  {
   "cell_type": "code",
   "execution_count": 10,
   "id": "50e2c9d6-3de5-4115-b377-e666e32da2ae",
   "metadata": {},
   "outputs": [
    {
     "name": "stdout",
     "output_type": "stream",
     "text": [
      "{'feature': 1,\n",
      " 'left': {'label': 1},\n",
      " 'right': {'feature': 0,\n",
      "           'left': {'label': 0},\n",
      "           'right': {'label': 1},\n",
      "           'value': 1.5},\n",
      " 'value': 0.5}\n"
     ]
    }
   ],
   "source": [
    "## print(\"\\n------------------first approach visualizing the tree-------------------\")\n",
    "import pprint\n",
    "pprint.pprint(tree)"
   ]
  },
  {
   "cell_type": "code",
   "execution_count": 11,
   "id": "0e2b6846-4b8c-4ce1-8d7e-87dcb01bc85f",
   "metadata": {},
   "outputs": [
    {
     "name": "stdout",
     "output_type": "stream",
     "text": [
      "\n",
      "------------------second approach visualizing the tree-------------------\n",
      "[Temperature <= 0.5]\n",
      "-> True:\n",
      "\tPredict: Play_Tennis yes\n",
      "-> False:\n",
      "\t[Outlook <= 1.5]\n",
      "\t-> True:\n",
      "\t\tPredict: Play_Tennis no\n",
      "\t-> False:\n",
      "\t\tPredict: Play_Tennis yes\n"
     ]
    }
   ],
   "source": [
    "# Visualize the decision tree\n",
    "def print_tree(tree, feature_names, spacing=\"\"):\n",
    "    if 'label' in tree:\n",
    "        print(f\"{spacing}Predict: {'Play_Tennis no' if tree['label'] == 0 else 'Play_Tennis yes'}\")\n",
    "        return\n",
    "\n",
    "    feature = tree['feature']\n",
    "    value = tree['value']\n",
    "\n",
    "    print(f\"{spacing}[{feature_names[feature]} <= {value}]\")\n",
    "\n",
    "    print(f\"{spacing}-> True:\")\n",
    "    print_tree(tree['left'], feature_names, spacing + \"\\t\")\n",
    "\n",
    "    print(f\"{spacing}-> False:\")\n",
    "    print_tree(tree['right'], feature_names, spacing + \"\\t\")\n",
    "\n",
    "print(\"\\n------------------second approach visualizing the tree-------------------\")\n",
    "print_tree(tree, feature_cols)"
   ]
  },
  {
   "cell_type": "code",
   "execution_count": 12,
   "id": "52d3b3ea-fb1f-4a89-a318-09c29e40b320",
   "metadata": {},
   "outputs": [
    {
     "name": "stdout",
     "output_type": "stream",
     "text": [
      "\n",
      "Predictions: [0, 1, 1, 1, 1] \n",
      "\n",
      "Accuracy: 1.0 \n",
      "\n"
     ]
    }
   ],
   "source": [
    "# Make predictions\n",
    "predictions = [predict(tree, x) for x in X]\n",
    "print(\"\\nPredictions:\", predictions, \"\\n\")\n",
    "\n",
    "# Calculate the accuracy\n",
    "accuracy = np.sum(predictions == y) / len(y)\n",
    "print(\"Accuracy:\", accuracy, \"\\n\")"
   ]
  },
  {
   "cell_type": "markdown",
   "id": "416b7371-a272-46b7-9cf1-6631ef0fd5eb",
   "metadata": {},
   "source": [
    "## <a id='dt2'></a> 2. Comparison with Scikit-Learn"
   ]
  },
  {
   "cell_type": "code",
   "execution_count": 13,
   "id": "31df6b1b-43f3-4d4d-a716-235441f37b95",
   "metadata": {},
   "outputs": [],
   "source": [
    "# Load libraries\n",
    "import numpy as np\n",
    "import pandas as pd\n",
    "from sklearn import metrics \n",
    "from sklearn import tree\n",
    "from sklearn import preprocessing\n",
    "from sklearn.tree import DecisionTreeClassifier  \n",
    "import matplotlib.pyplot as plt"
   ]
  },
  {
   "cell_type": "code",
   "execution_count": 14,
   "id": "b0757d57-877e-4aaa-b729-32b2a8b936cb",
   "metadata": {},
   "outputs": [
    {
     "name": "stdout",
     "output_type": "stream",
     "text": [
      "    Outlook Temperature Play_Tennis\n",
      "0     rainy         hot          no\n",
      "1     rainy        cool         yes\n",
      "2  overcast        cool         yes\n",
      "3     sunny         hot         yes\n",
      "4     sunny        cool         yes \n",
      "\n"
     ]
    }
   ],
   "source": [
    "data = np.array([[\"rainy\",\"hot\",\"no\"],\n",
    "                 [\"rainy\",\"cool\",\"yes\"],\n",
    "                 [\"overcast\",\"cool\",\"yes\"],\n",
    "                 [\"sunny\",\"hot\",\"yes\"],\n",
    "                 [\"sunny\",\"cool\",\"yes\"]])\n",
    "col_names = [\"Outlook\",\"Temperature\",\"Play_Tennis\"]\n",
    "data = pd.DataFrame(data, columns=col_names)\n",
    "print(data, \"\\n\")"
   ]
  },
  {
   "cell_type": "code",
   "execution_count": 15,
   "id": "c55a14bc-8783-441c-8a75-bd46f654043d",
   "metadata": {},
   "outputs": [
    {
     "name": "stdout",
     "output_type": "stream",
     "text": [
      "   Outlook  Temperature  Play_Tennis\n",
      "0        1            1            0\n",
      "1        1            0            1\n",
      "2        0            0            1\n",
      "3        2            1            1\n",
      "4        2            0            1 \n",
      "\n"
     ]
    }
   ],
   "source": [
    "#The data can be labbeled using Label encoder from sklearn\n",
    "string_to_int= preprocessing.LabelEncoder()                     \n",
    "data=data.apply(string_to_int.fit_transform) \n",
    "print(data, \"\\n\")"
   ]
  },
  {
   "cell_type": "code",
   "execution_count": 16,
   "id": "6e63028e-a635-48d1-9dfe-d6260e606d88",
   "metadata": {},
   "outputs": [],
   "source": [
    "#To divide our data into features and Labels\n",
    "feature_cols = [\"Outlook\", \"Temperature\"]\n",
    "X = data[feature_cols]                               \n",
    "y = data[\"Play_Tennis\"]"
   ]
  },
  {
   "cell_type": "code",
   "execution_count": 17,
   "id": "3509b267-316d-478e-9645-bb42003aabad",
   "metadata": {},
   "outputs": [
    {
     "data": {
      "text/html": [
       "<style>#sk-container-id-1 {color: black;background-color: white;}#sk-container-id-1 pre{padding: 0;}#sk-container-id-1 div.sk-toggleable {background-color: white;}#sk-container-id-1 label.sk-toggleable__label {cursor: pointer;display: block;width: 100%;margin-bottom: 0;padding: 0.3em;box-sizing: border-box;text-align: center;}#sk-container-id-1 label.sk-toggleable__label-arrow:before {content: \"▸\";float: left;margin-right: 0.25em;color: #696969;}#sk-container-id-1 label.sk-toggleable__label-arrow:hover:before {color: black;}#sk-container-id-1 div.sk-estimator:hover label.sk-toggleable__label-arrow:before {color: black;}#sk-container-id-1 div.sk-toggleable__content {max-height: 0;max-width: 0;overflow: hidden;text-align: left;background-color: #f0f8ff;}#sk-container-id-1 div.sk-toggleable__content pre {margin: 0.2em;color: black;border-radius: 0.25em;background-color: #f0f8ff;}#sk-container-id-1 input.sk-toggleable__control:checked~div.sk-toggleable__content {max-height: 200px;max-width: 100%;overflow: auto;}#sk-container-id-1 input.sk-toggleable__control:checked~label.sk-toggleable__label-arrow:before {content: \"▾\";}#sk-container-id-1 div.sk-estimator input.sk-toggleable__control:checked~label.sk-toggleable__label {background-color: #d4ebff;}#sk-container-id-1 div.sk-label input.sk-toggleable__control:checked~label.sk-toggleable__label {background-color: #d4ebff;}#sk-container-id-1 input.sk-hidden--visually {border: 0;clip: rect(1px 1px 1px 1px);clip: rect(1px, 1px, 1px, 1px);height: 1px;margin: -1px;overflow: hidden;padding: 0;position: absolute;width: 1px;}#sk-container-id-1 div.sk-estimator {font-family: monospace;background-color: #f0f8ff;border: 1px dotted black;border-radius: 0.25em;box-sizing: border-box;margin-bottom: 0.5em;}#sk-container-id-1 div.sk-estimator:hover {background-color: #d4ebff;}#sk-container-id-1 div.sk-parallel-item::after {content: \"\";width: 100%;border-bottom: 1px solid gray;flex-grow: 1;}#sk-container-id-1 div.sk-label:hover label.sk-toggleable__label {background-color: #d4ebff;}#sk-container-id-1 div.sk-serial::before {content: \"\";position: absolute;border-left: 1px solid gray;box-sizing: border-box;top: 0;bottom: 0;left: 50%;z-index: 0;}#sk-container-id-1 div.sk-serial {display: flex;flex-direction: column;align-items: center;background-color: white;padding-right: 0.2em;padding-left: 0.2em;position: relative;}#sk-container-id-1 div.sk-item {position: relative;z-index: 1;}#sk-container-id-1 div.sk-parallel {display: flex;align-items: stretch;justify-content: center;background-color: white;position: relative;}#sk-container-id-1 div.sk-item::before, #sk-container-id-1 div.sk-parallel-item::before {content: \"\";position: absolute;border-left: 1px solid gray;box-sizing: border-box;top: 0;bottom: 0;left: 50%;z-index: -1;}#sk-container-id-1 div.sk-parallel-item {display: flex;flex-direction: column;z-index: 1;position: relative;background-color: white;}#sk-container-id-1 div.sk-parallel-item:first-child::after {align-self: flex-end;width: 50%;}#sk-container-id-1 div.sk-parallel-item:last-child::after {align-self: flex-start;width: 50%;}#sk-container-id-1 div.sk-parallel-item:only-child::after {width: 0;}#sk-container-id-1 div.sk-dashed-wrapped {border: 1px dashed gray;margin: 0 0.4em 0.5em 0.4em;box-sizing: border-box;padding-bottom: 0.4em;background-color: white;}#sk-container-id-1 div.sk-label label {font-family: monospace;font-weight: bold;display: inline-block;line-height: 1.2em;}#sk-container-id-1 div.sk-label-container {text-align: center;}#sk-container-id-1 div.sk-container {/* jupyter's `normalize.less` sets `[hidden] { display: none; }` but bootstrap.min.css set `[hidden] { display: none !important; }` so we also need the `!important` here to be able to override the default hidden behavior on the sphinx rendered scikit-learn.org. See: https://github.com/scikit-learn/scikit-learn/issues/21755 */display: inline-block !important;position: relative;}#sk-container-id-1 div.sk-text-repr-fallback {display: none;}</style><div id=\"sk-container-id-1\" class=\"sk-top-container\"><div class=\"sk-text-repr-fallback\"><pre>DecisionTreeClassifier(criterion=&#x27;entropy&#x27;, random_state=100)</pre><b>In a Jupyter environment, please rerun this cell to show the HTML representation or trust the notebook. <br />On GitHub, the HTML representation is unable to render, please try loading this page with nbviewer.org.</b></div><div class=\"sk-container\" hidden><div class=\"sk-item\"><div class=\"sk-estimator sk-toggleable\"><input class=\"sk-toggleable__control sk-hidden--visually\" id=\"sk-estimator-id-1\" type=\"checkbox\" checked><label for=\"sk-estimator-id-1\" class=\"sk-toggleable__label sk-toggleable__label-arrow\">DecisionTreeClassifier</label><div class=\"sk-toggleable__content\"><pre>DecisionTreeClassifier(criterion=&#x27;entropy&#x27;, random_state=100)</pre></div></div></div></div></div>"
      ],
      "text/plain": [
       "DecisionTreeClassifier(criterion='entropy', random_state=100)"
      ]
     },
     "execution_count": 17,
     "metadata": {},
     "output_type": "execute_result"
    }
   ],
   "source": [
    "# train the machine learning model and predict the results                            \n",
    "dtc = DecisionTreeClassifier(criterion=\"entropy\", random_state=100)    \n",
    "dtc.fit(X, y)                                             "
   ]
  },
  {
   "cell_type": "code",
   "execution_count": 18,
   "id": "c04cb5d7-dc0b-4137-9fa1-87d2bc2b2cd6",
   "metadata": {},
   "outputs": [
    {
     "data": {
      "image/png": "[encoded data removed]",
      "text/plain": [
       "<Figure size 800x800 with 1 Axes>"
      ]
     },
     "metadata": {
      "needs_background": "light"
     },
     "output_type": "display_data"
    }
   ],
   "source": [
    "features=[\"Outlook\", \"Temperature\"]\n",
    "labels=['Play_Tennis no', 'Play_Tennis yes']\n",
    "\n",
    "fig, axes = plt.subplots(nrows = 1,ncols = 1,figsize = (4,4), dpi=200)\n",
    "tree.plot_tree(dtc,\n",
    "               feature_names = features, \n",
    "               class_names=labels,\n",
    "               filled = True);\n",
    "# fig.savefig('dtc_small_dataset.png')"
   ]
  },
  {
   "cell_type": "code",
   "execution_count": 19,
   "id": "ae8d534c-c470-4523-9662-58f8cded9f53",
   "metadata": {},
   "outputs": [
    {
     "data": {
      "text/plain": [
       "array([0, 1, 1, 1, 1])"
      ]
     },
     "execution_count": 19,
     "metadata": {},
     "output_type": "execute_result"
    }
   ],
   "source": [
    "dtc.predict(X)"
   ]
  },
  {
   "cell_type": "code",
   "execution_count": 20,
   "id": "93f8d1a1-09da-4a3b-aeba-4a921dda0fdb",
   "metadata": {},
   "outputs": [
    {
     "data": {
      "text/plain": [
       "1.0"
      ]
     },
     "execution_count": 20,
     "metadata": {},
     "output_type": "execute_result"
    }
   ],
   "source": [
    "from sklearn.metrics import accuracy_score\n",
    "accuracy_score(y, dtc.predict(X))"
   ]
  }
 ],
 "metadata": {
  "kernelspec": {
   "display_name": "Python 3 (ipykernel)",
   "language": "python",
   "name": "python3"
  },
  "language_info": {
   "codemirror_mode": {
    "name": "ipython",
    "version": 3
   },
   "file_extension": ".py",
   "mimetype": "text/x-python",
   "name": "python",
   "nbconvert_exporter": "python",
   "pygments_lexer": "ipython3",
   "version": "3.9.7"
  }
 },
 "nbformat": 4,
 "nbformat_minor": 5
}
