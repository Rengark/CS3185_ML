{
 "cells": [
  {
   "cell_type": "markdown",
   "id": "55c8609f-e3c7-4139-ae1c-8e443757b18b",
   "metadata": {},
   "source": [
    "## Decision Tree Classification for Bank Marketing\n",
    "\n",
    "#### Introduction\n",
    "You are provided with a dataset with 3 files (train.csv, test.csv, and test_label.csv), which is related with direct marketing campaigns of a Portuguese banking institution. The classification goal is to predict if the client will subscribe a term deposit (variable y).\n",
    "\n",
    "#### Dataset Description\n",
    "The train.csv contains columns as follows (excluding the first column, `ID`):\n",
    "\n",
    "   - 1 - age (numeric)\n",
    "   - 2 - job : type of job (categorical: \"admin.\",\"unknown\",\"unemployed\",\"management\",\"housemaid\",\"entrepreneur\",\"student\",\n",
    "                                       \"blue-collar\",\"self-employed\",\"retired\",\"technician\",\"services\") \n",
    "   - 3 - marital : marital status (categorical: \"married\",\"divorced\",\"single\"; note: \"divorced\" means divorced or widowed)\n",
    "   - 4 - education (categorical: \"unknown\",\"secondary\",\"primary\",\"tertiary\")\n",
    "   - 5 - default: has credit in default? (binary: \"yes\",\"no\")\n",
    "   - 6 - balance: average yearly balance, in euros (numeric) \n",
    "   - 7 - housing: has housing loan? (binary: \"yes\",\"no\")\n",
    "   - 8 - loan: has personal loan? (binary: \"yes\",\"no\")\n",
    "   - 9 - contact: contact communication type (categorical: \"unknown\",\"telephone\",\"cellular\") \n",
    "  - 10 - day: last contact day of the month (numeric)\n",
    "  - 11 - month: last contact month of year (categorical: \"jan\", \"feb\", \"mar\", ..., \"nov\", \"dec\")\n",
    "  - 12 - campaign: number of contacts performed during this campaign and for this client (numeric, includes last contact)\n",
    "  - 13 - pdays: number of days that passed by after the client was last contacted from a previous campaign (numeric, -1 means client was not previously contacted)\n",
    "  - 14 - previous: number of contacts performed before this campaign and for this client (numeric)\n",
    "  - 15 - poutcome: outcome of the previous marketing campaign (categorical: \"unknown\",\"other\",\"failure\",\"success\")\n",
    "\n",
    "  __Output variable (desired target):__\n",
    "  - 16 - y - has the client subscribed a term deposit? (binary: \"yes\",\"no\")\n",
    "\n",
    "---  \n",
    "\n",
    "**Now, you are required to import sklearn library and build a Decision Tree model for this classification task.**\n",
    "\n",
    "At a minimum, you should include steps such as simple Data Exploration/Visualization, Data Pre-processing, Model Building, Model Evaluation, Hyperparamter Tuning, and Making Predictions with the Model."
   ]
  },
  {
   "cell_type": "markdown",
   "id": "8c515818-a7e7-4a1e-b4c4-b2d0f7096657",
   "metadata": {},
   "source": [
    "## ↓ ↓ Dive into coding below and have fun (◍•ᴗ•◍) ↓ ↓"
   ]
  },
  {
   "cell_type": "code",
   "execution_count": null,
   "id": "b146fb23-b0ec-4247-a611-15a8c5474044",
   "metadata": {},
   "outputs": [],
   "source": []
  },
  {
   "cell_type": "code",
   "execution_count": null,
   "id": "a97868db-fcf4-4a24-850d-f20d0942dfb2",
   "metadata": {},
   "outputs": [],
   "source": []
  }
 ],
 "metadata": {
  "kernelspec": {
   "display_name": "Python 3 (ipykernel)",
   "language": "python",
   "name": "python3"
  },
  "language_info": {
   "codemirror_mode": {
    "name": "ipython",
    "version": 3
   },
   "file_extension": ".py",
   "mimetype": "text/x-python",
   "name": "python",
   "nbconvert_exporter": "python",
   "pygments_lexer": "ipython3",
   "version": "3.9.7"
  }
 },
 "nbformat": 4,
 "nbformat_minor": 5
}
