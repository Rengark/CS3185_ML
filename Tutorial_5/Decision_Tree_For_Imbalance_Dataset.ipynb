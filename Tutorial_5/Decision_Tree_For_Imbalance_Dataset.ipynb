{
 "cells": [
  {
   "cell_type": "markdown",
   "metadata": {},
   "source": [
    "## Classification Tree on Unbalanced Dataset"
   ]
  },
  {
   "cell_type": "markdown",
   "metadata": {},
   "source": [
    "• **MyBank** executed a campaign to cross sell Personal Loans to their existing customers.\n",
    "\n",
    "• **Campaign offer** : Loan at attractive interest rate of only 11%. Almost 1% lower than the prevailing\n",
    "market rate. No processing fee charges.\n",
    "\n",
    "• A **Pilot campaign** targeting 20,000 customers was rolled out\n",
    "\n",
    "• **1,733 out of 20,000** (i.e. **8.67%**) customers responded to the campaign offer\n",
    "\n",
    "• Data is given in 2 files: **Dev_Sample.csv**(14,000 records) & **Holdout_Sample.csv** (6,000 records)\n",
    "\n",
    "        • Dev_Sample Target Rate = 1235 / 14000 = 8.8%\n",
    "        \n",
    "        • Hold out sample Target Rate = 498 / 14000 = 8.3%\n",
    "        \n",
    "• **Modeling Objective**: Build Classification Model to identify profile of Campaign Responders vs.\n",
    "Non Responders"
   ]
  },
  {
   "cell_type": "code",
   "execution_count": 57,
   "metadata": {},
   "outputs": [
    {
     "name": "stdout",
     "output_type": "stream",
     "text": [
      "14000 6000\n"
     ]
    },
    {
     "data": {
      "text/html": [
       "<div>\n",
       "<style scoped>\n",
       "    .dataframe tbody tr th:only-of-type {\n",
       "        vertical-align: middle;\n",
       "    }\n",
       "\n",
       "    .dataframe tbody tr th {\n",
       "        vertical-align: top;\n",
       "    }\n",
       "\n",
       "    .dataframe thead th {\n",
       "        text-align: right;\n",
       "    }\n",
       "</style>\n",
       "<table border=\"1\" class=\"dataframe\">\n",
       "  <thead>\n",
       "    <tr style=\"text-align: right;\">\n",
       "      <th></th>\n",
       "      <th>Cust_ID</th>\n",
       "      <th>Target</th>\n",
       "      <th>Age</th>\n",
       "      <th>Gender</th>\n",
       "      <th>Balance</th>\n",
       "      <th>Occupation</th>\n",
       "      <th>No_OF_CR_TXNS</th>\n",
       "      <th>AGE_BKT</th>\n",
       "      <th>SCR</th>\n",
       "      <th>Holding_Period</th>\n",
       "    </tr>\n",
       "  </thead>\n",
       "  <tbody>\n",
       "    <tr>\n",
       "      <th>0</th>\n",
       "      <td>C16505</td>\n",
       "      <td>0</td>\n",
       "      <td>41</td>\n",
       "      <td>M</td>\n",
       "      <td>91519.92</td>\n",
       "      <td>SELF-EMP</td>\n",
       "      <td>38</td>\n",
       "      <td>41-45</td>\n",
       "      <td>926</td>\n",
       "      <td>15</td>\n",
       "    </tr>\n",
       "    <tr>\n",
       "      <th>1</th>\n",
       "      <td>C17241</td>\n",
       "      <td>0</td>\n",
       "      <td>52</td>\n",
       "      <td>M</td>\n",
       "      <td>117288.96</td>\n",
       "      <td>SAL</td>\n",
       "      <td>17</td>\n",
       "      <td>&gt;50</td>\n",
       "      <td>768</td>\n",
       "      <td>13</td>\n",
       "    </tr>\n",
       "    <tr>\n",
       "      <th>2</th>\n",
       "      <td>C18802</td>\n",
       "      <td>0</td>\n",
       "      <td>31</td>\n",
       "      <td>F</td>\n",
       "      <td>259827.44</td>\n",
       "      <td>SENP</td>\n",
       "      <td>8</td>\n",
       "      <td>31-35</td>\n",
       "      <td>816</td>\n",
       "      <td>5</td>\n",
       "    </tr>\n",
       "    <tr>\n",
       "      <th>3</th>\n",
       "      <td>C19289</td>\n",
       "      <td>0</td>\n",
       "      <td>45</td>\n",
       "      <td>F</td>\n",
       "      <td>26677.55</td>\n",
       "      <td>PROF</td>\n",
       "      <td>14</td>\n",
       "      <td>41-45</td>\n",
       "      <td>353</td>\n",
       "      <td>18</td>\n",
       "    </tr>\n",
       "    <tr>\n",
       "      <th>4</th>\n",
       "      <td>C14028</td>\n",
       "      <td>0</td>\n",
       "      <td>39</td>\n",
       "      <td>F</td>\n",
       "      <td>43440.31</td>\n",
       "      <td>SENP</td>\n",
       "      <td>1</td>\n",
       "      <td>36-40</td>\n",
       "      <td>751</td>\n",
       "      <td>31</td>\n",
       "    </tr>\n",
       "  </tbody>\n",
       "</table>\n",
       "</div>"
      ],
      "text/plain": [
       "  Cust_ID  Target  Age Gender    Balance Occupation  No_OF_CR_TXNS AGE_BKT  \\\n",
       "0  C16505       0   41      M   91519.92   SELF-EMP             38   41-45   \n",
       "1  C17241       0   52      M  117288.96        SAL             17     >50   \n",
       "2  C18802       0   31      F  259827.44       SENP              8   31-35   \n",
       "3  C19289       0   45      F   26677.55       PROF             14   41-45   \n",
       "4  C14028       0   39      F   43440.31       SENP              1   36-40   \n",
       "\n",
       "   SCR  Holding_Period  \n",
       "0  926              15  \n",
       "1  768              13  \n",
       "2  816               5  \n",
       "3  353              18  \n",
       "4  751              31  "
      ]
     },
     "execution_count": 57,
     "metadata": {},
     "output_type": "execute_result"
    }
   ],
   "source": [
    "import numpy as np\n",
    "import matplotlib.pyplot as plt\n",
    "import os\n",
    "import pandas as pd\n",
    "\n",
    "\n",
    "#Load the Dataset\n",
    "CTDF_dev = pd.read_csv(\"DEV_SAMPLE.csv\")\n",
    "CTDF_holdout = pd.read_csv(\"HOLDOUT_SAMPLE.csv\")\n",
    "\n",
    "print( len(CTDF_dev),  len(CTDF_holdout))\n",
    "CTDF_dev.head()\n"
   ]
  },
  {
   "cell_type": "code",
   "execution_count": 58,
   "metadata": {},
   "outputs": [],
   "source": [
    "#Data Preprocessing\n",
    "#Splitting into features and response variables\n",
    "X =  CTDF_dev[['Age', 'Gender', 'Balance', 'Occupation',\n",
    "               'No_OF_CR_TXNS', 'AGE_BKT', 'SCR', 'Holding_Period']]\n"
   ]
  },
  {
   "cell_type": "code",
   "execution_count": 59,
   "metadata": {},
   "outputs": [
    {
     "data": {
      "text/plain": [
       "Index(['Age', 'Balance', 'No_OF_CR_TXNS', 'SCR', 'Holding_Period', 'Gender_F',\n",
       "       'Gender_M', 'Gender_O', 'Occupation_PROF', 'Occupation_SAL',\n",
       "       'Occupation_SELF-EMP', 'Occupation_SENP', 'AGE_BKT_26-30',\n",
       "       'AGE_BKT_31-35', 'AGE_BKT_36-40', 'AGE_BKT_41-45', 'AGE_BKT_46-50',\n",
       "       'AGE_BKT_<25', 'AGE_BKT_>50'],\n",
       "      dtype='object')"
      ]
     },
     "execution_count": 59,
     "metadata": {},
     "output_type": "execute_result"
    }
   ],
   "source": [
    "#Categorical Variable to Numerical Variables\n",
    "X_train = pd.get_dummies(X)\n",
    "X_train.columns"
   ]
  },
  {
   "cell_type": "code",
   "execution_count": 60,
   "metadata": {},
   "outputs": [],
   "source": [
    "y_train = CTDF_dev[\"Target\"]"
   ]
  },
  {
   "cell_type": "code",
   "execution_count": 61,
   "metadata": {},
   "outputs": [
    {
     "name": "stdout",
     "output_type": "stream",
     "text": [
      "<class 'pandas.core.frame.DataFrame'> <class 'pandas.core.series.Series'>\n"
     ]
    }
   ],
   "source": [
    "print (type(X_train) , type(y_train))"
   ]
  },
  {
   "cell_type": "code",
   "execution_count": 62,
   "metadata": {},
   "outputs": [
    {
     "data": {
      "text/html": [
       "<style>#sk-container-id-4 {color: black;background-color: white;}#sk-container-id-4 pre{padding: 0;}#sk-container-id-4 div.sk-toggleable {background-color: white;}#sk-container-id-4 label.sk-toggleable__label {cursor: pointer;display: block;width: 100%;margin-bottom: 0;padding: 0.3em;box-sizing: border-box;text-align: center;}#sk-container-id-4 label.sk-toggleable__label-arrow:before {content: \"▸\";float: left;margin-right: 0.25em;color: #696969;}#sk-container-id-4 label.sk-toggleable__label-arrow:hover:before {color: black;}#sk-container-id-4 div.sk-estimator:hover label.sk-toggleable__label-arrow:before {color: black;}#sk-container-id-4 div.sk-toggleable__content {max-height: 0;max-width: 0;overflow: hidden;text-align: left;background-color: #f0f8ff;}#sk-container-id-4 div.sk-toggleable__content pre {margin: 0.2em;color: black;border-radius: 0.25em;background-color: #f0f8ff;}#sk-container-id-4 input.sk-toggleable__control:checked~div.sk-toggleable__content {max-height: 200px;max-width: 100%;overflow: auto;}#sk-container-id-4 input.sk-toggleable__control:checked~label.sk-toggleable__label-arrow:before {content: \"▾\";}#sk-container-id-4 div.sk-estimator input.sk-toggleable__control:checked~label.sk-toggleable__label {background-color: #d4ebff;}#sk-container-id-4 div.sk-label input.sk-toggleable__control:checked~label.sk-toggleable__label {background-color: #d4ebff;}#sk-container-id-4 input.sk-hidden--visually {border: 0;clip: rect(1px 1px 1px 1px);clip: rect(1px, 1px, 1px, 1px);height: 1px;margin: -1px;overflow: hidden;padding: 0;position: absolute;width: 1px;}#sk-container-id-4 div.sk-estimator {font-family: monospace;background-color: #f0f8ff;border: 1px dotted black;border-radius: 0.25em;box-sizing: border-box;margin-bottom: 0.5em;}#sk-container-id-4 div.sk-estimator:hover {background-color: #d4ebff;}#sk-container-id-4 div.sk-parallel-item::after {content: \"\";width: 100%;border-bottom: 1px solid gray;flex-grow: 1;}#sk-container-id-4 div.sk-label:hover label.sk-toggleable__label {background-color: #d4ebff;}#sk-container-id-4 div.sk-serial::before {content: \"\";position: absolute;border-left: 1px solid gray;box-sizing: border-box;top: 0;bottom: 0;left: 50%;z-index: 0;}#sk-container-id-4 div.sk-serial {display: flex;flex-direction: column;align-items: center;background-color: white;padding-right: 0.2em;padding-left: 0.2em;position: relative;}#sk-container-id-4 div.sk-item {position: relative;z-index: 1;}#sk-container-id-4 div.sk-parallel {display: flex;align-items: stretch;justify-content: center;background-color: white;position: relative;}#sk-container-id-4 div.sk-item::before, #sk-container-id-4 div.sk-parallel-item::before {content: \"\";position: absolute;border-left: 1px solid gray;box-sizing: border-box;top: 0;bottom: 0;left: 50%;z-index: -1;}#sk-container-id-4 div.sk-parallel-item {display: flex;flex-direction: column;z-index: 1;position: relative;background-color: white;}#sk-container-id-4 div.sk-parallel-item:first-child::after {align-self: flex-end;width: 50%;}#sk-container-id-4 div.sk-parallel-item:last-child::after {align-self: flex-start;width: 50%;}#sk-container-id-4 div.sk-parallel-item:only-child::after {width: 0;}#sk-container-id-4 div.sk-dashed-wrapped {border: 1px dashed gray;margin: 0 0.4em 0.5em 0.4em;box-sizing: border-box;padding-bottom: 0.4em;background-color: white;}#sk-container-id-4 div.sk-label label {font-family: monospace;font-weight: bold;display: inline-block;line-height: 1.2em;}#sk-container-id-4 div.sk-label-container {text-align: center;}#sk-container-id-4 div.sk-container {/* jupyter's `normalize.less` sets `[hidden] { display: none; }` but bootstrap.min.css set `[hidden] { display: none !important; }` so we also need the `!important` here to be able to override the default hidden behavior on the sphinx rendered scikit-learn.org. See: https://github.com/scikit-learn/scikit-learn/issues/21755 */display: inline-block !important;position: relative;}#sk-container-id-4 div.sk-text-repr-fallback {display: none;}</style><div id=\"sk-container-id-4\" class=\"sk-top-container\"><div class=\"sk-text-repr-fallback\"><pre>DecisionTreeClassifier(max_depth=50, min_samples_leaf=10, min_samples_split=100)</pre><b>In a Jupyter environment, please rerun this cell to show the HTML representation or trust the notebook. <br />On GitHub, the HTML representation is unable to render, please try loading this page with nbviewer.org.</b></div><div class=\"sk-container\" hidden><div class=\"sk-item\"><div class=\"sk-estimator sk-toggleable\"><input class=\"sk-toggleable__control sk-hidden--visually\" id=\"sk-estimator-id-6\" type=\"checkbox\" checked><label for=\"sk-estimator-id-6\" class=\"sk-toggleable__label sk-toggleable__label-arrow\">DecisionTreeClassifier</label><div class=\"sk-toggleable__content\"><pre>DecisionTreeClassifier(max_depth=50, min_samples_leaf=10, min_samples_split=100)</pre></div></div></div></div></div>"
      ],
      "text/plain": [
       "DecisionTreeClassifier(max_depth=50, min_samples_leaf=10, min_samples_split=100)"
      ]
     },
     "execution_count": 62,
     "metadata": {},
     "output_type": "execute_result"
    }
   ],
   "source": [
    "#Decision Tree\n",
    "#Loading the library\n",
    "from sklearn.tree import DecisionTreeClassifier\n",
    "\n",
    "#Setting the parameter\n",
    "clf = DecisionTreeClassifier(criterion = \"gini\" , \n",
    "                             min_samples_split = 100,\n",
    "                             min_samples_leaf = 10,\n",
    "                             max_depth = 50)\n",
    "\n",
    "#Calling the fit function to built the tree\n",
    "clf.fit(X_train,y_train)"
   ]
  },
  {
   "cell_type": "code",
   "execution_count": 93,
   "metadata": {},
   "outputs": [],
   "source": [
    "from sklearn.tree import DecisionTreeClassifier\n",
    "from sklearn.tree import export_graphviz\n",
    "from io import StringIO\n",
    "import pydot\n",
    "\n",
    "dot_data = StringIO()\n",
    "feature_list = list(X_train.columns.values)\n",
    "export_graphviz(clf, \n",
    "                out_file = dot_data, \n",
    "                feature_names = feature_list,\n",
    "               filled=True)\n",
    "graph=pydot.graph_from_dot_data(dot_data.getvalue())\n",
    "graph[0].write_pdf(\"classification_tree_output.pdf\")"
   ]
  },
  {
   "cell_type": "code",
   "execution_count": 80,
   "metadata": {},
   "outputs": [
    {
     "data": {
      "text/html": [
       "<div>\n",
       "<style scoped>\n",
       "    .dataframe tbody tr th:only-of-type {\n",
       "        vertical-align: middle;\n",
       "    }\n",
       "\n",
       "    .dataframe tbody tr th {\n",
       "        vertical-align: top;\n",
       "    }\n",
       "\n",
       "    .dataframe thead th {\n",
       "        text-align: right;\n",
       "    }\n",
       "</style>\n",
       "<table border=\"1\" class=\"dataframe\">\n",
       "  <thead>\n",
       "    <tr style=\"text-align: right;\">\n",
       "      <th></th>\n",
       "      <th>left_child</th>\n",
       "      <th>right_child</th>\n",
       "      <th>feature</th>\n",
       "      <th>threshold</th>\n",
       "      <th>impurity</th>\n",
       "      <th>n_node_samples</th>\n",
       "      <th>weighted_n_node_samples</th>\n",
       "    </tr>\n",
       "  </thead>\n",
       "  <tbody>\n",
       "    <tr>\n",
       "      <th>0</th>\n",
       "      <td>1</td>\n",
       "      <td>194</td>\n",
       "      <td>4</td>\n",
       "      <td>10.5</td>\n",
       "      <td>0.160865</td>\n",
       "      <td>14000</td>\n",
       "      <td>14000.0</td>\n",
       "    </tr>\n",
       "    <tr>\n",
       "      <th>1</th>\n",
       "      <td>2</td>\n",
       "      <td>159</td>\n",
       "      <td>10</td>\n",
       "      <td>0.5</td>\n",
       "      <td>0.274723</td>\n",
       "      <td>4818</td>\n",
       "      <td>4818.0</td>\n",
       "    </tr>\n",
       "    <tr>\n",
       "      <th>2</th>\n",
       "      <td>3</td>\n",
       "      <td>112</td>\n",
       "      <td>2</td>\n",
       "      <td>20.5</td>\n",
       "      <td>0.237183</td>\n",
       "      <td>3971</td>\n",
       "      <td>3971.0</td>\n",
       "    </tr>\n",
       "    <tr>\n",
       "      <th>3</th>\n",
       "      <td>4</td>\n",
       "      <td>13</td>\n",
       "      <td>1</td>\n",
       "      <td>10853.5</td>\n",
       "      <td>0.198811</td>\n",
       "      <td>2832</td>\n",
       "      <td>2832.0</td>\n",
       "    </tr>\n",
       "    <tr>\n",
       "      <th>4</th>\n",
       "      <td>5</td>\n",
       "      <td>6</td>\n",
       "      <td>3</td>\n",
       "      <td>368.0</td>\n",
       "      <td>0.327605</td>\n",
       "      <td>281</td>\n",
       "      <td>281.0</td>\n",
       "    </tr>\n",
       "    <tr>\n",
       "      <th>...</th>\n",
       "      <td>...</td>\n",
       "      <td>...</td>\n",
       "      <td>...</td>\n",
       "      <td>...</td>\n",
       "      <td>...</td>\n",
       "      <td>...</td>\n",
       "      <td>...</td>\n",
       "    </tr>\n",
       "    <tr>\n",
       "      <th>456</th>\n",
       "      <td>-1</td>\n",
       "      <td>-1</td>\n",
       "      <td>-2</td>\n",
       "      <td>-2.0</td>\n",
       "      <td>0.423440</td>\n",
       "      <td>23</td>\n",
       "      <td>23.0</td>\n",
       "    </tr>\n",
       "    <tr>\n",
       "      <th>457</th>\n",
       "      <td>-1</td>\n",
       "      <td>-1</td>\n",
       "      <td>-2</td>\n",
       "      <td>-2.0</td>\n",
       "      <td>0.293850</td>\n",
       "      <td>95</td>\n",
       "      <td>95.0</td>\n",
       "    </tr>\n",
       "    <tr>\n",
       "      <th>458</th>\n",
       "      <td>459</td>\n",
       "      <td>460</td>\n",
       "      <td>3</td>\n",
       "      <td>304.0</td>\n",
       "      <td>0.435425</td>\n",
       "      <td>128</td>\n",
       "      <td>128.0</td>\n",
       "    </tr>\n",
       "    <tr>\n",
       "      <th>459</th>\n",
       "      <td>-1</td>\n",
       "      <td>-1</td>\n",
       "      <td>-2</td>\n",
       "      <td>-2.0</td>\n",
       "      <td>0.218750</td>\n",
       "      <td>32</td>\n",
       "      <td>32.0</td>\n",
       "    </tr>\n",
       "    <tr>\n",
       "      <th>460</th>\n",
       "      <td>-1</td>\n",
       "      <td>-1</td>\n",
       "      <td>-2</td>\n",
       "      <td>-2.0</td>\n",
       "      <td>0.473741</td>\n",
       "      <td>96</td>\n",
       "      <td>96.0</td>\n",
       "    </tr>\n",
       "  </tbody>\n",
       "</table>\n",
       "<p>461 rows × 7 columns</p>\n",
       "</div>"
      ],
      "text/plain": [
       "     left_child  right_child  feature  threshold  impurity  n_node_samples  \\\n",
       "0             1          194        4       10.5  0.160865           14000   \n",
       "1             2          159       10        0.5  0.274723            4818   \n",
       "2             3          112        2       20.5  0.237183            3971   \n",
       "3             4           13        1    10853.5  0.198811            2832   \n",
       "4             5            6        3      368.0  0.327605             281   \n",
       "..          ...          ...      ...        ...       ...             ...   \n",
       "456          -1           -1       -2       -2.0  0.423440              23   \n",
       "457          -1           -1       -2       -2.0  0.293850              95   \n",
       "458         459          460        3      304.0  0.435425             128   \n",
       "459          -1           -1       -2       -2.0  0.218750              32   \n",
       "460          -1           -1       -2       -2.0  0.473741              96   \n",
       "\n",
       "     weighted_n_node_samples  \n",
       "0                    14000.0  \n",
       "1                     4818.0  \n",
       "2                     3971.0  \n",
       "3                     2832.0  \n",
       "4                      281.0  \n",
       "..                       ...  \n",
       "456                     23.0  \n",
       "457                     95.0  \n",
       "458                    128.0  \n",
       "459                     32.0  \n",
       "460                     96.0  \n",
       "\n",
       "[461 rows x 7 columns]"
      ]
     },
     "execution_count": 80,
     "metadata": {},
     "output_type": "execute_result"
    }
   ],
   "source": [
    "Nodes = pd.DataFrame(clf.tree_.__getstate__()[\"nodes\"])\n",
    "Nodes\n"
   ]
  },
  {
   "cell_type": "code",
   "execution_count": 89,
   "metadata": {},
   "outputs": [
    {
     "name": "stdout",
     "output_type": "stream",
     "text": [
      "                Feature Importance\n",
      "4        Holding_Period   0.228603\n",
      "3                   SCR    0.16924\n",
      "1               Balance   0.139184\n",
      "2         No_OF_CR_TXNS   0.127342\n",
      "11      Occupation_SENP   0.094942\n",
      "10  Occupation_SELF-EMP   0.080528\n",
      "0                   Age   0.055788\n",
      "9        Occupation_SAL   0.027169\n",
      "5              Gender_F   0.026587\n",
      "15        AGE_BKT_41-45    0.01459\n",
      "14        AGE_BKT_36-40   0.012152\n",
      "6              Gender_M   0.010949\n",
      "13        AGE_BKT_31-35   0.006404\n",
      "16        AGE_BKT_46-50   0.004963\n",
      "7              Gender_O   0.000933\n",
      "12        AGE_BKT_26-30   0.000627\n",
      "8       Occupation_PROF        0.0\n",
      "17          AGE_BKT_<25        0.0\n",
      "18          AGE_BKT_>50        0.0\n"
     ]
    }
   ],
   "source": [
    "# Create the DataFrame with feature names and corresponding importances\n",
    "feature_importance = pd.DataFrame([X_train.columns,\n",
    "                               clf.tree_.compute_feature_importances()]).T\n",
    "\n",
    "# Set column names for better clarity\n",
    "feature_importance.columns = ['Feature', 'Importance']\n",
    "\n",
    "# Sort the DataFrame by importance in descending order\n",
    "feature_importance_sorted = feature_importance.sort_values(by='Importance', ascending=False)\n",
    "\n",
    "# Display the sorted DataFrame\n",
    "print(feature_importance_sorted)"
   ]
  },
  {
   "cell_type": "code",
   "execution_count": 66,
   "metadata": {},
   "outputs": [
    {
     "data": {
      "text/plain": [
       "array([0, 0, 0, ..., 0, 0, 0], dtype=int64)"
      ]
     },
     "execution_count": 66,
     "metadata": {},
     "output_type": "execute_result"
    }
   ],
   "source": [
    "## Let us see how good is the model\n",
    "pred_y_train = clf.predict(X_train )\n",
    "pred_y_train"
   ]
  },
  {
   "cell_type": "code",
   "execution_count": 67,
   "metadata": {},
   "outputs": [
    {
     "data": {
      "text/plain": [
       "0.9170714285714285"
      ]
     },
     "execution_count": 67,
     "metadata": {},
     "output_type": "execute_result"
    }
   ],
   "source": [
    "## Let us see the classification accuracy of our model\n",
    "from sklearn.metrics import accuracy_score\n",
    "from sklearn.metrics import roc_curve\n",
    "from sklearn.metrics import auc\n",
    "score = accuracy_score(y_train, pred_y_train)\n",
    "score"
   ]
  },
  {
   "cell_type": "code",
   "execution_count": 68,
   "metadata": {},
   "outputs": [
    {
     "data": {
      "text/plain": [
       "0.8786528827718758"
      ]
     },
     "execution_count": 68,
     "metadata": {},
     "output_type": "execute_result"
    }
   ],
   "source": [
    "y_train_prob = clf.predict_proba(X_train)\n",
    "\n",
    "## AUC\n",
    "fpr, tpr, thresholds = roc_curve(y_train, y_train_prob[:,1])\n",
    "auc(fpr, tpr)"
   ]
  },
  {
   "cell_type": "code",
   "execution_count": 69,
   "metadata": {},
   "outputs": [],
   "source": [
    "## Let us see how good is the model\n",
    "X_holdout =  CTDF_holdout[['Age', 'Gender', 'Balance', 'Occupation',\n",
    "               'No_OF_CR_TXNS', 'AGE_BKT', 'SCR', 'Holding_Period']]\n",
    "X_test = pd.get_dummies(X_holdout)\n",
    "y_test = CTDF_holdout[\"Target\"]"
   ]
  },
  {
   "cell_type": "code",
   "execution_count": 70,
   "metadata": {},
   "outputs": [
    {
     "data": {
      "text/plain": [
       "0.9188333333333333"
      ]
     },
     "execution_count": 70,
     "metadata": {},
     "output_type": "execute_result"
    }
   ],
   "source": [
    "pred_y_test = clf.predict(X_test)\n",
    "score_h = accuracy_score(y_test, pred_y_test)\n",
    "score_h"
   ]
  },
  {
   "cell_type": "code",
   "execution_count": 71,
   "metadata": {},
   "outputs": [
    {
     "data": {
      "text/plain": [
       "0.7292934004283218"
      ]
     },
     "execution_count": 71,
     "metadata": {},
     "output_type": "execute_result"
    }
   ],
   "source": [
    "y_test_prob = clf.predict_proba(X_test)\n",
    "fpr, tpr, thresholds = roc_curve(y_test, y_test_prob[:,1])\n",
    "auc(fpr, tpr)"
   ]
  },
  {
   "cell_type": "code",
   "execution_count": 72,
   "metadata": {},
   "outputs": [
    {
     "name": "stdout",
     "output_type": "stream",
     "text": [
      "0.7344294604101136\n",
      "0.02991924881596745\n"
     ]
    }
   ],
   "source": [
    "#Cross validation function\n",
    "from sklearn.model_selection import cross_val_score\n",
    "scores = cross_val_score(clf, X_train , y_train, cv = 10, scoring='roc_auc')\n",
    "print(scores.mean())\n",
    "print(scores.std())"
   ]
  },
  {
   "cell_type": "code",
   "execution_count": 73,
   "metadata": {},
   "outputs": [
    {
     "data": {
      "text/plain": [
       "0.8786528827718758"
      ]
     },
     "execution_count": 73,
     "metadata": {},
     "output_type": "execute_result"
    }
   ],
   "source": [
    "y_train_prob = clf.predict_proba(X_train)\n",
    "fpr, tpr, thresholds = roc_curve(y_train, y_train_prob[:,1])\n",
    "auc(fpr, tpr)"
   ]
  },
  {
   "cell_type": "code",
   "execution_count": 74,
   "metadata": {},
   "outputs": [
    {
     "data": {
      "text/plain": [
       "0.7292934004283218"
      ]
     },
     "execution_count": 74,
     "metadata": {},
     "output_type": "execute_result"
    }
   ],
   "source": [
    "y_test_prob = clf.predict_proba(X_test)\n",
    "fpr, tpr, thresholds = roc_curve(y_test, y_test_prob[:,1])\n",
    "auc(fpr, tpr)\n"
   ]
  },
  {
   "cell_type": "code",
   "execution_count": 76,
   "metadata": {},
   "outputs": [
    {
     "name": "stdout",
     "output_type": "stream",
     "text": [
      "Fitting 10 folds for each of 14 candidates, totalling 140 fits\n",
      "[CV 1/10; 1/14] START criterion=gini, max_depth=3...............................\n",
      "[CV 1/10; 1/14] END criterion=gini, max_depth=3;, score=0.737 total time=   0.0s\n",
      "[CV 2/10; 1/14] START criterion=gini, max_depth=3...............................\n",
      "[CV 2/10; 1/14] END criterion=gini, max_depth=3;, score=0.726 total time=   0.0s\n",
      "[CV 3/10; 1/14] START criterion=gini, max_depth=3...............................\n",
      "[CV 3/10; 1/14] END criterion=gini, max_depth=3;, score=0.712 total time=   0.0s\n",
      "[CV 4/10; 1/14] START criterion=gini, max_depth=3...............................\n",
      "[CV 4/10; 1/14] END criterion=gini, max_depth=3;, score=0.749 total time=   0.0s\n",
      "[CV 5/10; 1/14] START criterion=gini, max_depth=3...............................\n",
      "[CV 5/10; 1/14] END criterion=gini, max_depth=3;, score=0.776 total time=   0.0s\n",
      "[CV 6/10; 1/14] START criterion=gini, max_depth=3...............................\n",
      "[CV 6/10; 1/14] END criterion=gini, max_depth=3;, score=0.755 total time=   0.0s\n",
      "[CV 7/10; 1/14] START criterion=gini, max_depth=3...............................\n",
      "[CV 7/10; 1/14] END criterion=gini, max_depth=3;, score=0.730 total time=   0.0s\n",
      "[CV 8/10; 1/14] START criterion=gini, max_depth=3...............................\n",
      "[CV 8/10; 1/14] END criterion=gini, max_depth=3;, score=0.768 total time=   0.0s\n",
      "[CV 9/10; 1/14] START criterion=gini, max_depth=3...............................\n",
      "[CV 9/10; 1/14] END criterion=gini, max_depth=3;, score=0.717 total time=   0.0s\n",
      "[CV 10/10; 1/14] START criterion=gini, max_depth=3..............................\n",
      "[CV 10/10; 1/14] END criterion=gini, max_depth=3;, score=0.748 total time=   0.0s\n",
      "[CV 1/10; 2/14] START criterion=gini, max_depth=4...............................\n",
      "[CV 1/10; 2/14] END criterion=gini, max_depth=4;, score=0.751 total time=   0.0s\n",
      "[CV 2/10; 2/14] START criterion=gini, max_depth=4...............................\n",
      "[CV 2/10; 2/14] END criterion=gini, max_depth=4;, score=0.742 total time=   0.0s\n",
      "[CV 3/10; 2/14] START criterion=gini, max_depth=4...............................\n",
      "[CV 3/10; 2/14] END criterion=gini, max_depth=4;, score=0.730 total time=   0.0s\n",
      "[CV 4/10; 2/14] START criterion=gini, max_depth=4...............................\n",
      "[CV 4/10; 2/14] END criterion=gini, max_depth=4;, score=0.768 total time=   0.0s\n",
      "[CV 5/10; 2/14] START criterion=gini, max_depth=4...............................\n",
      "[CV 5/10; 2/14] END criterion=gini, max_depth=4;, score=0.782 total time=   0.0s\n",
      "[CV 6/10; 2/14] START criterion=gini, max_depth=4...............................\n",
      "[CV 6/10; 2/14] END criterion=gini, max_depth=4;, score=0.760 total time=   0.0s\n",
      "[CV 7/10; 2/14] START criterion=gini, max_depth=4...............................\n",
      "[CV 7/10; 2/14] END criterion=gini, max_depth=4;, score=0.730 total time=   0.0s\n",
      "[CV 8/10; 2/14] START criterion=gini, max_depth=4...............................\n",
      "[CV 8/10; 2/14] END criterion=gini, max_depth=4;, score=0.770 total time=   0.0s\n",
      "[CV 9/10; 2/14] START criterion=gini, max_depth=4...............................\n",
      "[CV 9/10; 2/14] END criterion=gini, max_depth=4;, score=0.747 total time=   0.0s\n",
      "[CV 10/10; 2/14] START criterion=gini, max_depth=4..............................\n",
      "[CV 10/10; 2/14] END criterion=gini, max_depth=4;, score=0.759 total time=   0.0s\n",
      "[CV 1/10; 3/14] START criterion=gini, max_depth=5...............................\n",
      "[CV 1/10; 3/14] END criterion=gini, max_depth=5;, score=0.759 total time=   0.0s\n",
      "[CV 2/10; 3/14] START criterion=gini, max_depth=5...............................\n",
      "[CV 2/10; 3/14] END criterion=gini, max_depth=5;, score=0.740 total time=   0.0s\n",
      "[CV 3/10; 3/14] START criterion=gini, max_depth=5...............................\n",
      "[CV 3/10; 3/14] END criterion=gini, max_depth=5;, score=0.746 total time=   0.0s\n",
      "[CV 4/10; 3/14] START criterion=gini, max_depth=5...............................\n",
      "[CV 4/10; 3/14] END criterion=gini, max_depth=5;, score=0.772 total time=   0.0s\n",
      "[CV 5/10; 3/14] START criterion=gini, max_depth=5...............................\n",
      "[CV 5/10; 3/14] END criterion=gini, max_depth=5;, score=0.797 total time=   0.0s\n",
      "[CV 6/10; 3/14] START criterion=gini, max_depth=5...............................\n",
      "[CV 6/10; 3/14] END criterion=gini, max_depth=5;, score=0.773 total time=   0.0s\n",
      "[CV 7/10; 3/14] START criterion=gini, max_depth=5...............................\n",
      "[CV 7/10; 3/14] END criterion=gini, max_depth=5;, score=0.740 total time=   0.0s\n",
      "[CV 8/10; 3/14] START criterion=gini, max_depth=5...............................\n",
      "[CV 8/10; 3/14] END criterion=gini, max_depth=5;, score=0.785 total time=   0.0s\n",
      "[CV 9/10; 3/14] START criterion=gini, max_depth=5...............................\n",
      "[CV 9/10; 3/14] END criterion=gini, max_depth=5;, score=0.776 total time=   0.0s\n",
      "[CV 10/10; 3/14] START criterion=gini, max_depth=5..............................\n",
      "[CV 10/10; 3/14] END criterion=gini, max_depth=5;, score=0.773 total time=   0.0s\n",
      "[CV 1/10; 4/14] START criterion=gini, max_depth=6...............................\n",
      "[CV 1/10; 4/14] END criterion=gini, max_depth=6;, score=0.768 total time=   0.0s\n",
      "[CV 2/10; 4/14] START criterion=gini, max_depth=6...............................\n",
      "[CV 2/10; 4/14] END criterion=gini, max_depth=6;, score=0.746 total time=   0.0s\n",
      "[CV 3/10; 4/14] START criterion=gini, max_depth=6...............................\n",
      "[CV 3/10; 4/14] END criterion=gini, max_depth=6;, score=0.735 total time=   0.0s\n",
      "[CV 4/10; 4/14] START criterion=gini, max_depth=6...............................\n",
      "[CV 4/10; 4/14] END criterion=gini, max_depth=6;, score=0.765 total time=   0.0s\n",
      "[CV 5/10; 4/14] START criterion=gini, max_depth=6...............................\n",
      "[CV 5/10; 4/14] END criterion=gini, max_depth=6;, score=0.802 total time=   0.0s\n",
      "[CV 6/10; 4/14] START criterion=gini, max_depth=6...............................\n",
      "[CV 6/10; 4/14] END criterion=gini, max_depth=6;, score=0.778 total time=   0.0s\n",
      "[CV 7/10; 4/14] START criterion=gini, max_depth=6...............................\n",
      "[CV 7/10; 4/14] END criterion=gini, max_depth=6;, score=0.745 total time=   0.0s\n",
      "[CV 8/10; 4/14] START criterion=gini, max_depth=6...............................\n",
      "[CV 8/10; 4/14] END criterion=gini, max_depth=6;, score=0.788 total time=   0.0s\n",
      "[CV 9/10; 4/14] START criterion=gini, max_depth=6...............................\n",
      "[CV 9/10; 4/14] END criterion=gini, max_depth=6;, score=0.786 total time=   0.0s\n",
      "[CV 10/10; 4/14] START criterion=gini, max_depth=6..............................\n",
      "[CV 10/10; 4/14] END criterion=gini, max_depth=6;, score=0.765 total time=   0.0s\n",
      "[CV 1/10; 5/14] START criterion=gini, max_depth=7...............................\n",
      "[CV 1/10; 5/14] END criterion=gini, max_depth=7;, score=0.756 total time=   0.0s\n",
      "[CV 2/10; 5/14] START criterion=gini, max_depth=7...............................\n",
      "[CV 2/10; 5/14] END criterion=gini, max_depth=7;, score=0.729 total time=   0.0s\n",
      "[CV 3/10; 5/14] START criterion=gini, max_depth=7...............................\n",
      "[CV 3/10; 5/14] END criterion=gini, max_depth=7;, score=0.728 total time=   0.0s\n",
      "[CV 4/10; 5/14] START criterion=gini, max_depth=7...............................\n",
      "[CV 4/10; 5/14] END criterion=gini, max_depth=7;, score=0.767 total time=   0.0s\n",
      "[CV 5/10; 5/14] START criterion=gini, max_depth=7...............................\n",
      "[CV 5/10; 5/14] END criterion=gini, max_depth=7;, score=0.808 total time=   0.0s\n",
      "[CV 6/10; 5/14] START criterion=gini, max_depth=7...............................\n",
      "[CV 6/10; 5/14] END criterion=gini, max_depth=7;, score=0.774 total time=   0.0s\n",
      "[CV 7/10; 5/14] START criterion=gini, max_depth=7...............................\n",
      "[CV 7/10; 5/14] END criterion=gini, max_depth=7;, score=0.741 total time=   0.0s\n",
      "[CV 8/10; 5/14] START criterion=gini, max_depth=7...............................\n",
      "[CV 8/10; 5/14] END criterion=gini, max_depth=7;, score=0.784 total time=   0.0s\n",
      "[CV 9/10; 5/14] START criterion=gini, max_depth=7...............................\n",
      "[CV 9/10; 5/14] END criterion=gini, max_depth=7;, score=0.780 total time=   0.0s\n",
      "[CV 10/10; 5/14] START criterion=gini, max_depth=7..............................\n",
      "[CV 10/10; 5/14] END criterion=gini, max_depth=7;, score=0.748 total time=   0.0s\n",
      "[CV 1/10; 6/14] START criterion=gini, max_depth=8...............................\n",
      "[CV 1/10; 6/14] END criterion=gini, max_depth=8;, score=0.732 total time=   0.0s\n",
      "[CV 2/10; 6/14] START criterion=gini, max_depth=8...............................\n",
      "[CV 2/10; 6/14] END criterion=gini, max_depth=8;, score=0.722 total time=   0.0s\n",
      "[CV 3/10; 6/14] START criterion=gini, max_depth=8...............................\n"
     ]
    },
    {
     "name": "stdout",
     "output_type": "stream",
     "text": [
      "[CV 3/10; 6/14] END criterion=gini, max_depth=8;, score=0.729 total time=   0.0s\n",
      "[CV 4/10; 6/14] START criterion=gini, max_depth=8...............................\n",
      "[CV 4/10; 6/14] END criterion=gini, max_depth=8;, score=0.775 total time=   0.0s\n",
      "[CV 5/10; 6/14] START criterion=gini, max_depth=8...............................\n",
      "[CV 5/10; 6/14] END criterion=gini, max_depth=8;, score=0.800 total time=   0.0s\n",
      "[CV 6/10; 6/14] START criterion=gini, max_depth=8...............................\n",
      "[CV 6/10; 6/14] END criterion=gini, max_depth=8;, score=0.754 total time=   0.0s\n",
      "[CV 7/10; 6/14] START criterion=gini, max_depth=8...............................\n",
      "[CV 7/10; 6/14] END criterion=gini, max_depth=8;, score=0.726 total time=   0.0s\n",
      "[CV 8/10; 6/14] START criterion=gini, max_depth=8...............................\n",
      "[CV 8/10; 6/14] END criterion=gini, max_depth=8;, score=0.765 total time=   0.0s\n",
      "[CV 9/10; 6/14] START criterion=gini, max_depth=8...............................\n",
      "[CV 9/10; 6/14] END criterion=gini, max_depth=8;, score=0.776 total time=   0.0s\n",
      "[CV 10/10; 6/14] START criterion=gini, max_depth=8..............................\n",
      "[CV 10/10; 6/14] END criterion=gini, max_depth=8;, score=0.741 total time=   0.0s\n",
      "[CV 1/10; 7/14] START criterion=gini, max_depth=9...............................\n",
      "[CV 1/10; 7/14] END criterion=gini, max_depth=9;, score=0.727 total time=   0.0s\n",
      "[CV 2/10; 7/14] START criterion=gini, max_depth=9...............................\n",
      "[CV 2/10; 7/14] END criterion=gini, max_depth=9;, score=0.722 total time=   0.0s\n",
      "[CV 3/10; 7/14] START criterion=gini, max_depth=9...............................\n",
      "[CV 3/10; 7/14] END criterion=gini, max_depth=9;, score=0.734 total time=   0.0s\n",
      "[CV 4/10; 7/14] START criterion=gini, max_depth=9...............................\n",
      "[CV 4/10; 7/14] END criterion=gini, max_depth=9;, score=0.772 total time=   0.0s\n",
      "[CV 5/10; 7/14] START criterion=gini, max_depth=9...............................\n",
      "[CV 5/10; 7/14] END criterion=gini, max_depth=9;, score=0.788 total time=   0.0s\n",
      "[CV 6/10; 7/14] START criterion=gini, max_depth=9...............................\n",
      "[CV 6/10; 7/14] END criterion=gini, max_depth=9;, score=0.731 total time=   0.0s\n",
      "[CV 7/10; 7/14] START criterion=gini, max_depth=9...............................\n",
      "[CV 7/10; 7/14] END criterion=gini, max_depth=9;, score=0.721 total time=   0.0s\n",
      "[CV 8/10; 7/14] START criterion=gini, max_depth=9...............................\n",
      "[CV 8/10; 7/14] END criterion=gini, max_depth=9;, score=0.760 total time=   0.0s\n",
      "[CV 9/10; 7/14] START criterion=gini, max_depth=9...............................\n",
      "[CV 9/10; 7/14] END criterion=gini, max_depth=9;, score=0.779 total time=   0.0s\n",
      "[CV 10/10; 7/14] START criterion=gini, max_depth=9..............................\n",
      "[CV 10/10; 7/14] END criterion=gini, max_depth=9;, score=0.743 total time=   0.0s\n",
      "[CV 1/10; 8/14] START criterion=entropy, max_depth=3............................\n",
      "[CV 1/10; 8/14] END criterion=entropy, max_depth=3;, score=0.739 total time=   0.0s\n",
      "[CV 2/10; 8/14] START criterion=entropy, max_depth=3............................\n",
      "[CV 2/10; 8/14] END criterion=entropy, max_depth=3;, score=0.719 total time=   0.0s\n",
      "[CV 3/10; 8/14] START criterion=entropy, max_depth=3............................\n",
      "[CV 3/10; 8/14] END criterion=entropy, max_depth=3;, score=0.722 total time=   0.0s\n",
      "[CV 4/10; 8/14] START criterion=entropy, max_depth=3............................\n",
      "[CV 4/10; 8/14] END criterion=entropy, max_depth=3;, score=0.750 total time=   0.0s\n",
      "[CV 5/10; 8/14] START criterion=entropy, max_depth=3............................\n",
      "[CV 5/10; 8/14] END criterion=entropy, max_depth=3;, score=0.778 total time=   0.0s\n",
      "[CV 6/10; 8/14] START criterion=entropy, max_depth=3............................\n",
      "[CV 6/10; 8/14] END criterion=entropy, max_depth=3;, score=0.763 total time=   0.0s\n",
      "[CV 7/10; 8/14] START criterion=entropy, max_depth=3............................\n",
      "[CV 7/10; 8/14] END criterion=entropy, max_depth=3;, score=0.732 total time=   0.0s\n",
      "[CV 8/10; 8/14] START criterion=entropy, max_depth=3............................\n",
      "[CV 8/10; 8/14] END criterion=entropy, max_depth=3;, score=0.764 total time=   0.0s\n",
      "[CV 9/10; 8/14] START criterion=entropy, max_depth=3............................\n",
      "[CV 9/10; 8/14] END criterion=entropy, max_depth=3;, score=0.732 total time=   0.0s\n",
      "[CV 10/10; 8/14] START criterion=entropy, max_depth=3...........................\n",
      "[CV 10/10; 8/14] END criterion=entropy, max_depth=3;, score=0.741 total time=   0.0s\n",
      "[CV 1/10; 9/14] START criterion=entropy, max_depth=4............................\n",
      "[CV 1/10; 9/14] END criterion=entropy, max_depth=4;, score=0.757 total time=   0.0s\n",
      "[CV 2/10; 9/14] START criterion=entropy, max_depth=4............................\n",
      "[CV 2/10; 9/14] END criterion=entropy, max_depth=4;, score=0.738 total time=   0.0s\n",
      "[CV 3/10; 9/14] START criterion=entropy, max_depth=4............................\n",
      "[CV 3/10; 9/14] END criterion=entropy, max_depth=4;, score=0.727 total time=   0.0s\n",
      "[CV 4/10; 9/14] START criterion=entropy, max_depth=4............................\n",
      "[CV 4/10; 9/14] END criterion=entropy, max_depth=4;, score=0.761 total time=   0.0s\n",
      "[CV 5/10; 9/14] START criterion=entropy, max_depth=4............................\n",
      "[CV 5/10; 9/14] END criterion=entropy, max_depth=4;, score=0.777 total time=   0.0s\n",
      "[CV 6/10; 9/14] START criterion=entropy, max_depth=4............................\n",
      "[CV 6/10; 9/14] END criterion=entropy, max_depth=4;, score=0.769 total time=   0.0s\n",
      "[CV 7/10; 9/14] START criterion=entropy, max_depth=4............................\n",
      "[CV 7/10; 9/14] END criterion=entropy, max_depth=4;, score=0.745 total time=   0.0s\n",
      "[CV 8/10; 9/14] START criterion=entropy, max_depth=4............................\n",
      "[CV 8/10; 9/14] END criterion=entropy, max_depth=4;, score=0.782 total time=   0.0s\n",
      "[CV 9/10; 9/14] START criterion=entropy, max_depth=4............................\n",
      "[CV 9/10; 9/14] END criterion=entropy, max_depth=4;, score=0.747 total time=   0.0s\n",
      "[CV 10/10; 9/14] START criterion=entropy, max_depth=4...........................\n",
      "[CV 10/10; 9/14] END criterion=entropy, max_depth=4;, score=0.764 total time=   0.0s\n",
      "[CV 1/10; 10/14] START criterion=entropy, max_depth=5...........................\n",
      "[CV 1/10; 10/14] END criterion=entropy, max_depth=5;, score=0.754 total time=   0.0s\n",
      "[CV 2/10; 10/14] START criterion=entropy, max_depth=5...........................\n",
      "[CV 2/10; 10/14] END criterion=entropy, max_depth=5;, score=0.746 total time=   0.0s\n",
      "[CV 3/10; 10/14] START criterion=entropy, max_depth=5...........................\n",
      "[CV 3/10; 10/14] END criterion=entropy, max_depth=5;, score=0.733 total time=   0.0s\n",
      "[CV 4/10; 10/14] START criterion=entropy, max_depth=5...........................\n",
      "[CV 4/10; 10/14] END criterion=entropy, max_depth=5;, score=0.759 total time=   0.0s\n",
      "[CV 5/10; 10/14] START criterion=entropy, max_depth=5...........................\n",
      "[CV 5/10; 10/14] END criterion=entropy, max_depth=5;, score=0.787 total time=   0.0s\n",
      "[CV 6/10; 10/14] START criterion=entropy, max_depth=5...........................\n",
      "[CV 6/10; 10/14] END criterion=entropy, max_depth=5;, score=0.774 total time=   0.0s\n",
      "[CV 7/10; 10/14] START criterion=entropy, max_depth=5...........................\n",
      "[CV 7/10; 10/14] END criterion=entropy, max_depth=5;, score=0.747 total time=   0.0s\n",
      "[CV 8/10; 10/14] START criterion=entropy, max_depth=5...........................\n",
      "[CV 8/10; 10/14] END criterion=entropy, max_depth=5;, score=0.784 total time=   0.0s\n",
      "[CV 9/10; 10/14] START criterion=entropy, max_depth=5...........................\n",
      "[CV 9/10; 10/14] END criterion=entropy, max_depth=5;, score=0.779 total time=   0.0s\n",
      "[CV 10/10; 10/14] START criterion=entropy, max_depth=5..........................\n",
      "[CV 10/10; 10/14] END criterion=entropy, max_depth=5;, score=0.773 total time=   0.0s\n",
      "[CV 1/10; 11/14] START criterion=entropy, max_depth=6...........................\n",
      "[CV 1/10; 11/14] END criterion=entropy, max_depth=6;, score=0.755 total time=   0.0s\n",
      "[CV 2/10; 11/14] START criterion=entropy, max_depth=6...........................\n",
      "[CV 2/10; 11/14] END criterion=entropy, max_depth=6;, score=0.751 total time=   0.0s\n",
      "[CV 3/10; 11/14] START criterion=entropy, max_depth=6...........................\n",
      "[CV 3/10; 11/14] END criterion=entropy, max_depth=6;, score=0.722 total time=   0.0s\n",
      "[CV 4/10; 11/14] START criterion=entropy, max_depth=6...........................\n",
      "[CV 4/10; 11/14] END criterion=entropy, max_depth=6;, score=0.754 total time=   0.0s\n",
      "[CV 5/10; 11/14] START criterion=entropy, max_depth=6...........................\n"
     ]
    },
    {
     "name": "stdout",
     "output_type": "stream",
     "text": [
      "[CV 5/10; 11/14] END criterion=entropy, max_depth=6;, score=0.791 total time=   0.0s\n",
      "[CV 6/10; 11/14] START criterion=entropy, max_depth=6...........................\n",
      "[CV 6/10; 11/14] END criterion=entropy, max_depth=6;, score=0.771 total time=   0.0s\n",
      "[CV 7/10; 11/14] START criterion=entropy, max_depth=6...........................\n",
      "[CV 7/10; 11/14] END criterion=entropy, max_depth=6;, score=0.746 total time=   0.0s\n",
      "[CV 8/10; 11/14] START criterion=entropy, max_depth=6...........................\n",
      "[CV 8/10; 11/14] END criterion=entropy, max_depth=6;, score=0.771 total time=   0.0s\n",
      "[CV 9/10; 11/14] START criterion=entropy, max_depth=6...........................\n",
      "[CV 9/10; 11/14] END criterion=entropy, max_depth=6;, score=0.785 total time=   0.0s\n",
      "[CV 10/10; 11/14] START criterion=entropy, max_depth=6..........................\n",
      "[CV 10/10; 11/14] END criterion=entropy, max_depth=6;, score=0.783 total time=   0.0s\n",
      "[CV 1/10; 12/14] START criterion=entropy, max_depth=7...........................\n",
      "[CV 1/10; 12/14] END criterion=entropy, max_depth=7;, score=0.729 total time=   0.0s\n",
      "[CV 2/10; 12/14] START criterion=entropy, max_depth=7...........................\n",
      "[CV 2/10; 12/14] END criterion=entropy, max_depth=7;, score=0.723 total time=   0.0s\n",
      "[CV 3/10; 12/14] START criterion=entropy, max_depth=7...........................\n",
      "[CV 3/10; 12/14] END criterion=entropy, max_depth=7;, score=0.729 total time=   0.0s\n",
      "[CV 4/10; 12/14] START criterion=entropy, max_depth=7...........................\n",
      "[CV 4/10; 12/14] END criterion=entropy, max_depth=7;, score=0.744 total time=   0.0s\n",
      "[CV 5/10; 12/14] START criterion=entropy, max_depth=7...........................\n",
      "[CV 5/10; 12/14] END criterion=entropy, max_depth=7;, score=0.785 total time=   0.0s\n",
      "[CV 6/10; 12/14] START criterion=entropy, max_depth=7...........................\n",
      "[CV 6/10; 12/14] END criterion=entropy, max_depth=7;, score=0.752 total time=   0.0s\n",
      "[CV 7/10; 12/14] START criterion=entropy, max_depth=7...........................\n",
      "[CV 7/10; 12/14] END criterion=entropy, max_depth=7;, score=0.737 total time=   0.0s\n",
      "[CV 8/10; 12/14] START criterion=entropy, max_depth=7...........................\n",
      "[CV 8/10; 12/14] END criterion=entropy, max_depth=7;, score=0.769 total time=   0.0s\n",
      "[CV 9/10; 12/14] START criterion=entropy, max_depth=7...........................\n",
      "[CV 9/10; 12/14] END criterion=entropy, max_depth=7;, score=0.778 total time=   0.0s\n",
      "[CV 10/10; 12/14] START criterion=entropy, max_depth=7..........................\n",
      "[CV 10/10; 12/14] END criterion=entropy, max_depth=7;, score=0.770 total time=   0.0s\n",
      "[CV 1/10; 13/14] START criterion=entropy, max_depth=8...........................\n",
      "[CV 1/10; 13/14] END criterion=entropy, max_depth=8;, score=0.716 total time=   0.0s\n",
      "[CV 2/10; 13/14] START criterion=entropy, max_depth=8...........................\n",
      "[CV 2/10; 13/14] END criterion=entropy, max_depth=8;, score=0.718 total time=   0.0s\n",
      "[CV 3/10; 13/14] START criterion=entropy, max_depth=8...........................\n",
      "[CV 3/10; 13/14] END criterion=entropy, max_depth=8;, score=0.737 total time=   0.0s\n",
      "[CV 4/10; 13/14] START criterion=entropy, max_depth=8...........................\n",
      "[CV 4/10; 13/14] END criterion=entropy, max_depth=8;, score=0.744 total time=   0.0s\n",
      "[CV 5/10; 13/14] START criterion=entropy, max_depth=8...........................\n",
      "[CV 5/10; 13/14] END criterion=entropy, max_depth=8;, score=0.781 total time=   0.0s\n",
      "[CV 6/10; 13/14] START criterion=entropy, max_depth=8...........................\n",
      "[CV 6/10; 13/14] END criterion=entropy, max_depth=8;, score=0.732 total time=   0.0s\n",
      "[CV 7/10; 13/14] START criterion=entropy, max_depth=8...........................\n",
      "[CV 7/10; 13/14] END criterion=entropy, max_depth=8;, score=0.732 total time=   0.0s\n",
      "[CV 8/10; 13/14] START criterion=entropy, max_depth=8...........................\n",
      "[CV 8/10; 13/14] END criterion=entropy, max_depth=8;, score=0.765 total time=   0.0s\n",
      "[CV 9/10; 13/14] START criterion=entropy, max_depth=8...........................\n",
      "[CV 9/10; 13/14] END criterion=entropy, max_depth=8;, score=0.771 total time=   0.0s\n",
      "[CV 10/10; 13/14] START criterion=entropy, max_depth=8..........................\n",
      "[CV 10/10; 13/14] END criterion=entropy, max_depth=8;, score=0.762 total time=   0.0s\n",
      "[CV 1/10; 14/14] START criterion=entropy, max_depth=9...........................\n",
      "[CV 1/10; 14/14] END criterion=entropy, max_depth=9;, score=0.710 total time=   0.0s\n",
      "[CV 2/10; 14/14] START criterion=entropy, max_depth=9...........................\n",
      "[CV 2/10; 14/14] END criterion=entropy, max_depth=9;, score=0.710 total time=   0.0s\n",
      "[CV 3/10; 14/14] START criterion=entropy, max_depth=9...........................\n",
      "[CV 3/10; 14/14] END criterion=entropy, max_depth=9;, score=0.726 total time=   0.0s\n",
      "[CV 4/10; 14/14] START criterion=entropy, max_depth=9...........................\n",
      "[CV 4/10; 14/14] END criterion=entropy, max_depth=9;, score=0.733 total time=   0.0s\n",
      "[CV 5/10; 14/14] START criterion=entropy, max_depth=9...........................\n",
      "[CV 5/10; 14/14] END criterion=entropy, max_depth=9;, score=0.773 total time=   0.0s\n",
      "[CV 6/10; 14/14] START criterion=entropy, max_depth=9...........................\n",
      "[CV 6/10; 14/14] END criterion=entropy, max_depth=9;, score=0.715 total time=   0.0s\n",
      "[CV 7/10; 14/14] START criterion=entropy, max_depth=9...........................\n",
      "[CV 7/10; 14/14] END criterion=entropy, max_depth=9;, score=0.720 total time=   0.0s\n",
      "[CV 8/10; 14/14] START criterion=entropy, max_depth=9...........................\n",
      "[CV 8/10; 14/14] END criterion=entropy, max_depth=9;, score=0.763 total time=   0.0s\n",
      "[CV 9/10; 14/14] START criterion=entropy, max_depth=9...........................\n",
      "[CV 9/10; 14/14] END criterion=entropy, max_depth=9;, score=0.781 total time=   0.0s\n",
      "[CV 10/10; 14/14] START criterion=entropy, max_depth=9..........................\n",
      "[CV 10/10; 14/14] END criterion=entropy, max_depth=9;, score=0.763 total time=   0.0s\n"
     ]
    },
    {
     "data": {
      "text/html": [
       "<style>#sk-container-id-6 {color: black;background-color: white;}#sk-container-id-6 pre{padding: 0;}#sk-container-id-6 div.sk-toggleable {background-color: white;}#sk-container-id-6 label.sk-toggleable__label {cursor: pointer;display: block;width: 100%;margin-bottom: 0;padding: 0.3em;box-sizing: border-box;text-align: center;}#sk-container-id-6 label.sk-toggleable__label-arrow:before {content: \"▸\";float: left;margin-right: 0.25em;color: #696969;}#sk-container-id-6 label.sk-toggleable__label-arrow:hover:before {color: black;}#sk-container-id-6 div.sk-estimator:hover label.sk-toggleable__label-arrow:before {color: black;}#sk-container-id-6 div.sk-toggleable__content {max-height: 0;max-width: 0;overflow: hidden;text-align: left;background-color: #f0f8ff;}#sk-container-id-6 div.sk-toggleable__content pre {margin: 0.2em;color: black;border-radius: 0.25em;background-color: #f0f8ff;}#sk-container-id-6 input.sk-toggleable__control:checked~div.sk-toggleable__content {max-height: 200px;max-width: 100%;overflow: auto;}#sk-container-id-6 input.sk-toggleable__control:checked~label.sk-toggleable__label-arrow:before {content: \"▾\";}#sk-container-id-6 div.sk-estimator input.sk-toggleable__control:checked~label.sk-toggleable__label {background-color: #d4ebff;}#sk-container-id-6 div.sk-label input.sk-toggleable__control:checked~label.sk-toggleable__label {background-color: #d4ebff;}#sk-container-id-6 input.sk-hidden--visually {border: 0;clip: rect(1px 1px 1px 1px);clip: rect(1px, 1px, 1px, 1px);height: 1px;margin: -1px;overflow: hidden;padding: 0;position: absolute;width: 1px;}#sk-container-id-6 div.sk-estimator {font-family: monospace;background-color: #f0f8ff;border: 1px dotted black;border-radius: 0.25em;box-sizing: border-box;margin-bottom: 0.5em;}#sk-container-id-6 div.sk-estimator:hover {background-color: #d4ebff;}#sk-container-id-6 div.sk-parallel-item::after {content: \"\";width: 100%;border-bottom: 1px solid gray;flex-grow: 1;}#sk-container-id-6 div.sk-label:hover label.sk-toggleable__label {background-color: #d4ebff;}#sk-container-id-6 div.sk-serial::before {content: \"\";position: absolute;border-left: 1px solid gray;box-sizing: border-box;top: 0;bottom: 0;left: 50%;z-index: 0;}#sk-container-id-6 div.sk-serial {display: flex;flex-direction: column;align-items: center;background-color: white;padding-right: 0.2em;padding-left: 0.2em;position: relative;}#sk-container-id-6 div.sk-item {position: relative;z-index: 1;}#sk-container-id-6 div.sk-parallel {display: flex;align-items: stretch;justify-content: center;background-color: white;position: relative;}#sk-container-id-6 div.sk-item::before, #sk-container-id-6 div.sk-parallel-item::before {content: \"\";position: absolute;border-left: 1px solid gray;box-sizing: border-box;top: 0;bottom: 0;left: 50%;z-index: -1;}#sk-container-id-6 div.sk-parallel-item {display: flex;flex-direction: column;z-index: 1;position: relative;background-color: white;}#sk-container-id-6 div.sk-parallel-item:first-child::after {align-self: flex-end;width: 50%;}#sk-container-id-6 div.sk-parallel-item:last-child::after {align-self: flex-start;width: 50%;}#sk-container-id-6 div.sk-parallel-item:only-child::after {width: 0;}#sk-container-id-6 div.sk-dashed-wrapped {border: 1px dashed gray;margin: 0 0.4em 0.5em 0.4em;box-sizing: border-box;padding-bottom: 0.4em;background-color: white;}#sk-container-id-6 div.sk-label label {font-family: monospace;font-weight: bold;display: inline-block;line-height: 1.2em;}#sk-container-id-6 div.sk-label-container {text-align: center;}#sk-container-id-6 div.sk-container {/* jupyter's `normalize.less` sets `[hidden] { display: none; }` but bootstrap.min.css set `[hidden] { display: none !important; }` so we also need the `!important` here to be able to override the default hidden behavior on the sphinx rendered scikit-learn.org. See: https://github.com/scikit-learn/scikit-learn/issues/21755 */display: inline-block !important;position: relative;}#sk-container-id-6 div.sk-text-repr-fallback {display: none;}</style><div id=\"sk-container-id-6\" class=\"sk-top-container\"><div class=\"sk-text-repr-fallback\"><pre>GridSearchCV(cv=10,\n",
       "             estimator=DecisionTreeClassifier(min_samples_leaf=10,\n",
       "                                              min_samples_split=100),\n",
       "             param_grid={&#x27;criterion&#x27;: [&#x27;gini&#x27;, &#x27;entropy&#x27;],\n",
       "                         &#x27;max_depth&#x27;: array([3, 4, 5, 6, 7, 8, 9])},\n",
       "             scoring=&#x27;roc_auc&#x27;, verbose=100)</pre><b>In a Jupyter environment, please rerun this cell to show the HTML representation or trust the notebook. <br />On GitHub, the HTML representation is unable to render, please try loading this page with nbviewer.org.</b></div><div class=\"sk-container\" hidden><div class=\"sk-item sk-dashed-wrapped\"><div class=\"sk-label-container\"><div class=\"sk-label sk-toggleable\"><input class=\"sk-toggleable__control sk-hidden--visually\" id=\"sk-estimator-id-10\" type=\"checkbox\" ><label for=\"sk-estimator-id-10\" class=\"sk-toggleable__label sk-toggleable__label-arrow\">GridSearchCV</label><div class=\"sk-toggleable__content\"><pre>GridSearchCV(cv=10,\n",
       "             estimator=DecisionTreeClassifier(min_samples_leaf=10,\n",
       "                                              min_samples_split=100),\n",
       "             param_grid={&#x27;criterion&#x27;: [&#x27;gini&#x27;, &#x27;entropy&#x27;],\n",
       "                         &#x27;max_depth&#x27;: array([3, 4, 5, 6, 7, 8, 9])},\n",
       "             scoring=&#x27;roc_auc&#x27;, verbose=100)</pre></div></div></div><div class=\"sk-parallel\"><div class=\"sk-parallel-item\"><div class=\"sk-item\"><div class=\"sk-label-container\"><div class=\"sk-label sk-toggleable\"><input class=\"sk-toggleable__control sk-hidden--visually\" id=\"sk-estimator-id-11\" type=\"checkbox\" ><label for=\"sk-estimator-id-11\" class=\"sk-toggleable__label sk-toggleable__label-arrow\">estimator: DecisionTreeClassifier</label><div class=\"sk-toggleable__content\"><pre>DecisionTreeClassifier(min_samples_leaf=10, min_samples_split=100)</pre></div></div></div><div class=\"sk-serial\"><div class=\"sk-item\"><div class=\"sk-estimator sk-toggleable\"><input class=\"sk-toggleable__control sk-hidden--visually\" id=\"sk-estimator-id-12\" type=\"checkbox\" ><label for=\"sk-estimator-id-12\" class=\"sk-toggleable__label sk-toggleable__label-arrow\">DecisionTreeClassifier</label><div class=\"sk-toggleable__content\"><pre>DecisionTreeClassifier(min_samples_leaf=10, min_samples_split=100)</pre></div></div></div></div></div></div></div></div></div></div>"
      ],
      "text/plain": [
       "GridSearchCV(cv=10,\n",
       "             estimator=DecisionTreeClassifier(min_samples_leaf=10,\n",
       "                                              min_samples_split=100),\n",
       "             param_grid={'criterion': ['gini', 'entropy'],\n",
       "                         'max_depth': array([3, 4, 5, 6, 7, 8, 9])},\n",
       "             scoring='roc_auc', verbose=100)"
      ]
     },
     "execution_count": 76,
     "metadata": {},
     "output_type": "execute_result"
    }
   ],
   "source": [
    "## Tuning the Classifier using GridSearchCV\n",
    "from sklearn.model_selection import GridSearchCV\n",
    "#help(GridSearchCV)\n",
    "\n",
    "param_dist = {\"criterion\": [\"gini\",\"entropy\"],\n",
    "              \"max_depth\": np.arange(3,10),\n",
    "              }\n",
    "\n",
    "tree = DecisionTreeClassifier(min_samples_split = 100,\n",
    "                             min_samples_leaf = 10)\n",
    "\n",
    "tree_cv  = GridSearchCV(tree, param_dist, cv = 10, \n",
    "                        scoring = 'roc_auc', verbose = 100)\n",
    "\n",
    "tree_cv.fit(X_train,y_train)"
   ]
  },
  {
   "cell_type": "code",
   "execution_count": 77,
   "metadata": {},
   "outputs": [
    {
     "name": "stdout",
     "output_type": "stream",
     "text": [
      "Tuned Decision Tree parameter : {'criterion': 'gini', 'max_depth': 6}\n"
     ]
    },
    {
     "data": {
      "text/html": [
       "<style>#sk-container-id-7 {color: black;background-color: white;}#sk-container-id-7 pre{padding: 0;}#sk-container-id-7 div.sk-toggleable {background-color: white;}#sk-container-id-7 label.sk-toggleable__label {cursor: pointer;display: block;width: 100%;margin-bottom: 0;padding: 0.3em;box-sizing: border-box;text-align: center;}#sk-container-id-7 label.sk-toggleable__label-arrow:before {content: \"▸\";float: left;margin-right: 0.25em;color: #696969;}#sk-container-id-7 label.sk-toggleable__label-arrow:hover:before {color: black;}#sk-container-id-7 div.sk-estimator:hover label.sk-toggleable__label-arrow:before {color: black;}#sk-container-id-7 div.sk-toggleable__content {max-height: 0;max-width: 0;overflow: hidden;text-align: left;background-color: #f0f8ff;}#sk-container-id-7 div.sk-toggleable__content pre {margin: 0.2em;color: black;border-radius: 0.25em;background-color: #f0f8ff;}#sk-container-id-7 input.sk-toggleable__control:checked~div.sk-toggleable__content {max-height: 200px;max-width: 100%;overflow: auto;}#sk-container-id-7 input.sk-toggleable__control:checked~label.sk-toggleable__label-arrow:before {content: \"▾\";}#sk-container-id-7 div.sk-estimator input.sk-toggleable__control:checked~label.sk-toggleable__label {background-color: #d4ebff;}#sk-container-id-7 div.sk-label input.sk-toggleable__control:checked~label.sk-toggleable__label {background-color: #d4ebff;}#sk-container-id-7 input.sk-hidden--visually {border: 0;clip: rect(1px 1px 1px 1px);clip: rect(1px, 1px, 1px, 1px);height: 1px;margin: -1px;overflow: hidden;padding: 0;position: absolute;width: 1px;}#sk-container-id-7 div.sk-estimator {font-family: monospace;background-color: #f0f8ff;border: 1px dotted black;border-radius: 0.25em;box-sizing: border-box;margin-bottom: 0.5em;}#sk-container-id-7 div.sk-estimator:hover {background-color: #d4ebff;}#sk-container-id-7 div.sk-parallel-item::after {content: \"\";width: 100%;border-bottom: 1px solid gray;flex-grow: 1;}#sk-container-id-7 div.sk-label:hover label.sk-toggleable__label {background-color: #d4ebff;}#sk-container-id-7 div.sk-serial::before {content: \"\";position: absolute;border-left: 1px solid gray;box-sizing: border-box;top: 0;bottom: 0;left: 50%;z-index: 0;}#sk-container-id-7 div.sk-serial {display: flex;flex-direction: column;align-items: center;background-color: white;padding-right: 0.2em;padding-left: 0.2em;position: relative;}#sk-container-id-7 div.sk-item {position: relative;z-index: 1;}#sk-container-id-7 div.sk-parallel {display: flex;align-items: stretch;justify-content: center;background-color: white;position: relative;}#sk-container-id-7 div.sk-item::before, #sk-container-id-7 div.sk-parallel-item::before {content: \"\";position: absolute;border-left: 1px solid gray;box-sizing: border-box;top: 0;bottom: 0;left: 50%;z-index: -1;}#sk-container-id-7 div.sk-parallel-item {display: flex;flex-direction: column;z-index: 1;position: relative;background-color: white;}#sk-container-id-7 div.sk-parallel-item:first-child::after {align-self: flex-end;width: 50%;}#sk-container-id-7 div.sk-parallel-item:last-child::after {align-self: flex-start;width: 50%;}#sk-container-id-7 div.sk-parallel-item:only-child::after {width: 0;}#sk-container-id-7 div.sk-dashed-wrapped {border: 1px dashed gray;margin: 0 0.4em 0.5em 0.4em;box-sizing: border-box;padding-bottom: 0.4em;background-color: white;}#sk-container-id-7 div.sk-label label {font-family: monospace;font-weight: bold;display: inline-block;line-height: 1.2em;}#sk-container-id-7 div.sk-label-container {text-align: center;}#sk-container-id-7 div.sk-container {/* jupyter's `normalize.less` sets `[hidden] { display: none; }` but bootstrap.min.css set `[hidden] { display: none !important; }` so we also need the `!important` here to be able to override the default hidden behavior on the sphinx rendered scikit-learn.org. See: https://github.com/scikit-learn/scikit-learn/issues/21755 */display: inline-block !important;position: relative;}#sk-container-id-7 div.sk-text-repr-fallback {display: none;}</style><div id=\"sk-container-id-7\" class=\"sk-top-container\"><div class=\"sk-text-repr-fallback\"><pre>DecisionTreeClassifier(max_depth=6, min_samples_leaf=10, min_samples_split=100)</pre><b>In a Jupyter environment, please rerun this cell to show the HTML representation or trust the notebook. <br />On GitHub, the HTML representation is unable to render, please try loading this page with nbviewer.org.</b></div><div class=\"sk-container\" hidden><div class=\"sk-item\"><div class=\"sk-estimator sk-toggleable\"><input class=\"sk-toggleable__control sk-hidden--visually\" id=\"sk-estimator-id-13\" type=\"checkbox\" checked><label for=\"sk-estimator-id-13\" class=\"sk-toggleable__label sk-toggleable__label-arrow\">DecisionTreeClassifier</label><div class=\"sk-toggleable__content\"><pre>DecisionTreeClassifier(max_depth=6, min_samples_leaf=10, min_samples_split=100)</pre></div></div></div></div></div>"
      ],
      "text/plain": [
       "DecisionTreeClassifier(max_depth=6, min_samples_leaf=10, min_samples_split=100)"
      ]
     },
     "execution_count": 77,
     "metadata": {},
     "output_type": "execute_result"
    }
   ],
   "source": [
    "## Building the model using best combination of parameters\n",
    "print(\"Tuned Decision Tree parameter : {}\".format(tree_cv.best_params_))\n",
    "\n",
    "classifier = tree_cv.best_estimator_\n",
    "\n",
    "classifier.fit(X_train,y_train)\n"
   ]
  },
  {
   "cell_type": "code",
   "execution_count": 78,
   "metadata": {},
   "outputs": [
    {
     "data": {
      "text/plain": [
       "0.8009914825933133"
      ]
     },
     "execution_count": 78,
     "metadata": {},
     "output_type": "execute_result"
    }
   ],
   "source": [
    "#predicting probabilities\n",
    "y_train_prob = classifier.predict_proba(X_train)\n",
    "fpr, tpr, thresholds = roc_curve(y_train, y_train_prob[:,1])\n",
    "auc_d = auc(fpr, tpr)\n",
    "auc_d"
   ]
  },
  {
   "cell_type": "code",
   "execution_count": 79,
   "metadata": {},
   "outputs": [
    {
     "data": {
      "text/plain": [
       "0.8009914825933133"
      ]
     },
     "execution_count": 79,
     "metadata": {},
     "output_type": "execute_result"
    }
   ],
   "source": [
    "y_test_prob = classifier.predict_proba(X_test)\n",
    "fpr, tpr, thresholds = roc_curve(y_test, y_test_prob[:,1])\n",
    "auc_h = auc(fpr, tpr)\n",
    "auc_d"
   ]
  }
 ],
 "metadata": {
  "kernelspec": {
   "display_name": "Python 3 (ipykernel)",
   "language": "python",
   "name": "python3"
  },
  "language_info": {
   "codemirror_mode": {
    "name": "ipython",
    "version": 3
   },
   "file_extension": ".py",
   "mimetype": "text/x-python",
   "name": "python",
   "nbconvert_exporter": "python",
   "pygments_lexer": "ipython3",
   "version": "3.10.9"
  }
 },
 "nbformat": 4,
 "nbformat_minor": 4
}
