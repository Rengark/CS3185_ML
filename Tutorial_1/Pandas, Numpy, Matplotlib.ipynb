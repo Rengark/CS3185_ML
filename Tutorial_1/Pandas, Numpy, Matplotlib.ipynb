{
 "cells": [
  {
   "cell_type": "markdown",
   "id": "cee384c8",
   "metadata": {},
   "source": [
    "### Table of Content\n",
    "* [1. Import Statement](#1)\n",
    "* [2. Pandas](#2)\n",
    "    * [2.1 Series](#2.1)\n",
    "    * [2.2 DataFrames](#2.2)\n",
    "    * [2.3 Exercise](#2.3)\n",
    "* [3. Numpy](#3)\n",
    "    * [3.1 Topics](#3.1)\n",
    "    * [3.2 Exercise](#3.2)\n",
    "* [4. Matplotlib](#4)\n",
    "    * [4.1 Introduction](#4.1)\n",
    "    * [4.2 Matplotlib with Numpy](#4.2)\n",
    "    * [4.3 Matplotlib with Pandas](#4.3)"
   ]
  },
  {
   "cell_type": "markdown",
   "id": "fb117616",
   "metadata": {},
   "source": [
    "<a id='1'></a>\n",
    "# <p style=\"background-color:skyblue; font-family:newtimeroman; font-size:150%; text-align:center\">1. Import Statement</p>\n",
    "\n",
    "In Python, the import statement is used to bring external modules, libraries, or specific functions and classes into your program."
   ]
  },
  {
   "cell_type": "markdown",
   "id": "0bb27747",
   "metadata": {},
   "source": [
    "**1. Import the entire module:**\n",
    "\n",
    "```python\n",
    "import module_name\n",
    "```\n"
   ]
  },
  {
   "cell_type": "code",
   "execution_count": 2,
   "id": "0093f410",
   "metadata": {},
   "outputs": [
    {
     "name": "stdout",
     "output_type": "stream",
     "text": [
      "   A  B\n",
      "0  1  4\n",
      "1  2  5\n",
      "2  3  6\n"
     ]
    }
   ],
   "source": [
    "import pandas  # Full module import\n",
    "\n",
    "df = pandas.DataFrame({'A': [1, 2, 3], 'B': [4, 5, 6]})\n",
    "print(df)"
   ]
  },
  {
   "cell_type": "markdown",
   "id": "b97543bf",
   "metadata": {},
   "source": [
    "**2. Import specific functions or classes from a module:**\n",
    "\n",
    "```python\n",
    "from module_name import function_name, ClassName\n",
    "```\n"
   ]
  },
  {
   "cell_type": "code",
   "execution_count": 3,
   "id": "6d72ebcc",
   "metadata": {},
   "outputs": [
    {
     "name": "stdout",
     "output_type": "stream",
     "text": [
      "   A  B\n",
      "0  1  4\n",
      "1  2  5\n",
      "2  3  6\n"
     ]
    }
   ],
   "source": [
    "from pandas import DataFrame\n",
    "\n",
    "df = DataFrame({'A': [1, 2, 3], 'B': [4, 5, 6]})\n",
    "print(df)"
   ]
  },
  {
   "cell_type": "markdown",
   "id": "810aa272",
   "metadata": {},
   "source": [
    "**3. Import a module and assign it an alias (shorthand):**\n",
    "\n",
    "```python\n",
    "import module_name as alias\n",
    "```\n"
   ]
  },
  {
   "cell_type": "code",
   "execution_count": 4,
   "id": "7ee7f1ac",
   "metadata": {},
   "outputs": [
    {
     "name": "stdout",
     "output_type": "stream",
     "text": [
      "   A  B\n",
      "0  1  4\n",
      "1  2  5\n",
      "2  3  6\n"
     ]
    }
   ],
   "source": [
    "import pandas as pd\n",
    "\n",
    "df = pd.DataFrame({'A': [1, 2, 3], 'B': [4, 5, 6]})\n",
    "print(df)"
   ]
  },
  {
   "cell_type": "markdown",
   "id": "1b7bdae9",
   "metadata": {},
   "source": [
    "**4. Import specific functions or classes with an alias:**\n",
    "\n",
    "```python\n",
    "from module_name import function_name as alias\n",
    "```"
   ]
  },
  {
   "cell_type": "code",
   "execution_count": 5,
   "id": "f44dc065",
   "metadata": {},
   "outputs": [
    {
     "name": "stdout",
     "output_type": "stream",
     "text": [
      "   A  B\n",
      "0  1  4\n",
      "1  2  5\n",
      "2  3  6\n"
     ]
    }
   ],
   "source": [
    "from pandas import DataFrame as DF\n",
    "\n",
    "df = DF({'A': [1, 2, 3], 'B': [4, 5, 6]})\n",
    "print(df)\n"
   ]
  },
  {
   "cell_type": "markdown",
   "id": "e24b8685",
   "metadata": {
    "slideshow": {
     "slide_type": "slide"
    }
   },
   "source": [
    "<a id='2'></a>\n",
    "# <p style=\"background-color:skyblue; font-family:newtimeroman; font-size:150%; text-align:center\">2. Pandas</p>\n",
    "\n",
    "- Pandas is a library that is used for data manipulation and to analyze large amounts of tabular data. \n",
    "- We will need to import the Pandas package into our workspace with `import pandas as pd`.\n"
   ]
  },
  {
   "cell_type": "code",
   "execution_count": 6,
   "id": "13bb1802",
   "metadata": {
    "slideshow": {
     "slide_type": "skip"
    }
   },
   "outputs": [],
   "source": [
    "# Install a pip package in the current Jupyter kernel\n",
    "# import sys\n",
    "# !{sys.executable} -m pip install pandas"
   ]
  },
  {
   "cell_type": "code",
   "execution_count": 7,
   "id": "7249593a",
   "metadata": {},
   "outputs": [
    {
     "name": "stdout",
     "output_type": "stream",
     "text": [
      "2.2.2\n"
     ]
    }
   ],
   "source": [
    "import pandas as pd\n",
    "\n",
    "print(pd.__version__)"
   ]
  },
  {
   "cell_type": "markdown",
   "id": "48161e67",
   "metadata": {},
   "source": [
    "<a id='2.1'></a>\n",
    "## <p style=\"background-color:skyblue; font-family:newtimeroman; font-size:150%; text-align:center\">2.1 Series</p>\n",
    "\n",
    "- Panda `Series` is a 1-dimensional array capable of holding data of any type (integer, string, float, python objects, etc.)\n",
    "- It is a homogeneous data structure, where its elements are of the same data type.\n",
    "- `Series` can be created from a list, numpy array, or dictionary."
   ]
  },
  {
   "cell_type": "code",
   "execution_count": 8,
   "id": "bca03598",
   "metadata": {
    "slideshow": {
     "slide_type": "subslide"
    }
   },
   "outputs": [
    {
     "data": {
      "text/plain": [
       "0    10.0\n",
       "1    20.0\n",
       "2    30.0\n",
       "3    40.0\n",
       "dtype: float64"
      ]
     },
     "execution_count": 8,
     "metadata": {},
     "output_type": "execute_result"
    }
   ],
   "source": [
    "import pandas as pd\n",
    "\n",
    "# Creating Series from list\n",
    "number_list = [10, 20, 30, 40.0]\n",
    "\n",
    "sr = pd.Series(number_list)\n",
    "sr"
   ]
  },
  {
   "cell_type": "markdown",
   "id": "da03fa9e",
   "metadata": {
    "slideshow": {
     "slide_type": "subslide"
    }
   },
   "source": [
    "**Note:**\n",
    "\n",
    "- The values are labelled with the index number by default.\n",
    "- Custom labels can be created with the `index` parameter.\n",
    "- This label can be used to access a specified value."
   ]
  },
  {
   "cell_type": "code",
   "execution_count": 9,
   "id": "98b06bbd",
   "metadata": {
    "slideshow": {
     "slide_type": "subslide"
    }
   },
   "outputs": [
    {
     "data": {
      "text/plain": [
       "w    10\n",
       "x    20\n",
       "y    30\n",
       "z    40\n",
       "dtype: int64"
      ]
     },
     "execution_count": 9,
     "metadata": {},
     "output_type": "execute_result"
    }
   ],
   "source": [
    "# Creating Series from list, with custom index\n",
    "labels = ['w', 'x', 'y', 'z']\n",
    "number_list = [10, 20, 30, 40]\n",
    "\n",
    "sr = pd.Series(data=number_list, index=labels)\n",
    "sr"
   ]
  },
  {
   "cell_type": "markdown",
   "id": "7273f06e",
   "metadata": {
    "slideshow": {
     "slide_type": "slide"
    }
   },
   "source": [
    "---\n",
    "### Creating Series out of Dictionary\n",
    "\n",
    "- When creating a Series with dictionary, the keys of the dictionary become the labels."
   ]
  },
  {
   "cell_type": "code",
   "execution_count": 10,
   "id": "b136c6cd",
   "metadata": {
    "slideshow": {
     "slide_type": "subslide"
    }
   },
   "outputs": [
    {
     "data": {
      "text/plain": [
       "w    10\n",
       "x    20\n",
       "y    30\n",
       "z    40\n",
       "dtype: int64"
      ]
     },
     "execution_count": 10,
     "metadata": {},
     "output_type": "execute_result"
    }
   ],
   "source": [
    "# Dictionary keys become the index\n",
    "simple_dict = {'w': 10, \n",
    "               'x': 20, \n",
    "               'y': 30, \n",
    "               'z': 40}\n",
    "\n",
    "pd.Series(simple_dict)"
   ]
  },
  {
   "cell_type": "markdown",
   "id": "e4d43664",
   "metadata": {
    "slideshow": {
     "slide_type": "slide"
    }
   },
   "source": [
    "---\n",
    "### Accessing Values\n",
    "\n",
    "- In Pandas Series, accessing a row value is similar to accessing a value in dictionary.\n",
    "\n",
    "For example:"
   ]
  },
  {
   "cell_type": "code",
   "execution_count": 11,
   "id": "77d36571",
   "metadata": {},
   "outputs": [
    {
     "data": {
      "text/plain": [
       "w    10\n",
       "x    20\n",
       "y    30\n",
       "z    40\n",
       "dtype: int64"
      ]
     },
     "execution_count": 11,
     "metadata": {},
     "output_type": "execute_result"
    }
   ],
   "source": [
    "sr"
   ]
  },
  {
   "cell_type": "code",
   "execution_count": 12,
   "id": "d86f4c11",
   "metadata": {},
   "outputs": [
    {
     "name": "stdout",
     "output_type": "stream",
     "text": [
      "10\n",
      "\n",
      "y    30\n",
      "z    40\n",
      "dtype: int64\n"
     ]
    }
   ],
   "source": [
    "# Access the value like dictionary\n",
    "print(sr['w'])\n",
    "print()\n",
    "# Access multiple values by passing in a list of values\n",
    "print(sr[['y', 'z']])"
   ]
  },
  {
   "cell_type": "markdown",
   "id": "8c1d2967",
   "metadata": {
    "slideshow": {
     "slide_type": "slide"
    }
   },
   "source": [
    "<a id='2.2'></a>\n",
    "## <p style=\"background-color:skyblue; font-family:newtimeroman; font-size:150%; text-align:center\">2.2 DataFrames</p>\n",
    "\n",
    "- DataFrame is Panda's 2-dimensional, heterogeneous data structure (i.e. elements can be of different data types).\n",
    "- Pandas DataFrame is often created by loading datasets from an existing storage.\n",
    "- It can also be created from list, dictionary of list etc.\n",
    " - When creating from a dictionary, the dictionary key will be used as the column name."
   ]
  },
  {
   "cell_type": "code",
   "execution_count": 13,
   "id": "965e4529",
   "metadata": {
    "slideshow": {
     "slide_type": "skip"
    }
   },
   "outputs": [],
   "source": [
    "# Install a pip package in the current Jupyter kernel\n",
    "# import sys\n",
    "# !{sys.executable} -m pip install openpyxl"
   ]
  },
  {
   "cell_type": "code",
   "execution_count": 14,
   "id": "f685b41a",
   "metadata": {
    "slideshow": {
     "slide_type": "subslide"
    }
   },
   "outputs": [
    {
     "name": "stdout",
     "output_type": "stream",
     "text": [
      "<class 'pandas.core.frame.DataFrame'>\n",
      "    Income  HouseholdSize  AmountCharged\n",
      "0       54              3           4016\n",
      "1       30              2           3159\n",
      "2       32              4           5100\n",
      "3       50              5           4742\n",
      "4       31              2           1864\n",
      "5       55              2           4070\n",
      "6       37              1           2731\n",
      "7       40              2           3348\n",
      "8       66              4           4764\n",
      "9       51              3           4110\n",
      "10      25              3           4208\n",
      "11      48              4           4219\n",
      "12      27              1           2477\n",
      "13      33              2           2514\n",
      "14      65              3           4214\n",
      "15      63              4           4965\n",
      "16      42              6           4412\n",
      "17      21              2           2448\n",
      "18      44              1           2995\n",
      "19      37              5           4171\n",
      "20      62              6           5678\n",
      "21      21              3           3623\n",
      "22      55              7           5301\n",
      "23      42              2           3020\n",
      "24      41              7           4828\n",
      "25      54              6           5573\n",
      "26      30              1           2583\n",
      "27      48              2           3866\n",
      "28      34              5           3586\n",
      "29      67              4           5037\n",
      "30      50              2           3605\n",
      "31      67              5           5345\n",
      "32      55              6           5370\n",
      "33      52              2           3890\n",
      "34      62              3           4705\n",
      "35      64              2           4157\n",
      "36      22              3           3579\n",
      "37      29              4           3890\n",
      "38      39              2           2972\n",
      "39      35              1           3121\n",
      "40      39              4           4183\n",
      "41      54              3           3730\n",
      "42      23              6           4127\n",
      "43      27              2           2921\n",
      "44      26              7           4603\n",
      "45      61              2           4273\n",
      "46      30              2           3067\n",
      "47      22              4           3074\n",
      "48      46              5           4820\n",
      "49      66              4           5149\n"
     ]
    }
   ],
   "source": [
    "# Example 1: Creating dataframe from an external dataset\n",
    "import pandas as pd\n",
    "\n",
    "df = pd.read_excel('datasets/Consumer.xlsx', sheet_name='Data1')\n",
    "print(type(df))\n",
    "print(df)"
   ]
  },
  {
   "cell_type": "code",
   "execution_count": 15,
   "id": "80fd1001",
   "metadata": {
    "slideshow": {
     "slide_type": "subslide"
    }
   },
   "outputs": [
    {
     "data": {
      "text/html": [
       "<div>\n",
       "<style scoped>\n",
       "    .dataframe tbody tr th:only-of-type {\n",
       "        vertical-align: middle;\n",
       "    }\n",
       "\n",
       "    .dataframe tbody tr th {\n",
       "        vertical-align: top;\n",
       "    }\n",
       "\n",
       "    .dataframe thead th {\n",
       "        text-align: right;\n",
       "    }\n",
       "</style>\n",
       "<table border=\"1\" class=\"dataframe\">\n",
       "  <thead>\n",
       "    <tr style=\"text-align: right;\">\n",
       "      <th></th>\n",
       "      <th>Sport</th>\n",
       "    </tr>\n",
       "  </thead>\n",
       "  <tbody>\n",
       "    <tr>\n",
       "      <th>0</th>\n",
       "      <td>Cricket</td>\n",
       "    </tr>\n",
       "    <tr>\n",
       "      <th>1</th>\n",
       "      <td>Football</td>\n",
       "    </tr>\n",
       "    <tr>\n",
       "      <th>2</th>\n",
       "      <td>Basketball</td>\n",
       "    </tr>\n",
       "    <tr>\n",
       "      <th>3</th>\n",
       "      <td>Golf</td>\n",
       "    </tr>\n",
       "  </tbody>\n",
       "</table>\n",
       "</div>"
      ],
      "text/plain": [
       "        Sport\n",
       "0     Cricket\n",
       "1    Football\n",
       "2  Basketball\n",
       "3        Golf"
      ]
     },
     "execution_count": 15,
     "metadata": {},
     "output_type": "execute_result"
    }
   ],
   "source": [
    "# Example 2: Creating dataframe from a list\n",
    "import pandas as pd\n",
    " \n",
    "sports = ['Cricket', 'Football','Basketball', 'Golf']\n",
    " \n",
    "df = pd.DataFrame(sports, columns=['Sport'])\n",
    "df"
   ]
  },
  {
   "cell_type": "code",
   "execution_count": 16,
   "id": "51abf5db",
   "metadata": {
    "slideshow": {
     "slide_type": "subslide"
    }
   },
   "outputs": [
    {
     "name": "stdout",
     "output_type": "stream",
     "text": [
      "<class 'pandas.core.series.Series'>\n"
     ]
    }
   ],
   "source": [
    "# DataFrame columns are essentially made up of Series.\n",
    "print(type(df['Sport']))"
   ]
  },
  {
   "cell_type": "code",
   "execution_count": 17,
   "id": "d907636a",
   "metadata": {
    "slideshow": {
     "slide_type": "subslide"
    }
   },
   "outputs": [
    {
     "data": {
      "text/html": [
       "<div>\n",
       "<style scoped>\n",
       "    .dataframe tbody tr th:only-of-type {\n",
       "        vertical-align: middle;\n",
       "    }\n",
       "\n",
       "    .dataframe tbody tr th {\n",
       "        vertical-align: top;\n",
       "    }\n",
       "\n",
       "    .dataframe thead th {\n",
       "        text-align: right;\n",
       "    }\n",
       "</style>\n",
       "<table border=\"1\" class=\"dataframe\">\n",
       "  <thead>\n",
       "    <tr style=\"text-align: right;\">\n",
       "      <th></th>\n",
       "      <th>Sports</th>\n",
       "      <th>Audience</th>\n",
       "    </tr>\n",
       "  </thead>\n",
       "  <tbody>\n",
       "    <tr>\n",
       "      <th>0</th>\n",
       "      <td>Cricket</td>\n",
       "      <td>100</td>\n",
       "    </tr>\n",
       "    <tr>\n",
       "      <th>1</th>\n",
       "      <td>Football</td>\n",
       "      <td>200</td>\n",
       "    </tr>\n",
       "    <tr>\n",
       "      <th>2</th>\n",
       "      <td>Basketball</td>\n",
       "      <td>300</td>\n",
       "    </tr>\n",
       "    <tr>\n",
       "      <th>3</th>\n",
       "      <td>Golf</td>\n",
       "      <td>400</td>\n",
       "    </tr>\n",
       "  </tbody>\n",
       "</table>\n",
       "</div>"
      ],
      "text/plain": [
       "       Sports  Audience\n",
       "0     Cricket       100\n",
       "1    Football       200\n",
       "2  Basketball       300\n",
       "3        Golf       400"
      ]
     },
     "execution_count": 17,
     "metadata": {},
     "output_type": "execute_result"
    }
   ],
   "source": [
    "# Creating DataFrame from a dictionary of list\n",
    "import pandas as pd\n",
    " \n",
    "data = {'Sports': ['Cricket', 'Football','Basketball', 'Golf'],\n",
    "        'Audience': [100, 200, 300, 400]}\n",
    " \n",
    "df = pd.DataFrame(data)\n",
    "df"
   ]
  },
  {
   "cell_type": "markdown",
   "id": "fa7a38e0",
   "metadata": {
    "slideshow": {
     "slide_type": "slide"
    }
   },
   "source": [
    "---\n",
    "### Retrieving Data from a DataFrame\n",
    "\n",
    "- Both Selection and Indexing refer to methods in which we can retrieve data from a DataFrame."
   ]
  },
  {
   "cell_type": "code",
   "execution_count": 18,
   "id": "5c24f585",
   "metadata": {
    "slideshow": {
     "slide_type": "subslide"
    }
   },
   "outputs": [
    {
     "data": {
      "text/html": [
       "<div>\n",
       "<style scoped>\n",
       "    .dataframe tbody tr th:only-of-type {\n",
       "        vertical-align: middle;\n",
       "    }\n",
       "\n",
       "    .dataframe tbody tr th {\n",
       "        vertical-align: top;\n",
       "    }\n",
       "\n",
       "    .dataframe thead th {\n",
       "        text-align: right;\n",
       "    }\n",
       "</style>\n",
       "<table border=\"1\" class=\"dataframe\">\n",
       "  <thead>\n",
       "    <tr style=\"text-align: right;\">\n",
       "      <th></th>\n",
       "      <th>Value1</th>\n",
       "      <th>Value2</th>\n",
       "      <th>Value3</th>\n",
       "      <th>Value4</th>\n",
       "      <th>Value5</th>\n",
       "    </tr>\n",
       "  </thead>\n",
       "  <tbody>\n",
       "    <tr>\n",
       "      <th>Aaron</th>\n",
       "      <td>77</td>\n",
       "      <td>83</td>\n",
       "      <td>52</td>\n",
       "      <td>48</td>\n",
       "      <td>49</td>\n",
       "    </tr>\n",
       "    <tr>\n",
       "      <th>Bob</th>\n",
       "      <td>51</td>\n",
       "      <td>45</td>\n",
       "      <td>55</td>\n",
       "      <td>40</td>\n",
       "      <td>56</td>\n",
       "    </tr>\n",
       "    <tr>\n",
       "      <th>Charlie</th>\n",
       "      <td>41</td>\n",
       "      <td>52</td>\n",
       "      <td>47</td>\n",
       "      <td>85</td>\n",
       "      <td>46</td>\n",
       "    </tr>\n",
       "    <tr>\n",
       "      <th>Desmond</th>\n",
       "      <td>65</td>\n",
       "      <td>90</td>\n",
       "      <td>60</td>\n",
       "      <td>77</td>\n",
       "      <td>58</td>\n",
       "    </tr>\n",
       "    <tr>\n",
       "      <th>Elliot</th>\n",
       "      <td>60</td>\n",
       "      <td>51</td>\n",
       "      <td>82</td>\n",
       "      <td>68</td>\n",
       "      <td>69</td>\n",
       "    </tr>\n",
       "  </tbody>\n",
       "</table>\n",
       "</div>"
      ],
      "text/plain": [
       "         Value1  Value2  Value3  Value4  Value5\n",
       "Aaron        77      83      52      48      49\n",
       "Bob          51      45      55      40      56\n",
       "Charlie      41      52      47      85      46\n",
       "Desmond      65      90      60      77      58\n",
       "Elliot       60      51      82      68      69"
      ]
     },
     "execution_count": 18,
     "metadata": {},
     "output_type": "execute_result"
    }
   ],
   "source": [
    "import numpy as np\n",
    "np.random.seed(1)\n",
    "from numpy import random\n",
    "\n",
    "df = pd.DataFrame(random.randint(low=40, high=100, size=(5, 5)),\n",
    "                         index=['Aaron', 'Bob', 'Charlie', 'Desmond', 'Elliot'],\n",
    "                         columns=['Value1', 'Value2', 'Value3', 'Value4', 'Value5'])\n",
    "\n",
    "df"
   ]
  },
  {
   "cell_type": "markdown",
   "id": "2243bd0f",
   "metadata": {
    "slideshow": {
     "slide_type": "subslide"
    }
   },
   "source": [
    "**<u>Note:</u>**\n",
    "\n",
    "- Random numbers in computer is truly not random at all (known as pseudo-random) as they are generated with a mathematical formula.\n",
    "- In Pandas, the `seed()` method is used to initialize the random number generator.\n",
    "- If the same seed value is used, we will always get the same random number."
   ]
  },
  {
   "cell_type": "code",
   "execution_count": 19,
   "id": "15b89f53",
   "metadata": {
    "slideshow": {
     "slide_type": "subslide"
    }
   },
   "outputs": [
    {
     "data": {
      "text/plain": [
       "Aaron      77\n",
       "Bob        51\n",
       "Charlie    41\n",
       "Desmond    65\n",
       "Elliot     60\n",
       "Name: Value1, dtype: int64"
      ]
     },
     "execution_count": 19,
     "metadata": {},
     "output_type": "execute_result"
    }
   ],
   "source": [
    "# Accessing the values for column Value 1\n",
    "df['Value1']"
   ]
  },
  {
   "cell_type": "code",
   "execution_count": 20,
   "id": "f8b5bf3a",
   "metadata": {
    "slideshow": {
     "slide_type": "subslide"
    }
   },
   "outputs": [
    {
     "data": {
      "text/html": [
       "<div>\n",
       "<style scoped>\n",
       "    .dataframe tbody tr th:only-of-type {\n",
       "        vertical-align: middle;\n",
       "    }\n",
       "\n",
       "    .dataframe tbody tr th {\n",
       "        vertical-align: top;\n",
       "    }\n",
       "\n",
       "    .dataframe thead th {\n",
       "        text-align: right;\n",
       "    }\n",
       "</style>\n",
       "<table border=\"1\" class=\"dataframe\">\n",
       "  <thead>\n",
       "    <tr style=\"text-align: right;\">\n",
       "      <th></th>\n",
       "      <th>Value2</th>\n",
       "      <th>Value1</th>\n",
       "    </tr>\n",
       "  </thead>\n",
       "  <tbody>\n",
       "    <tr>\n",
       "      <th>Aaron</th>\n",
       "      <td>83</td>\n",
       "      <td>77</td>\n",
       "    </tr>\n",
       "    <tr>\n",
       "      <th>Bob</th>\n",
       "      <td>45</td>\n",
       "      <td>51</td>\n",
       "    </tr>\n",
       "    <tr>\n",
       "      <th>Charlie</th>\n",
       "      <td>52</td>\n",
       "      <td>41</td>\n",
       "    </tr>\n",
       "    <tr>\n",
       "      <th>Desmond</th>\n",
       "      <td>90</td>\n",
       "      <td>65</td>\n",
       "    </tr>\n",
       "    <tr>\n",
       "      <th>Elliot</th>\n",
       "      <td>51</td>\n",
       "      <td>60</td>\n",
       "    </tr>\n",
       "  </tbody>\n",
       "</table>\n",
       "</div>"
      ],
      "text/plain": [
       "         Value2  Value1\n",
       "Aaron        83      77\n",
       "Bob          45      51\n",
       "Charlie      52      41\n",
       "Desmond      90      65\n",
       "Elliot       51      60"
      ]
     },
     "execution_count": 20,
     "metadata": {},
     "output_type": "execute_result"
    }
   ],
   "source": [
    "# To display multiple columns, pass in a list of column names\n",
    "# The order of columns determines the displayed output\n",
    "# Display column Value2 before Value1\n",
    "df[['Value2', 'Value1']]"
   ]
  },
  {
   "cell_type": "markdown",
   "id": "9237c89a",
   "metadata": {
    "slideshow": {
     "slide_type": "slide"
    }
   },
   "source": [
    "---\n",
    "### Adding a New Column to a DataFrame\n",
    "\n",
    "- Use the `assign()` function to add a new column to the end of a DataFrame.\n",
    "- It returns a new DataFrame with the newly added columns."
   ]
  },
  {
   "cell_type": "code",
   "execution_count": 21,
   "id": "872765a5",
   "metadata": {
    "slideshow": {
     "slide_type": "subslide"
    }
   },
   "outputs": [
    {
     "data": {
      "text/html": [
       "<div>\n",
       "<style scoped>\n",
       "    .dataframe tbody tr th:only-of-type {\n",
       "        vertical-align: middle;\n",
       "    }\n",
       "\n",
       "    .dataframe tbody tr th {\n",
       "        vertical-align: top;\n",
       "    }\n",
       "\n",
       "    .dataframe thead th {\n",
       "        text-align: right;\n",
       "    }\n",
       "</style>\n",
       "<table border=\"1\" class=\"dataframe\">\n",
       "  <thead>\n",
       "    <tr style=\"text-align: right;\">\n",
       "      <th></th>\n",
       "      <th>Value1</th>\n",
       "      <th>Value2</th>\n",
       "      <th>Value3</th>\n",
       "      <th>Value4</th>\n",
       "      <th>Value5</th>\n",
       "    </tr>\n",
       "  </thead>\n",
       "  <tbody>\n",
       "    <tr>\n",
       "      <th>Aaron</th>\n",
       "      <td>77</td>\n",
       "      <td>83</td>\n",
       "      <td>52</td>\n",
       "      <td>48</td>\n",
       "      <td>49</td>\n",
       "    </tr>\n",
       "    <tr>\n",
       "      <th>Bob</th>\n",
       "      <td>51</td>\n",
       "      <td>45</td>\n",
       "      <td>55</td>\n",
       "      <td>40</td>\n",
       "      <td>56</td>\n",
       "    </tr>\n",
       "    <tr>\n",
       "      <th>Charlie</th>\n",
       "      <td>41</td>\n",
       "      <td>52</td>\n",
       "      <td>47</td>\n",
       "      <td>85</td>\n",
       "      <td>46</td>\n",
       "    </tr>\n",
       "    <tr>\n",
       "      <th>Desmond</th>\n",
       "      <td>65</td>\n",
       "      <td>90</td>\n",
       "      <td>60</td>\n",
       "      <td>77</td>\n",
       "      <td>58</td>\n",
       "    </tr>\n",
       "    <tr>\n",
       "      <th>Elliot</th>\n",
       "      <td>60</td>\n",
       "      <td>51</td>\n",
       "      <td>82</td>\n",
       "      <td>68</td>\n",
       "      <td>69</td>\n",
       "    </tr>\n",
       "  </tbody>\n",
       "</table>\n",
       "</div>"
      ],
      "text/plain": [
       "         Value1  Value2  Value3  Value4  Value5\n",
       "Aaron        77      83      52      48      49\n",
       "Bob          51      45      55      40      56\n",
       "Charlie      41      52      47      85      46\n",
       "Desmond      65      90      60      77      58\n",
       "Elliot       60      51      82      68      69"
      ]
     },
     "execution_count": 21,
     "metadata": {},
     "output_type": "execute_result"
    }
   ],
   "source": [
    "# Current df\n",
    "df"
   ]
  },
  {
   "cell_type": "code",
   "execution_count": 22,
   "id": "72e06991",
   "metadata": {
    "slideshow": {
     "slide_type": "subslide"
    }
   },
   "outputs": [
    {
     "name": "stdout",
     "output_type": "stream",
     "text": [
      "         Value1  Value2  Value3  Value4  Value5  halved_value1\n",
      "Aaron        77      83      52      48      49           38.5\n",
      "Bob          51      45      55      40      56           25.5\n",
      "Charlie      41      52      47      85      46           20.5\n",
      "Desmond      65      90      60      77      58           32.5\n",
      "Elliot       60      51      82      68      69           30.0\n"
     ]
    }
   ],
   "source": [
    "df = df.assign(halved_value1=df['Value1']/2)\n",
    "print(df)"
   ]
  },
  {
   "cell_type": "markdown",
   "id": "04cbf9b3",
   "metadata": {
    "slideshow": {
     "slide_type": "slide"
    }
   },
   "source": [
    "- Use the `insert()` function to add a new column at a specific index in a DataFrame."
   ]
  },
  {
   "cell_type": "code",
   "execution_count": 23,
   "id": "7ee69e91",
   "metadata": {
    "slideshow": {
     "slide_type": "subslide"
    }
   },
   "outputs": [
    {
     "data": {
      "text/html": [
       "<div>\n",
       "<style scoped>\n",
       "    .dataframe tbody tr th:only-of-type {\n",
       "        vertical-align: middle;\n",
       "    }\n",
       "\n",
       "    .dataframe tbody tr th {\n",
       "        vertical-align: top;\n",
       "    }\n",
       "\n",
       "    .dataframe thead th {\n",
       "        text-align: right;\n",
       "    }\n",
       "</style>\n",
       "<table border=\"1\" class=\"dataframe\">\n",
       "  <thead>\n",
       "    <tr style=\"text-align: right;\">\n",
       "      <th></th>\n",
       "      <th>Before_Value1</th>\n",
       "      <th>Value1</th>\n",
       "      <th>Value2</th>\n",
       "      <th>Value3</th>\n",
       "      <th>Value4</th>\n",
       "      <th>Value5</th>\n",
       "      <th>halved_value1</th>\n",
       "    </tr>\n",
       "  </thead>\n",
       "  <tbody>\n",
       "    <tr>\n",
       "      <th>Aaron</th>\n",
       "      <td>10</td>\n",
       "      <td>77</td>\n",
       "      <td>83</td>\n",
       "      <td>52</td>\n",
       "      <td>48</td>\n",
       "      <td>49</td>\n",
       "      <td>38.5</td>\n",
       "    </tr>\n",
       "    <tr>\n",
       "      <th>Bob</th>\n",
       "      <td>20</td>\n",
       "      <td>51</td>\n",
       "      <td>45</td>\n",
       "      <td>55</td>\n",
       "      <td>40</td>\n",
       "      <td>56</td>\n",
       "      <td>25.5</td>\n",
       "    </tr>\n",
       "    <tr>\n",
       "      <th>Charlie</th>\n",
       "      <td>30</td>\n",
       "      <td>41</td>\n",
       "      <td>52</td>\n",
       "      <td>47</td>\n",
       "      <td>85</td>\n",
       "      <td>46</td>\n",
       "      <td>20.5</td>\n",
       "    </tr>\n",
       "    <tr>\n",
       "      <th>Desmond</th>\n",
       "      <td>40</td>\n",
       "      <td>65</td>\n",
       "      <td>90</td>\n",
       "      <td>60</td>\n",
       "      <td>77</td>\n",
       "      <td>58</td>\n",
       "      <td>32.5</td>\n",
       "    </tr>\n",
       "    <tr>\n",
       "      <th>Elliot</th>\n",
       "      <td>50</td>\n",
       "      <td>60</td>\n",
       "      <td>51</td>\n",
       "      <td>82</td>\n",
       "      <td>68</td>\n",
       "      <td>69</td>\n",
       "      <td>30.0</td>\n",
       "    </tr>\n",
       "  </tbody>\n",
       "</table>\n",
       "</div>"
      ],
      "text/plain": [
       "         Before_Value1  Value1  Value2  Value3  Value4  Value5  halved_value1\n",
       "Aaron               10      77      83      52      48      49           38.5\n",
       "Bob                 20      51      45      55      40      56           25.5\n",
       "Charlie             30      41      52      47      85      46           20.5\n",
       "Desmond             40      65      90      60      77      58           32.5\n",
       "Elliot              50      60      51      82      68      69           30.0"
      ]
     },
     "execution_count": 23,
     "metadata": {},
     "output_type": "execute_result"
    }
   ],
   "source": [
    "import numpy as np\n",
    "\n",
    "df.insert(loc=0, \n",
    "          column='Before_Value1', \n",
    "          value=[10, 20, 30, 40, 50])\n",
    "df"
   ]
  },
  {
   "cell_type": "markdown",
   "id": "63e04798",
   "metadata": {},
   "source": [
    "- Assign a list of values to the new column, ensuring the lenth are the same as dataframe"
   ]
  },
  {
   "cell_type": "code",
   "execution_count": 24,
   "id": "2777a16f",
   "metadata": {},
   "outputs": [
    {
     "data": {
      "text/html": [
       "<div>\n",
       "<style scoped>\n",
       "    .dataframe tbody tr th:only-of-type {\n",
       "        vertical-align: middle;\n",
       "    }\n",
       "\n",
       "    .dataframe tbody tr th {\n",
       "        vertical-align: top;\n",
       "    }\n",
       "\n",
       "    .dataframe thead th {\n",
       "        text-align: right;\n",
       "    }\n",
       "</style>\n",
       "<table border=\"1\" class=\"dataframe\">\n",
       "  <thead>\n",
       "    <tr style=\"text-align: right;\">\n",
       "      <th></th>\n",
       "      <th>Before_Value1</th>\n",
       "      <th>Value1</th>\n",
       "      <th>Value2</th>\n",
       "      <th>Value3</th>\n",
       "      <th>Value4</th>\n",
       "      <th>Value5</th>\n",
       "      <th>halved_value1</th>\n",
       "      <th>new_value</th>\n",
       "    </tr>\n",
       "  </thead>\n",
       "  <tbody>\n",
       "    <tr>\n",
       "      <th>Aaron</th>\n",
       "      <td>10</td>\n",
       "      <td>77</td>\n",
       "      <td>83</td>\n",
       "      <td>52</td>\n",
       "      <td>48</td>\n",
       "      <td>49</td>\n",
       "      <td>38.5</td>\n",
       "      <td>45</td>\n",
       "    </tr>\n",
       "    <tr>\n",
       "      <th>Bob</th>\n",
       "      <td>20</td>\n",
       "      <td>51</td>\n",
       "      <td>45</td>\n",
       "      <td>55</td>\n",
       "      <td>40</td>\n",
       "      <td>56</td>\n",
       "      <td>25.5</td>\n",
       "      <td>14</td>\n",
       "    </tr>\n",
       "    <tr>\n",
       "      <th>Charlie</th>\n",
       "      <td>30</td>\n",
       "      <td>41</td>\n",
       "      <td>52</td>\n",
       "      <td>47</td>\n",
       "      <td>85</td>\n",
       "      <td>46</td>\n",
       "      <td>20.5</td>\n",
       "      <td>56</td>\n",
       "    </tr>\n",
       "    <tr>\n",
       "      <th>Desmond</th>\n",
       "      <td>40</td>\n",
       "      <td>65</td>\n",
       "      <td>90</td>\n",
       "      <td>60</td>\n",
       "      <td>77</td>\n",
       "      <td>58</td>\n",
       "      <td>32.5</td>\n",
       "      <td>25</td>\n",
       "    </tr>\n",
       "    <tr>\n",
       "      <th>Elliot</th>\n",
       "      <td>50</td>\n",
       "      <td>60</td>\n",
       "      <td>51</td>\n",
       "      <td>82</td>\n",
       "      <td>68</td>\n",
       "      <td>69</td>\n",
       "      <td>30.0</td>\n",
       "      <td>2</td>\n",
       "    </tr>\n",
       "  </tbody>\n",
       "</table>\n",
       "</div>"
      ],
      "text/plain": [
       "         Before_Value1  Value1  Value2  Value3  Value4  Value5  halved_value1  \\\n",
       "Aaron               10      77      83      52      48      49           38.5   \n",
       "Bob                 20      51      45      55      40      56           25.5   \n",
       "Charlie             30      41      52      47      85      46           20.5   \n",
       "Desmond             40      65      90      60      77      58           32.5   \n",
       "Elliot              50      60      51      82      68      69           30.0   \n",
       "\n",
       "         new_value  \n",
       "Aaron           45  \n",
       "Bob             14  \n",
       "Charlie         56  \n",
       "Desmond         25  \n",
       "Elliot           2  "
      ]
     },
     "execution_count": 24,
     "metadata": {},
     "output_type": "execute_result"
    }
   ],
   "source": [
    "df['new_value'] = [45, 14, 56, 25, 2]\n",
    "df"
   ]
  },
  {
   "cell_type": "markdown",
   "id": "8a7ce4b8",
   "metadata": {
    "slideshow": {
     "slide_type": "slide"
    }
   },
   "source": [
    "---\n",
    "### Removing Columns from a DataFrame\n",
    "\n",
    "- Removing rows is done with the `drop` method with the argument `axis=0`.\n",
    "- Removing columns is done with the `drop` method with the argument `axis=1`."
   ]
  },
  {
   "cell_type": "code",
   "execution_count": 25,
   "id": "5843ab20",
   "metadata": {
    "slideshow": {
     "slide_type": "slide"
    }
   },
   "outputs": [
    {
     "data": {
      "text/html": [
       "<div>\n",
       "<style scoped>\n",
       "    .dataframe tbody tr th:only-of-type {\n",
       "        vertical-align: middle;\n",
       "    }\n",
       "\n",
       "    .dataframe tbody tr th {\n",
       "        vertical-align: top;\n",
       "    }\n",
       "\n",
       "    .dataframe thead th {\n",
       "        text-align: right;\n",
       "    }\n",
       "</style>\n",
       "<table border=\"1\" class=\"dataframe\">\n",
       "  <thead>\n",
       "    <tr style=\"text-align: right;\">\n",
       "      <th></th>\n",
       "      <th>Before_Value1</th>\n",
       "      <th>Value1</th>\n",
       "      <th>Value2</th>\n",
       "      <th>Value3</th>\n",
       "      <th>Value4</th>\n",
       "      <th>Value5</th>\n",
       "      <th>halved_value1</th>\n",
       "      <th>new_value</th>\n",
       "    </tr>\n",
       "  </thead>\n",
       "  <tbody>\n",
       "    <tr>\n",
       "      <th>Aaron</th>\n",
       "      <td>10</td>\n",
       "      <td>77</td>\n",
       "      <td>83</td>\n",
       "      <td>52</td>\n",
       "      <td>48</td>\n",
       "      <td>49</td>\n",
       "      <td>38.5</td>\n",
       "      <td>45</td>\n",
       "    </tr>\n",
       "    <tr>\n",
       "      <th>Bob</th>\n",
       "      <td>20</td>\n",
       "      <td>51</td>\n",
       "      <td>45</td>\n",
       "      <td>55</td>\n",
       "      <td>40</td>\n",
       "      <td>56</td>\n",
       "      <td>25.5</td>\n",
       "      <td>14</td>\n",
       "    </tr>\n",
       "    <tr>\n",
       "      <th>Charlie</th>\n",
       "      <td>30</td>\n",
       "      <td>41</td>\n",
       "      <td>52</td>\n",
       "      <td>47</td>\n",
       "      <td>85</td>\n",
       "      <td>46</td>\n",
       "      <td>20.5</td>\n",
       "      <td>56</td>\n",
       "    </tr>\n",
       "    <tr>\n",
       "      <th>Desmond</th>\n",
       "      <td>40</td>\n",
       "      <td>65</td>\n",
       "      <td>90</td>\n",
       "      <td>60</td>\n",
       "      <td>77</td>\n",
       "      <td>58</td>\n",
       "      <td>32.5</td>\n",
       "      <td>25</td>\n",
       "    </tr>\n",
       "    <tr>\n",
       "      <th>Elliot</th>\n",
       "      <td>50</td>\n",
       "      <td>60</td>\n",
       "      <td>51</td>\n",
       "      <td>82</td>\n",
       "      <td>68</td>\n",
       "      <td>69</td>\n",
       "      <td>30.0</td>\n",
       "      <td>2</td>\n",
       "    </tr>\n",
       "  </tbody>\n",
       "</table>\n",
       "</div>"
      ],
      "text/plain": [
       "         Before_Value1  Value1  Value2  Value3  Value4  Value5  halved_value1  \\\n",
       "Aaron               10      77      83      52      48      49           38.5   \n",
       "Bob                 20      51      45      55      40      56           25.5   \n",
       "Charlie             30      41      52      47      85      46           20.5   \n",
       "Desmond             40      65      90      60      77      58           32.5   \n",
       "Elliot              50      60      51      82      68      69           30.0   \n",
       "\n",
       "         new_value  \n",
       "Aaron           45  \n",
       "Bob             14  \n",
       "Charlie         56  \n",
       "Desmond         25  \n",
       "Elliot           2  "
      ]
     },
     "execution_count": 25,
     "metadata": {},
     "output_type": "execute_result"
    }
   ],
   "source": [
    "df"
   ]
  },
  {
   "cell_type": "code",
   "execution_count": 26,
   "id": "bdcee029",
   "metadata": {
    "slideshow": {
     "slide_type": "subslide"
    }
   },
   "outputs": [
    {
     "data": {
      "text/html": [
       "<div>\n",
       "<style scoped>\n",
       "    .dataframe tbody tr th:only-of-type {\n",
       "        vertical-align: middle;\n",
       "    }\n",
       "\n",
       "    .dataframe tbody tr th {\n",
       "        vertical-align: top;\n",
       "    }\n",
       "\n",
       "    .dataframe thead th {\n",
       "        text-align: right;\n",
       "    }\n",
       "</style>\n",
       "<table border=\"1\" class=\"dataframe\">\n",
       "  <thead>\n",
       "    <tr style=\"text-align: right;\">\n",
       "      <th></th>\n",
       "      <th>Before_Value1</th>\n",
       "      <th>Value1</th>\n",
       "      <th>Value2</th>\n",
       "      <th>Value3</th>\n",
       "      <th>Value4</th>\n",
       "      <th>Value5</th>\n",
       "      <th>new_value</th>\n",
       "    </tr>\n",
       "  </thead>\n",
       "  <tbody>\n",
       "    <tr>\n",
       "      <th>Aaron</th>\n",
       "      <td>10</td>\n",
       "      <td>77</td>\n",
       "      <td>83</td>\n",
       "      <td>52</td>\n",
       "      <td>48</td>\n",
       "      <td>49</td>\n",
       "      <td>45</td>\n",
       "    </tr>\n",
       "    <tr>\n",
       "      <th>Bob</th>\n",
       "      <td>20</td>\n",
       "      <td>51</td>\n",
       "      <td>45</td>\n",
       "      <td>55</td>\n",
       "      <td>40</td>\n",
       "      <td>56</td>\n",
       "      <td>14</td>\n",
       "    </tr>\n",
       "    <tr>\n",
       "      <th>Charlie</th>\n",
       "      <td>30</td>\n",
       "      <td>41</td>\n",
       "      <td>52</td>\n",
       "      <td>47</td>\n",
       "      <td>85</td>\n",
       "      <td>46</td>\n",
       "      <td>56</td>\n",
       "    </tr>\n",
       "    <tr>\n",
       "      <th>Desmond</th>\n",
       "      <td>40</td>\n",
       "      <td>65</td>\n",
       "      <td>90</td>\n",
       "      <td>60</td>\n",
       "      <td>77</td>\n",
       "      <td>58</td>\n",
       "      <td>25</td>\n",
       "    </tr>\n",
       "    <tr>\n",
       "      <th>Elliot</th>\n",
       "      <td>50</td>\n",
       "      <td>60</td>\n",
       "      <td>51</td>\n",
       "      <td>82</td>\n",
       "      <td>68</td>\n",
       "      <td>69</td>\n",
       "      <td>2</td>\n",
       "    </tr>\n",
       "  </tbody>\n",
       "</table>\n",
       "</div>"
      ],
      "text/plain": [
       "         Before_Value1  Value1  Value2  Value3  Value4  Value5  new_value\n",
       "Aaron               10      77      83      52      48      49         45\n",
       "Bob                 20      51      45      55      40      56         14\n",
       "Charlie             30      41      52      47      85      46         56\n",
       "Desmond             40      65      90      60      77      58         25\n",
       "Elliot              50      60      51      82      68      69          2"
      ]
     },
     "execution_count": 26,
     "metadata": {},
     "output_type": "execute_result"
    }
   ],
   "source": [
    "# Dropping column Half_of_Value1\n",
    "df.drop('halved_value1', axis=1)"
   ]
  },
  {
   "cell_type": "markdown",
   "id": "dca195a5",
   "metadata": {
    "slideshow": {
     "slide_type": "fragment"
    }
   },
   "source": [
    "**Note:** However, the column is not dropped permanently. To drop a column permanently, set the `inplace` parameter to `True`."
   ]
  },
  {
   "cell_type": "code",
   "execution_count": 27,
   "id": "bcd7e90b",
   "metadata": {
    "slideshow": {
     "slide_type": "subslide"
    }
   },
   "outputs": [
    {
     "data": {
      "text/html": [
       "<div>\n",
       "<style scoped>\n",
       "    .dataframe tbody tr th:only-of-type {\n",
       "        vertical-align: middle;\n",
       "    }\n",
       "\n",
       "    .dataframe tbody tr th {\n",
       "        vertical-align: top;\n",
       "    }\n",
       "\n",
       "    .dataframe thead th {\n",
       "        text-align: right;\n",
       "    }\n",
       "</style>\n",
       "<table border=\"1\" class=\"dataframe\">\n",
       "  <thead>\n",
       "    <tr style=\"text-align: right;\">\n",
       "      <th></th>\n",
       "      <th>Before_Value1</th>\n",
       "      <th>Value1</th>\n",
       "      <th>Value2</th>\n",
       "      <th>Value3</th>\n",
       "      <th>Value4</th>\n",
       "      <th>Value5</th>\n",
       "      <th>halved_value1</th>\n",
       "      <th>new_value</th>\n",
       "    </tr>\n",
       "  </thead>\n",
       "  <tbody>\n",
       "    <tr>\n",
       "      <th>Aaron</th>\n",
       "      <td>10</td>\n",
       "      <td>77</td>\n",
       "      <td>83</td>\n",
       "      <td>52</td>\n",
       "      <td>48</td>\n",
       "      <td>49</td>\n",
       "      <td>38.5</td>\n",
       "      <td>45</td>\n",
       "    </tr>\n",
       "    <tr>\n",
       "      <th>Bob</th>\n",
       "      <td>20</td>\n",
       "      <td>51</td>\n",
       "      <td>45</td>\n",
       "      <td>55</td>\n",
       "      <td>40</td>\n",
       "      <td>56</td>\n",
       "      <td>25.5</td>\n",
       "      <td>14</td>\n",
       "    </tr>\n",
       "    <tr>\n",
       "      <th>Charlie</th>\n",
       "      <td>30</td>\n",
       "      <td>41</td>\n",
       "      <td>52</td>\n",
       "      <td>47</td>\n",
       "      <td>85</td>\n",
       "      <td>46</td>\n",
       "      <td>20.5</td>\n",
       "      <td>56</td>\n",
       "    </tr>\n",
       "    <tr>\n",
       "      <th>Desmond</th>\n",
       "      <td>40</td>\n",
       "      <td>65</td>\n",
       "      <td>90</td>\n",
       "      <td>60</td>\n",
       "      <td>77</td>\n",
       "      <td>58</td>\n",
       "      <td>32.5</td>\n",
       "      <td>25</td>\n",
       "    </tr>\n",
       "    <tr>\n",
       "      <th>Elliot</th>\n",
       "      <td>50</td>\n",
       "      <td>60</td>\n",
       "      <td>51</td>\n",
       "      <td>82</td>\n",
       "      <td>68</td>\n",
       "      <td>69</td>\n",
       "      <td>30.0</td>\n",
       "      <td>2</td>\n",
       "    </tr>\n",
       "  </tbody>\n",
       "</table>\n",
       "</div>"
      ],
      "text/plain": [
       "         Before_Value1  Value1  Value2  Value3  Value4  Value5  halved_value1  \\\n",
       "Aaron               10      77      83      52      48      49           38.5   \n",
       "Bob                 20      51      45      55      40      56           25.5   \n",
       "Charlie             30      41      52      47      85      46           20.5   \n",
       "Desmond             40      65      90      60      77      58           32.5   \n",
       "Elliot              50      60      51      82      68      69           30.0   \n",
       "\n",
       "         new_value  \n",
       "Aaron           45  \n",
       "Bob             14  \n",
       "Charlie         56  \n",
       "Desmond         25  \n",
       "Elliot           2  "
      ]
     },
     "execution_count": 27,
     "metadata": {},
     "output_type": "execute_result"
    }
   ],
   "source": [
    "# Column is not dropped unless the inplace argument is set to True\n",
    "df"
   ]
  },
  {
   "cell_type": "code",
   "execution_count": 28,
   "id": "f21e0e6c",
   "metadata": {
    "slideshow": {
     "slide_type": "subslide"
    }
   },
   "outputs": [
    {
     "data": {
      "text/html": [
       "<div>\n",
       "<style scoped>\n",
       "    .dataframe tbody tr th:only-of-type {\n",
       "        vertical-align: middle;\n",
       "    }\n",
       "\n",
       "    .dataframe tbody tr th {\n",
       "        vertical-align: top;\n",
       "    }\n",
       "\n",
       "    .dataframe thead th {\n",
       "        text-align: right;\n",
       "    }\n",
       "</style>\n",
       "<table border=\"1\" class=\"dataframe\">\n",
       "  <thead>\n",
       "    <tr style=\"text-align: right;\">\n",
       "      <th></th>\n",
       "      <th>Before_Value1</th>\n",
       "      <th>Value1</th>\n",
       "      <th>Value2</th>\n",
       "      <th>Value3</th>\n",
       "      <th>Value4</th>\n",
       "      <th>Value5</th>\n",
       "      <th>new_value</th>\n",
       "    </tr>\n",
       "  </thead>\n",
       "  <tbody>\n",
       "    <tr>\n",
       "      <th>Aaron</th>\n",
       "      <td>10</td>\n",
       "      <td>77</td>\n",
       "      <td>83</td>\n",
       "      <td>52</td>\n",
       "      <td>48</td>\n",
       "      <td>49</td>\n",
       "      <td>45</td>\n",
       "    </tr>\n",
       "    <tr>\n",
       "      <th>Bob</th>\n",
       "      <td>20</td>\n",
       "      <td>51</td>\n",
       "      <td>45</td>\n",
       "      <td>55</td>\n",
       "      <td>40</td>\n",
       "      <td>56</td>\n",
       "      <td>14</td>\n",
       "    </tr>\n",
       "    <tr>\n",
       "      <th>Charlie</th>\n",
       "      <td>30</td>\n",
       "      <td>41</td>\n",
       "      <td>52</td>\n",
       "      <td>47</td>\n",
       "      <td>85</td>\n",
       "      <td>46</td>\n",
       "      <td>56</td>\n",
       "    </tr>\n",
       "    <tr>\n",
       "      <th>Desmond</th>\n",
       "      <td>40</td>\n",
       "      <td>65</td>\n",
       "      <td>90</td>\n",
       "      <td>60</td>\n",
       "      <td>77</td>\n",
       "      <td>58</td>\n",
       "      <td>25</td>\n",
       "    </tr>\n",
       "    <tr>\n",
       "      <th>Elliot</th>\n",
       "      <td>50</td>\n",
       "      <td>60</td>\n",
       "      <td>51</td>\n",
       "      <td>82</td>\n",
       "      <td>68</td>\n",
       "      <td>69</td>\n",
       "      <td>2</td>\n",
       "    </tr>\n",
       "  </tbody>\n",
       "</table>\n",
       "</div>"
      ],
      "text/plain": [
       "         Before_Value1  Value1  Value2  Value3  Value4  Value5  new_value\n",
       "Aaron               10      77      83      52      48      49         45\n",
       "Bob                 20      51      45      55      40      56         14\n",
       "Charlie             30      41      52      47      85      46         56\n",
       "Desmond             40      65      90      60      77      58         25\n",
       "Elliot              50      60      51      82      68      69          2"
      ]
     },
     "execution_count": 28,
     "metadata": {},
     "output_type": "execute_result"
    }
   ],
   "source": [
    "# Dropping the column in-place\n",
    "df.drop('halved_value1', axis=1, inplace=True)\n",
    "df"
   ]
  },
  {
   "cell_type": "markdown",
   "id": "112bc1dc",
   "metadata": {
    "slideshow": {
     "slide_type": "fragment"
    }
   },
   "source": [
    "**Note:** Similarly, the row is only dropped when the `inplace` parameter is set to `True`."
   ]
  },
  {
   "cell_type": "code",
   "execution_count": 29,
   "id": "4fa8f053",
   "metadata": {
    "slideshow": {
     "slide_type": "subslide"
    }
   },
   "outputs": [
    {
     "data": {
      "text/html": [
       "<div>\n",
       "<style scoped>\n",
       "    .dataframe tbody tr th:only-of-type {\n",
       "        vertical-align: middle;\n",
       "    }\n",
       "\n",
       "    .dataframe tbody tr th {\n",
       "        vertical-align: top;\n",
       "    }\n",
       "\n",
       "    .dataframe thead th {\n",
       "        text-align: right;\n",
       "    }\n",
       "</style>\n",
       "<table border=\"1\" class=\"dataframe\">\n",
       "  <thead>\n",
       "    <tr style=\"text-align: right;\">\n",
       "      <th></th>\n",
       "      <th>Before_Value1</th>\n",
       "      <th>Value1</th>\n",
       "      <th>Value2</th>\n",
       "      <th>Value3</th>\n",
       "      <th>Value4</th>\n",
       "      <th>Value5</th>\n",
       "      <th>new_value</th>\n",
       "    </tr>\n",
       "  </thead>\n",
       "  <tbody>\n",
       "    <tr>\n",
       "      <th>Bob</th>\n",
       "      <td>20</td>\n",
       "      <td>51</td>\n",
       "      <td>45</td>\n",
       "      <td>55</td>\n",
       "      <td>40</td>\n",
       "      <td>56</td>\n",
       "      <td>14</td>\n",
       "    </tr>\n",
       "    <tr>\n",
       "      <th>Charlie</th>\n",
       "      <td>30</td>\n",
       "      <td>41</td>\n",
       "      <td>52</td>\n",
       "      <td>47</td>\n",
       "      <td>85</td>\n",
       "      <td>46</td>\n",
       "      <td>56</td>\n",
       "    </tr>\n",
       "    <tr>\n",
       "      <th>Desmond</th>\n",
       "      <td>40</td>\n",
       "      <td>65</td>\n",
       "      <td>90</td>\n",
       "      <td>60</td>\n",
       "      <td>77</td>\n",
       "      <td>58</td>\n",
       "      <td>25</td>\n",
       "    </tr>\n",
       "    <tr>\n",
       "      <th>Elliot</th>\n",
       "      <td>50</td>\n",
       "      <td>60</td>\n",
       "      <td>51</td>\n",
       "      <td>82</td>\n",
       "      <td>68</td>\n",
       "      <td>69</td>\n",
       "      <td>2</td>\n",
       "    </tr>\n",
       "  </tbody>\n",
       "</table>\n",
       "</div>"
      ],
      "text/plain": [
       "         Before_Value1  Value1  Value2  Value3  Value4  Value5  new_value\n",
       "Bob                 20      51      45      55      40      56         14\n",
       "Charlie             30      41      52      47      85      46         56\n",
       "Desmond             40      65      90      60      77      58         25\n",
       "Elliot              50      60      51      82      68      69          2"
      ]
     },
     "execution_count": 29,
     "metadata": {},
     "output_type": "execute_result"
    }
   ],
   "source": [
    "# Drop Aaron inplace\n",
    "df.drop('Aaron', axis=0, inplace=True)\n",
    "df"
   ]
  },
  {
   "cell_type": "markdown",
   "id": "a9c6618d",
   "metadata": {
    "slideshow": {
     "slide_type": "slide"
    }
   },
   "source": [
    "---\n",
    "### Selecting Rows\n",
    "\n",
    "- The `.loc()` method retrieves a record with the label.\n",
    "- The `.iloc()` method retrieves a record with an index value."
   ]
  },
  {
   "cell_type": "code",
   "execution_count": 30,
   "id": "8bf753a5",
   "metadata": {
    "slideshow": {
     "slide_type": "subslide"
    }
   },
   "outputs": [
    {
     "data": {
      "text/plain": [
       "Before_Value1    20\n",
       "Value1           51\n",
       "Value2           45\n",
       "Value3           55\n",
       "Value4           40\n",
       "Value5           56\n",
       "new_value        14\n",
       "Name: Bob, dtype: int64"
      ]
     },
     "execution_count": 30,
     "metadata": {},
     "output_type": "execute_result"
    }
   ],
   "source": [
    "# Retrieve (locate) the record of Bob\n",
    "df.loc['Bob']"
   ]
  },
  {
   "cell_type": "code",
   "execution_count": 31,
   "id": "4188feec",
   "metadata": {
    "slideshow": {
     "slide_type": "subslide"
    }
   },
   "outputs": [
    {
     "data": {
      "text/html": [
       "<div>\n",
       "<style scoped>\n",
       "    .dataframe tbody tr th:only-of-type {\n",
       "        vertical-align: middle;\n",
       "    }\n",
       "\n",
       "    .dataframe tbody tr th {\n",
       "        vertical-align: top;\n",
       "    }\n",
       "\n",
       "    .dataframe thead th {\n",
       "        text-align: right;\n",
       "    }\n",
       "</style>\n",
       "<table border=\"1\" class=\"dataframe\">\n",
       "  <thead>\n",
       "    <tr style=\"text-align: right;\">\n",
       "      <th></th>\n",
       "      <th>Before_Value1</th>\n",
       "      <th>Value1</th>\n",
       "      <th>Value2</th>\n",
       "      <th>Value3</th>\n",
       "      <th>Value4</th>\n",
       "      <th>Value5</th>\n",
       "      <th>new_value</th>\n",
       "    </tr>\n",
       "  </thead>\n",
       "  <tbody>\n",
       "    <tr>\n",
       "      <th>Bob</th>\n",
       "      <td>20</td>\n",
       "      <td>51</td>\n",
       "      <td>45</td>\n",
       "      <td>55</td>\n",
       "      <td>40</td>\n",
       "      <td>56</td>\n",
       "      <td>14</td>\n",
       "    </tr>\n",
       "    <tr>\n",
       "      <th>Desmond</th>\n",
       "      <td>40</td>\n",
       "      <td>65</td>\n",
       "      <td>90</td>\n",
       "      <td>60</td>\n",
       "      <td>77</td>\n",
       "      <td>58</td>\n",
       "      <td>25</td>\n",
       "    </tr>\n",
       "    <tr>\n",
       "      <th>Elliot</th>\n",
       "      <td>50</td>\n",
       "      <td>60</td>\n",
       "      <td>51</td>\n",
       "      <td>82</td>\n",
       "      <td>68</td>\n",
       "      <td>69</td>\n",
       "      <td>2</td>\n",
       "    </tr>\n",
       "  </tbody>\n",
       "</table>\n",
       "</div>"
      ],
      "text/plain": [
       "         Before_Value1  Value1  Value2  Value3  Value4  Value5  new_value\n",
       "Bob                 20      51      45      55      40      56         14\n",
       "Desmond             40      65      90      60      77      58         25\n",
       "Elliot              50      60      51      82      68      69          2"
      ]
     },
     "execution_count": 31,
     "metadata": {},
     "output_type": "execute_result"
    }
   ],
   "source": [
    "# Retrieve multiple records\n",
    "persons_of_interest = ['Bob', 'Desmond', 'Elliot']\n",
    "df.loc[persons_of_interest]\n",
    "\n",
    "# df.loc[['Bob', 'Desmond', 'Elliot']]"
   ]
  },
  {
   "cell_type": "markdown",
   "id": "0313190c",
   "metadata": {
    "slideshow": {
     "slide_type": "slide"
    }
   },
   "source": [
    "- Selecting using the index position with the `.iloc()` (index locate) method."
   ]
  },
  {
   "cell_type": "code",
   "execution_count": 32,
   "id": "823e4e06",
   "metadata": {
    "slideshow": {
     "slide_type": "slide"
    }
   },
   "outputs": [
    {
     "data": {
      "text/html": [
       "<div>\n",
       "<style scoped>\n",
       "    .dataframe tbody tr th:only-of-type {\n",
       "        vertical-align: middle;\n",
       "    }\n",
       "\n",
       "    .dataframe tbody tr th {\n",
       "        vertical-align: top;\n",
       "    }\n",
       "\n",
       "    .dataframe thead th {\n",
       "        text-align: right;\n",
       "    }\n",
       "</style>\n",
       "<table border=\"1\" class=\"dataframe\">\n",
       "  <thead>\n",
       "    <tr style=\"text-align: right;\">\n",
       "      <th></th>\n",
       "      <th>Before_Value1</th>\n",
       "      <th>Value1</th>\n",
       "      <th>Value2</th>\n",
       "      <th>Value3</th>\n",
       "      <th>Value4</th>\n",
       "      <th>Value5</th>\n",
       "      <th>new_value</th>\n",
       "    </tr>\n",
       "  </thead>\n",
       "  <tbody>\n",
       "    <tr>\n",
       "      <th>Bob</th>\n",
       "      <td>20</td>\n",
       "      <td>51</td>\n",
       "      <td>45</td>\n",
       "      <td>55</td>\n",
       "      <td>40</td>\n",
       "      <td>56</td>\n",
       "      <td>14</td>\n",
       "    </tr>\n",
       "    <tr>\n",
       "      <th>Charlie</th>\n",
       "      <td>30</td>\n",
       "      <td>41</td>\n",
       "      <td>52</td>\n",
       "      <td>47</td>\n",
       "      <td>85</td>\n",
       "      <td>46</td>\n",
       "      <td>56</td>\n",
       "    </tr>\n",
       "    <tr>\n",
       "      <th>Desmond</th>\n",
       "      <td>40</td>\n",
       "      <td>65</td>\n",
       "      <td>90</td>\n",
       "      <td>60</td>\n",
       "      <td>77</td>\n",
       "      <td>58</td>\n",
       "      <td>25</td>\n",
       "    </tr>\n",
       "    <tr>\n",
       "      <th>Elliot</th>\n",
       "      <td>50</td>\n",
       "      <td>60</td>\n",
       "      <td>51</td>\n",
       "      <td>82</td>\n",
       "      <td>68</td>\n",
       "      <td>69</td>\n",
       "      <td>2</td>\n",
       "    </tr>\n",
       "  </tbody>\n",
       "</table>\n",
       "</div>"
      ],
      "text/plain": [
       "         Before_Value1  Value1  Value2  Value3  Value4  Value5  new_value\n",
       "Bob                 20      51      45      55      40      56         14\n",
       "Charlie             30      41      52      47      85      46         56\n",
       "Desmond             40      65      90      60      77      58         25\n",
       "Elliot              50      60      51      82      68      69          2"
      ]
     },
     "execution_count": 32,
     "metadata": {},
     "output_type": "execute_result"
    }
   ],
   "source": [
    "df"
   ]
  },
  {
   "cell_type": "code",
   "execution_count": 33,
   "id": "7e4aed27",
   "metadata": {
    "slideshow": {
     "slide_type": "subslide"
    }
   },
   "outputs": [
    {
     "data": {
      "text/plain": [
       "Before_Value1    20\n",
       "Value1           51\n",
       "Value2           45\n",
       "Value3           55\n",
       "Value4           40\n",
       "Value5           56\n",
       "new_value        14\n",
       "Name: Bob, dtype: int64"
      ]
     },
     "execution_count": 33,
     "metadata": {},
     "output_type": "execute_result"
    }
   ],
   "source": [
    "# Search with the index locate method; Bob is located at index 0\n",
    "df.iloc[0]"
   ]
  },
  {
   "cell_type": "code",
   "execution_count": 34,
   "id": "8f0ebea6",
   "metadata": {
    "slideshow": {
     "slide_type": "subslide"
    }
   },
   "outputs": [
    {
     "data": {
      "text/html": [
       "<div>\n",
       "<style scoped>\n",
       "    .dataframe tbody tr th:only-of-type {\n",
       "        vertical-align: middle;\n",
       "    }\n",
       "\n",
       "    .dataframe tbody tr th {\n",
       "        vertical-align: top;\n",
       "    }\n",
       "\n",
       "    .dataframe thead th {\n",
       "        text-align: right;\n",
       "    }\n",
       "</style>\n",
       "<table border=\"1\" class=\"dataframe\">\n",
       "  <thead>\n",
       "    <tr style=\"text-align: right;\">\n",
       "      <th></th>\n",
       "      <th>Before_Value1</th>\n",
       "      <th>Value1</th>\n",
       "      <th>Value2</th>\n",
       "      <th>Value3</th>\n",
       "      <th>Value4</th>\n",
       "      <th>Value5</th>\n",
       "      <th>new_value</th>\n",
       "    </tr>\n",
       "  </thead>\n",
       "  <tbody>\n",
       "    <tr>\n",
       "      <th>Charlie</th>\n",
       "      <td>30</td>\n",
       "      <td>41</td>\n",
       "      <td>52</td>\n",
       "      <td>47</td>\n",
       "      <td>85</td>\n",
       "      <td>46</td>\n",
       "      <td>56</td>\n",
       "    </tr>\n",
       "    <tr>\n",
       "      <th>Desmond</th>\n",
       "      <td>40</td>\n",
       "      <td>65</td>\n",
       "      <td>90</td>\n",
       "      <td>60</td>\n",
       "      <td>77</td>\n",
       "      <td>58</td>\n",
       "      <td>25</td>\n",
       "    </tr>\n",
       "    <tr>\n",
       "      <th>Elliot</th>\n",
       "      <td>50</td>\n",
       "      <td>60</td>\n",
       "      <td>51</td>\n",
       "      <td>82</td>\n",
       "      <td>68</td>\n",
       "      <td>69</td>\n",
       "      <td>2</td>\n",
       "    </tr>\n",
       "  </tbody>\n",
       "</table>\n",
       "</div>"
      ],
      "text/plain": [
       "         Before_Value1  Value1  Value2  Value3  Value4  Value5  new_value\n",
       "Charlie             30      41      52      47      85      46         56\n",
       "Desmond             40      65      90      60      77      58         25\n",
       "Elliot              50      60      51      82      68      69          2"
      ]
     },
     "execution_count": 34,
     "metadata": {},
     "output_type": "execute_result"
    }
   ],
   "source": [
    "# Retrieve multiple records\n",
    "lucky_numbers = [1, 2, 3]\n",
    "df.iloc[lucky_numbers]"
   ]
  },
  {
   "cell_type": "markdown",
   "id": "788545aa",
   "metadata": {
    "slideshow": {
     "slide_type": "slide"
    }
   },
   "source": [
    "<a id='2.2.1'></a>\n",
    "### <p style=\"background-color:skyblue; font-family:newtimeroman; font-size:150%; text-align:center\">2.2.1 More DataFrame Index Details</p>"
   ]
  },
  {
   "cell_type": "markdown",
   "id": "feb0f446",
   "metadata": {
    "slideshow": {
     "slide_type": "slide"
    }
   },
   "source": [
    "- Use `reset_index()` to reset the index back to the default value.\n",
    "- The custom index would be returned as a column.\n",
    "- Set `inplace=True` for a permanent change."
   ]
  },
  {
   "cell_type": "code",
   "execution_count": 35,
   "id": "fa4ae6d7",
   "metadata": {
    "slideshow": {
     "slide_type": "subslide"
    }
   },
   "outputs": [
    {
     "data": {
      "text/plain": [
       "Index(['Bob', 'Charlie', 'Desmond', 'Elliot'], dtype='object')"
      ]
     },
     "execution_count": 35,
     "metadata": {},
     "output_type": "execute_result"
    }
   ],
   "source": [
    "# Current index\n",
    "df.index"
   ]
  },
  {
   "cell_type": "code",
   "execution_count": 36,
   "id": "0558b8f0",
   "metadata": {
    "slideshow": {
     "slide_type": "subslide"
    }
   },
   "outputs": [
    {
     "name": "stdout",
     "output_type": "stream",
     "text": [
      "RangeIndex(start=0, stop=4, step=1)\n",
      "\n",
      "     index  Before_Value1  Value1  Value2  Value3  Value4  Value5  new_value\n",
      "0      Bob             20      51      45      55      40      56         14\n",
      "1  Charlie             30      41      52      47      85      46         56\n",
      "2  Desmond             40      65      90      60      77      58         25\n",
      "3   Elliot             50      60      51      82      68      69          2\n"
     ]
    }
   ],
   "source": [
    "# Reset to the default index value instead of A to J\n",
    "df.reset_index(inplace=True)\n",
    "print(df.index)\n",
    "print()\n",
    "print(df)"
   ]
  },
  {
   "cell_type": "markdown",
   "id": "f9b9ef47",
   "metadata": {
    "slideshow": {
     "slide_type": "slide"
    }
   },
   "source": [
    "- Use the `set_index()` method to set a custom index."
   ]
  },
  {
   "cell_type": "code",
   "execution_count": 37,
   "id": "086d9114",
   "metadata": {
    "slideshow": {
     "slide_type": "subslide"
    }
   },
   "outputs": [
    {
     "data": {
      "text/html": [
       "<div>\n",
       "<style scoped>\n",
       "    .dataframe tbody tr th:only-of-type {\n",
       "        vertical-align: middle;\n",
       "    }\n",
       "\n",
       "    .dataframe tbody tr th {\n",
       "        vertical-align: top;\n",
       "    }\n",
       "\n",
       "    .dataframe thead th {\n",
       "        text-align: right;\n",
       "    }\n",
       "</style>\n",
       "<table border=\"1\" class=\"dataframe\">\n",
       "  <thead>\n",
       "    <tr style=\"text-align: right;\">\n",
       "      <th></th>\n",
       "      <th>Before_Value1</th>\n",
       "      <th>Value1</th>\n",
       "      <th>Value2</th>\n",
       "      <th>Value3</th>\n",
       "      <th>Value4</th>\n",
       "      <th>Value5</th>\n",
       "      <th>new_value</th>\n",
       "    </tr>\n",
       "    <tr>\n",
       "      <th>index</th>\n",
       "      <th></th>\n",
       "      <th></th>\n",
       "      <th></th>\n",
       "      <th></th>\n",
       "      <th></th>\n",
       "      <th></th>\n",
       "      <th></th>\n",
       "    </tr>\n",
       "  </thead>\n",
       "  <tbody>\n",
       "    <tr>\n",
       "      <th>Bob</th>\n",
       "      <td>20</td>\n",
       "      <td>51</td>\n",
       "      <td>45</td>\n",
       "      <td>55</td>\n",
       "      <td>40</td>\n",
       "      <td>56</td>\n",
       "      <td>14</td>\n",
       "    </tr>\n",
       "    <tr>\n",
       "      <th>Charlie</th>\n",
       "      <td>30</td>\n",
       "      <td>41</td>\n",
       "      <td>52</td>\n",
       "      <td>47</td>\n",
       "      <td>85</td>\n",
       "      <td>46</td>\n",
       "      <td>56</td>\n",
       "    </tr>\n",
       "    <tr>\n",
       "      <th>Desmond</th>\n",
       "      <td>40</td>\n",
       "      <td>65</td>\n",
       "      <td>90</td>\n",
       "      <td>60</td>\n",
       "      <td>77</td>\n",
       "      <td>58</td>\n",
       "      <td>25</td>\n",
       "    </tr>\n",
       "    <tr>\n",
       "      <th>Elliot</th>\n",
       "      <td>50</td>\n",
       "      <td>60</td>\n",
       "      <td>51</td>\n",
       "      <td>82</td>\n",
       "      <td>68</td>\n",
       "      <td>69</td>\n",
       "      <td>2</td>\n",
       "    </tr>\n",
       "  </tbody>\n",
       "</table>\n",
       "</div>"
      ],
      "text/plain": [
       "         Before_Value1  Value1  Value2  Value3  Value4  Value5  new_value\n",
       "index                                                                    \n",
       "Bob                 20      51      45      55      40      56         14\n",
       "Charlie             30      41      52      47      85      46         56\n",
       "Desmond             40      65      90      60      77      58         25\n",
       "Elliot              50      60      51      82      68      69          2"
      ]
     },
     "execution_count": 37,
     "metadata": {},
     "output_type": "execute_result"
    }
   ],
   "source": [
    "# Setting up a new index value\n",
    "df.set_index('index', inplace=True)\n",
    "df"
   ]
  },
  {
   "cell_type": "markdown",
   "id": "8bed56e7",
   "metadata": {
    "slideshow": {
     "slide_type": "slide"
    }
   },
   "source": [
    "<a id='2.2.2'></a>\n",
    "### <p style=\"background-color:skyblue; font-family:newtimeroman; font-size:150%; text-align:center\">2.2.2 Sorting</p>\n"
   ]
  },
  {
   "cell_type": "code",
   "execution_count": 38,
   "id": "64694351",
   "metadata": {
    "slideshow": {
     "slide_type": "subslide"
    }
   },
   "outputs": [
    {
     "data": {
      "text/html": [
       "<div>\n",
       "<style scoped>\n",
       "    .dataframe tbody tr th:only-of-type {\n",
       "        vertical-align: middle;\n",
       "    }\n",
       "\n",
       "    .dataframe tbody tr th {\n",
       "        vertical-align: top;\n",
       "    }\n",
       "\n",
       "    .dataframe thead th {\n",
       "        text-align: right;\n",
       "    }\n",
       "</style>\n",
       "<table border=\"1\" class=\"dataframe\">\n",
       "  <thead>\n",
       "    <tr style=\"text-align: right;\">\n",
       "      <th></th>\n",
       "      <th>col1</th>\n",
       "      <th>col2</th>\n",
       "    </tr>\n",
       "  </thead>\n",
       "  <tbody>\n",
       "    <tr>\n",
       "      <th>1</th>\n",
       "      <td>0.858179</td>\n",
       "      <td>0.071343</td>\n",
       "    </tr>\n",
       "    <tr>\n",
       "      <th>4</th>\n",
       "      <td>-2.292309</td>\n",
       "      <td>-1.415552</td>\n",
       "    </tr>\n",
       "    <tr>\n",
       "      <th>6</th>\n",
       "      <td>0.885829</td>\n",
       "      <td>0.631902</td>\n",
       "    </tr>\n",
       "    <tr>\n",
       "      <th>2</th>\n",
       "      <td>0.040260</td>\n",
       "      <td>-0.903123</td>\n",
       "    </tr>\n",
       "    <tr>\n",
       "      <th>3</th>\n",
       "      <td>0.175323</td>\n",
       "      <td>0.194431</td>\n",
       "    </tr>\n",
       "    <tr>\n",
       "      <th>5</th>\n",
       "      <td>-0.535249</td>\n",
       "      <td>0.777351</td>\n",
       "    </tr>\n",
       "    <tr>\n",
       "      <th>9</th>\n",
       "      <td>0.171338</td>\n",
       "      <td>-0.442851</td>\n",
       "    </tr>\n",
       "    <tr>\n",
       "      <th>8</th>\n",
       "      <td>1.704904</td>\n",
       "      <td>0.924346</td>\n",
       "    </tr>\n",
       "    <tr>\n",
       "      <th>0</th>\n",
       "      <td>-1.304861</td>\n",
       "      <td>-0.380575</td>\n",
       "    </tr>\n",
       "    <tr>\n",
       "      <th>7</th>\n",
       "      <td>-0.743627</td>\n",
       "      <td>-0.437122</td>\n",
       "    </tr>\n",
       "  </tbody>\n",
       "</table>\n",
       "</div>"
      ],
      "text/plain": [
       "       col1      col2\n",
       "1  0.858179  0.071343\n",
       "4 -2.292309 -1.415552\n",
       "6  0.885829  0.631902\n",
       "2  0.040260 -0.903123\n",
       "3  0.175323  0.194431\n",
       "5 -0.535249  0.777351\n",
       "9  0.171338 -0.442851\n",
       "8  1.704904  0.924346\n",
       "0 -1.304861 -0.380575\n",
       "7 -0.743627 -0.437122"
      ]
     },
     "execution_count": 38,
     "metadata": {},
     "output_type": "execute_result"
    }
   ],
   "source": [
    "# Create a DataFrame with unsorted index\n",
    "df = pd.DataFrame(np.random.randn(10, 2),\n",
    "                           index=[1, 4, 6, 2, 3, 5, 9, 8, 0, 7],\n",
    "                           columns=['col1', 'col2'])\n",
    "\n",
    "df"
   ]
  },
  {
   "cell_type": "code",
   "execution_count": 39,
   "id": "52262f64",
   "metadata": {
    "slideshow": {
     "slide_type": "subslide"
    }
   },
   "outputs": [
    {
     "data": {
      "text/html": [
       "<div>\n",
       "<style scoped>\n",
       "    .dataframe tbody tr th:only-of-type {\n",
       "        vertical-align: middle;\n",
       "    }\n",
       "\n",
       "    .dataframe tbody tr th {\n",
       "        vertical-align: top;\n",
       "    }\n",
       "\n",
       "    .dataframe thead th {\n",
       "        text-align: right;\n",
       "    }\n",
       "</style>\n",
       "<table border=\"1\" class=\"dataframe\">\n",
       "  <thead>\n",
       "    <tr style=\"text-align: right;\">\n",
       "      <th></th>\n",
       "      <th>col1</th>\n",
       "      <th>col2</th>\n",
       "    </tr>\n",
       "  </thead>\n",
       "  <tbody>\n",
       "    <tr>\n",
       "      <th>0</th>\n",
       "      <td>-1.304861</td>\n",
       "      <td>-0.380575</td>\n",
       "    </tr>\n",
       "    <tr>\n",
       "      <th>1</th>\n",
       "      <td>0.858179</td>\n",
       "      <td>0.071343</td>\n",
       "    </tr>\n",
       "    <tr>\n",
       "      <th>2</th>\n",
       "      <td>0.040260</td>\n",
       "      <td>-0.903123</td>\n",
       "    </tr>\n",
       "    <tr>\n",
       "      <th>3</th>\n",
       "      <td>0.175323</td>\n",
       "      <td>0.194431</td>\n",
       "    </tr>\n",
       "    <tr>\n",
       "      <th>4</th>\n",
       "      <td>-2.292309</td>\n",
       "      <td>-1.415552</td>\n",
       "    </tr>\n",
       "    <tr>\n",
       "      <th>5</th>\n",
       "      <td>-0.535249</td>\n",
       "      <td>0.777351</td>\n",
       "    </tr>\n",
       "    <tr>\n",
       "      <th>6</th>\n",
       "      <td>0.885829</td>\n",
       "      <td>0.631902</td>\n",
       "    </tr>\n",
       "    <tr>\n",
       "      <th>7</th>\n",
       "      <td>-0.743627</td>\n",
       "      <td>-0.437122</td>\n",
       "    </tr>\n",
       "    <tr>\n",
       "      <th>8</th>\n",
       "      <td>1.704904</td>\n",
       "      <td>0.924346</td>\n",
       "    </tr>\n",
       "    <tr>\n",
       "      <th>9</th>\n",
       "      <td>0.171338</td>\n",
       "      <td>-0.442851</td>\n",
       "    </tr>\n",
       "  </tbody>\n",
       "</table>\n",
       "</div>"
      ],
      "text/plain": [
       "       col1      col2\n",
       "0 -1.304861 -0.380575\n",
       "1  0.858179  0.071343\n",
       "2  0.040260 -0.903123\n",
       "3  0.175323  0.194431\n",
       "4 -2.292309 -1.415552\n",
       "5 -0.535249  0.777351\n",
       "6  0.885829  0.631902\n",
       "7 -0.743627 -0.437122\n",
       "8  1.704904  0.924346\n",
       "9  0.171338 -0.442851"
      ]
     },
     "execution_count": 39,
     "metadata": {},
     "output_type": "execute_result"
    }
   ],
   "source": [
    "# Sort by index (ascending order by default)\n",
    "df.sort_index(inplace=True)\n",
    "df"
   ]
  },
  {
   "cell_type": "code",
   "execution_count": 40,
   "id": "3379c195",
   "metadata": {
    "slideshow": {
     "slide_type": "subslide"
    }
   },
   "outputs": [
    {
     "data": {
      "text/html": [
       "<div>\n",
       "<style scoped>\n",
       "    .dataframe tbody tr th:only-of-type {\n",
       "        vertical-align: middle;\n",
       "    }\n",
       "\n",
       "    .dataframe tbody tr th {\n",
       "        vertical-align: top;\n",
       "    }\n",
       "\n",
       "    .dataframe thead th {\n",
       "        text-align: right;\n",
       "    }\n",
       "</style>\n",
       "<table border=\"1\" class=\"dataframe\">\n",
       "  <thead>\n",
       "    <tr style=\"text-align: right;\">\n",
       "      <th></th>\n",
       "      <th>col1</th>\n",
       "      <th>col2</th>\n",
       "    </tr>\n",
       "  </thead>\n",
       "  <tbody>\n",
       "    <tr>\n",
       "      <th>9</th>\n",
       "      <td>0.171338</td>\n",
       "      <td>-0.442851</td>\n",
       "    </tr>\n",
       "    <tr>\n",
       "      <th>8</th>\n",
       "      <td>1.704904</td>\n",
       "      <td>0.924346</td>\n",
       "    </tr>\n",
       "    <tr>\n",
       "      <th>7</th>\n",
       "      <td>-0.743627</td>\n",
       "      <td>-0.437122</td>\n",
       "    </tr>\n",
       "    <tr>\n",
       "      <th>6</th>\n",
       "      <td>0.885829</td>\n",
       "      <td>0.631902</td>\n",
       "    </tr>\n",
       "    <tr>\n",
       "      <th>5</th>\n",
       "      <td>-0.535249</td>\n",
       "      <td>0.777351</td>\n",
       "    </tr>\n",
       "    <tr>\n",
       "      <th>4</th>\n",
       "      <td>-2.292309</td>\n",
       "      <td>-1.415552</td>\n",
       "    </tr>\n",
       "    <tr>\n",
       "      <th>3</th>\n",
       "      <td>0.175323</td>\n",
       "      <td>0.194431</td>\n",
       "    </tr>\n",
       "    <tr>\n",
       "      <th>2</th>\n",
       "      <td>0.040260</td>\n",
       "      <td>-0.903123</td>\n",
       "    </tr>\n",
       "    <tr>\n",
       "      <th>1</th>\n",
       "      <td>0.858179</td>\n",
       "      <td>0.071343</td>\n",
       "    </tr>\n",
       "    <tr>\n",
       "      <th>0</th>\n",
       "      <td>-1.304861</td>\n",
       "      <td>-0.380575</td>\n",
       "    </tr>\n",
       "  </tbody>\n",
       "</table>\n",
       "</div>"
      ],
      "text/plain": [
       "       col1      col2\n",
       "9  0.171338 -0.442851\n",
       "8  1.704904  0.924346\n",
       "7 -0.743627 -0.437122\n",
       "6  0.885829  0.631902\n",
       "5 -0.535249  0.777351\n",
       "4 -2.292309 -1.415552\n",
       "3  0.175323  0.194431\n",
       "2  0.040260 -0.903123\n",
       "1  0.858179  0.071343\n",
       "0 -1.304861 -0.380575"
      ]
     },
     "execution_count": 40,
     "metadata": {},
     "output_type": "execute_result"
    }
   ],
   "source": [
    "# Sort by index in descending order\n",
    "df.sort_index(ascending=False, inplace=True)\n",
    "df"
   ]
  },
  {
   "cell_type": "code",
   "execution_count": 41,
   "id": "8730d287",
   "metadata": {
    "slideshow": {
     "slide_type": "subslide"
    }
   },
   "outputs": [
    {
     "data": {
      "text/html": [
       "<div>\n",
       "<style scoped>\n",
       "    .dataframe tbody tr th:only-of-type {\n",
       "        vertical-align: middle;\n",
       "    }\n",
       "\n",
       "    .dataframe tbody tr th {\n",
       "        vertical-align: top;\n",
       "    }\n",
       "\n",
       "    .dataframe thead th {\n",
       "        text-align: right;\n",
       "    }\n",
       "</style>\n",
       "<table border=\"1\" class=\"dataframe\">\n",
       "  <thead>\n",
       "    <tr style=\"text-align: right;\">\n",
       "      <th></th>\n",
       "      <th>col1</th>\n",
       "      <th>col2</th>\n",
       "    </tr>\n",
       "  </thead>\n",
       "  <tbody>\n",
       "    <tr>\n",
       "      <th>4</th>\n",
       "      <td>-2.292309</td>\n",
       "      <td>-1.415552</td>\n",
       "    </tr>\n",
       "    <tr>\n",
       "      <th>0</th>\n",
       "      <td>-1.304861</td>\n",
       "      <td>-0.380575</td>\n",
       "    </tr>\n",
       "    <tr>\n",
       "      <th>7</th>\n",
       "      <td>-0.743627</td>\n",
       "      <td>-0.437122</td>\n",
       "    </tr>\n",
       "    <tr>\n",
       "      <th>5</th>\n",
       "      <td>-0.535249</td>\n",
       "      <td>0.777351</td>\n",
       "    </tr>\n",
       "    <tr>\n",
       "      <th>2</th>\n",
       "      <td>0.040260</td>\n",
       "      <td>-0.903123</td>\n",
       "    </tr>\n",
       "    <tr>\n",
       "      <th>9</th>\n",
       "      <td>0.171338</td>\n",
       "      <td>-0.442851</td>\n",
       "    </tr>\n",
       "    <tr>\n",
       "      <th>3</th>\n",
       "      <td>0.175323</td>\n",
       "      <td>0.194431</td>\n",
       "    </tr>\n",
       "    <tr>\n",
       "      <th>1</th>\n",
       "      <td>0.858179</td>\n",
       "      <td>0.071343</td>\n",
       "    </tr>\n",
       "    <tr>\n",
       "      <th>6</th>\n",
       "      <td>0.885829</td>\n",
       "      <td>0.631902</td>\n",
       "    </tr>\n",
       "    <tr>\n",
       "      <th>8</th>\n",
       "      <td>1.704904</td>\n",
       "      <td>0.924346</td>\n",
       "    </tr>\n",
       "  </tbody>\n",
       "</table>\n",
       "</div>"
      ],
      "text/plain": [
       "       col1      col2\n",
       "4 -2.292309 -1.415552\n",
       "0 -1.304861 -0.380575\n",
       "7 -0.743627 -0.437122\n",
       "5 -0.535249  0.777351\n",
       "2  0.040260 -0.903123\n",
       "9  0.171338 -0.442851\n",
       "3  0.175323  0.194431\n",
       "1  0.858179  0.071343\n",
       "6  0.885829  0.631902\n",
       "8  1.704904  0.924346"
      ]
     },
     "execution_count": 41,
     "metadata": {},
     "output_type": "execute_result"
    }
   ],
   "source": [
    "# Sort by column values\n",
    "df.sort_values(by='col1')"
   ]
  },
  {
   "cell_type": "markdown",
   "id": "1182e7ee",
   "metadata": {
    "slideshow": {
     "slide_type": "slide"
    }
   },
   "source": [
    "<a id='2.2.3'></a>\n",
    "### <p style=\"background-color:skyblue; font-family:newtimeroman; font-size:150%; text-align:center\">2.2.3 Missing Data</p>\n",
    "\n",
    "\n",
    "- Here are some techniques to deal with missing data using Pandas.\n",
    "- Missing values are displayed as `NaN` (Not a Number) in Pandas."
   ]
  },
  {
   "cell_type": "code",
   "execution_count": 42,
   "id": "a5506ce5",
   "metadata": {
    "slideshow": {
     "slide_type": "subslide"
    }
   },
   "outputs": [
    {
     "data": {
      "text/html": [
       "<div>\n",
       "<style scoped>\n",
       "    .dataframe tbody tr th:only-of-type {\n",
       "        vertical-align: middle;\n",
       "    }\n",
       "\n",
       "    .dataframe tbody tr th {\n",
       "        vertical-align: top;\n",
       "    }\n",
       "\n",
       "    .dataframe thead th {\n",
       "        text-align: right;\n",
       "    }\n",
       "</style>\n",
       "<table border=\"1\" class=\"dataframe\">\n",
       "  <thead>\n",
       "    <tr style=\"text-align: right;\">\n",
       "      <th></th>\n",
       "      <th>Cricket</th>\n",
       "      <th>Baseball</th>\n",
       "      <th>Tennis</th>\n",
       "    </tr>\n",
       "  </thead>\n",
       "  <tbody>\n",
       "    <tr>\n",
       "      <th>0</th>\n",
       "      <td>1.0</td>\n",
       "      <td>5.0</td>\n",
       "      <td>1</td>\n",
       "    </tr>\n",
       "    <tr>\n",
       "      <th>1</th>\n",
       "      <td>2.0</td>\n",
       "      <td>NaN</td>\n",
       "      <td>2</td>\n",
       "    </tr>\n",
       "    <tr>\n",
       "      <th>2</th>\n",
       "      <td>NaN</td>\n",
       "      <td>NaN</td>\n",
       "      <td>3</td>\n",
       "    </tr>\n",
       "    <tr>\n",
       "      <th>3</th>\n",
       "      <td>4.0</td>\n",
       "      <td>5.0</td>\n",
       "      <td>4</td>\n",
       "    </tr>\n",
       "    <tr>\n",
       "      <th>4</th>\n",
       "      <td>6.0</td>\n",
       "      <td>7.0</td>\n",
       "      <td>5</td>\n",
       "    </tr>\n",
       "    <tr>\n",
       "      <th>5</th>\n",
       "      <td>7.0</td>\n",
       "      <td>2.0</td>\n",
       "      <td>6</td>\n",
       "    </tr>\n",
       "    <tr>\n",
       "      <th>6</th>\n",
       "      <td>2.0</td>\n",
       "      <td>4.0</td>\n",
       "      <td>7</td>\n",
       "    </tr>\n",
       "    <tr>\n",
       "      <th>7</th>\n",
       "      <td>NaN</td>\n",
       "      <td>5.0</td>\n",
       "      <td>8</td>\n",
       "    </tr>\n",
       "  </tbody>\n",
       "</table>\n",
       "</div>"
      ],
      "text/plain": [
       "   Cricket  Baseball  Tennis\n",
       "0      1.0       5.0       1\n",
       "1      2.0       NaN       2\n",
       "2      NaN       NaN       3\n",
       "3      4.0       5.0       4\n",
       "4      6.0       7.0       5\n",
       "5      7.0       2.0       6\n",
       "6      2.0       4.0       7\n",
       "7      NaN       5.0       8"
      ]
     },
     "execution_count": 42,
     "metadata": {},
     "output_type": "execute_result"
    }
   ],
   "source": [
    "import numpy as np\n",
    "import pandas as pd\n",
    "\n",
    "dataframe = pd.DataFrame({'Cricket':[1, 2, np.nan, 4, 6, 7, 2, np.nan],\n",
    "                          'Baseball':[5, np.nan, np.nan, 5, 7, 2, 4, 5],\n",
    "                          'Tennis':[1, 2, 3, 4, 5, 6, 7, 8]})\n",
    "\n",
    "dataframe"
   ]
  },
  {
   "cell_type": "markdown",
   "id": "97062c08",
   "metadata": {
    "slideshow": {
     "slide_type": "slide"
    }
   },
   "source": [
    "- Use the `.isnull()` method to check for missing values.\n",
    "- It is often chained to the `.sum()` method to gather the total missing values."
   ]
  },
  {
   "cell_type": "code",
   "execution_count": 43,
   "id": "aa4e7146",
   "metadata": {
    "slideshow": {
     "slide_type": "subslide"
    }
   },
   "outputs": [
    {
     "data": {
      "text/plain": [
       "Cricket     2\n",
       "Baseball    2\n",
       "Tennis      0\n",
       "dtype: int64"
      ]
     },
     "execution_count": 43,
     "metadata": {},
     "output_type": "execute_result"
    }
   ],
   "source": [
    "# dataframe.isnull()\n",
    "dataframe.isnull().sum()"
   ]
  },
  {
   "cell_type": "markdown",
   "id": "a1f084d1",
   "metadata": {
    "slideshow": {
     "slide_type": "slide"
    }
   },
   "source": [
    "- The `dropna()` method removes entries with missing values.\n",
    "- Set `axis=1` to drop columns with NaN values.\n",
    "- Set `inplace=True` for permanent change."
   ]
  },
  {
   "cell_type": "code",
   "execution_count": 44,
   "id": "44b8366e",
   "metadata": {
    "slideshow": {
     "slide_type": "subslide"
    }
   },
   "outputs": [
    {
     "data": {
      "text/html": [
       "<div>\n",
       "<style scoped>\n",
       "    .dataframe tbody tr th:only-of-type {\n",
       "        vertical-align: middle;\n",
       "    }\n",
       "\n",
       "    .dataframe tbody tr th {\n",
       "        vertical-align: top;\n",
       "    }\n",
       "\n",
       "    .dataframe thead th {\n",
       "        text-align: right;\n",
       "    }\n",
       "</style>\n",
       "<table border=\"1\" class=\"dataframe\">\n",
       "  <thead>\n",
       "    <tr style=\"text-align: right;\">\n",
       "      <th></th>\n",
       "      <th>Cricket</th>\n",
       "      <th>Baseball</th>\n",
       "      <th>Tennis</th>\n",
       "    </tr>\n",
       "  </thead>\n",
       "  <tbody>\n",
       "    <tr>\n",
       "      <th>0</th>\n",
       "      <td>1.0</td>\n",
       "      <td>5.0</td>\n",
       "      <td>1</td>\n",
       "    </tr>\n",
       "    <tr>\n",
       "      <th>3</th>\n",
       "      <td>4.0</td>\n",
       "      <td>5.0</td>\n",
       "      <td>4</td>\n",
       "    </tr>\n",
       "    <tr>\n",
       "      <th>4</th>\n",
       "      <td>6.0</td>\n",
       "      <td>7.0</td>\n",
       "      <td>5</td>\n",
       "    </tr>\n",
       "    <tr>\n",
       "      <th>5</th>\n",
       "      <td>7.0</td>\n",
       "      <td>2.0</td>\n",
       "      <td>6</td>\n",
       "    </tr>\n",
       "    <tr>\n",
       "      <th>6</th>\n",
       "      <td>2.0</td>\n",
       "      <td>4.0</td>\n",
       "      <td>7</td>\n",
       "    </tr>\n",
       "  </tbody>\n",
       "</table>\n",
       "</div>"
      ],
      "text/plain": [
       "   Cricket  Baseball  Tennis\n",
       "0      1.0       5.0       1\n",
       "3      4.0       5.0       4\n",
       "4      6.0       7.0       5\n",
       "5      7.0       2.0       6\n",
       "6      2.0       4.0       7"
      ]
     },
     "execution_count": 44,
     "metadata": {},
     "output_type": "execute_result"
    }
   ],
   "source": [
    "# Row 1, 2, 7 will be dropped\n",
    "dataframe.dropna()"
   ]
  },
  {
   "cell_type": "code",
   "execution_count": 45,
   "id": "4f354384",
   "metadata": {
    "slideshow": {
     "slide_type": "subslide"
    }
   },
   "outputs": [
    {
     "data": {
      "text/html": [
       "<div>\n",
       "<style scoped>\n",
       "    .dataframe tbody tr th:only-of-type {\n",
       "        vertical-align: middle;\n",
       "    }\n",
       "\n",
       "    .dataframe tbody tr th {\n",
       "        vertical-align: top;\n",
       "    }\n",
       "\n",
       "    .dataframe thead th {\n",
       "        text-align: right;\n",
       "    }\n",
       "</style>\n",
       "<table border=\"1\" class=\"dataframe\">\n",
       "  <thead>\n",
       "    <tr style=\"text-align: right;\">\n",
       "      <th></th>\n",
       "      <th>Tennis</th>\n",
       "    </tr>\n",
       "  </thead>\n",
       "  <tbody>\n",
       "    <tr>\n",
       "      <th>0</th>\n",
       "      <td>1</td>\n",
       "    </tr>\n",
       "    <tr>\n",
       "      <th>1</th>\n",
       "      <td>2</td>\n",
       "    </tr>\n",
       "    <tr>\n",
       "      <th>2</th>\n",
       "      <td>3</td>\n",
       "    </tr>\n",
       "    <tr>\n",
       "      <th>3</th>\n",
       "      <td>4</td>\n",
       "    </tr>\n",
       "    <tr>\n",
       "      <th>4</th>\n",
       "      <td>5</td>\n",
       "    </tr>\n",
       "    <tr>\n",
       "      <th>5</th>\n",
       "      <td>6</td>\n",
       "    </tr>\n",
       "    <tr>\n",
       "      <th>6</th>\n",
       "      <td>7</td>\n",
       "    </tr>\n",
       "    <tr>\n",
       "      <th>7</th>\n",
       "      <td>8</td>\n",
       "    </tr>\n",
       "  </tbody>\n",
       "</table>\n",
       "</div>"
      ],
      "text/plain": [
       "   Tennis\n",
       "0       1\n",
       "1       2\n",
       "2       3\n",
       "3       4\n",
       "4       5\n",
       "5       6\n",
       "6       7\n",
       "7       8"
      ]
     },
     "execution_count": 45,
     "metadata": {},
     "output_type": "execute_result"
    }
   ],
   "source": [
    "# Drop columns with NaN values; Cricket and Baseball will be dropped\n",
    "dataframe.dropna(axis=1)"
   ]
  },
  {
   "cell_type": "code",
   "execution_count": 46,
   "id": "9cee5136",
   "metadata": {
    "slideshow": {
     "slide_type": "subslide"
    }
   },
   "outputs": [
    {
     "name": "stderr",
     "output_type": "stream",
     "text": [
      "/var/folders/gd/6gqnpd597xs37gfhsfd8kq680000gp/T/ipykernel_6252/788662709.py:4: FutureWarning: A value is trying to be set on a copy of a DataFrame or Series through chained assignment using an inplace method.\n",
      "The behavior will change in pandas 3.0. This inplace method will never work because the intermediate object on which we are setting values always behaves as a copy.\n",
      "\n",
      "For example, when doing 'df[col].method(value, inplace=True)', try using 'df.method({col: value}, inplace=True)' or df[col] = df[col].method(value) instead, to perform the operation inplace on the original object.\n",
      "\n",
      "\n",
      "  dataframe['Baseball'].fillna(value=mean_baseball, inplace=True)\n"
     ]
    },
    {
     "data": {
      "text/html": [
       "<div>\n",
       "<style scoped>\n",
       "    .dataframe tbody tr th:only-of-type {\n",
       "        vertical-align: middle;\n",
       "    }\n",
       "\n",
       "    .dataframe tbody tr th {\n",
       "        vertical-align: top;\n",
       "    }\n",
       "\n",
       "    .dataframe thead th {\n",
       "        text-align: right;\n",
       "    }\n",
       "</style>\n",
       "<table border=\"1\" class=\"dataframe\">\n",
       "  <thead>\n",
       "    <tr style=\"text-align: right;\">\n",
       "      <th></th>\n",
       "      <th>Cricket</th>\n",
       "      <th>Baseball</th>\n",
       "      <th>Tennis</th>\n",
       "    </tr>\n",
       "  </thead>\n",
       "  <tbody>\n",
       "    <tr>\n",
       "      <th>0</th>\n",
       "      <td>1.0</td>\n",
       "      <td>5.000000</td>\n",
       "      <td>1</td>\n",
       "    </tr>\n",
       "    <tr>\n",
       "      <th>1</th>\n",
       "      <td>2.0</td>\n",
       "      <td>4.666667</td>\n",
       "      <td>2</td>\n",
       "    </tr>\n",
       "    <tr>\n",
       "      <th>2</th>\n",
       "      <td>NaN</td>\n",
       "      <td>4.666667</td>\n",
       "      <td>3</td>\n",
       "    </tr>\n",
       "    <tr>\n",
       "      <th>3</th>\n",
       "      <td>4.0</td>\n",
       "      <td>5.000000</td>\n",
       "      <td>4</td>\n",
       "    </tr>\n",
       "    <tr>\n",
       "      <th>4</th>\n",
       "      <td>6.0</td>\n",
       "      <td>7.000000</td>\n",
       "      <td>5</td>\n",
       "    </tr>\n",
       "    <tr>\n",
       "      <th>5</th>\n",
       "      <td>7.0</td>\n",
       "      <td>2.000000</td>\n",
       "      <td>6</td>\n",
       "    </tr>\n",
       "    <tr>\n",
       "      <th>6</th>\n",
       "      <td>2.0</td>\n",
       "      <td>4.000000</td>\n",
       "      <td>7</td>\n",
       "    </tr>\n",
       "    <tr>\n",
       "      <th>7</th>\n",
       "      <td>NaN</td>\n",
       "      <td>5.000000</td>\n",
       "      <td>8</td>\n",
       "    </tr>\n",
       "  </tbody>\n",
       "</table>\n",
       "</div>"
      ],
      "text/plain": [
       "   Cricket  Baseball  Tennis\n",
       "0      1.0  5.000000       1\n",
       "1      2.0  4.666667       2\n",
       "2      NaN  4.666667       3\n",
       "3      4.0  5.000000       4\n",
       "4      6.0  7.000000       5\n",
       "5      7.0  2.000000       6\n",
       "6      2.0  4.000000       7\n",
       "7      NaN  5.000000       8"
      ]
     },
     "execution_count": 46,
     "metadata": {},
     "output_type": "execute_result"
    }
   ],
   "source": [
    "# Replace missing values with the mean value of Baseball\n",
    "mean_baseball = dataframe['Baseball'].mean()\n",
    "\n",
    "dataframe['Baseball'].fillna(value=mean_baseball, inplace=True)\n",
    "dataframe"
   ]
  },
  {
   "cell_type": "code",
   "execution_count": 47,
   "id": "36bb36ac",
   "metadata": {
    "slideshow": {
     "slide_type": "subslide"
    }
   },
   "outputs": [
    {
     "data": {
      "text/html": [
       "<div>\n",
       "<style scoped>\n",
       "    .dataframe tbody tr th:only-of-type {\n",
       "        vertical-align: middle;\n",
       "    }\n",
       "\n",
       "    .dataframe tbody tr th {\n",
       "        vertical-align: top;\n",
       "    }\n",
       "\n",
       "    .dataframe thead th {\n",
       "        text-align: right;\n",
       "    }\n",
       "</style>\n",
       "<table border=\"1\" class=\"dataframe\">\n",
       "  <thead>\n",
       "    <tr style=\"text-align: right;\">\n",
       "      <th></th>\n",
       "      <th>Cricket</th>\n",
       "      <th>Baseball</th>\n",
       "      <th>Tennis</th>\n",
       "    </tr>\n",
       "  </thead>\n",
       "  <tbody>\n",
       "    <tr>\n",
       "      <th>0</th>\n",
       "      <td>1.0</td>\n",
       "      <td>5.000000</td>\n",
       "      <td>1</td>\n",
       "    </tr>\n",
       "    <tr>\n",
       "      <th>1</th>\n",
       "      <td>2.0</td>\n",
       "      <td>4.666667</td>\n",
       "      <td>2</td>\n",
       "    </tr>\n",
       "    <tr>\n",
       "      <th>2</th>\n",
       "      <td>0.0</td>\n",
       "      <td>4.666667</td>\n",
       "      <td>3</td>\n",
       "    </tr>\n",
       "    <tr>\n",
       "      <th>3</th>\n",
       "      <td>4.0</td>\n",
       "      <td>5.000000</td>\n",
       "      <td>4</td>\n",
       "    </tr>\n",
       "    <tr>\n",
       "      <th>4</th>\n",
       "      <td>6.0</td>\n",
       "      <td>7.000000</td>\n",
       "      <td>5</td>\n",
       "    </tr>\n",
       "    <tr>\n",
       "      <th>5</th>\n",
       "      <td>7.0</td>\n",
       "      <td>2.000000</td>\n",
       "      <td>6</td>\n",
       "    </tr>\n",
       "    <tr>\n",
       "      <th>6</th>\n",
       "      <td>2.0</td>\n",
       "      <td>4.000000</td>\n",
       "      <td>7</td>\n",
       "    </tr>\n",
       "    <tr>\n",
       "      <th>7</th>\n",
       "      <td>0.0</td>\n",
       "      <td>5.000000</td>\n",
       "      <td>8</td>\n",
       "    </tr>\n",
       "  </tbody>\n",
       "</table>\n",
       "</div>"
      ],
      "text/plain": [
       "   Cricket  Baseball  Tennis\n",
       "0      1.0  5.000000       1\n",
       "1      2.0  4.666667       2\n",
       "2      0.0  4.666667       3\n",
       "3      4.0  5.000000       4\n",
       "4      6.0  7.000000       5\n",
       "5      7.0  2.000000       6\n",
       "6      2.0  4.000000       7\n",
       "7      0.0  5.000000       8"
      ]
     },
     "execution_count": 47,
     "metadata": {},
     "output_type": "execute_result"
    }
   ],
   "source": [
    "# Replace all missing values with 0\n",
    "dataframe.fillna(value=0)"
   ]
  },
  {
   "cell_type": "markdown",
   "id": "ea3cf10d",
   "metadata": {
    "slideshow": {
     "slide_type": "slide"
    }
   },
   "source": [
    "<a id='2.2.4'></a>\n",
    "### <p style=\"background-color:skyblue; font-family:newtimeroman; font-size:150%; text-align:center\">2.2.4 Groupby</p>\n",
    "\n",
    "- Use the `.groupby()` method to group rows together based on a column name."
   ]
  },
  {
   "cell_type": "code",
   "execution_count": 48,
   "id": "7ccd1a76",
   "metadata": {
    "slideshow": {
     "slide_type": "subslide"
    }
   },
   "outputs": [
    {
     "data": {
      "text/html": [
       "<div>\n",
       "<style scoped>\n",
       "    .dataframe tbody tr th:only-of-type {\n",
       "        vertical-align: middle;\n",
       "    }\n",
       "\n",
       "    .dataframe tbody tr th {\n",
       "        vertical-align: top;\n",
       "    }\n",
       "\n",
       "    .dataframe thead th {\n",
       "        text-align: right;\n",
       "    }\n",
       "</style>\n",
       "<table border=\"1\" class=\"dataframe\">\n",
       "  <thead>\n",
       "    <tr style=\"text-align: right;\">\n",
       "      <th></th>\n",
       "      <th>CustID</th>\n",
       "      <th>CustName</th>\n",
       "      <th>ProfitInMil</th>\n",
       "    </tr>\n",
       "  </thead>\n",
       "  <tbody>\n",
       "    <tr>\n",
       "      <th>0</th>\n",
       "      <td>1001</td>\n",
       "      <td>UIPat</td>\n",
       "      <td>2.0</td>\n",
       "    </tr>\n",
       "    <tr>\n",
       "      <th>1</th>\n",
       "      <td>1001</td>\n",
       "      <td>DatRob</td>\n",
       "      <td>3.2</td>\n",
       "    </tr>\n",
       "    <tr>\n",
       "      <th>2</th>\n",
       "      <td>1002</td>\n",
       "      <td>Goog</td>\n",
       "      <td>1.2</td>\n",
       "    </tr>\n",
       "    <tr>\n",
       "      <th>3</th>\n",
       "      <td>1002</td>\n",
       "      <td>Chrysler</td>\n",
       "      <td>8.7</td>\n",
       "    </tr>\n",
       "    <tr>\n",
       "      <th>4</th>\n",
       "      <td>1003</td>\n",
       "      <td>Ford</td>\n",
       "      <td>5.4</td>\n",
       "    </tr>\n",
       "    <tr>\n",
       "      <th>5</th>\n",
       "      <td>1003</td>\n",
       "      <td>GM</td>\n",
       "      <td>3.5</td>\n",
       "    </tr>\n",
       "  </tbody>\n",
       "</table>\n",
       "</div>"
      ],
      "text/plain": [
       "  CustID  CustName  ProfitInMil\n",
       "0   1001     UIPat          2.0\n",
       "1   1001    DatRob          3.2\n",
       "2   1002      Goog          1.2\n",
       "3   1002  Chrysler          8.7\n",
       "4   1003      Ford          5.4\n",
       "5   1003        GM          3.5"
      ]
     },
     "execution_count": 48,
     "metadata": {},
     "output_type": "execute_result"
    }
   ],
   "source": [
    "# Create a Dataframe\n",
    "import pandas as pd\n",
    "\n",
    "data = {'CustID':['1001', '1001', '1002', '1002', '1003', '1003'],\n",
    "        'CustName':['UIPat', 'DatRob', 'Goog', 'Chrysler', 'Ford', 'GM'],\n",
    "        'ProfitInMil':[2.0, 3.2, 1.2, 8.7, 5.4, 3.5]}\n",
    "\n",
    "dataframe = pd.DataFrame(data)\n",
    "dataframe"
   ]
  },
  {
   "cell_type": "markdown",
   "id": "b70ca363",
   "metadata": {
    "slideshow": {
     "slide_type": "slide"
    }
   },
   "source": [
    "- Suppose we want to group by `CustID`, after we perform the grouping, it will create a `DataFrameGroupBy` object."
   ]
  },
  {
   "cell_type": "code",
   "execution_count": 49,
   "id": "844a0c97",
   "metadata": {
    "slideshow": {
     "slide_type": "subslide"
    }
   },
   "outputs": [
    {
     "data": {
      "text/plain": [
       "<pandas.core.groupby.generic.DataFrameGroupBy object at 0x149051c10>"
      ]
     },
     "execution_count": 49,
     "metadata": {},
     "output_type": "execute_result"
    }
   ],
   "source": [
    "# DataFrameGroupBy object\n",
    "dataframe.groupby('CustID')"
   ]
  },
  {
   "cell_type": "markdown",
   "id": "dc7dfa2b",
   "metadata": {
    "slideshow": {
     "slide_type": "slide"
    }
   },
   "source": [
    "- This GroupBy object can be used to calculate various aggregations such as the average, min, standard deviation etc.\n",
    "\n",
    "For example:"
   ]
  },
  {
   "cell_type": "code",
   "execution_count": 50,
   "id": "509eebdc",
   "metadata": {
    "slideshow": {
     "slide_type": "subslide"
    }
   },
   "outputs": [
    {
     "data": {
      "text/html": [
       "<div>\n",
       "<style scoped>\n",
       "    .dataframe tbody tr th:only-of-type {\n",
       "        vertical-align: middle;\n",
       "    }\n",
       "\n",
       "    .dataframe tbody tr th {\n",
       "        vertical-align: top;\n",
       "    }\n",
       "\n",
       "    .dataframe thead th {\n",
       "        text-align: right;\n",
       "    }\n",
       "</style>\n",
       "<table border=\"1\" class=\"dataframe\">\n",
       "  <thead>\n",
       "    <tr style=\"text-align: right;\">\n",
       "      <th></th>\n",
       "      <th>ProfitInMil</th>\n",
       "    </tr>\n",
       "    <tr>\n",
       "      <th>CustID</th>\n",
       "      <th></th>\n",
       "    </tr>\n",
       "  </thead>\n",
       "  <tbody>\n",
       "    <tr>\n",
       "      <th>1001</th>\n",
       "      <td>2.60</td>\n",
       "    </tr>\n",
       "    <tr>\n",
       "      <th>1002</th>\n",
       "      <td>4.95</td>\n",
       "    </tr>\n",
       "    <tr>\n",
       "      <th>1003</th>\n",
       "      <td>4.45</td>\n",
       "    </tr>\n",
       "  </tbody>\n",
       "</table>\n",
       "</div>"
      ],
      "text/plain": [
       "        ProfitInMil\n",
       "CustID             \n",
       "1001           2.60\n",
       "1002           4.95\n",
       "1003           4.45"
      ]
     },
     "execution_count": 50,
     "metadata": {},
     "output_type": "execute_result"
    }
   ],
   "source": [
    "CustID_grouped = dataframe.groupby(\"CustID\")\n",
    "# CustID_grouped.mean()\n",
    "CustID_grouped.mean(numeric_only='False')"
   ]
  },
  {
   "cell_type": "code",
   "execution_count": 51,
   "id": "be479fef",
   "metadata": {
    "slideshow": {
     "slide_type": "subslide"
    }
   },
   "outputs": [
    {
     "data": {
      "text/html": [
       "<div>\n",
       "<style scoped>\n",
       "    .dataframe tbody tr th:only-of-type {\n",
       "        vertical-align: middle;\n",
       "    }\n",
       "\n",
       "    .dataframe tbody tr th {\n",
       "        vertical-align: top;\n",
       "    }\n",
       "\n",
       "    .dataframe thead th {\n",
       "        text-align: right;\n",
       "    }\n",
       "</style>\n",
       "<table border=\"1\" class=\"dataframe\">\n",
       "  <thead>\n",
       "    <tr style=\"text-align: right;\">\n",
       "      <th></th>\n",
       "      <th>ProfitInMil</th>\n",
       "    </tr>\n",
       "    <tr>\n",
       "      <th>CustID</th>\n",
       "      <th></th>\n",
       "    </tr>\n",
       "  </thead>\n",
       "  <tbody>\n",
       "    <tr>\n",
       "      <th>1001</th>\n",
       "      <td>0.848528</td>\n",
       "    </tr>\n",
       "    <tr>\n",
       "      <th>1002</th>\n",
       "      <td>5.303301</td>\n",
       "    </tr>\n",
       "    <tr>\n",
       "      <th>1003</th>\n",
       "      <td>1.343503</td>\n",
       "    </tr>\n",
       "  </tbody>\n",
       "</table>\n",
       "</div>"
      ],
      "text/plain": [
       "        ProfitInMil\n",
       "CustID             \n",
       "1001       0.848528\n",
       "1002       5.303301\n",
       "1003       1.343503"
      ]
     },
     "execution_count": 51,
     "metadata": {},
     "output_type": "execute_result"
    }
   ],
   "source": [
    "# Standard Deviation\n",
    "# CustID_grouped.std()\n",
    "CustID_grouped.std(numeric_only='False')"
   ]
  },
  {
   "cell_type": "markdown",
   "id": "ba8cefcf",
   "metadata": {
    "slideshow": {
     "slide_type": "slide"
    }
   },
   "source": [
    "- The `describe()` method provides some basic statistical description about the data."
   ]
  },
  {
   "cell_type": "code",
   "execution_count": 52,
   "id": "722f4176",
   "metadata": {
    "slideshow": {
     "slide_type": "subslide"
    }
   },
   "outputs": [
    {
     "data": {
      "text/html": [
       "<div>\n",
       "<style scoped>\n",
       "    .dataframe tbody tr th:only-of-type {\n",
       "        vertical-align: middle;\n",
       "    }\n",
       "\n",
       "    .dataframe tbody tr th {\n",
       "        vertical-align: top;\n",
       "    }\n",
       "\n",
       "    .dataframe thead th {\n",
       "        text-align: right;\n",
       "    }\n",
       "</style>\n",
       "<table border=\"1\" class=\"dataframe\">\n",
       "  <thead>\n",
       "    <tr style=\"text-align: right;\">\n",
       "      <th></th>\n",
       "      <th>ProfitInMil</th>\n",
       "    </tr>\n",
       "  </thead>\n",
       "  <tbody>\n",
       "    <tr>\n",
       "      <th>count</th>\n",
       "      <td>6.000000</td>\n",
       "    </tr>\n",
       "    <tr>\n",
       "      <th>mean</th>\n",
       "      <td>4.000000</td>\n",
       "    </tr>\n",
       "    <tr>\n",
       "      <th>std</th>\n",
       "      <td>2.712195</td>\n",
       "    </tr>\n",
       "    <tr>\n",
       "      <th>min</th>\n",
       "      <td>1.200000</td>\n",
       "    </tr>\n",
       "    <tr>\n",
       "      <th>25%</th>\n",
       "      <td>2.300000</td>\n",
       "    </tr>\n",
       "    <tr>\n",
       "      <th>50%</th>\n",
       "      <td>3.350000</td>\n",
       "    </tr>\n",
       "    <tr>\n",
       "      <th>75%</th>\n",
       "      <td>4.925000</td>\n",
       "    </tr>\n",
       "    <tr>\n",
       "      <th>max</th>\n",
       "      <td>8.700000</td>\n",
       "    </tr>\n",
       "  </tbody>\n",
       "</table>\n",
       "</div>"
      ],
      "text/plain": [
       "       ProfitInMil\n",
       "count     6.000000\n",
       "mean      4.000000\n",
       "std       2.712195\n",
       "min       1.200000\n",
       "25%       2.300000\n",
       "50%       3.350000\n",
       "75%       4.925000\n",
       "max       8.700000"
      ]
     },
     "execution_count": 52,
     "metadata": {},
     "output_type": "execute_result"
    }
   ],
   "source": [
    "# dataframe\n",
    "dataframe.describe()"
   ]
  },
  {
   "cell_type": "code",
   "execution_count": 53,
   "id": "5585fe6e",
   "metadata": {
    "slideshow": {
     "slide_type": "subslide"
    }
   },
   "outputs": [
    {
     "data": {
      "text/html": [
       "<div>\n",
       "<style scoped>\n",
       "    .dataframe tbody tr th:only-of-type {\n",
       "        vertical-align: middle;\n",
       "    }\n",
       "\n",
       "    .dataframe tbody tr th {\n",
       "        vertical-align: top;\n",
       "    }\n",
       "\n",
       "    .dataframe thead tr th {\n",
       "        text-align: left;\n",
       "    }\n",
       "\n",
       "    .dataframe thead tr:last-of-type th {\n",
       "        text-align: right;\n",
       "    }\n",
       "</style>\n",
       "<table border=\"1\" class=\"dataframe\">\n",
       "  <thead>\n",
       "    <tr>\n",
       "      <th></th>\n",
       "      <th colspan=\"8\" halign=\"left\">ProfitInMil</th>\n",
       "    </tr>\n",
       "    <tr>\n",
       "      <th></th>\n",
       "      <th>count</th>\n",
       "      <th>mean</th>\n",
       "      <th>std</th>\n",
       "      <th>min</th>\n",
       "      <th>25%</th>\n",
       "      <th>50%</th>\n",
       "      <th>75%</th>\n",
       "      <th>max</th>\n",
       "    </tr>\n",
       "    <tr>\n",
       "      <th>CustID</th>\n",
       "      <th></th>\n",
       "      <th></th>\n",
       "      <th></th>\n",
       "      <th></th>\n",
       "      <th></th>\n",
       "      <th></th>\n",
       "      <th></th>\n",
       "      <th></th>\n",
       "    </tr>\n",
       "  </thead>\n",
       "  <tbody>\n",
       "    <tr>\n",
       "      <th>1001</th>\n",
       "      <td>2.0</td>\n",
       "      <td>2.60</td>\n",
       "      <td>0.848528</td>\n",
       "      <td>2.0</td>\n",
       "      <td>2.300</td>\n",
       "      <td>2.60</td>\n",
       "      <td>2.900</td>\n",
       "      <td>3.2</td>\n",
       "    </tr>\n",
       "    <tr>\n",
       "      <th>1002</th>\n",
       "      <td>2.0</td>\n",
       "      <td>4.95</td>\n",
       "      <td>5.303301</td>\n",
       "      <td>1.2</td>\n",
       "      <td>3.075</td>\n",
       "      <td>4.95</td>\n",
       "      <td>6.825</td>\n",
       "      <td>8.7</td>\n",
       "    </tr>\n",
       "    <tr>\n",
       "      <th>1003</th>\n",
       "      <td>2.0</td>\n",
       "      <td>4.45</td>\n",
       "      <td>1.343503</td>\n",
       "      <td>3.5</td>\n",
       "      <td>3.975</td>\n",
       "      <td>4.45</td>\n",
       "      <td>4.925</td>\n",
       "      <td>5.4</td>\n",
       "    </tr>\n",
       "  </tbody>\n",
       "</table>\n",
       "</div>"
      ],
      "text/plain": [
       "       ProfitInMil                                              \n",
       "             count  mean       std  min    25%   50%    75%  max\n",
       "CustID                                                          \n",
       "1001           2.0  2.60  0.848528  2.0  2.300  2.60  2.900  3.2\n",
       "1002           2.0  4.95  5.303301  1.2  3.075  4.95  6.825  8.7\n",
       "1003           2.0  4.45  1.343503  3.5  3.975  4.45  4.925  5.4"
      ]
     },
     "execution_count": 53,
     "metadata": {},
     "output_type": "execute_result"
    }
   ],
   "source": [
    "# Provides some basic descriptive analytics that describe the data\n",
    "CustID_grouped.describe()"
   ]
  },
  {
   "cell_type": "markdown",
   "id": "9af6f732",
   "metadata": {
    "slideshow": {
     "slide_type": "slide"
    }
   },
   "source": [
    "---\n",
    "## Table Joins\n",
    "\n",
    "- DataFrames can be joined to produce a resultset using the `merge()` method."
   ]
  },
  {
   "cell_type": "code",
   "execution_count": 54,
   "id": "3630ca36",
   "metadata": {
    "slideshow": {
     "slide_type": "subslide"
    }
   },
   "outputs": [
    {
     "data": {
      "text/html": [
       "<div>\n",
       "<style scoped>\n",
       "    .dataframe tbody tr th:only-of-type {\n",
       "        vertical-align: middle;\n",
       "    }\n",
       "\n",
       "    .dataframe tbody tr th {\n",
       "        vertical-align: top;\n",
       "    }\n",
       "\n",
       "    .dataframe thead th {\n",
       "        text-align: right;\n",
       "    }\n",
       "</style>\n",
       "<table border=\"1\" class=\"dataframe\">\n",
       "  <thead>\n",
       "    <tr style=\"text-align: right;\">\n",
       "      <th></th>\n",
       "      <th>CustID</th>\n",
       "      <th>Q1</th>\n",
       "      <th>Q2</th>\n",
       "    </tr>\n",
       "  </thead>\n",
       "  <tbody>\n",
       "    <tr>\n",
       "      <th>0</th>\n",
       "      <td>1001</td>\n",
       "      <td>101</td>\n",
       "      <td>201</td>\n",
       "    </tr>\n",
       "    <tr>\n",
       "      <th>1</th>\n",
       "      <td>1002</td>\n",
       "      <td>102</td>\n",
       "      <td>202</td>\n",
       "    </tr>\n",
       "    <tr>\n",
       "      <th>2</th>\n",
       "      <td>1003</td>\n",
       "      <td>103</td>\n",
       "      <td>203</td>\n",
       "    </tr>\n",
       "    <tr>\n",
       "      <th>3</th>\n",
       "      <td>1004</td>\n",
       "      <td>104</td>\n",
       "      <td>204</td>\n",
       "    </tr>\n",
       "  </tbody>\n",
       "</table>\n",
       "</div>"
      ],
      "text/plain": [
       "  CustID   Q1   Q2\n",
       "0   1001  101  201\n",
       "1   1002  102  202\n",
       "2   1003  103  203\n",
       "3   1004  104  204"
      ]
     },
     "execution_count": 54,
     "metadata": {},
     "output_type": "execute_result"
    }
   ],
   "source": [
    "Table1 = pd.DataFrame({'CustID': ['1001', '1002', '1003', '1004'],\n",
    "                       'Q1': ['101', '102', '103', '104'],\n",
    "                       'Q2': ['201', '202', '203', '204']})\n",
    "Table1"
   ]
  },
  {
   "cell_type": "code",
   "execution_count": 55,
   "id": "d0a1e337",
   "metadata": {
    "slideshow": {
     "slide_type": "subslide"
    }
   },
   "outputs": [
    {
     "data": {
      "text/html": [
       "<div>\n",
       "<style scoped>\n",
       "    .dataframe tbody tr th:only-of-type {\n",
       "        vertical-align: middle;\n",
       "    }\n",
       "\n",
       "    .dataframe tbody tr th {\n",
       "        vertical-align: top;\n",
       "    }\n",
       "\n",
       "    .dataframe thead th {\n",
       "        text-align: right;\n",
       "    }\n",
       "</style>\n",
       "<table border=\"1\" class=\"dataframe\">\n",
       "  <thead>\n",
       "    <tr style=\"text-align: right;\">\n",
       "      <th></th>\n",
       "      <th>CustID</th>\n",
       "      <th>Q3</th>\n",
       "      <th>Q4</th>\n",
       "    </tr>\n",
       "  </thead>\n",
       "  <tbody>\n",
       "    <tr>\n",
       "      <th>0</th>\n",
       "      <td>1001</td>\n",
       "      <td>301</td>\n",
       "      <td>401</td>\n",
       "    </tr>\n",
       "    <tr>\n",
       "      <th>1</th>\n",
       "      <td>1002</td>\n",
       "      <td>302</td>\n",
       "      <td>402</td>\n",
       "    </tr>\n",
       "    <tr>\n",
       "      <th>2</th>\n",
       "      <td>1003</td>\n",
       "      <td>303</td>\n",
       "      <td>403</td>\n",
       "    </tr>\n",
       "    <tr>\n",
       "      <th>3</th>\n",
       "      <td>1004</td>\n",
       "      <td>304</td>\n",
       "      <td>404</td>\n",
       "    </tr>\n",
       "  </tbody>\n",
       "</table>\n",
       "</div>"
      ],
      "text/plain": [
       "  CustID   Q3   Q4\n",
       "0   1001  301  401\n",
       "1   1002  302  402\n",
       "2   1003  303  403\n",
       "3   1004  304  404"
      ]
     },
     "execution_count": 55,
     "metadata": {},
     "output_type": "execute_result"
    }
   ],
   "source": [
    "Table2 = pd.DataFrame({'CustID': ['1001', '1002', '1003', '1004'],\n",
    "                       'Q3': ['301', '302', '303', '304'],\n",
    "                       'Q4': ['401', '402', '403', '404']})\n",
    "Table2"
   ]
  },
  {
   "cell_type": "code",
   "execution_count": 56,
   "id": "4de7ccdb",
   "metadata": {
    "slideshow": {
     "slide_type": "subslide"
    }
   },
   "outputs": [
    {
     "data": {
      "text/html": [
       "<div>\n",
       "<style scoped>\n",
       "    .dataframe tbody tr th:only-of-type {\n",
       "        vertical-align: middle;\n",
       "    }\n",
       "\n",
       "    .dataframe tbody tr th {\n",
       "        vertical-align: top;\n",
       "    }\n",
       "\n",
       "    .dataframe thead th {\n",
       "        text-align: right;\n",
       "    }\n",
       "</style>\n",
       "<table border=\"1\" class=\"dataframe\">\n",
       "  <thead>\n",
       "    <tr style=\"text-align: right;\">\n",
       "      <th></th>\n",
       "      <th>CustID</th>\n",
       "      <th>Q1</th>\n",
       "      <th>Q2</th>\n",
       "      <th>Q3</th>\n",
       "      <th>Q4</th>\n",
       "    </tr>\n",
       "  </thead>\n",
       "  <tbody>\n",
       "    <tr>\n",
       "      <th>0</th>\n",
       "      <td>1001</td>\n",
       "      <td>101</td>\n",
       "      <td>201</td>\n",
       "      <td>301</td>\n",
       "      <td>401</td>\n",
       "    </tr>\n",
       "    <tr>\n",
       "      <th>1</th>\n",
       "      <td>1002</td>\n",
       "      <td>102</td>\n",
       "      <td>202</td>\n",
       "      <td>302</td>\n",
       "      <td>402</td>\n",
       "    </tr>\n",
       "    <tr>\n",
       "      <th>2</th>\n",
       "      <td>1003</td>\n",
       "      <td>103</td>\n",
       "      <td>203</td>\n",
       "      <td>303</td>\n",
       "      <td>403</td>\n",
       "    </tr>\n",
       "    <tr>\n",
       "      <th>3</th>\n",
       "      <td>1004</td>\n",
       "      <td>104</td>\n",
       "      <td>204</td>\n",
       "      <td>304</td>\n",
       "      <td>404</td>\n",
       "    </tr>\n",
       "  </tbody>\n",
       "</table>\n",
       "</div>"
      ],
      "text/plain": [
       "  CustID   Q1   Q2   Q3   Q4\n",
       "0   1001  101  201  301  401\n",
       "1   1002  102  202  302  402\n",
       "2   1003  103  203  303  403\n",
       "3   1004  104  204  304  404"
      ]
     },
     "execution_count": 56,
     "metadata": {},
     "output_type": "execute_result"
    }
   ],
   "source": [
    "# Merge using inner join\n",
    "pd.merge(Table1, Table2, how='inner', on='CustID')"
   ]
  },
  {
   "cell_type": "markdown",
   "id": "905495dc",
   "metadata": {
    "slideshow": {
     "slide_type": "slide"
    }
   },
   "source": [
    "<a id='2.2.5'></a>\n",
    "### <p style=\"background-color:skyblue; font-family:newtimeroman; font-size:150%; text-align:center\">2.2.5 Operations</p>\n",
    "\n",
    "### The `head()` Method\n",
    "\n",
    "- The `head()` method previews the first 5 lines of a DataFrame.\n",
    "- The `columns` attribute returns a list of column names."
   ]
  },
  {
   "cell_type": "code",
   "execution_count": 57,
   "id": "35e801f1",
   "metadata": {
    "slideshow": {
     "slide_type": "subslide"
    }
   },
   "outputs": [
    {
     "data": {
      "text/html": [
       "<div>\n",
       "<style scoped>\n",
       "    .dataframe tbody tr th:only-of-type {\n",
       "        vertical-align: middle;\n",
       "    }\n",
       "\n",
       "    .dataframe tbody tr th {\n",
       "        vertical-align: top;\n",
       "    }\n",
       "\n",
       "    .dataframe thead th {\n",
       "        text-align: right;\n",
       "    }\n",
       "</style>\n",
       "<table border=\"1\" class=\"dataframe\">\n",
       "  <thead>\n",
       "    <tr style=\"text-align: right;\">\n",
       "      <th></th>\n",
       "      <th>custID</th>\n",
       "      <th>SaleType</th>\n",
       "      <th>SalesCode</th>\n",
       "    </tr>\n",
       "  </thead>\n",
       "  <tbody>\n",
       "    <tr>\n",
       "      <th>0</th>\n",
       "      <td>1</td>\n",
       "      <td>big</td>\n",
       "      <td>121</td>\n",
       "    </tr>\n",
       "    <tr>\n",
       "      <th>1</th>\n",
       "      <td>2</td>\n",
       "      <td>small</td>\n",
       "      <td>131</td>\n",
       "    </tr>\n",
       "    <tr>\n",
       "      <th>2</th>\n",
       "      <td>3</td>\n",
       "      <td>medium</td>\n",
       "      <td>141</td>\n",
       "    </tr>\n",
       "    <tr>\n",
       "      <th>3</th>\n",
       "      <td>4</td>\n",
       "      <td>big</td>\n",
       "      <td>151</td>\n",
       "    </tr>\n",
       "    <tr>\n",
       "      <th>4</th>\n",
       "      <td>5</td>\n",
       "      <td>small</td>\n",
       "      <td>161</td>\n",
       "    </tr>\n",
       "    <tr>\n",
       "      <th>5</th>\n",
       "      <td>6</td>\n",
       "      <td>small</td>\n",
       "      <td>171</td>\n",
       "    </tr>\n",
       "  </tbody>\n",
       "</table>\n",
       "</div>"
      ],
      "text/plain": [
       "   custID SaleType SalesCode\n",
       "0       1      big       121\n",
       "1       2    small       131\n",
       "2       3   medium       141\n",
       "3       4      big       151\n",
       "4       5    small       161\n",
       "5       6    small       171"
      ]
     },
     "execution_count": 57,
     "metadata": {},
     "output_type": "execute_result"
    }
   ],
   "source": [
    "import pandas as pd\n",
    "\n",
    "dataframe = pd.DataFrame({'custID':[1, 2, 3, 4, 5, 6],\n",
    "                          'SaleType':['big', 'small', 'medium', 'big', 'small', 'small'],\n",
    "                          'SalesCode':['121', '131', '141', '151', '161', '171']})\n",
    "dataframe.head(7)"
   ]
  },
  {
   "cell_type": "code",
   "execution_count": 58,
   "id": "ae52645a",
   "metadata": {
    "slideshow": {
     "slide_type": "subslide"
    }
   },
   "outputs": [
    {
     "data": {
      "text/plain": [
       "Index(['custID', 'SaleType', 'SalesCode'], dtype='object')"
      ]
     },
     "execution_count": 58,
     "metadata": {},
     "output_type": "execute_result"
    }
   ],
   "source": [
    "dataframe.columns"
   ]
  },
  {
   "cell_type": "markdown",
   "id": "f47be704",
   "metadata": {
    "slideshow": {
     "slide_type": "slide"
    }
   },
   "source": [
    "### Information on Unique Values"
   ]
  },
  {
   "cell_type": "code",
   "execution_count": 59,
   "id": "aec34d0c",
   "metadata": {
    "slideshow": {
     "slide_type": "subslide"
    }
   },
   "outputs": [
    {
     "data": {
      "text/plain": [
       "array(['big', 'small', 'medium'], dtype=object)"
      ]
     },
     "execution_count": 59,
     "metadata": {},
     "output_type": "execute_result"
    }
   ],
   "source": [
    "# Unique values in the SaleType column\n",
    "# dataframe\n",
    "dataframe['SaleType'].unique()"
   ]
  },
  {
   "cell_type": "code",
   "execution_count": 60,
   "id": "236b12f5",
   "metadata": {
    "slideshow": {
     "slide_type": "subslide"
    }
   },
   "outputs": [
    {
     "data": {
      "text/plain": [
       "3"
      ]
     },
     "execution_count": 60,
     "metadata": {},
     "output_type": "execute_result"
    }
   ],
   "source": [
    "# Number of unique values in the SaleType column\n",
    "dataframe['SaleType'].nunique()"
   ]
  },
  {
   "cell_type": "code",
   "execution_count": 61,
   "id": "897f8565",
   "metadata": {
    "slideshow": {
     "slide_type": "subslide"
    }
   },
   "outputs": [
    {
     "data": {
      "text/plain": [
       "SaleType\n",
       "small     3\n",
       "big       2\n",
       "medium    1\n",
       "Name: count, dtype: int64"
      ]
     },
     "execution_count": 61,
     "metadata": {},
     "output_type": "execute_result"
    }
   ],
   "source": [
    "# Value counts for each value in the SaleType column\n",
    "dataframe['SaleType'].value_counts()"
   ]
  },
  {
   "cell_type": "markdown",
   "id": "1c350bf9",
   "metadata": {
    "slideshow": {
     "slide_type": "slide"
    }
   },
   "source": [
    "<a id='2.2.6'></a>\n",
    "### <p style=\"background-color:skyblue; font-family:newtimeroman; font-size:150%; text-align:center\">2.2.6 Data Input and Output</p>\n",
    "\n",
    "- Create dataframes from external sources (i.e. CSV and Excel) with the `pd.read_csv()` / `pd.read_excel()` method.\n",
    "- The resultant dataframe could be saved to an external csv file with the `to_csv()` / `to_excel()` method."
   ]
  },
  {
   "cell_type": "code",
   "execution_count": 62,
   "id": "6ded8c15",
   "metadata": {
    "slideshow": {
     "slide_type": "subslide"
    }
   },
   "outputs": [
    {
     "data": {
      "text/html": [
       "<div>\n",
       "<style scoped>\n",
       "    .dataframe tbody tr th:only-of-type {\n",
       "        vertical-align: middle;\n",
       "    }\n",
       "\n",
       "    .dataframe tbody tr th {\n",
       "        vertical-align: top;\n",
       "    }\n",
       "\n",
       "    .dataframe thead th {\n",
       "        text-align: right;\n",
       "    }\n",
       "</style>\n",
       "<table border=\"1\" class=\"dataframe\">\n",
       "  <thead>\n",
       "    <tr style=\"text-align: right;\">\n",
       "      <th></th>\n",
       "      <th>town</th>\n",
       "      <th>flat_type</th>\n",
       "      <th>block</th>\n",
       "      <th>street_name</th>\n",
       "      <th>storey_range</th>\n",
       "      <th>floor_area_sqm</th>\n",
       "      <th>flat_model</th>\n",
       "      <th>lease_commence_date</th>\n",
       "      <th>remaining_lease</th>\n",
       "      <th>resale_price</th>\n",
       "    </tr>\n",
       "  </thead>\n",
       "  <tbody>\n",
       "    <tr>\n",
       "      <th>0</th>\n",
       "      <td>WOODLANDS</td>\n",
       "      <td>5 ROOM</td>\n",
       "      <td>9</td>\n",
       "      <td>MARSILING DR</td>\n",
       "      <td>16 TO 18</td>\n",
       "      <td>120</td>\n",
       "      <td>Standard</td>\n",
       "      <td>1976</td>\n",
       "      <td>57 years 10 months</td>\n",
       "      <td>355000</td>\n",
       "    </tr>\n",
       "    <tr>\n",
       "      <th>1</th>\n",
       "      <td>PASIR RIS</td>\n",
       "      <td>EXECUTIVE</td>\n",
       "      <td>101</td>\n",
       "      <td>PASIR RIS ST 12</td>\n",
       "      <td>01 TO 03</td>\n",
       "      <td>149</td>\n",
       "      <td>Maisonette</td>\n",
       "      <td>1988</td>\n",
       "      <td>68 years 08 months</td>\n",
       "      <td>580000</td>\n",
       "    </tr>\n",
       "    <tr>\n",
       "      <th>2</th>\n",
       "      <td>BUKIT BATOK</td>\n",
       "      <td>3 ROOM</td>\n",
       "      <td>135</td>\n",
       "      <td>BT BATOK WEST AVE 6</td>\n",
       "      <td>10 TO 12</td>\n",
       "      <td>68</td>\n",
       "      <td>New Generation</td>\n",
       "      <td>1984</td>\n",
       "      <td>64 years 06 months</td>\n",
       "      <td>262000</td>\n",
       "    </tr>\n",
       "    <tr>\n",
       "      <th>3</th>\n",
       "      <td>WOODLANDS</td>\n",
       "      <td>5 ROOM</td>\n",
       "      <td>553</td>\n",
       "      <td>WOODLANDS DR 44</td>\n",
       "      <td>10 TO 12</td>\n",
       "      <td>120</td>\n",
       "      <td>Improved</td>\n",
       "      <td>2000</td>\n",
       "      <td>80 years 05 months</td>\n",
       "      <td>438000</td>\n",
       "    </tr>\n",
       "    <tr>\n",
       "      <th>4</th>\n",
       "      <td>YISHUN</td>\n",
       "      <td>2 ROOM</td>\n",
       "      <td>459</td>\n",
       "      <td>YISHUN AVE 11</td>\n",
       "      <td>04 TO 06</td>\n",
       "      <td>48</td>\n",
       "      <td>Model A</td>\n",
       "      <td>2013</td>\n",
       "      <td>95 years</td>\n",
       "      <td>240000</td>\n",
       "    </tr>\n",
       "  </tbody>\n",
       "</table>\n",
       "</div>"
      ],
      "text/plain": [
       "          town  flat_type block          street_name storey_range  \\\n",
       "0    WOODLANDS     5 ROOM     9         MARSILING DR     16 TO 18   \n",
       "1    PASIR RIS  EXECUTIVE   101      PASIR RIS ST 12     01 TO 03   \n",
       "2  BUKIT BATOK     3 ROOM   135  BT BATOK WEST AVE 6     10 TO 12   \n",
       "3    WOODLANDS     5 ROOM   553      WOODLANDS DR 44     10 TO 12   \n",
       "4       YISHUN     2 ROOM   459        YISHUN AVE 11     04 TO 06   \n",
       "\n",
       "   floor_area_sqm      flat_model  lease_commence_date     remaining_lease  \\\n",
       "0             120        Standard                 1976  57 years 10 months   \n",
       "1             149      Maisonette                 1988  68 years 08 months   \n",
       "2              68  New Generation                 1984  64 years 06 months   \n",
       "3             120        Improved                 2000  80 years 05 months   \n",
       "4              48         Model A                 2013            95 years   \n",
       "\n",
       "   resale_price  \n",
       "0        355000  \n",
       "1        580000  \n",
       "2        262000  \n",
       "3        438000  \n",
       "4        240000  "
      ]
     },
     "execution_count": 62,
     "metadata": {},
     "output_type": "execute_result"
    }
   ],
   "source": [
    "# With CSV file\n",
    "import pandas as pd\n",
    "\n",
    "dataframe = pd.read_csv('datasets/train.csv')\n",
    "dataframe.head()"
   ]
  },
  {
   "cell_type": "code",
   "execution_count": 63,
   "id": "b86f4727",
   "metadata": {
    "slideshow": {
     "slide_type": "subslide"
    }
   },
   "outputs": [],
   "source": [
    "# Writing to an external csv file\n",
    "# With index=FALSE, the csv file will not store index values\n",
    "dataframe.to_csv('exported.csv', index=False)"
   ]
  },
  {
   "cell_type": "code",
   "execution_count": 64,
   "id": "9dc8306c",
   "metadata": {
    "slideshow": {
     "slide_type": "subslide"
    }
   },
   "outputs": [
    {
     "data": {
      "text/html": [
       "<div>\n",
       "<style scoped>\n",
       "    .dataframe tbody tr th:only-of-type {\n",
       "        vertical-align: middle;\n",
       "    }\n",
       "\n",
       "    .dataframe tbody tr th {\n",
       "        vertical-align: top;\n",
       "    }\n",
       "\n",
       "    .dataframe thead th {\n",
       "        text-align: right;\n",
       "    }\n",
       "</style>\n",
       "<table border=\"1\" class=\"dataframe\">\n",
       "  <thead>\n",
       "    <tr style=\"text-align: right;\">\n",
       "      <th></th>\n",
       "      <th>Income</th>\n",
       "      <th>HouseholdSize</th>\n",
       "      <th>AmountCharged</th>\n",
       "    </tr>\n",
       "  </thead>\n",
       "  <tbody>\n",
       "    <tr>\n",
       "      <th>0</th>\n",
       "      <td>54</td>\n",
       "      <td>3</td>\n",
       "      <td>4016</td>\n",
       "    </tr>\n",
       "    <tr>\n",
       "      <th>1</th>\n",
       "      <td>30</td>\n",
       "      <td>2</td>\n",
       "      <td>3159</td>\n",
       "    </tr>\n",
       "    <tr>\n",
       "      <th>2</th>\n",
       "      <td>32</td>\n",
       "      <td>4</td>\n",
       "      <td>5100</td>\n",
       "    </tr>\n",
       "    <tr>\n",
       "      <th>3</th>\n",
       "      <td>50</td>\n",
       "      <td>5</td>\n",
       "      <td>4742</td>\n",
       "    </tr>\n",
       "    <tr>\n",
       "      <th>4</th>\n",
       "      <td>31</td>\n",
       "      <td>2</td>\n",
       "      <td>1864</td>\n",
       "    </tr>\n",
       "  </tbody>\n",
       "</table>\n",
       "</div>"
      ],
      "text/plain": [
       "   Income  HouseholdSize  AmountCharged\n",
       "0      54              3           4016\n",
       "1      30              2           3159\n",
       "2      32              4           5100\n",
       "3      50              5           4742\n",
       "4      31              2           1864"
      ]
     },
     "execution_count": 64,
     "metadata": {},
     "output_type": "execute_result"
    }
   ],
   "source": [
    "# With Excel file\n",
    "df = pd.read_excel('datasets/Consumer.xlsx', sheet_name='Data1')\n",
    "df.head()"
   ]
  },
  {
   "cell_type": "code",
   "execution_count": 65,
   "id": "62dcce1a",
   "metadata": {
    "slideshow": {
     "slide_type": "subslide"
    }
   },
   "outputs": [],
   "source": [
    "# Writing to an external excel file; \n",
    "# With index=FALSE, the csv file will not store index values\n",
    "df.to_excel('exported.xlsx', index=False)"
   ]
  },
  {
   "cell_type": "markdown",
   "id": "e7c5c3a0",
   "metadata": {},
   "source": [
    "<a id='2.3'></a>\n",
    "## <p style=\"background-color:skyblue; font-family:newtimeroman; font-size:150%; text-align:center\">2.3 Exercise</p>"
   ]
  },
  {
   "cell_type": "markdown",
   "id": "03bc3f2c",
   "metadata": {},
   "source": [
    "Can you list some comonly used methods in pandas for data preprocessing or exploratory data analysis (EDA) that help better understand the data?"
   ]
  },
  {
   "cell_type": "code",
   "execution_count": null,
   "id": "3c8df3e4",
   "metadata": {},
   "outputs": [],
   "source": []
  },
  {
   "cell_type": "markdown",
   "id": "45afc8aa",
   "metadata": {},
   "source": [
    "> Click to reveal solution\n",
    "\n",
    "<!--\n",
    "df.head(), df.tail(), df.info(), df.shape, df.columns;\n",
    "df.describe(), df.value_counts();\n",
    "df.isnull(), df.isnull.sum(), df.dropna()\n",
    "-->"
   ]
  },
  {
   "cell_type": "markdown",
   "id": "564f2ae3",
   "metadata": {
    "slideshow": {
     "slide_type": "slide"
    }
   },
   "source": [
    "<a id='3'></a>\n",
    "# <p style=\"background-color:skyblue; font-family:newtimeroman; font-size:150%; text-align:center\">3. Numpy</p>"
   ]
  },
  {
   "cell_type": "code",
   "execution_count": 66,
   "id": "b4f93a6c",
   "metadata": {
    "slideshow": {
     "slide_type": "subslide"
    }
   },
   "outputs": [],
   "source": [
    "# Install a pip package in the current Jupyter kernel\n",
    "# import sys\n",
    "# !{sys.executable} -m pip install numpy"
   ]
  },
  {
   "cell_type": "markdown",
   "id": "41dab5ad",
   "metadata": {
    "slideshow": {
     "slide_type": "slide"
    }
   },
   "source": [
    "<a id='3.1'></a>\n",
    "# <p style=\"background-color:skyblue; font-family:newtimeroman; font-size:150%; text-align:center\">3.1  Topics</p>\n",
    "\n",
    "* Array\n",
    "* Array Manipulation\n",
    "* Linear Algebra Library\n",
    "* Input/Output with Numpy"
   ]
  },
  {
   "cell_type": "markdown",
   "id": "47ebf22d",
   "metadata": {
    "slideshow": {
     "slide_type": "slide"
    }
   },
   "source": [
    "---\n",
    "## NumPy Library\n",
    "\n",
    "- The Numerical Python (NumPy) library is a general purpose array processing library.\n",
    "- NumPy array object (`ndarray`) is ~50x faster than traditional Python lists.\n",
    "- It offers high-performance computation on **large, multi-dimensional** arrays.\n",
    "- It has a rich collection of high-level mathematical functions to operate on these arrays.\n",
    "\n",
    "The common to convention to import numpy is:\n",
    "\n",
    "```python\n",
    "import numpy as np\n",
    "```\n",
    "\n",
    "**Note:** The `as` keyword is short for alias which allows numpy to be referred to as `np`."
   ]
  },
  {
   "cell_type": "code",
   "execution_count": 67,
   "id": "4c880113",
   "metadata": {
    "slideshow": {
     "slide_type": "subslide"
    }
   },
   "outputs": [
    {
     "name": "stdout",
     "output_type": "stream",
     "text": [
      "1.26.4\n"
     ]
    }
   ],
   "source": [
    "# Check NumPy version\n",
    "import numpy as np\n",
    "\n",
    "print(np.__version__)"
   ]
  },
  {
   "cell_type": "markdown",
   "id": "33412eb7",
   "metadata": {
    "slideshow": {
     "slide_type": "slide"
    }
   },
   "source": [
    "---\n",
    "## Arrays\n",
    "\n",
    "NumPy's primary objects are Arrays (`ndarray`). They have the following properties:\n",
    " * Homogeneous (All elements are of the same datatype) and multi-dimensional.\n",
    " * Single dimensional array is similar to Python's `list`.\n",
    " * Uses indexing to access the elements.\n",
    "\n",
    "To create a numpy array, call the `array()` function."
   ]
  },
  {
   "cell_type": "code",
   "execution_count": 68,
   "id": "4026edab",
   "metadata": {
    "slideshow": {
     "slide_type": "subslide"
    }
   },
   "outputs": [
    {
     "name": "stdout",
     "output_type": "stream",
     "text": [
      "[1 2 3 4 5]\n",
      "<class 'numpy.ndarray'>\n"
     ]
    }
   ],
   "source": [
    "import numpy as np\n",
    "\n",
    "arr = np.array([1, 2, 3, 4, 5])\n",
    "\n",
    "print(arr)\n",
    "print(type(arr))"
   ]
  },
  {
   "cell_type": "markdown",
   "id": "0d81f5ed",
   "metadata": {
    "slideshow": {
     "slide_type": "slide"
    }
   },
   "source": [
    "## Dimensions in Arrays\n",
    "\n",
    "Some jargons in numpy are as follow: \n",
    "- In NumPy, dimensions are called **axes**.\n",
    "- The number of axes is called **rank**.\n",
    "- NumPy arrays have the `ndim` attribute that returns the number of dimensions."
   ]
  },
  {
   "cell_type": "markdown",
   "id": "d2c14c66",
   "metadata": {
    "slideshow": {
     "slide_type": "slide"
    }
   },
   "source": [
    "### 0-D Arrays (Rank 0)\n",
    "\n",
    "- 0-D arrays (Scalars), are the elements in an array. \n",
    "- Each value in an array is a 0-D array."
   ]
  },
  {
   "cell_type": "code",
   "execution_count": 69,
   "id": "ea3c28c8",
   "metadata": {
    "slideshow": {
     "slide_type": "subslide"
    }
   },
   "outputs": [
    {
     "name": "stdout",
     "output_type": "stream",
     "text": [
      "42\n",
      "0\n"
     ]
    }
   ],
   "source": [
    "import numpy as np\n",
    "\n",
    "arr = np.array(42)\n",
    "\n",
    "print(arr)\n",
    "print(arr.ndim)"
   ]
  },
  {
   "cell_type": "markdown",
   "id": "6d6670d5",
   "metadata": {
    "slideshow": {
     "slide_type": "slide"
    }
   },
   "source": [
    "### 1-D Arrays (Rank 1)\n",
    "\n",
    "- An array that has 0-D arrays as its elements is a 1-D array.\n",
    "- These are the most common and basic arrays."
   ]
  },
  {
   "cell_type": "code",
   "execution_count": 70,
   "id": "1bb0ff8a",
   "metadata": {
    "slideshow": {
     "slide_type": "subslide"
    }
   },
   "outputs": [
    {
     "name": "stdout",
     "output_type": "stream",
     "text": [
      "[1 2 3 4 5]\n",
      "1\n"
     ]
    }
   ],
   "source": [
    "import numpy as np\n",
    "\n",
    "arr = np.array([1, 2, 3, 4, 5])\n",
    "\n",
    "print(arr)\n",
    "print(arr.ndim)"
   ]
  },
  {
   "cell_type": "markdown",
   "id": "fc3c21a1",
   "metadata": {
    "slideshow": {
     "slide_type": "slide"
    }
   },
   "source": [
    "### 2-D Arrays (Rank 2)\n",
    "\n",
    "- An array that has 1-D arrays as its elements is called a 2-D array.\n",
    "- These are often used to represent a matrix / $2^{nd}$ order tensors."
   ]
  },
  {
   "cell_type": "code",
   "execution_count": 71,
   "id": "d05c8fe5",
   "metadata": {
    "slideshow": {
     "slide_type": "subslide"
    }
   },
   "outputs": [
    {
     "name": "stdout",
     "output_type": "stream",
     "text": [
      "[[1 2 3]\n",
      " [4 5 6]]\n",
      "2\n"
     ]
    }
   ],
   "source": [
    "import numpy as np\n",
    "\n",
    "arr = np.array([[1, 2, 3], [4, 5, 6]])\n",
    "\n",
    "print(arr)\n",
    "print(arr.ndim)"
   ]
  },
  {
   "attachments": {
    "2-ways.png": {
     "image/png": "[encoded data removed]"
    }
   },
   "cell_type": "markdown",
   "id": "ef7c0c6a",
   "metadata": {
    "slideshow": {
     "slide_type": "slide"
    }
   },
   "source": [
    "---\n",
    "## Order\n",
    "\n",
    "- Numpy arrays contain a feature called **Order**. \n",
    "- Order is a method of storing multi-dimensional arrays. \n",
    "- There are 2 orders namely: \n",
    " - **Row-major Order (Default):** Read from left to right. \n",
    " - **Column-major Order:** Read from top to bottom.\n",
    "\n",
    "![2-ways.png](attachment:2-ways.png)"
   ]
  },
  {
   "cell_type": "markdown",
   "id": "493ff35d",
   "metadata": {
    "slideshow": {
     "slide_type": "fragment"
    }
   },
   "source": [
    "**Note:** Array ordering matters when arrays are passed between programs written in **different languages** and it also matters in **data retrieval** as modern CPUs process sequential data more efficiently than non-sequential data."
   ]
  },
  {
   "cell_type": "markdown",
   "id": "2b525d9b",
   "metadata": {
    "slideshow": {
     "slide_type": "slide"
    }
   },
   "source": [
    "---\n",
    "## Creating a NumPy Array\n",
    "\n",
    "- There are various methods for us to create different types of arrays.\n",
    "\n",
    "**Method 1:** Manually creating an array object."
   ]
  },
  {
   "cell_type": "code",
   "execution_count": 72,
   "id": "11d6eaa6",
   "metadata": {
    "slideshow": {
     "slide_type": "subslide"
    }
   },
   "outputs": [
    {
     "name": "stdout",
     "output_type": "stream",
     "text": [
      "[[1 2 3]\n",
      " [4 5 6]]\n"
     ]
    }
   ],
   "source": [
    "import numpy as np\n",
    "\n",
    "arr = np.array([[1, 2, 3], [4, 5, 6]])\n",
    "print(arr)"
   ]
  },
  {
   "cell_type": "markdown",
   "id": "55846386",
   "metadata": {
    "slideshow": {
     "slide_type": "slide"
    }
   },
   "source": [
    "**Method 2:** Creating an array from Python lists (and tuples)."
   ]
  },
  {
   "cell_type": "code",
   "execution_count": 73,
   "id": "bc99be7b",
   "metadata": {
    "slideshow": {
     "slide_type": "subslide"
    }
   },
   "outputs": [
    {
     "name": "stdout",
     "output_type": "stream",
     "text": [
      "[[5 8 9]\n",
      " [7 8 9]]\n"
     ]
    }
   ],
   "source": [
    "py_list = [5, 8, 9]\n",
    "py_tuple = (7, 8, 9)\n",
    "\n",
    "arr = np.array([py_list, py_tuple])\n",
    "print(arr)"
   ]
  },
  {
   "cell_type": "markdown",
   "id": "364b3cef",
   "metadata": {
    "slideshow": {
     "slide_type": "slide"
    }
   },
   "source": [
    "## The `arange` Method\n",
    "\n",
    "- Creates an evenly spaced array using `arange()`.\n",
    "- Includes an optional `step` parameter for stepsize. \n",
    "- For eg. `step=5` indicates the difference between each element created from $0$ to $30$ (excluded)."
   ]
  },
  {
   "cell_type": "code",
   "execution_count": 74,
   "id": "93e89a42",
   "metadata": {
    "slideshow": {
     "slide_type": "subslide"
    }
   },
   "outputs": [
    {
     "name": "stdout",
     "output_type": "stream",
     "text": [
      "[ 0  5 10 15 20 25]\n"
     ]
    }
   ],
   "source": [
    "# Create a sequence of integers from 0 to 30 with a stepsize of 5 \n",
    "arr = np.arange(start=0, stop=30, step=5)\n",
    "print(arr)"
   ]
  },
  {
   "cell_type": "markdown",
   "id": "cb2f602e",
   "metadata": {
    "slideshow": {
     "slide_type": "slide"
    }
   },
   "source": [
    "## Array of Zeros & Ones\n",
    "\n",
    "- The `.zeros()` method creates an array of zeros.\n",
    "- The `.ones()` method creates an array of ones.\n",
    "- To create an `n` by `m` matrix, pass along the dimensions in the form of a tuple `(n, m)`."
   ]
  },
  {
   "cell_type": "code",
   "execution_count": 75,
   "id": "450f59b6",
   "metadata": {
    "slideshow": {
     "slide_type": "subslide"
    }
   },
   "outputs": [
    {
     "name": "stdout",
     "output_type": "stream",
     "text": [
      "[[0. 0. 0. 0.]\n",
      " [0. 0. 0. 0.]\n",
      " [0. 0. 0. 0.]]\n"
     ]
    }
   ],
   "source": [
    "# Creating a 3-by-4 array of zeros\n",
    "arr_0 = np.zeros((3, 4)) \n",
    "print(arr_0)"
   ]
  },
  {
   "cell_type": "code",
   "execution_count": 76,
   "id": "a65294f5",
   "metadata": {
    "slideshow": {
     "slide_type": "subslide"
    }
   },
   "outputs": [
    {
     "name": "stdout",
     "output_type": "stream",
     "text": [
      "[[1. 1. 1. 1.]\n",
      " [1. 1. 1. 1.]\n",
      " [1. 1. 1. 1.]]\n"
     ]
    }
   ],
   "source": [
    "# Creating a 3-by-4 array of ones\n",
    "arr_1 = np.ones((3, 4))\n",
    "print(arr_1)"
   ]
  },
  {
   "cell_type": "markdown",
   "id": "ccfabd46",
   "metadata": {
    "slideshow": {
     "slide_type": "slide"
    }
   },
   "source": [
    "## Array of Random Numbers\n",
    "\n",
    "- The `.random()` method from the `np.random` sub-module creates an array of random numbers.\n",
    "- It populates the matrix with random numbers in the *half-open interval [0.0, 1.0).\n",
    "\n",
    "**Note:** At least 0 and less than 1."
   ]
  },
  {
   "cell_type": "code",
   "execution_count": 77,
   "id": "e18d2598",
   "metadata": {
    "slideshow": {
     "slide_type": "subslide"
    }
   },
   "outputs": [
    {
     "name": "stdout",
     "output_type": "stream",
     "text": [
      "[[0.78331447 0.41253884]\n",
      " [0.03417131 0.62402999]\n",
      " [0.66063573 0.29849529]]\n"
     ]
    }
   ],
   "source": [
    "# Creating a 3-by-2 array with random numbers in the half-open interval [0.0, 1.0) \n",
    "# i.e. at least 0 and less than 1\n",
    "arr = np.random.random((3, 2)) \n",
    "\n",
    "print(arr)"
   ]
  },
  {
   "cell_type": "markdown",
   "id": "8e1a0305",
   "metadata": {
    "slideshow": {
     "slide_type": "slide"
    }
   },
   "source": [
    "---\n",
    "## Accessing Array Properties"
   ]
  },
  {
   "cell_type": "code",
   "execution_count": 78,
   "id": "426e2f4d",
   "metadata": {
    "slideshow": {
     "slide_type": "subslide"
    }
   },
   "outputs": [
    {
     "name": "stdout",
     "output_type": "stream",
     "text": [
      "Array is of type:  <class 'numpy.ndarray'>\n",
      "No. of dimensions:  2\n",
      "Shape of array:  (2, 3)\n",
      "Size of array:  6\n",
      "Array stores elements of type:  int64\n"
     ]
    }
   ],
   "source": [
    "import numpy as np \n",
    "\n",
    "# Creating an array object \n",
    "arr = np.array([[1, 2, 3], \n",
    "                [4, 5, 6]])  \n",
    "\n",
    "# Printing the type of the array object \n",
    "print(\"Array is of type: \", type(arr)) \n",
    "\n",
    "# Printing the array dimensions \n",
    "print(\"No. of dimensions: \", arr.ndim) \n",
    "\n",
    "# Printing the shape of the array \n",
    "print(\"Shape of array: \", arr.shape) \n",
    "\n",
    "# Printing the size (total number of elements) of the array \n",
    "print(\"Size of array: \", arr.size) \n",
    "\n",
    "# Printing the type of elements in the array \n",
    "print(\"Array stores elements of type: \", arr.dtype) "
   ]
  },
  {
   "cell_type": "markdown",
   "id": "d8fa8010",
   "metadata": {
    "slideshow": {
     "slide_type": "slide"
    }
   },
   "source": [
    "---\n",
    "## Array Manipulation\n",
    "\n",
    "### Reshaping\n",
    "\n",
    "- Reshaping is to change the shape of an array."
   ]
  },
  {
   "cell_type": "code",
   "execution_count": 79,
   "id": "a106b53d",
   "metadata": {
    "slideshow": {
     "slide_type": "subslide"
    }
   },
   "outputs": [
    {
     "name": "stdout",
     "output_type": "stream",
     "text": [
      "\n",
      "Original array:\n",
      " [[1 2 3]\n",
      " [4 5 6]]\n",
      "\n",
      "Reshaped array:\n",
      " [[1 2]\n",
      " [3 4]\n",
      " [5 6]]\n"
     ]
    }
   ],
   "source": [
    "# Reshape from 2-by-3 to 3-by-2\n",
    "import numpy as np\n",
    " \n",
    "arr = np.array([[1, 2, 3], \n",
    "                [4, 5, 6]]) \n",
    "  \n",
    "newarr = arr.reshape(3, 2) \n",
    "  \n",
    "print (\"\\nOriginal array:\\n\", arr)\n",
    "print()\n",
    "print (\"Reshaped array:\\n\", newarr) "
   ]
  },
  {
   "cell_type": "markdown",
   "id": "e7902ce9",
   "metadata": {
    "slideshow": {
     "slide_type": "slide"
    }
   },
   "source": [
    "### Array Flattening\n",
    "\n",
    "- Image processing often requires reshaping a 2D array to a 1D array.\n",
    "- This process is known as **flattening** an array.\n",
    "\n",
    "\n",
    "For example:"
   ]
  },
  {
   "cell_type": "code",
   "execution_count": 80,
   "id": "22e21c3f",
   "metadata": {
    "slideshow": {
     "slide_type": "subslide"
    }
   },
   "outputs": [
    {
     "name": "stdout",
     "output_type": "stream",
     "text": [
      "\n",
      "Original array:\n",
      " [[1 2]\n",
      " [5 8]\n",
      " [9 4]]\n",
      "\n",
      "After flattening:\n",
      " [1 2 5 8 9 4]\n"
     ]
    }
   ],
   "source": [
    "# Flattening a 2D array to a 1D array\n",
    "arr = np.array([[1, 2], \n",
    "                [5, 8], \n",
    "                [9, 4]]) \n",
    "print (\"\\nOriginal array:\\n\", arr)\n",
    "\n",
    "arr = arr.flatten()\n",
    "print (\"\\nAfter flattening:\\n\", arr)"
   ]
  },
  {
   "cell_type": "markdown",
   "id": "be2d90ff",
   "metadata": {
    "slideshow": {
     "slide_type": "slide"
    }
   },
   "source": [
    "---\n",
    "### Transposing a Matrix\n",
    "\n",
    "- To transpose a matrix is to change the order of arrangements for all the rows of a matrix into columns and vice-versa.\n",
    "- This is done with the `transpose()` method or the `.T` method."
   ]
  },
  {
   "cell_type": "code",
   "execution_count": 81,
   "id": "1ecdff5d",
   "metadata": {
    "slideshow": {
     "slide_type": "subslide"
    }
   },
   "outputs": [
    {
     "name": "stdout",
     "output_type": "stream",
     "text": [
      "[[1 4]\n",
      " [2 5]\n",
      " [3 6]]\n",
      "\n",
      "[[1 4]\n",
      " [2 5]\n",
      " [3 6]]\n"
     ]
    }
   ],
   "source": [
    "# Transposing a matrix\n",
    "arr = np.array([[1, 2, 3], \n",
    "                [4, 5, 6]])\n",
    "\n",
    "# Method 1\n",
    "print(np.transpose(arr))\n",
    "\n",
    "print()\n",
    "\n",
    "# Method 2\n",
    "print(arr.T)"
   ]
  },
  {
   "cell_type": "markdown",
   "id": "5ca69e08",
   "metadata": {},
   "source": [
    "## Array Concatenation\n",
    "\n",
    "- The `concatenate()` combines 2 arrays into 1.\n",
    "- When combining arrays along the row axis, specify `axis=0`.\n",
    "- When combining arrays along the column axis, specify `axis=1`."
   ]
  },
  {
   "cell_type": "code",
   "execution_count": 82,
   "id": "f94e5516",
   "metadata": {},
   "outputs": [
    {
     "name": "stdout",
     "output_type": "stream",
     "text": [
      "[ 1  2  3  4  5  6  7  8  9 10]\n"
     ]
    }
   ],
   "source": [
    "# Concatenating 1-dimensional array\n",
    "import numpy as np\n",
    "\n",
    "a = np.array([1, 2, 3, 4, 5])\n",
    "b = np.array([6, 7, 8, 9, 10])\n",
    "\n",
    "combined = np.concatenate((a, b), axis=0)\n",
    "print(combined)"
   ]
  },
  {
   "cell_type": "code",
   "execution_count": 83,
   "id": "3aee267e",
   "metadata": {},
   "outputs": [
    {
     "name": "stdout",
     "output_type": "stream",
     "text": [
      "Combined along the row axis: \n",
      "[[1 2]\n",
      " [3 4]\n",
      " [5 6]\n",
      " [7 8]]\n",
      "\n",
      "Combined along the column axis: \n",
      "[[1 2 5 6]\n",
      " [3 4 7 8]]\n"
     ]
    }
   ],
   "source": [
    "# Concatenating a 2-dimensional array\n",
    "import numpy as np \n",
    "\n",
    "a = np.array([[1, 2],\n",
    "              [3, 4]])   \n",
    "\n",
    "b = np.array([[5, 6],\n",
    "              [7, 8]])\n",
    "\n",
    "# Concatenate along the row axis (i.e. axis=0)\n",
    "combined_a = np.concatenate((a, b), axis=0)    \n",
    "print(f\"Combined along the row axis: \\n{combined_a}\")\n",
    "\n",
    "print()\n",
    "\n",
    "# Concatenate along the column axis (i.e. axis=1)\n",
    "combined_b = np.concatenate((a, b), axis=1)\n",
    "print(f\"Combined along the column axis: \\n{combined_b}\")"
   ]
  },
  {
   "cell_type": "markdown",
   "id": "9c35b18e",
   "metadata": {
    "slideshow": {
     "slide_type": "slide"
    }
   },
   "source": [
    "---\n",
    "## Array Slicing\n",
    "\n",
    "- Similar to Python list slicing, array slicing retrieves a subset of elements from an array."
   ]
  },
  {
   "cell_type": "code",
   "execution_count": 84,
   "id": "55b339ae",
   "metadata": {
    "slideshow": {
     "slide_type": "subslide"
    }
   },
   "outputs": [
    {
     "data": {
      "text/plain": [
       "array([ 4,  8, 12])"
      ]
     },
     "execution_count": 84,
     "metadata": {},
     "output_type": "execute_result"
    }
   ],
   "source": [
    "# Array slicing with positive numbers\n",
    "import numpy as np\n",
    "\n",
    "x = np.array([2, 4, 6, 8, 10, 12, 14])\n",
    "\n",
    "# Array slicing to retrieve elements from index 1 to 5 with a stepsize of 2\n",
    "x[1:6:2]"
   ]
  },
  {
   "attachments": {
    "negative.png": {
     "image/png": "[encoded data removed]"
    }
   },
   "cell_type": "markdown",
   "id": "0550ca93",
   "metadata": {
    "slideshow": {
     "slide_type": "slide"
    }
   },
   "source": [
    "### Negative Slicing\n",
    "\n",
    "- Use the minus operator to refer to an index from the end.\n",
    "\n",
    "![negative.png](attachment:negative.png)\n",
    "\n",
    "**Example:** Array slicing with negative numbers"
   ]
  },
  {
   "cell_type": "code",
   "execution_count": 85,
   "id": "f3f4585e",
   "metadata": {
    "slideshow": {
     "slide_type": "subslide"
    }
   },
   "outputs": [
    {
     "name": "stdout",
     "output_type": "stream",
     "text": [
      "[7 8 9]\n"
     ]
    }
   ],
   "source": [
    "# Array slicing with negative numbers\n",
    "x = np.array([0, 1, 2, 3, 4, 5, 6, 7, 8, 9])\n",
    "\n",
    "# Retrieve elements from index -3 (index 7) to 9\n",
    "print(x[-3:10])"
   ]
  },
  {
   "cell_type": "markdown",
   "id": "c561114b",
   "metadata": {
    "slideshow": {
     "slide_type": "slide"
    }
   },
   "source": [
    "---\n",
    "## Linear Algebra Library\n",
    "\n",
    "- The Linear Algebra library contains algebraic functions on arrays such as:\n",
    " - Dot and Inner Products.\n",
    " - Determinants.\n",
    " - Eigenvectors and Eigenvalues.\n",
    " - ...and many more."
   ]
  },
  {
   "cell_type": "markdown",
   "id": "0b0def31",
   "metadata": {
    "slideshow": {
     "slide_type": "slide"
    }
   },
   "source": [
    "### Dot Product of an Array\n",
    "\n",
    "$ \\begin{bmatrix}x_1 \\ x_2 \\ x_3\\end{bmatrix}\n",
    "\\cdot\n",
    "\\begin{bmatrix}y_1 \\\\ y_2 \\\\ y_3\\end{bmatrix}\n",
    "= x_1 y_1 + x_2 y_2 + x_3 y_3$"
   ]
  },
  {
   "cell_type": "code",
   "execution_count": 86,
   "id": "2c6de4d4",
   "metadata": {
    "slideshow": {
     "slide_type": "subslide"
    }
   },
   "outputs": [
    {
     "name": "stdout",
     "output_type": "stream",
     "text": [
      "[[37 40]\n",
      " [85 92]]\n"
     ]
    }
   ],
   "source": [
    "# Example: Computing the dot product\n",
    "import numpy as np \n",
    "\n",
    "a = np.array([[1,2], \n",
    "              [3,4]]) \n",
    "\n",
    "b = np.array([[11,12], \n",
    "              [13,14]]) \n",
    "\n",
    "print(np.dot(a, b))"
   ]
  },
  {
   "cell_type": "markdown",
   "id": "84cb2ec2",
   "metadata": {
    "slideshow": {
     "slide_type": "slide"
    }
   },
   "source": [
    "### Determinant of an Array\n",
    "\n",
    "$\n",
    "A = \\begin{bmatrix}\n",
    "a & b\\\\ \n",
    "c & d\n",
    "\\end{bmatrix}\n",
    "$\n",
    "<br><br>\n",
    "$\n",
    "\\left | A \\right | = (a*d) - (b*c)\n",
    "$"
   ]
  },
  {
   "cell_type": "code",
   "execution_count": 87,
   "id": "1052b8b4",
   "metadata": {
    "slideshow": {
     "slide_type": "subslide"
    }
   },
   "outputs": [
    {
     "name": "stdout",
     "output_type": "stream",
     "text": [
      "-2.0000000000000004\n"
     ]
    }
   ],
   "source": [
    "# Example: Computing the determinant of an array\n",
    "from numpy import linalg\n",
    "\n",
    "a = np.array([[1,2], \n",
    "              [3,4]])\n",
    "\n",
    "print(linalg.det(a))"
   ]
  },
  {
   "cell_type": "markdown",
   "id": "2c8cbc3c",
   "metadata": {
    "slideshow": {
     "slide_type": "slide"
    }
   },
   "source": [
    "---\n",
    "## Input / Output with NumPy\n",
    "\n",
    "- `ndArray` objects can be saved to external files on disk and loaded from them as well.\n",
    " * Use `loadtxt()` and `savetxt()` for normal text files.\n",
    " * Use `load()` and `save()` to create NumPy binary files (`.npy` extension).\n",
    "- A practical usage would be that in Machine Learning, we save the trained weights of a Neural Network to an external NumPy binary files for performance gain."
   ]
  },
  {
   "cell_type": "markdown",
   "id": "4a7e818b",
   "metadata": {
    "slideshow": {
     "slide_type": "slide"
    }
   },
   "source": [
    "### Saving and Loading from a Text File\n",
    "\n",
    "- A file named `output.txt` will be created in the same directory as this notebook."
   ]
  },
  {
   "cell_type": "code",
   "execution_count": 88,
   "id": "84647942",
   "metadata": {
    "slideshow": {
     "slide_type": "subslide"
    }
   },
   "outputs": [],
   "source": [
    "import numpy as np \n",
    "\n",
    "a = np.array([[1, 2, 3, 4],\n",
    "              [5, 9, 3, 1],\n",
    "              [4, 8, 2, 3]])\n",
    "\n",
    "# Save as text file\n",
    "np.savetxt('output.txt', a)"
   ]
  },
  {
   "cell_type": "code",
   "execution_count": 89,
   "id": "eb9be6d4",
   "metadata": {
    "slideshow": {
     "slide_type": "subslide"
    }
   },
   "outputs": [
    {
     "name": "stdout",
     "output_type": "stream",
     "text": [
      "[[1. 2. 3. 4.]\n",
      " [5. 9. 3. 1.]\n",
      " [4. 8. 2. 3.]]\n"
     ]
    }
   ],
   "source": [
    "# Load text file\n",
    "b = np.loadtxt('output.txt') \n",
    "print(b)"
   ]
  },
  {
   "cell_type": "markdown",
   "id": "14d5906f",
   "metadata": {
    "slideshow": {
     "slide_type": "slide"
    }
   },
   "source": [
    "### Saving and Loading from a NumPy Binary File\n",
    "\n",
    "- A file named `output_file.npy` will be created in the same directory as this notebook."
   ]
  },
  {
   "cell_type": "code",
   "execution_count": 90,
   "id": "e95e74df",
   "metadata": {
    "slideshow": {
     "slide_type": "subslide"
    }
   },
   "outputs": [],
   "source": [
    "import numpy as np\n",
    "\n",
    "a = np.array([1,2,3,4,5])\n",
    "\n",
    "# Save as binary file\n",
    "np.save('output_file', a)"
   ]
  },
  {
   "cell_type": "code",
   "execution_count": 91,
   "id": "c0b11b5e",
   "metadata": {
    "slideshow": {
     "slide_type": "subslide"
    }
   },
   "outputs": [
    {
     "name": "stdout",
     "output_type": "stream",
     "text": [
      "[1 2 3 4 5]\n"
     ]
    }
   ],
   "source": [
    "# Load from binary file\n",
    "b = np.load('output_file.npy') \n",
    "print(b)"
   ]
  },
  {
   "cell_type": "markdown",
   "id": "3c1a92c4",
   "metadata": {},
   "source": [
    "<a id='3.2'></a>\n",
    "# <p style=\"background-color:skyblue; font-family:newtimeroman; font-size:150%; text-align:center\">3.2 Exercise</p>"
   ]
  },
  {
   "cell_type": "markdown",
   "id": "e01e3001",
   "metadata": {},
   "source": [
    "1. Write a NumPy program to create a 5 by 5 array with random values and find the minimum and maximum values"
   ]
  },
  {
   "cell_type": "code",
   "execution_count": 92,
   "id": "7cd2f330",
   "metadata": {},
   "outputs": [
    {
     "name": "stdout",
     "output_type": "stream",
     "text": [
      "Original array:  [[0.44613451 0.22212455 0.07336417 0.46923853 0.09617226]\n",
      " [0.90337017 0.11949047 0.52479938 0.083623   0.91686133]\n",
      " [0.91044838 0.29893011 0.58438912 0.56591203 0.61393832]\n",
      " [0.95653566 0.26097898 0.23101542 0.53344849 0.94993814]\n",
      " [0.49305959 0.54060051 0.7654851  0.04534573 0.13996612]]\n",
      "Min: 0.045345728574653243\n",
      "Max: 0.9565356566705222\n"
     ]
    }
   ],
   "source": [
    "arr = np.random.random((5,5))\n",
    "\n",
    "print(\"Original array: \", arr)\n",
    "\n",
    "print(\"Min:\", arr.min())\n",
    "print(\"Max:\", arr.max())\n",
    "\n",
    "\n"
   ]
  },
  {
   "cell_type": "markdown",
   "id": "a808364a",
   "metadata": {},
   "source": [
    "> Click to reveal solution\n",
    "\n",
    "<!--\n",
    "import numpy as np\n",
    "\n",
    "x = np.random.random((5,5))\n",
    "print(\"Original Array:\")\n",
    "print(x) \n",
    "xmin, xmax = x.min(), x.max()\n",
    "print(\"Minimum and Maximum Values:\")\n",
    "print(xmin, xmax)\n",
    "-->"
   ]
  },
  {
   "cell_type": "markdown",
   "id": "c16d7fc0",
   "metadata": {},
   "source": [
    "2. What is the slicing array used to get the output from the given 4 by 4 array.\n",
    "\n",
    "```python\n",
    "[[-1.   2.   5.   4. ]\n",
    " [ 4.  -0.5  6.  15. ]\n",
    " [ 2.6  0.   7.   8. ]\n",
    " [ 3.  -7.   4.   2. ]]\n",
    "```\n",
    "\n",
    "Output: \n",
    "```python\n",
    "[[-1.,  5.]\n",
    " [ 4.,  6.]]\n",
    "```"
   ]
  },
  {
   "cell_type": "markdown",
   "id": "dd8c59fd",
   "metadata": {},
   "source": [
    "> Click to reveal solution\n",
    "\n",
    "<!--\n",
    "`x[:2, ::2]` or `x[ [[0,0], [1,1]], [[0,2], [0,2]] ]` or `np.array([ [x[0,0], x[0,2]], [x[1,0], x[1,2]] ])`\n",
    "-->"
   ]
  },
  {
   "cell_type": "markdown",
   "id": "a41353da",
   "metadata": {
    "slideshow": {
     "slide_type": "slide"
    }
   },
   "source": [
    "<a id='4'></a>\n",
    "# <p style=\"background-color:skyblue; font-family:newtimeroman; font-size:150%; text-align:center\">4. Matplotlib</p>"
   ]
  },
  {
   "cell_type": "markdown",
   "id": "3d03c6e9",
   "metadata": {
    "slideshow": {
     "slide_type": "slide"
    }
   },
   "source": [
    "<a id='4.1'></a>\n",
    "## <p style=\"background-color:skyblue; font-family:newtimeroman; font-size:150%; text-align:center\">4.1 Matplotlib Introduction</p>\n",
    "\n",
    "- `Matplotlib` is a plotting package that is used for creating visualizations in Python. \n",
    "- It can create plots from Python Lists, Numpy arrars or Pandas DataFrames.\n",
    "- To use `Matplotlib`, import the `pyplot` submodule using `import matplotlib.pyplot as plt`."
   ]
  },
  {
   "cell_type": "markdown",
   "id": "505f86c5",
   "metadata": {
    "slideshow": {
     "slide_type": "slide"
    }
   },
   "source": [
    "---\n",
    "- Whenever `Matplotlib` creates a plot from your data, it contains it in a container called `Figure`. \n",
    "- Each of these `figure` may contain elements that are shown in Figure 1. \n",
    "- The most common elements are the x- and y- axis, the major ticks, the major tick labels, the spines and the data being plotted."
   ]
  },
  {
   "cell_type": "code",
   "execution_count": 93,
   "id": "7894d640",
   "metadata": {
    "slideshow": {
     "slide_type": "subslide"
    }
   },
   "outputs": [
    {
     "data": {
      "image/png": "[encoded data removed]",
      "text/plain": [
       "<Figure size 640x480 with 1 Axes>"
      ]
     },
     "metadata": {},
     "output_type": "display_data"
    }
   ],
   "source": [
    "# Example: A simple plot using lists of x and y values\n",
    "import matplotlib.pyplot as plt\n",
    "\n",
    "# Plots a line graph.\n",
    "# 1st list is the x axis \n",
    "# 2nd list contains the corresponding values\n",
    "plt.plot([1, 2, 3, 4], [2, 4, 1.5, 3])\n",
    "\n",
    "# Add the labels and title\n",
    "plt.title(\"Numbers Line Graph\")\n",
    "plt.xlabel(\"x-axis\")\n",
    "plt.ylabel(\"y-axis\")\n",
    "\n",
    "# Save the figure as simple_line_plot.png with a dpi of 200\n",
    "plt.savefig('simple_line_plot.png', dpi=200) "
   ]
  },
  {
   "cell_type": "markdown",
   "id": "29ca0f71",
   "metadata": {
    "slideshow": {
     "slide_type": "slide"
    }
   },
   "source": [
    "- In the previous graph, it is missing several elements such as the axis labels, title and markers. \n",
    "- These properties can be added by invoking certain `pyplot` methods / passing arguments to the `plot()` function."
   ]
  },
  {
   "cell_type": "markdown",
   "id": "d462a517",
   "metadata": {
    "slideshow": {
     "slide_type": "slide"
    }
   },
   "source": [
    "**Note:** 'D' for Diamond, refer to https://matplotlib.org/stable/api/markers_api.html for more markers style."
   ]
  },
  {
   "cell_type": "code",
   "execution_count": 94,
   "id": "c03f40ab",
   "metadata": {
    "slideshow": {
     "slide_type": "subslide"
    }
   },
   "outputs": [
    {
     "data": {
      "text/plain": [
       "Text(0, 0.5, 'y-axis')"
      ]
     },
     "execution_count": 94,
     "metadata": {},
     "output_type": "execute_result"
    },
    {
     "data": {
      "image/png": "[encoded data removed]",
      "text/plain": [
       "<Figure size 640x480 with 1 Axes>"
      ]
     },
     "metadata": {},
     "output_type": "display_data"
    }
   ],
   "source": [
    "# Plotting a scatter plot using random values\n",
    "import matplotlib.pyplot as plt\n",
    "import random \n",
    "random.seed(1)\n",
    "\n",
    "# Generate some random numbers\n",
    "x = random.sample(range(50), 20)\n",
    "y = random.sample(range(50), 20)\n",
    "\n",
    "# Plotting the data\n",
    "plt.scatter(x, y, marker='*')\n",
    "plt.title(\"Random Numbers Scatter Plot\")\n",
    "plt.xlabel(\"x-axis\")\n",
    "plt.ylabel(\"y-axis\")"
   ]
  },
  {
   "cell_type": "markdown",
   "id": "318a63ad",
   "metadata": {
    "slideshow": {
     "slide_type": "slide"
    }
   },
   "source": [
    "---\n",
    "## Multiple Plots in a Graph\n",
    "\n",
    "- Suppose we want to plot 2 or more lines on to the same plot. "
   ]
  },
  {
   "cell_type": "code",
   "execution_count": 95,
   "id": "3a0b83c8",
   "metadata": {
    "slideshow": {
     "slide_type": "subslide"
    }
   },
   "outputs": [
    {
     "data": {
      "image/png": "[encoded data removed]",
      "text/plain": [
       "<Figure size 640x480 with 1 Axes>"
      ]
     },
     "metadata": {},
     "output_type": "display_data"
    }
   ],
   "source": [
    "# Importing libraries\n",
    "import matplotlib.pyplot as plt\n",
    "import numpy as np\n",
    "import math\n",
    "\n",
    "# Using Numpy to create an array X\n",
    "X = np.arange(0, math.pi*2, 0.05)\n",
    "\n",
    "# Assign variables to the y axis part of the curve\n",
    "y = np.sin(X)\n",
    "z = np.cos(X)\n",
    "\n",
    "# Plotting both the curves simultaneously\n",
    "# Line 1\n",
    "plt.plot(X, y, color='r', label='sin')\n",
    "# Line 2\n",
    "plt.plot(X, z, color='g', label='cos')\n",
    "\n",
    "# Naming the x-axis, y-axis and the whole graph\n",
    "plt.xlabel(\"Angle\")\n",
    "plt.ylabel(\"Magnitude\")\n",
    "plt.title(\"Sine and Cosine functions\")\n",
    "\n",
    "# Adding legend, which helps us recognize the curve according to it's color\n",
    "plt.legend()\n",
    "\n",
    "# To load the display window\n",
    "plt.show()\n"
   ]
  },
  {
   "cell_type": "markdown",
   "id": "34e7b3b9",
   "metadata": {},
   "source": [
    "**Note:**\n",
    "\n",
    "- Customization cannot be done in a separate cell.\n"
   ]
  },
  {
   "cell_type": "markdown",
   "id": "0faa52ea",
   "metadata": {
    "slideshow": {
     "slide_type": "slide"
    }
   },
   "source": [
    "---\n",
    "## Subplot\n",
    "\n",
    "- If you do not want the 2 lines to be on the same plot, you can plot them in different **subplots** with the `subplot()` method within the **same** figure. \n",
    "- `subplot()` accepts either 3 comma separated integers (`3,2,1`) or a 3-digit integer (`321`). \n",
    "- This integer informs `subplot()` the number of rows and columns the plot is going have and the index of the current plot being plotted. \n",
    "- For example, the integer `321` means that there are 3 rows, 2 columns and the current plot index is `1`. "
   ]
  },
  {
   "cell_type": "markdown",
   "id": "7ffbdca9",
   "metadata": {
    "slideshow": {
     "slide_type": "slide"
    }
   },
   "source": [
    "### Method 1\n",
    "\n",
    "- Create a figure with subplots and then add on top of them."
   ]
  },
  {
   "cell_type": "code",
   "execution_count": 96,
   "id": "c0b4788e",
   "metadata": {
    "slideshow": {
     "slide_type": "subslide"
    }
   },
   "outputs": [],
   "source": [
    "x1 = np.array([0, 1, 2, 3])\n",
    "y1 = np.array([3, 8, 1, 10])\n",
    "\n",
    "x2 = np.array([0, 1, 2, 3])\n",
    "y2 = np.array([10, 20, 30, 40])"
   ]
  },
  {
   "cell_type": "code",
   "execution_count": 97,
   "id": "3affa978",
   "metadata": {
    "slideshow": {
     "slide_type": "subslide"
    }
   },
   "outputs": [
    {
     "data": {
      "image/png": "[encoded data removed]",
      "text/plain": [
       "<Figure size 1000x800 with 2 Axes>"
      ]
     },
     "metadata": {},
     "output_type": "display_data"
    }
   ],
   "source": [
    "# Setting up the figure size\n",
    "plt.figure(figsize=(10,8))\n",
    "\n",
    "# Subplot 1\n",
    "ax1 = plt.subplot(2,1,1)    # subplot with 2 rows, 1 column, index 1\n",
    "ax1.plot(x1, y1, linewidth=2, color='#F77538')\n",
    "ax1.grid(True, axis='y')\n",
    "ax1.set_facecolor('#eafff5')\n",
    "\n",
    "# Subplot 2\n",
    "ax2 = plt.subplot(2,1,2)    # subplot with 2 rows, 1 column, index 2\n",
    "ax2.plot(x2, y2, linewidth=2, color='#1AB75C')\n",
    "ax2.grid(True, axis='y')"
   ]
  },
  {
   "cell_type": "markdown",
   "id": "a45d8bb9",
   "metadata": {
    "slideshow": {
     "slide_type": "slide"
    }
   },
   "source": [
    "### Method 2\n",
    "\n",
    "The `subplots` method creates the figure along with the subplots that are then stored in the `ax` array."
   ]
  },
  {
   "cell_type": "code",
   "execution_count": 98,
   "id": "e8a0e2ae",
   "metadata": {
    "slideshow": {
     "slide_type": "subslide"
    }
   },
   "outputs": [
    {
     "data": {
      "image/png": "[encoded data removed]",
      "text/plain": [
       "<Figure size 1000x800 with 2 Axes>"
      ]
     },
     "metadata": {},
     "output_type": "display_data"
    }
   ],
   "source": [
    "# Setting up the figure size, (width, height) in inches\n",
    "fig, ax = plt.subplots(2, 1)\n",
    "fig.set_figwidth(10)\n",
    "fig.set_figheight(8)\n",
    "\n",
    "# Subplot 1\n",
    "ax[0].plot(x1, y1, linewidth=2, color='#F77538')\n",
    "ax[0].grid(True, axis='y')\n",
    "ax[0].set_facecolor('#eafff5')\n",
    "\n",
    "# Subplot 2\n",
    "ax[1].plot(x2, y2, linewidth=2, color='#1AB75C')\n",
    "ax[1].grid(True, axis='y')"
   ]
  },
  {
   "cell_type": "markdown",
   "id": "fdb884fd",
   "metadata": {
    "slideshow": {
     "slide_type": "slide"
    }
   },
   "source": [
    "<a id='4.2'></a>\n",
    "## <p style=\"background-color:skyblue; font-family:newtimeroman; font-size:150%; text-align:center\">4.2  Matplotlib Plotting with Numpy `ndarray`</p>\n",
    "\n",
    "- We can use NumPy `ndArray` with `Matplotlib` as well. \n",
    "- We just need to ensure that the `ndArray` for both the x-axis and y-axis are of the same shape.\n"
   ]
  },
  {
   "cell_type": "markdown",
   "id": "18e0a6ed",
   "metadata": {
    "slideshow": {
     "slide_type": "slide"
    }
   },
   "source": [
    "---\n",
    "### Plotting with Dictionary\n",
    "\n",
    "- `ndArray` can be stored in a `dictionary` and be subsequently used to plot a graph."
   ]
  },
  {
   "cell_type": "code",
   "execution_count": 99,
   "id": "3d0466f8",
   "metadata": {
    "slideshow": {
     "slide_type": "subslide"
    }
   },
   "outputs": [
    {
     "data": {
      "text/plain": [
       "Text(0, 0.5, 'y-axis')"
      ]
     },
     "execution_count": 99,
     "metadata": {},
     "output_type": "execute_result"
    },
    {
     "data": {
      "image/png": "[encoded data removed]",
      "text/plain": [
       "<Figure size 640x480 with 1 Axes>"
      ]
     },
     "metadata": {},
     "output_type": "display_data"
    }
   ],
   "source": [
    "# x and y have ndarrays of size 50\n",
    "data_dictionary = {'x': np.arange(50),\n",
    "                   'y': np.random.randint(0, 50, 50)}\n",
    "\n",
    "# Plot the graph\n",
    "plt.scatter('x', 'y', data=data_dictionary, marker='o')\n",
    "plt.title(\"Random Values Using Dictionary\")\n",
    "plt.xlabel(\"x-axis\")\n",
    "plt.ylabel(\"y-axis\")"
   ]
  },
  {
   "cell_type": "markdown",
   "id": "2fb744e0",
   "metadata": {
    "slideshow": {
     "slide_type": "slide"
    }
   },
   "source": [
    "<a id='4.3'></a>\n",
    "## <p style=\"background-color:skyblue; font-family:newtimeroman; font-size:150%; text-align:center\">4.3 Matplotlib with Pandas</p>\n",
    "\n",
    "- The plot method on Series and DataFrame is a simple wrapper around `plt.plot()`."
   ]
  },
  {
   "cell_type": "code",
   "execution_count": 100,
   "id": "ea70e013",
   "metadata": {
    "slideshow": {
     "slide_type": "subslide"
    }
   },
   "outputs": [
    {
     "data": {
      "text/plain": [
       "<Axes: >"
      ]
     },
     "execution_count": 100,
     "metadata": {},
     "output_type": "execute_result"
    },
    {
     "data": {
      "image/png": "[encoded data removed]",
      "text/plain": [
       "<Figure size 640x480 with 1 Axes>"
      ]
     },
     "metadata": {},
     "output_type": "display_data"
    }
   ],
   "source": [
    "# Plotting a DataFrame\n",
    "np.random.seed(1)\n",
    "\n",
    "df = pd.DataFrame(data=np.random.randn(365, 4),\n",
    "                  index=pd.date_range('1/1/2023', periods=365), \n",
    "                  columns=['A','B','C','D'])\n",
    "df = df.cumsum()\n",
    "df.plot()"
   ]
  },
  {
   "cell_type": "markdown",
   "id": "b8d4cc01",
   "metadata": {
    "slideshow": {
     "slide_type": "slide"
    }
   },
   "source": [
    "---\n",
    "### Other Plots\n",
    "\n",
    "- Various plots can be created by providing manipulating the `kind` keyword argument to `plot()`:  \n",
    " - `bar` or `barh` for bar plots.\n",
    " - `hist` for histogram.\n",
    " - `box` for boxplot.\n",
    " - `scatter` for scatter plots.  \n",
    " - `pie` for pie plots.  "
   ]
  },
  {
   "cell_type": "markdown",
   "id": "bd760165",
   "metadata": {
    "slideshow": {
     "slide_type": "slide"
    }
   },
   "source": [
    "### Bar Plots \n",
    "\n",
    "- For categorical data, you may wish to produce a bar plot:"
   ]
  },
  {
   "cell_type": "code",
   "execution_count": 101,
   "id": "c07d6192",
   "metadata": {
    "slideshow": {
     "slide_type": "subslide"
    }
   },
   "outputs": [
    {
     "data": {
      "text/plain": [
       "<Axes: xlabel='Labels'>"
      ]
     },
     "execution_count": 101,
     "metadata": {},
     "output_type": "execute_result"
    },
    {
     "data": {
      "image/png": "[encoded data removed]",
      "text/plain": [
       "<Figure size 640x480 with 1 Axes>"
      ]
     },
     "metadata": {},
     "output_type": "display_data"
    }
   ],
   "source": [
    "df = pd.DataFrame({'Labels':['A', 'B', 'C'], \n",
    "                   'Values':[10, 30, 20]})\n",
    "\n",
    "df.plot.bar(x='Labels', \n",
    "            y='Values', \n",
    "            rot=0)    # Label rotation"
   ]
  },
  {
   "cell_type": "markdown",
   "id": "c56a9e3f",
   "metadata": {
    "slideshow": {
     "slide_type": "slide"
    }
   },
   "source": [
    "- Calling a DataFrame’s `plot.bar()` method produces multiple bar plots:"
   ]
  },
  {
   "cell_type": "markdown",
   "id": "bff350a9",
   "metadata": {
    "slideshow": {
     "slide_type": "slide"
    }
   },
   "source": [
    "- To produce a stacked bar plot, pass `stacked=True`."
   ]
  },
  {
   "cell_type": "code",
   "execution_count": 102,
   "id": "31b9d5be",
   "metadata": {
    "slideshow": {
     "slide_type": "subslide"
    }
   },
   "outputs": [
    {
     "name": "stdout",
     "output_type": "stream",
     "text": [
      "          A         B         C         D\n",
      "0  0.618011  0.230990  0.466309  0.491009\n",
      "1  0.766862  0.634281  0.467550  0.666943\n",
      "2  0.453377  0.525712  0.658568  0.181195 \n",
      "\n"
     ]
    },
    {
     "data": {
      "text/plain": [
       "<Axes: >"
      ]
     },
     "execution_count": 102,
     "metadata": {},
     "output_type": "execute_result"
    },
    {
     "data": {
      "image/png": "[encoded data removed]",
      "text/plain": [
       "<Figure size 640x480 with 1 Axes>"
      ]
     },
     "metadata": {},
     "output_type": "display_data"
    }
   ],
   "source": [
    "df2 = pd.DataFrame(np.random.rand(3, 4), \n",
    "                   columns=['A', 'B', 'C', 'D'])\n",
    "\n",
    "print(df2, '\\n')\n",
    "\n",
    "df2.plot.bar(rot=0)"
   ]
  },
  {
   "cell_type": "markdown",
   "id": "80aaf34e",
   "metadata": {
    "slideshow": {
     "slide_type": "slide"
    }
   },
   "source": [
    "- To produce a horizontal bar plot, use the `barh()` method."
   ]
  },
  {
   "cell_type": "code",
   "execution_count": 103,
   "id": "12aa70e8",
   "metadata": {
    "slideshow": {
     "slide_type": "subslide"
    }
   },
   "outputs": [
    {
     "data": {
      "text/plain": [
       "<Axes: >"
      ]
     },
     "execution_count": 103,
     "metadata": {},
     "output_type": "execute_result"
    },
    {
     "data": {
      "image/png": "[encoded data removed]",
      "text/plain": [
       "<Figure size 640x480 with 1 Axes>"
      ]
     },
     "metadata": {},
     "output_type": "display_data"
    }
   ],
   "source": [
    "# Horizontal bar plot\n",
    "df2.plot.barh()\n",
    "\n",
    "# Stacked Horizontal bar plot\n",
    "# df2.plot.barh(stacked=True)"
   ]
  },
  {
   "cell_type": "markdown",
   "id": "d71bd010",
   "metadata": {
    "slideshow": {
     "slide_type": "slide"
    }
   },
   "source": [
    "---\n",
    "### Histograms\n",
    "\n",
    "Histograms can be drawn with the `DataFrame.plot.hist()` and `Series.plot.hist()` methods."
   ]
  },
  {
   "cell_type": "code",
   "execution_count": 104,
   "id": "1c051675",
   "metadata": {
    "slideshow": {
     "slide_type": "subslide"
    }
   },
   "outputs": [
    {
     "data": {
      "text/plain": [
       "<Axes: ylabel='Frequency'>"
      ]
     },
     "execution_count": 104,
     "metadata": {},
     "output_type": "execute_result"
    },
    {
     "data": {
      "image/png": "[encoded data removed]",
      "text/plain": [
       "<Figure size 640x480 with 1 Axes>"
      ]
     },
     "metadata": {},
     "output_type": "display_data"
    }
   ],
   "source": [
    "df3 = pd.DataFrame({'a': np.random.randn(1000)})\n",
    "df3.plot.hist(bins=10)"
   ]
  },
  {
   "cell_type": "markdown",
   "id": "e3d1427b",
   "metadata": {
    "slideshow": {
     "slide_type": "slide"
    }
   },
   "source": [
    "---\n",
    "### Box Plots\n",
    "\n",
    "- Boxplot can be drawn calling `Series.plot.box()` and `DataFrame.plot.box()`, or `DataFrame.boxplot()` to visualize the distribution of values within each column."
   ]
  },
  {
   "cell_type": "code",
   "execution_count": 105,
   "id": "9dcfd123",
   "metadata": {
    "slideshow": {
     "slide_type": "subslide"
    }
   },
   "outputs": [
    {
     "data": {
      "text/plain": [
       "<Axes: >"
      ]
     },
     "execution_count": 105,
     "metadata": {},
     "output_type": "execute_result"
    },
    {
     "data": {
      "image/png": "[encoded data removed]",
      "text/plain": [
       "<Figure size 640x480 with 1 Axes>"
      ]
     },
     "metadata": {},
     "output_type": "display_data"
    }
   ],
   "source": [
    "df = pd.DataFrame(data=np.random.rand(10, 5), \n",
    "                  columns=['A', 'B', 'C', 'D', 'E'])\n",
    "df.plot.box()"
   ]
  },
  {
   "cell_type": "markdown",
   "id": "b29cf299",
   "metadata": {
    "slideshow": {
     "slide_type": "slide"
    }
   },
   "source": [
    "- To create a horizontal boxplot, pass `vert=False`."
   ]
  },
  {
   "cell_type": "code",
   "execution_count": 106,
   "id": "c6469ce0",
   "metadata": {
    "slideshow": {
     "slide_type": "subslide"
    }
   },
   "outputs": [
    {
     "data": {
      "text/plain": [
       "<Axes: >"
      ]
     },
     "execution_count": 106,
     "metadata": {},
     "output_type": "execute_result"
    },
    {
     "data": {
      "image/png": "[encoded data removed]",
      "text/plain": [
       "<Figure size 640x480 with 1 Axes>"
      ]
     },
     "metadata": {},
     "output_type": "display_data"
    }
   ],
   "source": [
    "df.plot.box(vert=False)"
   ]
  },
  {
   "cell_type": "markdown",
   "id": "31cbd3e0",
   "metadata": {
    "slideshow": {
     "slide_type": "slide"
    }
   },
   "source": [
    "---\n",
    "### Scatter Plot\n",
    "\n",
    "- Scatter plot can be drawn by using the `DataFrame.plot.scatter()` method. \n",
    "- Scatter plot requires numerical columns for the x and y axes. \n",
    "- These can be specified by the x and y keywords."
   ]
  },
  {
   "cell_type": "code",
   "execution_count": 107,
   "id": "2d5d2d2d",
   "metadata": {
    "slideshow": {
     "slide_type": "subslide"
    }
   },
   "outputs": [
    {
     "data": {
      "text/plain": [
       "<Axes: xlabel='A', ylabel='B'>"
      ]
     },
     "execution_count": 107,
     "metadata": {},
     "output_type": "execute_result"
    },
    {
     "data": {
      "image/png": "[encoded data removed]",
      "text/plain": [
       "<Figure size 640x480 with 1 Axes>"
      ]
     },
     "metadata": {},
     "output_type": "display_data"
    }
   ],
   "source": [
    "df = pd.DataFrame(np.random.rand(50, 4), columns=['A', 'B', 'C', 'D'])\n",
    "df.plot.scatter(x='A', y='B')"
   ]
  },
  {
   "cell_type": "code",
   "execution_count": 108,
   "id": "0b605647",
   "metadata": {
    "slideshow": {
     "slide_type": "subslide"
    }
   },
   "outputs": [
    {
     "data": {
      "text/plain": [
       "<Axes: xlabel='C', ylabel='D'>"
      ]
     },
     "execution_count": 108,
     "metadata": {},
     "output_type": "execute_result"
    },
    {
     "data": {
      "image/png": "[encoded data removed]",
      "text/plain": [
       "<Figure size 640x480 with 1 Axes>"
      ]
     },
     "metadata": {},
     "output_type": "display_data"
    }
   ],
   "source": [
    "ax = df.plot.scatter(x='A', y='B', color='red', label='Group 1')\n",
    "df.plot.scatter(x='C', y='D', color='blue', label='Group 2', ax=ax)    # Share the same figure"
   ]
  },
  {
   "cell_type": "markdown",
   "id": "0725c1bf",
   "metadata": {
    "slideshow": {
     "slide_type": "slide"
    }
   },
   "source": [
    "---\n",
    "### Pie Plot\n",
    "\n",
    "- You can create a pie plot with `DataFrame.plot.pie()` or `Series.plot.pie()`. \n",
    "- If your data includes any `NaN`, they will be automatically filled with `0`. \n",
    "- A `ValueError` will be raised if there are negative values in your data."
   ]
  },
  {
   "cell_type": "code",
   "execution_count": 109,
   "id": "31eccc03",
   "metadata": {
    "slideshow": {
     "slide_type": "subslide"
    }
   },
   "outputs": [
    {
     "data": {
      "text/plain": [
       "A    2.197503\n",
       "B    2.786241\n",
       "C    0.514832\n",
       "D    0.884505\n",
       "Name: Categories, dtype: float64"
      ]
     },
     "execution_count": 109,
     "metadata": {},
     "output_type": "execute_result"
    }
   ],
   "source": [
    "series = pd.Series(3 * np.random.rand(4), index=['A', 'B', 'C', 'D'], name='Categories')\n",
    "series"
   ]
  },
  {
   "cell_type": "code",
   "execution_count": 110,
   "id": "7d8524bd",
   "metadata": {
    "slideshow": {
     "slide_type": "subslide"
    }
   },
   "outputs": [
    {
     "data": {
      "text/plain": [
       "<Axes: ylabel='Categories'>"
      ]
     },
     "execution_count": 110,
     "metadata": {},
     "output_type": "execute_result"
    },
    {
     "data": {
      "image/png": "[encoded data removed]",
      "text/plain": [
       "<Figure size 600x600 with 1 Axes>"
      ]
     },
     "metadata": {},
     "output_type": "display_data"
    }
   ],
   "source": [
    "series.plot.pie(figsize=(6, 6))"
   ]
  },
  {
   "cell_type": "code",
   "execution_count": 111,
   "id": "5372432f",
   "metadata": {
    "slideshow": {
     "slide_type": "subslide"
    }
   },
   "outputs": [
    {
     "name": "stdout",
     "output_type": "stream",
     "text": [
      "          X         Y\n",
      "A  1.251066  2.160973\n",
      "B  0.000343  0.906998\n",
      "C  0.440268  0.277016\n",
      "D  0.558781  1.036682\n"
     ]
    },
    {
     "data": {
      "text/plain": [
       "array([<Axes: ylabel='X'>, <Axes: ylabel='Y'>], dtype=object)"
      ]
     },
     "execution_count": 111,
     "metadata": {},
     "output_type": "execute_result"
    },
    {
     "data": {
      "image/png": "[encoded data removed]",
      "text/plain": [
       "<Figure size 1000x800 with 2 Axes>"
      ]
     },
     "metadata": {},
     "output_type": "display_data"
    }
   ],
   "source": [
    "np.random.seed(1)\n",
    "\n",
    "df = pd.DataFrame(data=3*np.random.rand(4, 2), \n",
    "                  index=['A', 'B', 'C', 'D'], \n",
    "                  columns=['X', 'Y'])\n",
    "\n",
    "print(df)\n",
    "\n",
    "df.plot.pie(subplots=True, \n",
    "            figsize=(10, 8), \n",
    "            autopct='%.1f')"
   ]
  }
 ],
 "metadata": {
  "kernelspec": {
   "display_name": "base",
   "language": "python",
   "name": "python3"
  },
  "language_info": {
   "codemirror_mode": {
    "name": "ipython",
    "version": 3
   },
   "file_extension": ".py",
   "mimetype": "text/x-python",
   "name": "python",
   "nbconvert_exporter": "python",
   "pygments_lexer": "ipython3",
   "version": "3.12.7"
  }
 },
 "nbformat": 4,
 "nbformat_minor": 5
}
