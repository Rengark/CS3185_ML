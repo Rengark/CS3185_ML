{
 "cells": [
  {
   "cell_type": "markdown",
   "metadata": {
    "id": "o6sAHSliULip",
    "tags": []
   },
   "source": [
    "### Table of Content\n",
    "\n",
    "[1. Logistic Regression Codes](#lgr1) <br>\n",
    "\n",
    "[2. Comparison with Scikit-Learn](#lgr2) <br>\n"
   ]
  },
  {
   "cell_type": "markdown",
   "metadata": {
    "id": "WFUyxqDqULiq"
   },
   "source": [
    "## <a id='lgr1'></a> 1. Logistic Regression Codes"
   ]
  },
  {
   "cell_type": "code",
   "execution_count": 1,
   "metadata": {
    "id": "CX7gwRTxULiq"
   },
   "outputs": [],
   "source": [
    "import pandas as pd\n",
    "import numpy as np"
   ]
  },
  {
   "cell_type": "code",
   "execution_count": 2,
   "metadata": {
    "id": "LXFmNkvMULiq"
   },
   "outputs": [],
   "source": [
    "def sigmoid_func(z):\n",
    "    \"\"\"\n",
    "    The implementaion of sigmoid function\n",
    "    Inputs: z - numpy.ndarray, the intermediate linear results\n",
    "    Outputs: y_hat - numpy.ndarray, the mapped probaility by sigmoid\n",
    "    \"\"\"\n",
    "    y_hat = 1/(1 + np.exp(-z))\n",
    "    return y_hat\n",
    "\n",
    "def y_hat_calc(X, b, W):\n",
    "    \"\"\"\n",
    "    Calculate the predicted outputs, y_hat\n",
    "    Inputs: X - numpy.ndarray, the input feature values\n",
    "            b - float/int, bias\n",
    "            W - numpy.ndarray, weights of features\n",
    "    Outputs: y_hat.T - numpy.ndarray, the transposed predicted probaility outputs\n",
    "    \"\"\"\n",
    "    z = np.dot(W.T, X) + b\n",
    "    y_hat = sigmoid_func(z)\n",
    "    return y_hat.T\n",
    "\n",
    "def cross_entropy_loss(Y, y_hat):\n",
    "    \"\"\"\n",
    "    Find the cross-entropy loss between true outputs and predicted outputs\n",
    "    Inputs: Y - numpy.ndarray, the true output values\n",
    "            y_hat - numpy.ndarray, the predicted output values\n",
    "    Outputs: L - numpy.ndarray, the cross-entropy loss\n",
    "    \"\"\"\n",
    "    L = - np.sum( np.dot(Y.T, np.log(y_hat)) + np.dot((1 - Y).T, np.log(1 - y_hat)) ) / Y.shape[0]\n",
    "    return L"
   ]
  },
  {
   "cell_type": "code",
   "execution_count": 3,
   "metadata": {
    "id": "U6HsM6R5ULir"
   },
   "outputs": [],
   "source": [
    "def predict_class(X, b, W):\n",
    "    '''\n",
    "    Calculate the predicted class based on default threshold 0.5\n",
    "    Inputs: X - numpy.ndarray, the input feature values\n",
    "            b - float/int, bias\n",
    "            W - numpy.ndarray, weights of features\n",
    "    Outputs: numpy.ndarray, the predicted class, 1 or 0\n",
    "    '''\n",
    "    return np.where(y_hat_calc(X, b, W) >= 0.5, 1, 0)\n",
    "\n",
    "def predict_accuracy(Y, X, b, W):\n",
    "    '''\n",
    "    Calculate the accuracy between true and predicted outputs\n",
    "    Inputs: Y - numpy.ndarray, the true output values\n",
    "            X - numpy.ndarray, the insput feature values\n",
    "            b - float/int, bias\n",
    "            W - numpy.ndarray, weights of features\n",
    "    Outputs: float, in range of [0.0, 1.0]\n",
    "    '''\n",
    "    return np.sum(Y == predict_class(X, b, W)) / Y.shape[0]"
   ]
  },
  {
   "cell_type": "code",
   "execution_count": 4,
   "metadata": {
    "id": "PGvuMO_WULir"
   },
   "outputs": [],
   "source": [
    "def update_bias_weights(X, Y, y_hat, b, W, learning_rate):\n",
    "    \"\"\"\n",
    "    Update the bias and weights based on Gradient Descent\n",
    "    Inputs: X - numpy.ndarray, the input feature values\n",
    "            Y - numpy.ndarray, the true output values\n",
    "            y_hat - numpy.ndarray, the predicted output values\n",
    "            b - float/int, bias\n",
    "            W - numpy.ndarray, weights of features\n",
    "            learning_rate - float, the learning rate used in Gradient Descent\n",
    "    Outputs: (b, W) - tuple, the updated bias and weights\n",
    "    \"\"\"\n",
    "    dL_db = np.sum(y_hat - Y) / X.shape[1]\n",
    "    dL_dW = np.dot(X, (y_hat-Y)) / X.shape[1]\n",
    "\n",
    "    b = b - dL_db * learning_rate\n",
    "    W = W - dL_dW * learning_rate\n",
    "\n",
    "    return (b, W)"
   ]
  },
  {
   "cell_type": "code",
   "execution_count": 5,
   "metadata": {
    "id": "TeH0H-NNULir"
   },
   "outputs": [],
   "source": [
    "def train(X, Y, b, W, learning_rate, learning_iterations):\n",
    "    \"\"\"\n",
    "    Train logistic regression model for the specified iterations\n",
    "    Inputs: X - numpy.ndarray, the input feature values\n",
    "            Y - numpy.ndarray, the true output values\n",
    "            b - float/int, bias\n",
    "            W - numpy.ndarray, weights of features\n",
    "            learning_rate - float, the learning rate used in Gradient Descent\n",
    "            learning_iterations - int, the number of times of training\n",
    "    Outputs: (loss_history, b, W) - tuple, return the loss_history, and\n",
    "                                            the final bias and weights\n",
    "    \"\"\"\n",
    "    loss_history = []\n",
    "    for i in range(learning_iterations):\n",
    "        y_hat = y_hat_calc(X, b, W)\n",
    "\n",
    "        b, W = update_bias_weights(X, Y, y_hat, b, W, learning_rate)\n",
    "\n",
    "        # find loss after the ith iteration of updating bias and weights\n",
    "        L = cross_entropy_loss(Y, y_hat_calc(X, b, W))\n",
    "        loss_history.append(L)\n",
    "\n",
    "        if i < 5 or i >= learning_iterations-5:\n",
    "            print (\"iter={:d} \\t b={:.5f} \\t W1={:.5f} \\t W2={:.5f} \\t loss={}\".format(i+1, b, W[0][0], W[1][0], L))\n",
    "\n",
    "    return (loss_history, b, W)"
   ]
  },
  {
   "cell_type": "code",
   "execution_count": 6,
   "metadata": {
    "id": "lYqbxO1KULis"
   },
   "outputs": [],
   "source": [
    "def max_min_norm(X):\n",
    "    \"\"\"\n",
    "    Normalize dataset by using the Max-min normalization technique\n",
    "    Inputs: X - numpy.ndarray, the dataset for normalization\n",
    "    Outputs: (X_norm, np.array(max_min_vals)) - tuple, return the normalized dataset,\n",
    "                                            and the max and min values of each feature\n",
    "    \"\"\"\n",
    "    X_norm = X.copy().astype(float)\n",
    "    max_min_vals = []\n",
    "    for col in range(0, X_norm.shape[1]):\n",
    "        X_max = X_norm[:, col].max()\n",
    "        X_min = X_norm[:, col].min()\n",
    "        X_range = X_max - X_min\n",
    "        X_norm[:, col] = (X_norm[:, col] - X_min) / X_range\n",
    "        max_min_vals.append({\"X_max\":X_max, \"X_min\":X_min, \"X_range\":X_range})\n",
    "    return (X_norm, np.array(max_min_vals))"
   ]
  },
  {
   "cell_type": "code",
   "execution_count": 7,
   "metadata": {
    "colab": {
     "base_uri": "https://localhost:8080/"
    },
    "id": "9hdxwD3nULis",
    "outputId": "800b6930-3c7d-45e8-b3a0-8f700d33fd8b"
   },
   "outputs": [
    {
     "name": "stdout",
     "output_type": "stream",
     "text": [
      "   size_sqft  num_bedrooms  is_easy_sell\n",
      "0       1600             5             1\n",
      "1       1200             4             1\n",
      "2        740             2             0 \n",
      "\n",
      "iter=1 \t b=0.01667 \t W1=0.02558 \t W2=0.02778 \t loss=0.6764246196944534\n",
      "iter=2 \t b=0.03220 \t W1=0.05036 \t W2=0.05470 \t loss=0.6609103694374685\n",
      "iter=3 \t b=0.04666 \t W1=0.07438 \t W2=0.08081 \t loss=0.6465026917750528\n",
      "iter=4 \t b=0.06010 \t W1=0.09766 \t W2=0.10613 \t loss=0.6331070942469185\n",
      "iter=5 \t b=0.07256 \t W1=0.12024 \t W2=0.13071 \t loss=0.6206362623737394\n",
      "iter=499996 \t b=-8.40173 \t W1=12.69092 \t W2=15.49013 \t loss=0.00012961536388369103\n",
      "iter=499997 \t b=-8.40174 \t W1=12.69092 \t W2=15.49013 \t loss=0.00012961510448407314\n",
      "iter=499998 \t b=-8.40174 \t W1=12.69092 \t W2=15.49013 \t loss=0.0001296148450854918\n",
      "iter=499999 \t b=-8.40174 \t W1=12.69093 \t W2=15.49014 \t loss=0.00012961458568794696\n",
      "iter=500000 \t b=-8.40174 \t W1=12.69093 \t W2=15.49014 \t loss=0.00012961432629147565\n"
     ]
    }
   ],
   "source": [
    "# The small dataset\n",
    "data = np.array([[1600,5,1],\n",
    "                 [1200,4,1],\n",
    "                 [740,2,0]])\n",
    "col_names = ['size_sqft', 'num_bedrooms', 'is_easy_sell']\n",
    "print(pd.DataFrame(data, columns=col_names), \"\\n\")\n",
    "\n",
    "X = data[:, :-1] # all rows, all columns except the last column\n",
    "Y = data[:, -1]  # all rows, last column only\n",
    "\n",
    "X, max_min_vals = max_min_norm(X) # normalize the input features\n",
    "X = X.T\n",
    "Y = Y.reshape(-1,1)\n",
    "\n",
    "# Initialize bias and weights\n",
    "initial_b = 0\n",
    "initial_W1 = 0\n",
    "initial_W2 = 0\n",
    "\n",
    "# Set learing rate and iterations\n",
    "learning_rate = 0.1\n",
    "learning_iterations = 500000\n",
    "\n",
    "# Start the training of logistic regression model\n",
    "loss_history, b, W = train(X, Y, initial_b, np.array([[initial_W1],[initial_W2]]), learning_rate, learning_iterations)"
   ]
  },
  {
   "cell_type": "code",
   "execution_count": 8,
   "metadata": {
    "colab": {
     "base_uri": "https://localhost:8080/"
    },
    "id": "pkYlVC57ULit",
    "outputId": "1dc627eb-4b12-4ea7-b954-4711b0d1017c"
   },
   "outputs": [
    {
     "name": "stdout",
     "output_type": "stream",
     "text": [
      "accuracy for training dataset: 1.0\n"
     ]
    }
   ],
   "source": [
    "print(\"accuracy for training dataset:\", predict_accuracy(Y, X, b, W))"
   ]
  },
  {
   "cell_type": "code",
   "execution_count": 9,
   "metadata": {
    "colab": {
     "base_uri": "https://localhost:8080/"
    },
    "id": "p3XhLngjULit",
    "outputId": "8844bf2f-6335-4079-c2f6-3ebe967852da"
   },
   "outputs": [
    {
     "name": "stdout",
     "output_type": "stream",
     "text": [
      "training dataset, probability of belonging to class 1:\n",
      " [[1.000e+00]\n",
      " [9.998e-01]\n",
      " [2.000e-04]]\n"
     ]
    }
   ],
   "source": [
    "print(\"training dataset, probability of belonging to class 1:\\n\",\n",
    "       np.round(y_hat_calc(X, b, W),4))"
   ]
  },
  {
   "cell_type": "code",
   "execution_count": 10,
   "metadata": {
    "colab": {
     "base_uri": "https://localhost:8080/"
    },
    "id": "bo_gAlSfaAAK",
    "outputId": "0251593c-266d-4698-cc49-9a71d022330c"
   },
   "outputs": [
    {
     "name": "stdout",
     "output_type": "stream",
     "text": [
      "training dataset, probability of belonging to class 1:\n",
      " [[1.    ]\n",
      " [0.9998]\n",
      " [0.0002]]\n"
     ]
    }
   ],
   "source": [
    "# change scientific representation to regular representation\n",
    "np.set_printoptions(suppress=True)\n",
    "print(\"training dataset, probability of belonging to class 1:\\n\",\n",
    "       np.round(y_hat_calc(X, b, W),4))"
   ]
  },
  {
   "cell_type": "code",
   "execution_count": 11,
   "metadata": {
    "colab": {
     "base_uri": "https://localhost:8080/"
    },
    "id": "WiQQPdj0ULit",
    "outputId": "7e67e62b-5dfe-48e8-ba14-125911f1fcef"
   },
   "outputs": [
    {
     "name": "stdout",
     "output_type": "stream",
     "text": [
      "training dataset, predicted class:\n",
      " [[1]\n",
      " [1]\n",
      " [0]]\n"
     ]
    }
   ],
   "source": [
    "print(\"training dataset, predicted class:\\n\",\n",
    "       predict_class(X, b, W))"
   ]
  },
  {
   "cell_type": "code",
   "execution_count": 12,
   "metadata": {
    "colab": {
     "base_uri": "https://localhost:8080/"
    },
    "id": "ciyWX60SULit",
    "outputId": "6c59399b-8ef1-42d8-dbfa-529a1e650675"
   },
   "outputs": [
    {
     "name": "stdout",
     "output_type": "stream",
     "text": [
      "For the house with 1200 sqft and 3 bedrooms, predicted class: 1 (i.e., Yes, easy to sell)\n",
      "\n",
      ", and probability of belonging to class 1 is 0.97\n"
     ]
    }
   ],
   "source": [
    "new_data = np.array([[1200,3]], dtype = float)\n",
    "\n",
    "# Max-min normalization\n",
    "for col in range(0, new_data.shape[1]):\n",
    "    new_data[:, col] = ((new_data[:, col]\n",
    "                        - max_min_vals[col]['X_min'])\n",
    "                        / max_min_vals[col]['X_range'])\n",
    "\n",
    "new_data = new_data.T\n",
    "\n",
    "predicted_class = predict_class(new_data, b, W)\n",
    "\n",
    "print (\"For the house with 1200 sqft and 3 bedrooms, predicted class:\",\n",
    "       '1 (i.e., Yes, easy to sell)' if predicted_class[0][0] == 1\n",
    "       else '0 (i.e., No, not easy to sell)')\n",
    "\n",
    "print (\"\\n, and probability of belonging to class 1 is\",\n",
    "       np.round(y_hat_calc(new_data, b, W)[0][0], 2))"
   ]
  },
  {
   "cell_type": "markdown",
   "metadata": {
    "id": "0IhXMk2ga4Rq"
   },
   "source": [
    "Ex. what is the probability of beloning to class 0? (not easy to sell)"
   ]
  },
  {
   "cell_type": "code",
   "execution_count": 13,
   "metadata": {
    "colab": {
     "base_uri": "https://localhost:8080/",
     "height": 558
    },
    "id": "9e3lW8FCULit",
    "outputId": "2661e044-d489-4b5d-a9b3-52e28e12935c"
   },
   "outputs": [
    {
     "data": {
      "image/png": "[encoded data removed]",
      "text/plain": [
       "<Figure size 1000x600 with 1 Axes>"
      ]
     },
     "metadata": {},
     "output_type": "display_data"
    }
   ],
   "source": [
    "import matplotlib.pyplot as plt\n",
    "\n",
    "itr = list(range(0, learning_iterations))\n",
    "fig = plt.figure(figsize = (10, 6))\n",
    "plt.xlabel('Learning Iterations', fontsize=18)\n",
    "plt.ylabel('Cross Entropy Loss', fontsize=18)\n",
    "plt.yticks(fontsize=14)\n",
    "plt.xticks(fontsize=14)\n",
    "# plt.tick_params(axis='x', which='both', bottom=False, top=False, labelbottom=False)\n",
    "# plt.tick_params(axis='y', which='both', bottom=False, top=False, labelbottom=False)\n",
    "# plt.scatter(itr[0:100], cost_history[0:100], s=20)\n",
    "plt.plot(itr[:10000], loss_history[:10000], color='black')\n",
    "# plt.savefig('LGR_10000.jpg', dpi=600)\n",
    "plt.show()"
   ]
  },
  {
   "cell_type": "code",
   "execution_count": 14,
   "metadata": {
    "colab": {
     "base_uri": "https://localhost:8080/",
     "height": 558
    },
    "id": "ln9BTZKrULit",
    "outputId": "f1e4d2e1-d02f-463e-c4a7-6a722fac8568"
   },
   "outputs": [
    {
     "data": {
      "image/png": "[encoded data removed]",
      "text/plain": [
       "<Figure size 1000x600 with 1 Axes>"
      ]
     },
     "metadata": {},
     "output_type": "display_data"
    }
   ],
   "source": [
    "itr = list(range(0, learning_iterations))\n",
    "fig = plt.figure(figsize = (10, 6))\n",
    "plt.xlabel('Learning Iterations', fontsize=18)\n",
    "plt.ylabel('Cross Entropy Loss', fontsize=18)\n",
    "plt.yticks(fontsize=14)\n",
    "plt.xticks(fontsize=14)\n",
    "# plt.tick_params(axis='x', which='both', bottom=False, top=False, labelbottom=False)\n",
    "# plt.tick_params(axis='y', which='both', bottom=False, top=False, labelbottom=False)\n",
    "plt.plot(itr[:], loss_history[:], color='black')\n",
    "# plt.savefig('LGR_all.jpg', dpi=600)\n",
    "plt.show()"
   ]
  },
  {
   "cell_type": "markdown",
   "metadata": {
    "id": "EXheoaxkULiu"
   },
   "source": [
    "## <a id='lgr2'></a> 2. Comparison with Scikit-Learn"
   ]
  },
  {
   "cell_type": "code",
   "execution_count": 21,
   "metadata": {
    "colab": {
     "base_uri": "https://localhost:8080/"
    },
    "id": "0jeZOS2AULiu",
    "outputId": "8d51a7e5-a48e-4510-b96b-acd326801829"
   },
   "outputs": [
    {
     "name": "stdout",
     "output_type": "stream",
     "text": [
      "accuracy for training dataset: 1.0\n"
     ]
    }
   ],
   "source": [
    "import numpy as np\n",
    "from sklearn.linear_model import LogisticRegression\n",
    "from sklearn.metrics import accuracy_score\n",
    "from sklearn.preprocessing import MinMaxScaler\n",
    "\n",
    "# The small dataset\n",
    "data = np.array([[1600,5,1],\n",
    "                 [1200,4,1],\n",
    "                 [740,2,0]])\n",
    "\n",
    "X = data[:, :-1] # all rows, all columns except the last column\n",
    "Y = data[:, -1]  # all rows, last column only\n",
    "\n",
    "scaler = MinMaxScaler()\n",
    "scaler.fit(X)\n",
    "X = scaler.transform(X) # update to Normalized X\n",
    "\n",
    "lgr = LogisticRegression(penalty=None, tol=1.5e-4).fit(X, Y)\n",
    "\n",
    "print(\"accuracy for training dataset:\", accuracy_score(Y, lgr.predict(X)))"
   ]
  },
  {
   "cell_type": "code",
   "execution_count": 16,
   "metadata": {
    "colab": {
     "base_uri": "https://localhost:8080/"
    },
    "id": "iSPWXfDgULiu",
    "outputId": "c2559c94-2fb5-4eb0-d372-91ce1ab6cc8f"
   },
   "outputs": [
    {
     "name": "stdout",
     "output_type": "stream",
     "text": [
      "training dataset, probabilities of belonging to class 1:\n",
      " [[1.    ]\n",
      " [0.9998]\n",
      " [0.0002]]\n"
     ]
    }
   ],
   "source": [
    "print(\"training dataset, probabilities of belonging to class 1:\\n\",\n",
    "       np.round(lgr.predict_proba(X)[:,1].reshape(-1,1), 4))"
   ]
  },
  {
   "cell_type": "code",
   "execution_count": 17,
   "metadata": {
    "colab": {
     "base_uri": "https://localhost:8080/"
    },
    "id": "Q2yJ4x0lULiu",
    "outputId": "d02086f9-a109-4471-9fee-7c74b29f896e"
   },
   "outputs": [
    {
     "name": "stdout",
     "output_type": "stream",
     "text": [
      "training dataset, predicted class:\n",
      " [[1]\n",
      " [1]\n",
      " [0]]\n"
     ]
    }
   ],
   "source": [
    "print(\"training dataset, predicted class:\\n\",\n",
    "       lgr.predict(X).reshape(-1,1))"
   ]
  },
  {
   "cell_type": "code",
   "execution_count": 18,
   "metadata": {
    "colab": {
     "base_uri": "https://localhost:8080/"
    },
    "id": "6dEiwoANULiu",
    "outputId": "3eb6cb88-3334-4e68-db51-36a1fe1cb2eb"
   },
   "outputs": [
    {
     "name": "stdout",
     "output_type": "stream",
     "text": [
      "For the house with 1200 sqft and 3 bedrooms, predicted class: 1 (i.e., Yes, easy to sell)\n",
      "\n",
      ", and probability of belonging to class 1 is 0.97\n"
     ]
    }
   ],
   "source": [
    "new_data = np.array([[1200,3]], dtype = float)\n",
    "new_data = scaler.transform(new_data)\n",
    "\n",
    "print (\"For the house with 1200 sqft and 3 bedrooms, predicted class:\",\n",
    "       '1 (i.e., Yes, easy to sell)' if lgr.predict(new_data)[0] == 1\n",
    "       else '0 (i.e., No, not easy to sell)')\n",
    "\n",
    "print (\"\\n, and probability of belonging to class 1 is\",\n",
    "       np.round(lgr.predict_proba(new_data)[0][1], 2))"
   ]
  },
  {
   "cell_type": "markdown",
   "metadata": {
    "id": "nw1CbFi4clDb"
   },
   "source": [
    "### Ex. California Housing Sale Prediction\n",
    "\n",
    "Given the dataset available at the following link: https://raw.githubusercontent.com/annesjyu/dataengr2025/refs/heads/main/california_housing_train.csv, perform the following steps:\n",
    "\n",
    "* Define Independent Variables:\n",
    "\n",
    "  * num_bedrooms: total_bedrooms / households\n",
    "  * housing_median_age: Use directly from the dataset.\n",
    "\n",
    "* Define the Dependent Variable:\n",
    "\n",
    "Assume the target variable, is_easy_sell, is not explicitly available in the dataset but can be transformed using:\n",
    "\n",
    "$$\\text{is_easy_sell} = \\begin{cases} 1 & \\text{if } \\text{median_house_value} \\geq \\text{median}(\\text{median_house_value}) \\\\ 0 & \\text{otherwise} \\end{cases}\n",
    "$$\n",
    "\n",
    "\n",
    "* Objective:\n",
    "\n",
    "Build a linear classification model to predict whether a given house is \"easy to sell\" (1) or \"not easy to sell\" (0) based on the defined independent variables."
   ]
  },
  {
   "cell_type": "code",
   "execution_count": 19,
   "metadata": {
    "colab": {
     "base_uri": "https://localhost:8080/",
     "height": 443
    },
    "id": "VBoyzlWTee2X",
    "outputId": "c39dc5c0-7856-4278-c919-2b021a2b2c73"
   },
   "outputs": [
    {
     "data": {
      "text/html": [
       "<div>\n",
       "<style scoped>\n",
       "    .dataframe tbody tr th:only-of-type {\n",
       "        vertical-align: middle;\n",
       "    }\n",
       "\n",
       "    .dataframe tbody tr th {\n",
       "        vertical-align: top;\n",
       "    }\n",
       "\n",
       "    .dataframe thead th {\n",
       "        text-align: right;\n",
       "    }\n",
       "</style>\n",
       "<table border=\"1\" class=\"dataframe\">\n",
       "  <thead>\n",
       "    <tr style=\"text-align: right;\">\n",
       "      <th></th>\n",
       "      <th>longitude</th>\n",
       "      <th>latitude</th>\n",
       "      <th>housing_median_age</th>\n",
       "      <th>total_rooms</th>\n",
       "      <th>total_bedrooms</th>\n",
       "      <th>population</th>\n",
       "      <th>households</th>\n",
       "      <th>median_income</th>\n",
       "      <th>median_house_value</th>\n",
       "    </tr>\n",
       "  </thead>\n",
       "  <tbody>\n",
       "    <tr>\n",
       "      <th>0</th>\n",
       "      <td>-114.31</td>\n",
       "      <td>34.19</td>\n",
       "      <td>15.0</td>\n",
       "      <td>5612.0</td>\n",
       "      <td>1283.0</td>\n",
       "      <td>1015.0</td>\n",
       "      <td>472.0</td>\n",
       "      <td>1.4936</td>\n",
       "      <td>66900.0</td>\n",
       "    </tr>\n",
       "    <tr>\n",
       "      <th>1</th>\n",
       "      <td>-114.47</td>\n",
       "      <td>34.40</td>\n",
       "      <td>19.0</td>\n",
       "      <td>7650.0</td>\n",
       "      <td>1901.0</td>\n",
       "      <td>1129.0</td>\n",
       "      <td>463.0</td>\n",
       "      <td>1.8200</td>\n",
       "      <td>80100.0</td>\n",
       "    </tr>\n",
       "    <tr>\n",
       "      <th>2</th>\n",
       "      <td>-114.56</td>\n",
       "      <td>33.69</td>\n",
       "      <td>17.0</td>\n",
       "      <td>720.0</td>\n",
       "      <td>174.0</td>\n",
       "      <td>333.0</td>\n",
       "      <td>117.0</td>\n",
       "      <td>1.6509</td>\n",
       "      <td>85700.0</td>\n",
       "    </tr>\n",
       "    <tr>\n",
       "      <th>3</th>\n",
       "      <td>-114.57</td>\n",
       "      <td>33.64</td>\n",
       "      <td>14.0</td>\n",
       "      <td>1501.0</td>\n",
       "      <td>337.0</td>\n",
       "      <td>515.0</td>\n",
       "      <td>226.0</td>\n",
       "      <td>3.1917</td>\n",
       "      <td>73400.0</td>\n",
       "    </tr>\n",
       "    <tr>\n",
       "      <th>4</th>\n",
       "      <td>-114.57</td>\n",
       "      <td>33.57</td>\n",
       "      <td>20.0</td>\n",
       "      <td>1454.0</td>\n",
       "      <td>326.0</td>\n",
       "      <td>624.0</td>\n",
       "      <td>262.0</td>\n",
       "      <td>1.9250</td>\n",
       "      <td>65500.0</td>\n",
       "    </tr>\n",
       "    <tr>\n",
       "      <th>...</th>\n",
       "      <td>...</td>\n",
       "      <td>...</td>\n",
       "      <td>...</td>\n",
       "      <td>...</td>\n",
       "      <td>...</td>\n",
       "      <td>...</td>\n",
       "      <td>...</td>\n",
       "      <td>...</td>\n",
       "      <td>...</td>\n",
       "    </tr>\n",
       "    <tr>\n",
       "      <th>16995</th>\n",
       "      <td>-124.26</td>\n",
       "      <td>40.58</td>\n",
       "      <td>52.0</td>\n",
       "      <td>2217.0</td>\n",
       "      <td>394.0</td>\n",
       "      <td>907.0</td>\n",
       "      <td>369.0</td>\n",
       "      <td>2.3571</td>\n",
       "      <td>111400.0</td>\n",
       "    </tr>\n",
       "    <tr>\n",
       "      <th>16996</th>\n",
       "      <td>-124.27</td>\n",
       "      <td>40.69</td>\n",
       "      <td>36.0</td>\n",
       "      <td>2349.0</td>\n",
       "      <td>528.0</td>\n",
       "      <td>1194.0</td>\n",
       "      <td>465.0</td>\n",
       "      <td>2.5179</td>\n",
       "      <td>79000.0</td>\n",
       "    </tr>\n",
       "    <tr>\n",
       "      <th>16997</th>\n",
       "      <td>-124.30</td>\n",
       "      <td>41.84</td>\n",
       "      <td>17.0</td>\n",
       "      <td>2677.0</td>\n",
       "      <td>531.0</td>\n",
       "      <td>1244.0</td>\n",
       "      <td>456.0</td>\n",
       "      <td>3.0313</td>\n",
       "      <td>103600.0</td>\n",
       "    </tr>\n",
       "    <tr>\n",
       "      <th>16998</th>\n",
       "      <td>-124.30</td>\n",
       "      <td>41.80</td>\n",
       "      <td>19.0</td>\n",
       "      <td>2672.0</td>\n",
       "      <td>552.0</td>\n",
       "      <td>1298.0</td>\n",
       "      <td>478.0</td>\n",
       "      <td>1.9797</td>\n",
       "      <td>85800.0</td>\n",
       "    </tr>\n",
       "    <tr>\n",
       "      <th>16999</th>\n",
       "      <td>-124.35</td>\n",
       "      <td>40.54</td>\n",
       "      <td>52.0</td>\n",
       "      <td>1820.0</td>\n",
       "      <td>300.0</td>\n",
       "      <td>806.0</td>\n",
       "      <td>270.0</td>\n",
       "      <td>3.0147</td>\n",
       "      <td>94600.0</td>\n",
       "    </tr>\n",
       "  </tbody>\n",
       "</table>\n",
       "<p>17000 rows × 9 columns</p>\n",
       "</div>"
      ],
      "text/plain": [
       "       longitude  latitude  housing_median_age  total_rooms  total_bedrooms  \\\n",
       "0        -114.31     34.19                15.0       5612.0          1283.0   \n",
       "1        -114.47     34.40                19.0       7650.0          1901.0   \n",
       "2        -114.56     33.69                17.0        720.0           174.0   \n",
       "3        -114.57     33.64                14.0       1501.0           337.0   \n",
       "4        -114.57     33.57                20.0       1454.0           326.0   \n",
       "...          ...       ...                 ...          ...             ...   \n",
       "16995    -124.26     40.58                52.0       2217.0           394.0   \n",
       "16996    -124.27     40.69                36.0       2349.0           528.0   \n",
       "16997    -124.30     41.84                17.0       2677.0           531.0   \n",
       "16998    -124.30     41.80                19.0       2672.0           552.0   \n",
       "16999    -124.35     40.54                52.0       1820.0           300.0   \n",
       "\n",
       "       population  households  median_income  median_house_value  \n",
       "0          1015.0       472.0         1.4936             66900.0  \n",
       "1          1129.0       463.0         1.8200             80100.0  \n",
       "2           333.0       117.0         1.6509             85700.0  \n",
       "3           515.0       226.0         3.1917             73400.0  \n",
       "4           624.0       262.0         1.9250             65500.0  \n",
       "...           ...         ...            ...                 ...  \n",
       "16995       907.0       369.0         2.3571            111400.0  \n",
       "16996      1194.0       465.0         2.5179             79000.0  \n",
       "16997      1244.0       456.0         3.0313            103600.0  \n",
       "16998      1298.0       478.0         1.9797             85800.0  \n",
       "16999       806.0       270.0         3.0147             94600.0  \n",
       "\n",
       "[17000 rows x 9 columns]"
      ]
     },
     "execution_count": 19,
     "metadata": {},
     "output_type": "execute_result"
    }
   ],
   "source": [
    "# Load the dataset into a dataframe\n",
    "data = pd.read_csv(\"https://raw.githubusercontent.com/annesjyu/dataengr2025/refs/heads/main/california_housing_train.csv\")\n",
    "data"
   ]
  },
  {
   "cell_type": "code",
   "execution_count": 20,
   "metadata": {
    "colab": {
     "base_uri": "https://localhost:8080/",
     "height": 423
    },
    "id": "Mb5x2_7ne18Y",
    "outputId": "2dd61916-9c89-4466-d1e7-323ccfce242f"
   },
   "outputs": [
    {
     "data": {
      "text/html": [
       "<div>\n",
       "<style scoped>\n",
       "    .dataframe tbody tr th:only-of-type {\n",
       "        vertical-align: middle;\n",
       "    }\n",
       "\n",
       "    .dataframe tbody tr th {\n",
       "        vertical-align: top;\n",
       "    }\n",
       "\n",
       "    .dataframe thead th {\n",
       "        text-align: right;\n",
       "    }\n",
       "</style>\n",
       "<table border=\"1\" class=\"dataframe\">\n",
       "  <thead>\n",
       "    <tr style=\"text-align: right;\">\n",
       "      <th></th>\n",
       "      <th>housing_median_age</th>\n",
       "      <th>num_bedrooms</th>\n",
       "    </tr>\n",
       "  </thead>\n",
       "  <tbody>\n",
       "    <tr>\n",
       "      <th>0</th>\n",
       "      <td>15.0</td>\n",
       "      <td>2.718220</td>\n",
       "    </tr>\n",
       "    <tr>\n",
       "      <th>1</th>\n",
       "      <td>19.0</td>\n",
       "      <td>4.105832</td>\n",
       "    </tr>\n",
       "    <tr>\n",
       "      <th>2</th>\n",
       "      <td>17.0</td>\n",
       "      <td>1.487179</td>\n",
       "    </tr>\n",
       "    <tr>\n",
       "      <th>3</th>\n",
       "      <td>14.0</td>\n",
       "      <td>1.491150</td>\n",
       "    </tr>\n",
       "    <tr>\n",
       "      <th>4</th>\n",
       "      <td>20.0</td>\n",
       "      <td>1.244275</td>\n",
       "    </tr>\n",
       "    <tr>\n",
       "      <th>...</th>\n",
       "      <td>...</td>\n",
       "      <td>...</td>\n",
       "    </tr>\n",
       "    <tr>\n",
       "      <th>16995</th>\n",
       "      <td>52.0</td>\n",
       "      <td>1.067751</td>\n",
       "    </tr>\n",
       "    <tr>\n",
       "      <th>16996</th>\n",
       "      <td>36.0</td>\n",
       "      <td>1.135484</td>\n",
       "    </tr>\n",
       "    <tr>\n",
       "      <th>16997</th>\n",
       "      <td>17.0</td>\n",
       "      <td>1.164474</td>\n",
       "    </tr>\n",
       "    <tr>\n",
       "      <th>16998</th>\n",
       "      <td>19.0</td>\n",
       "      <td>1.154812</td>\n",
       "    </tr>\n",
       "    <tr>\n",
       "      <th>16999</th>\n",
       "      <td>52.0</td>\n",
       "      <td>1.111111</td>\n",
       "    </tr>\n",
       "  </tbody>\n",
       "</table>\n",
       "<p>17000 rows × 2 columns</p>\n",
       "</div>"
      ],
      "text/plain": [
       "       housing_median_age  num_bedrooms\n",
       "0                    15.0      2.718220\n",
       "1                    19.0      4.105832\n",
       "2                    17.0      1.487179\n",
       "3                    14.0      1.491150\n",
       "4                    20.0      1.244275\n",
       "...                   ...           ...\n",
       "16995                52.0      1.067751\n",
       "16996                36.0      1.135484\n",
       "16997                17.0      1.164474\n",
       "16998                19.0      1.154812\n",
       "16999                52.0      1.111111\n",
       "\n",
       "[17000 rows x 2 columns]"
      ]
     },
     "execution_count": 20,
     "metadata": {},
     "output_type": "execute_result"
    }
   ],
   "source": [
    "# load data\n",
    "X = data[['total_bedrooms', 'housing_median_age']].copy()\n",
    "X.loc[:, 'num_bedrooms'] = X['total_bedrooms'] / data['households']\n",
    "X.drop('total_bedrooms', axis=1, inplace=True)\n",
    "X"
   ]
  }
 ],
 "metadata": {
  "colab": {
   "provenance": [],
   "toc_visible": true
  },
  "kernelspec": {
   "display_name": "Python 3 (ipykernel)",
   "language": "python",
   "name": "python3"
  },
  "language_info": {
   "codemirror_mode": {
    "name": "ipython",
    "version": 3
   },
   "file_extension": ".py",
   "mimetype": "text/x-python",
   "name": "python",
   "nbconvert_exporter": "python",
   "pygments_lexer": "ipython3",
   "version": "3.10.9"
  }
 },
 "nbformat": 4,
 "nbformat_minor": 1
}
