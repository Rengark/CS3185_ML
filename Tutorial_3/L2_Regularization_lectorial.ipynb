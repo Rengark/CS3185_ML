{
 "cells": [
  {
   "cell_type": "markdown",
   "metadata": {},
   "source": [
    "### Table of Content\n",
    "\n",
    "[1. Linear Regression with L2 Regularization Codes](#lr1_L2) <br>\n",
    "\n",
    "[2. Comparison with Scikit-Learn](#lr2_L2) <br>\n"
   ]
  },
  {
   "cell_type": "markdown",
   "metadata": {},
   "source": [
    "## <a id='lr1_L2'></a> 1. Linear Regression with L2 Regularization Codes"
   ]
  },
  {
   "cell_type": "code",
   "execution_count": 1,
   "metadata": {},
   "outputs": [],
   "source": [
    "import pandas as pd\n",
    "import numpy as np"
   ]
  },
  {
   "cell_type": "code",
   "execution_count": 2,
   "metadata": {},
   "outputs": [],
   "source": [
    "def loss_MSE(X, Y, b, W1, W2): # Mean Squared Error\n",
    "    \"\"\"\n",
    "    Find the Mean Squared Error between true outputs and predicted outputs\n",
    "    Inputs: X - list, the input feature values\n",
    "            Y - list, the true output values\n",
    "            b - float/int, bias\n",
    "            W1 - float/int, weight for the 1st feature (i.e., size_sqft)\n",
    "            W2 - float/int, weight for the 2nd feature (i.e., num_bedrooms)\n",
    "    Outputs: MSE - float\n",
    "    \"\"\"\n",
    "    X1 = [val[0] for val in X]\n",
    "    X2 = [val[1] for val in X]\n",
    "    m = len(X)\n",
    "    total_loss = 0\n",
    "    for i in range(m):\n",
    "        total_loss = total_loss + (Y[i] - (b + X1[i]*W1 + X2[i]*W2))**2\n",
    "    MSE = total_loss / m\n",
    "    return MSE"
   ]
  },
  {
   "cell_type": "code",
   "execution_count": 3,
   "metadata": {},
   "outputs": [],
   "source": [
    "def update_bias_weights(X, Y, b, W1, W2, learning_rate, penalty_coef):\n",
    "    \"\"\"\n",
    "    Update the bias and weights based on Gradient Descent \n",
    "    Inputs: X - list, the input feature values\n",
    "            Y - list, the true output values\n",
    "            b - float/int, bias\n",
    "            W1 - float/int, weight for the 1st feature (i.e., size_sqft)\n",
    "            W2 - float/int, weight for the 2nd feature (i.e., num_bedrooms)\n",
    "            learning_rate - float, the learning rate used in Gradient Descent\n",
    "            penalty_coef - float, the penalty coefficient that multiplies the L2 term\n",
    "    Outputs: (b, W1, W2) - tuple, the updated bias and weights\n",
    "    \"\"\"\n",
    "    X1 = [val[0] for val in X]\n",
    "    X2 = [val[1] for val in X]\n",
    "    m = len(X)\n",
    "    dL_dW1 = 0\n",
    "    dL_dW2 = 0\n",
    "    dL_db  = 0\n",
    "    \n",
    "    for i in range(m):     \n",
    "        dL_db  = dL_db  + 2 * (Y[i] - (b + X1[i]*W1 + X2[i]*W2)) * (-1)\n",
    "        dL_dW1 = dL_dW1 + 2 * (Y[i] - (b + X1[i]*W1 + X2[i]*W2)) * (-X1[i])\n",
    "        dL_dW2 = dL_dW2 + 2 * (Y[i] - (b + X1[i]*W1 + X2[i]*W2)) * (-X2[i])\n",
    "            \n",
    "    dL_db  = dL_db\n",
    "    dL_dW1 = dL_dW1 + (2 * penalty_coef * W1)\n",
    "    dL_dW2 = dL_dW2 + (2 * penalty_coef * W2)\n",
    "\n",
    "    # We subtract because the derivatives point in direction of steepest ascent\n",
    "    b  = b  - dL_db  * learning_rate\n",
    "    W1 = W1 - dL_dW1 * learning_rate \n",
    "    W2 = W2 - dL_dW2 * learning_rate\n",
    "\n",
    "    return (b, W1, W2)"
   ]
  },
  {
   "cell_type": "code",
   "execution_count": 4,
   "metadata": {},
   "outputs": [],
   "source": [
    "def train(X, Y, b, W1, W2, learning_rate, learning_iterations, penalty_coef):\n",
    "    \"\"\"\n",
    "    Train linear regression model for the specified iterations\n",
    "    Inputs: X - list, the input feature values\n",
    "            Y - list, the true output values\n",
    "            b - float/int, bias\n",
    "            W1 - float/int, weight for the 1st feature (i.e., size_sqft)\n",
    "            W2 - float/int, weight for the 2nd feature (i.e., num_bedrooms)\n",
    "            learning_rate - float, the learning rate used in Gradient Descent\n",
    "            learning_iterations - int, the number of times of training\n",
    "    Outputs: (loss_history, b, W1, W2) - tuple, return the loss_history, and \n",
    "                                                the final bias and weights\n",
    "    \"\"\"\n",
    "    loss_history = []\n",
    "\n",
    "    for i in range(learning_iterations):\n",
    "        b, W1, W2 = update_bias_weights(X, Y, b, W1, W2, learning_rate, penalty_coef)\n",
    "        \n",
    "        # find MSE after the ith iteration of updating bias and weights\n",
    "        loss = loss_MSE(X, Y, b, W1, W2)\n",
    "        loss_history.append(loss)\n",
    "        \n",
    "        if i < 5 or i >= learning_iterations-5:\n",
    "            print (\"iter={:d} \\t b={:.5f} \\t W1={:.5f} \\t W2={:.5f} \\t MSE={}\".format(i+1, b, W1, W2, loss))\n",
    "    return (loss_history, b, W1, W2)"
   ]
  },
  {
   "cell_type": "code",
   "execution_count": 5,
   "metadata": {},
   "outputs": [],
   "source": [
    "def max_min_norm(X):\n",
    "    \"\"\"\n",
    "    Normalize dataset by using the Max-min normalization technique\n",
    "    Inputs: X - numpy.ndarray, the dataset for normalization\n",
    "    Outputs: (X_norm, np.array(max_min_vals)) - tuple, return the normalized dataset, \n",
    "                                            and the max and min values of each feature\n",
    "    \"\"\"\n",
    "    X_norm = X.copy().astype(float)\n",
    "    max_min_vals = []\n",
    "    for col in range(0, X_norm.shape[1]):\n",
    "        X_max = X_norm[:, col].max()\n",
    "        X_min = X_norm[:, col].min()\n",
    "        X_range = X_max - X_min\n",
    "        X_norm[:, col] = (X_norm[:, col] - X_min) / X_range\n",
    "        max_min_vals.append({\"X_max\":X_max, \"X_min\":X_min, \"X_range\":X_range})\n",
    "    return (X_norm, np.array(max_min_vals))"
   ]
  },
  {
   "cell_type": "code",
   "execution_count": 6,
   "metadata": {},
   "outputs": [
    {
     "name": "stdout",
     "output_type": "stream",
     "text": [
      "   size_sqft  num_bedrooms  sale_price_million\n",
      "0     1600.0           5.0                2.28\n",
      "1     1200.0           4.0                1.50\n",
      "2      740.0           2.0                0.88 \n",
      "\n",
      "iter=1 \t b=0.00932 \t W1=0.00616 \t W2=0.00656 \t MSE=2.6852541963795\n",
      "iter=2 \t b=0.01854 \t W1=0.01227 \t W2=0.01305 \t MSE=2.630717277484433\n",
      "iter=3 \t b=0.02767 \t W1=0.01830 \t W2=0.01948 \t MSE=2.577299090027449\n",
      "iter=4 \t b=0.03670 \t W1=0.02428 \t W2=0.02583 \t MSE=2.5249766308904253\n",
      "iter=5 \t b=0.04564 \t W1=0.03019 \t W2=0.03213 \t MSE=2.473727370498438\n",
      "iter=499996 \t b=0.89066 \t W1=0.70996 \t W2=0.53900 \t MSE=0.0122176028514185\n",
      "iter=499997 \t b=0.89066 \t W1=0.70996 \t W2=0.53900 \t MSE=0.0122176028514185\n",
      "iter=499998 \t b=0.89066 \t W1=0.70996 \t W2=0.53900 \t MSE=0.0122176028514185\n",
      "iter=499999 \t b=0.89066 \t W1=0.70996 \t W2=0.53900 \t MSE=0.0122176028514185\n",
      "iter=500000 \t b=0.89066 \t W1=0.70996 \t W2=0.53900 \t MSE=0.0122176028514185\n"
     ]
    }
   ],
   "source": [
    "# The small dataset\n",
    "data = np.array([[1600,5,2.28],\n",
    "                 [1200,4,1.5],\n",
    "                 [740,2,0.88]])\n",
    "col_names = ['size_sqft', 'num_bedrooms', 'sale_price_million']\n",
    "print(pd.DataFrame(data, columns=col_names), \"\\n\")\n",
    "\n",
    "X = data[:, :-1] # all rows, all columns except the last column\n",
    "Y = data[:, -1]  # all rows, last column only\n",
    "\n",
    "X, max_min_vals = max_min_norm(X) # normalize the input features\n",
    "X = X.tolist()\n",
    "Y = Y.tolist()\n",
    "\n",
    "# Initialize bias and weights\n",
    "initial_b  = 0\n",
    "initial_W1 = 0\n",
    "initial_W2 = 0\n",
    "\n",
    "# Set learing rate and iterations\n",
    "learning_rate = 0.001\n",
    "learning_iterations = 500000\n",
    "\n",
    "# Set penalty coefficient\n",
    "penalty_coef = 0.1\n",
    "\n",
    "# Start the training of linear regression model\n",
    "loss_history, b, W1, W2 = train(X, Y, initial_b, initial_W1, initial_W2, learning_rate, learning_iterations, penalty_coef)"
   ]
  },
  {
   "cell_type": "code",
   "execution_count": 7,
   "metadata": {},
   "outputs": [
    {
     "name": "stdout",
     "output_type": "stream",
     "text": [
      "For the house with 1200 sqft and 3 bedrooms, \n",
      "the sale price is predicted to be 1.45 million.\n"
     ]
    }
   ],
   "source": [
    "new_data = np.array([[1200,3]], dtype = float)\n",
    "\n",
    "# Max-min normalization\n",
    "for col in range(0, new_data.shape[1]):\n",
    "    new_data[:, col] = ((new_data[:, col] \n",
    "                        - max_min_vals[col]['X_min']) \n",
    "                        / max_min_vals[col]['X_range'])\n",
    "    \n",
    "# Use the final bias and weights values\n",
    "predicted_price = b + W1*new_data[0][0] + W2*new_data[0][1]\n",
    "\n",
    "print(f'''For the house with 1200 sqft and 3 bedrooms, \n",
    "the sale price is predicted to be {np.round(predicted_price,3)} million.''')"
   ]
  },
  {
   "cell_type": "code",
   "execution_count": 8,
   "metadata": {},
   "outputs": [
    {
     "data": {
      "image/png": "[encoded data removed]",
      "text/plain": [
       "<Figure size 720x432 with 1 Axes>"
      ]
     },
     "metadata": {
      "needs_background": "light"
     },
     "output_type": "display_data"
    }
   ],
   "source": [
    "import matplotlib.pyplot as plt\n",
    "\n",
    "itr = list(range(0, learning_iterations))\n",
    "fig = plt.figure(figsize = (10, 6))\n",
    "plt.xlabel('Learning Iterations', fontsize=18)\n",
    "plt.ylabel('Mean Squared Error', fontsize=18)\n",
    "plt.yticks(fontsize=14)\n",
    "plt.xticks(fontsize=14)\n",
    "# plt.tick_params(axis='x', which='both', bottom=False, top=False, labelbottom=False)\n",
    "# plt.tick_params(axis='y', which='both', bottom=False, top=False, labelbottom=False)\n",
    "# plt.scatter(itr[0:100], cost_history[0:100], s=20)\n",
    "plt.plot(itr[:10000], loss_history[:10000], color='black')\n",
    "# plt.savefig('MSE_LREG_L2_10000.jpg', dpi=600)\n",
    "plt.show()"
   ]
  },
  {
   "cell_type": "code",
   "execution_count": 9,
   "metadata": {},
   "outputs": [
    {
     "data": {
      "image/png": "[encoded data removed]",
      "text/plain": [
       "<Figure size 720x432 with 1 Axes>"
      ]
     },
     "metadata": {
      "needs_background": "light"
     },
     "output_type": "display_data"
    }
   ],
   "source": [
    "itr = list(range(0, learning_iterations))\n",
    "fig = plt.figure(figsize = (10, 6))\n",
    "plt.xlabel('Learning Iterations', fontsize=18)\n",
    "plt.ylabel('Mean Squared Error', fontsize=18)\n",
    "plt.yticks(fontsize=14)\n",
    "plt.xticks(fontsize=14)\n",
    "# plt.tick_params(axis='x', which='both', bottom=False, top=False, labelbottom=False)\n",
    "# plt.tick_params(axis='y', which='both', bottom=False, top=False, labelbottom=False)\n",
    "plt.plot(itr[:], loss_history[:], color='black')\n",
    "# plt.savefig('MSE_LREG_L2_all.jpg', dpi=600)\n",
    "plt.show()"
   ]
  },
  {
   "cell_type": "markdown",
   "metadata": {},
   "source": [
    "## <a id='lr2_L2'></a> 2. Comparison with Scikit-Learn"
   ]
  },
  {
   "cell_type": "code",
   "execution_count": 10,
   "metadata": {},
   "outputs": [
    {
     "name": "stdout",
     "output_type": "stream",
     "text": [
      "The optimal bias found by sklearn: 0.8907\n",
      "The optimal weights found by sklearn: [0.71  0.539]\n",
      "\n",
      "MSE found by sklearn: 0.01222\n"
     ]
    }
   ],
   "source": [
    "import numpy as np\n",
    "from sklearn.preprocessing import MinMaxScaler\n",
    "from sklearn.linear_model import Ridge\n",
    "\n",
    "# The small dataset\n",
    "data = np.array([[1600,5,2.28],\n",
    "                 [1200,4,1.5],\n",
    "                 [740,2,0.88]])\n",
    "X = data[:, :-1] # all rows, all columns except the last column\n",
    "Y = data[:, -1]  # all rows, last column only\n",
    "\n",
    "scaler = MinMaxScaler()\n",
    "scaler.fit(X)\n",
    "X = scaler.transform(X) # update to Normalized X\n",
    "\n",
    "l2_reg = Ridge(alpha=0.1) # alpha is the penalty coefficient\n",
    "l2_reg.fit(X, Y)\n",
    "\n",
    "print(f\"The optimal bias found by sklearn: {np.round(l2_reg.intercept_,4)}\")\n",
    "print(f\"The optimal weights found by sklearn: {np.round(l2_reg.coef_,4)}\")\n",
    "\n",
    "from sklearn.metrics import mean_squared_error \n",
    "print(\"\\nMSE found by sklearn:\", np.round(mean_squared_error(Y, l2_reg.predict(X)),5))"
   ]
  },
  {
   "cell_type": "code",
   "execution_count": 11,
   "metadata": {},
   "outputs": [
    {
     "name": "stdout",
     "output_type": "stream",
     "text": [
      "For the house with 1200 sqft and 3 bedrooms, \n",
      "the sale price is predicted to be [1.45] million.\n"
     ]
    }
   ],
   "source": [
    "new_data = np.array([[1200,3]], dtype = float)\n",
    "new_data = scaler.transform(new_data)\n",
    "\n",
    "print(f'''For the house with 1200 sqft and 3 bedrooms, \n",
    "the sale price is predicted to be {np.round(l2_reg.predict(new_data),3)} million.''')"
   ]
  }
 ],
 "metadata": {
  "kernelspec": {
   "display_name": "Python 3",
   "language": "python",
   "name": "python3"
  },
  "language_info": {
   "codemirror_mode": {
    "name": "ipython",
    "version": 3
   },
   "file_extension": ".py",
   "mimetype": "text/x-python",
   "name": "python",
   "nbconvert_exporter": "python",
   "pygments_lexer": "ipython3",
   "version": "3.8.8"
  }
 },
 "nbformat": 4,
 "nbformat_minor": 4
}
