{
 "cells": [
  {
   "cell_type": "markdown",
   "metadata": {},
   "source": [
    "# Iris Flower Dataset\n",
    "\n",
    "The Iris dataset is a classic dataset in the field of machine learning and statistics.\n",
    "\n",
    "The dataset consists of 150 samples of iris flowers, each belonging to one of three species: **Setosa**, **Versicolor**, and **Virginica**.\n",
    "\n",
    "## Columns: \n",
    "\n",
    "* **sepal-length**:The length of the sepal, which is the outermost part of the flower that protects the petals.\n",
    "* **sepal-width**: The width of the sepal, measured at its widest point.\n",
    "* **petal-length**: The length of the petal, which is the colorful inner part of the flower.\n",
    "* **petal-width**: The width of the petal, measured at its widest point.\n",
    "* **species**: The species of iris flower, which can be one of three classes: Setosa, Versicolor, or Virginica.\n",
    "\n",
    "These columns provide measurements of various parts of the iris flower, along with the corresponding species labels, making it a versatile dataset for analysis and classification tasks."
   ]
  },
  {
   "cell_type": "markdown",
   "metadata": {},
   "source": [
    "**Tasks:** In this project, you are going to use Logistic Regression to categorize iris flowers into three distinct species: setosa, versicolor, and virginica based on their unique characteristics. Follow the steps below and ensure you answer the accompanying questions as a minimum requirement."
   ]
  },
  {
   "cell_type": "markdown",
   "metadata": {},
   "source": [
    "## Step 1: Import Library"
   ]
  },
  {
   "cell_type": "code",
   "execution_count": 112,
   "metadata": {},
   "outputs": [],
   "source": [
    "import numpy as np\n",
    "import pandas as pd"
   ]
  },
  {
   "cell_type": "markdown",
   "metadata": {},
   "source": [
    "## Step 2: Read the Data"
   ]
  },
  {
   "cell_type": "code",
   "execution_count": 113,
   "metadata": {},
   "outputs": [
    {
     "data": {
      "text/html": [
       "<div>\n",
       "<style scoped>\n",
       "    .dataframe tbody tr th:only-of-type {\n",
       "        vertical-align: middle;\n",
       "    }\n",
       "\n",
       "    .dataframe tbody tr th {\n",
       "        vertical-align: top;\n",
       "    }\n",
       "\n",
       "    .dataframe thead th {\n",
       "        text-align: right;\n",
       "    }\n",
       "</style>\n",
       "<table border=\"1\" class=\"dataframe\">\n",
       "  <thead>\n",
       "    <tr style=\"text-align: right;\">\n",
       "      <th></th>\n",
       "      <th>sepal-length</th>\n",
       "      <th>sepal-width</th>\n",
       "      <th>petal-length</th>\n",
       "      <th>petal-width</th>\n",
       "      <th>species</th>\n",
       "    </tr>\n",
       "  </thead>\n",
       "  <tbody>\n",
       "    <tr>\n",
       "      <th>0</th>\n",
       "      <td>5.1</td>\n",
       "      <td>3.5</td>\n",
       "      <td>1.4</td>\n",
       "      <td>0.2</td>\n",
       "      <td>Iris-setosa</td>\n",
       "    </tr>\n",
       "    <tr>\n",
       "      <th>1</th>\n",
       "      <td>4.9</td>\n",
       "      <td>3.0</td>\n",
       "      <td>1.4</td>\n",
       "      <td>0.2</td>\n",
       "      <td>Iris-setosa</td>\n",
       "    </tr>\n",
       "    <tr>\n",
       "      <th>2</th>\n",
       "      <td>4.7</td>\n",
       "      <td>3.2</td>\n",
       "      <td>1.3</td>\n",
       "      <td>0.2</td>\n",
       "      <td>Iris-setosa</td>\n",
       "    </tr>\n",
       "    <tr>\n",
       "      <th>3</th>\n",
       "      <td>4.6</td>\n",
       "      <td>3.1</td>\n",
       "      <td>1.5</td>\n",
       "      <td>0.2</td>\n",
       "      <td>Iris-setosa</td>\n",
       "    </tr>\n",
       "    <tr>\n",
       "      <th>4</th>\n",
       "      <td>5.0</td>\n",
       "      <td>3.6</td>\n",
       "      <td>1.4</td>\n",
       "      <td>0.2</td>\n",
       "      <td>Iris-setosa</td>\n",
       "    </tr>\n",
       "    <tr>\n",
       "      <th>...</th>\n",
       "      <td>...</td>\n",
       "      <td>...</td>\n",
       "      <td>...</td>\n",
       "      <td>...</td>\n",
       "      <td>...</td>\n",
       "    </tr>\n",
       "    <tr>\n",
       "      <th>145</th>\n",
       "      <td>6.7</td>\n",
       "      <td>3.0</td>\n",
       "      <td>5.2</td>\n",
       "      <td>2.3</td>\n",
       "      <td>Iris-virginica</td>\n",
       "    </tr>\n",
       "    <tr>\n",
       "      <th>146</th>\n",
       "      <td>6.3</td>\n",
       "      <td>2.5</td>\n",
       "      <td>5.0</td>\n",
       "      <td>1.9</td>\n",
       "      <td>Iris-virginica</td>\n",
       "    </tr>\n",
       "    <tr>\n",
       "      <th>147</th>\n",
       "      <td>6.5</td>\n",
       "      <td>3.0</td>\n",
       "      <td>5.2</td>\n",
       "      <td>2.0</td>\n",
       "      <td>Iris-virginica</td>\n",
       "    </tr>\n",
       "    <tr>\n",
       "      <th>148</th>\n",
       "      <td>6.2</td>\n",
       "      <td>3.4</td>\n",
       "      <td>5.4</td>\n",
       "      <td>2.3</td>\n",
       "      <td>Iris-virginica</td>\n",
       "    </tr>\n",
       "    <tr>\n",
       "      <th>149</th>\n",
       "      <td>5.9</td>\n",
       "      <td>3.0</td>\n",
       "      <td>5.1</td>\n",
       "      <td>1.8</td>\n",
       "      <td>Iris-virginica</td>\n",
       "    </tr>\n",
       "  </tbody>\n",
       "</table>\n",
       "<p>150 rows × 5 columns</p>\n",
       "</div>"
      ],
      "text/plain": [
       "     sepal-length  sepal-width  petal-length  petal-width         species\n",
       "0             5.1          3.5           1.4          0.2     Iris-setosa\n",
       "1             4.9          3.0           1.4          0.2     Iris-setosa\n",
       "2             4.7          3.2           1.3          0.2     Iris-setosa\n",
       "3             4.6          3.1           1.5          0.2     Iris-setosa\n",
       "4             5.0          3.6           1.4          0.2     Iris-setosa\n",
       "..            ...          ...           ...          ...             ...\n",
       "145           6.7          3.0           5.2          2.3  Iris-virginica\n",
       "146           6.3          2.5           5.0          1.9  Iris-virginica\n",
       "147           6.5          3.0           5.2          2.0  Iris-virginica\n",
       "148           6.2          3.4           5.4          2.3  Iris-virginica\n",
       "149           5.9          3.0           5.1          1.8  Iris-virginica\n",
       "\n",
       "[150 rows x 5 columns]"
      ]
     },
     "execution_count": 113,
     "metadata": {},
     "output_type": "execute_result"
    }
   ],
   "source": [
    "data = pd.read_csv(\"iris.csv\")\n",
    "data"
   ]
  },
  {
   "cell_type": "markdown",
   "metadata": {},
   "source": [
    "## Step 3: Data Exploration/Visualization\n",
    "\n",
    "What are some interesting findings from your plots?\n",
    "\n",
    "Please answer the following questions based on your plots:\n",
    "- Can we differentiate the species based on **sepal length**? If so, which species stands out the most? If not, explain why. \n",
    "- What is the range of **sepal widths** for the majority of the data? Are there any overlapping ranges among species?\n",
    "- Based on **petal length**, is it possible to clearly identify one of the species? Which one?\n",
    "- Which species has the **shortest petal width** on average, and how does it compare to the others?"
   ]
  },
  {
   "cell_type": "code",
   "execution_count": 114,
   "metadata": {},
   "outputs": [],
   "source": [
    "import matplotlib.pyplot as plt\n",
    "\n",
    "sLen = data[\"sepal-length\"]\n",
    "sWid = data[\"sepal-width\"]\n",
    "pLen = data[\"petal-length\"]\n",
    "pWid = data[\"petal-width\"]\n",
    "\n",
    "y = data[\"species\"]\n",
    "\n",
    "y_unique = list(set(y))\n",
    "species_colors = [y_unique.index(s) for s in y]"
   ]
  },
  {
   "cell_type": "markdown",
   "metadata": {},
   "source": [
    "## Step 4: Split the Data"
   ]
  },
  {
   "cell_type": "code",
   "execution_count": 115,
   "metadata": {},
   "outputs": [],
   "source": [
    "X1tr = np.array(sLen[:int(sLen.size / 2)], dtype=float)\n",
    "X1ts = np.array(sLen[int(sLen.size / 2):], dtype=float)\n",
    "\n",
    "X2tr = np.array(sWid[:int(sLen.size / 2)], dtype=float)\n",
    "X2ts = np.array(sWid[int(sLen.size / 2):], dtype=float)\n",
    "\n",
    "X3tr = np.array(pLen[:int(sLen.size / 2)], dtype=float)\n",
    "X3ts = np.array(pLen[int(sLen.size / 2):], dtype=float)\n",
    "\n",
    "X4tr = np.array(pWid[:int(sLen.size / 2)], dtype=float)\n",
    "X4ts = np.array(pWid[int(sLen.size / 2):], dtype=float)\n",
    "\n",
    "Ytr = y[:int(sLen.size / 2)].tolist()\n",
    "Yts = y[int(sLen.size / 2):].tolist()\n",
    "\n"
   ]
  },
  {
   "cell_type": "markdown",
   "metadata": {},
   "source": [
    "## Length of sepal vs species"
   ]
  },
  {
   "cell_type": "code",
   "execution_count": 116,
   "metadata": {},
   "outputs": [
    {
     "data": {
      "image/png": "[encoded data removed]",
      "text/plain": [
       "<Figure size 800x600 with 2 Axes>"
      ]
     },
     "metadata": {},
     "output_type": "display_data"
    }
   ],
   "source": [
    "# Scatter plot\n",
    "plt.figure(figsize=(8, 6))\n",
    "scatter = plt.scatter(sLen, y, c=species_colors, cmap='viridis', edgecolor='k')\n",
    "plt.colorbar(scatter, ticks=range(len(y_unique)), label='Species')\n",
    "plt.clim(-0.5, len(y_unique) - 0.5)\n",
    "plt.xlim(round(min(sLen)) - 1, round(max(sLen)) + 1)  # Add padding to the x-axis\n",
    "plt.xticks(ticks=np.arange(len(sLen)), labels=sLen)\n",
    "plt.yticks(ticks=range(len(y_unique)), labels=y_unique)\n",
    "plt.xlabel('Sepal Length')\n",
    "plt.ylabel('Species')\n",
    "plt.title('Differentiation of Species by Sepal Length')\n",
    "plt.show()\n"
   ]
  },
  {
   "cell_type": "markdown",
   "metadata": {},
   "source": [
    "## Step 5: Model Building"
   ]
  },
  {
   "cell_type": "markdown",
   "metadata": {},
   "source": [
    "Using `model.get_params()` allows you to check the 'multi_class' method currently set for your logistic regression model. What happens if we choose the alternative method for a multi-class problem? You can experiment with different settings, such as 'ovr' (one-vs-rest) and 'multinomial', to understand their impact. Explore more in the [documentation](https://scikit-learn.org/1.5/modules/generated/sklearn.linear_model.LogisticRegression.html), and compare the model's performance under these different schemes for multiclass classification."
   ]
  },
  {
   "cell_type": "code",
   "execution_count": 129,
   "metadata": {},
   "outputs": [
    {
     "name": "stdout",
     "output_type": "stream",
     "text": [
      "1.00 score\n"
     ]
    },
    {
     "data": {
      "text/plain": [
       "{'C': 1.0,\n",
       " 'class_weight': None,\n",
       " 'dual': False,\n",
       " 'fit_intercept': True,\n",
       " 'intercept_scaling': 1,\n",
       " 'l1_ratio': None,\n",
       " 'max_iter': 100,\n",
       " 'multi_class': 'deprecated',\n",
       " 'n_jobs': None,\n",
       " 'penalty': 'l2',\n",
       " 'random_state': None,\n",
       " 'solver': 'lbfgs',\n",
       " 'tol': 0.0001,\n",
       " 'verbose': 0,\n",
       " 'warm_start': False}"
      ]
     },
     "execution_count": 129,
     "metadata": {},
     "output_type": "execute_result"
    }
   ],
   "source": [
    "from sklearn.linear_model import LogisticRegression\n",
    "from sklearn.metrics import accuracy_score\n",
    "from sklearn.model_selection import train_test_split\n",
    "# Model_1 with multi_class = \"\"\n",
    "\n",
    "model = LogisticRegression()\n",
    "\n",
    "#Nx = X2tr.reshape(-1,1)\n",
    "#Nxts = X2ts.reshape(-1,1)\n",
    "Xtr, Xts, Ytr, Yts = train_test_split(np.array(data[data.columns[:-1]], dtype=float), y, test_size=0.3, random_state=42)\n",
    "\n",
    "\n",
    "#model.classes_ = y_unique\n",
    "\n",
    "reg = model.fit(Xtr, Ytr)\n",
    "\n",
    "pred = model.predict(Xts)\n",
    "\n",
    "\n",
    "accuracy = accuracy_score(Yts, pred)\n",
    "print(f\"{accuracy:.2f} score\")\n",
    "model.get_params()\n"
   ]
  },
  {
   "cell_type": "code",
   "execution_count": 130,
   "metadata": {},
   "outputs": [
    {
     "name": "stdout",
     "output_type": "stream",
     "text": [
      "0.96 score\n"
     ]
    },
    {
     "name": "stderr",
     "output_type": "stream",
     "text": [
      "/Users/junwei/anaconda3/lib/python3.12/site-packages/sklearn/linear_model/_logistic.py:1256: FutureWarning: 'multi_class' was deprecated in version 1.5 and will be removed in 1.7. Use OneVsRestClassifier(LogisticRegression(..)) instead. Leave it to its default value to avoid this warning.\n",
      "  warnings.warn(\n"
     ]
    },
    {
     "data": {
      "text/plain": [
       "{'C': 1.0,\n",
       " 'class_weight': None,\n",
       " 'dual': False,\n",
       " 'fit_intercept': True,\n",
       " 'intercept_scaling': 1,\n",
       " 'l1_ratio': None,\n",
       " 'max_iter': 100,\n",
       " 'multi_class': 'ovr',\n",
       " 'n_jobs': None,\n",
       " 'penalty': 'l2',\n",
       " 'random_state': None,\n",
       " 'solver': 'lbfgs',\n",
       " 'tol': 0.0001,\n",
       " 'verbose': 0,\n",
       " 'warm_start': False}"
      ]
     },
     "execution_count": 130,
     "metadata": {},
     "output_type": "execute_result"
    }
   ],
   "source": [
    "# Model_2 with multi_class = \"\"\n",
    "Xtr, Xts, Ytr, Yts = train_test_split(np.array(data[data.columns[:-1]], dtype=float), y, test_size=0.3, random_state=42)\n",
    "\n",
    "model.multi_class = \"ovr\"\n",
    "\n",
    "reg = model.fit(Xtr, Ytr)\n",
    "\n",
    "pred = model.predict(Xts)\n",
    "\n",
    "\n",
    "accuracy = accuracy_score(Yts, pred)\n",
    "print(f\"{accuracy:.2f} score\")\n",
    "model.get_params()"
   ]
  },
  {
   "cell_type": "markdown",
   "metadata": {},
   "source": [
    "## Step 6: Model Performance (metrics)"
   ]
  },
  {
   "cell_type": "code",
   "execution_count": null,
   "metadata": {},
   "outputs": [],
   "source": [
    "# Performance of model_1\n"
   ]
  },
  {
   "cell_type": "code",
   "execution_count": null,
   "metadata": {},
   "outputs": [],
   "source": [
    "# Performance of model_2\n"
   ]
  },
  {
   "cell_type": "markdown",
   "metadata": {},
   "source": [
    "**What is your prediction on these two lists of values?**\n",
    "\n",
    "```python\n",
    "\n",
    "print(`your_model`.predict([[6.3,3.4,5.6,2.4]]))\n",
    "\n",
    "print(`your_model`.predict([[6.3,3.4,5.6,2.4]]))\n",
    "```"
   ]
  },
  {
   "cell_type": "code",
   "execution_count": null,
   "metadata": {},
   "outputs": [],
   "source": []
  },
  {
   "cell_type": "code",
   "execution_count": null,
   "metadata": {},
   "outputs": [],
   "source": []
  },
  {
   "cell_type": "code",
   "execution_count": null,
   "metadata": {},
   "outputs": [],
   "source": []
  }
 ],
 "metadata": {
  "kernelspec": {
   "display_name": "base",
   "language": "python",
   "name": "python3"
  },
  "language_info": {
   "codemirror_mode": {
    "name": "ipython",
    "version": 3
   },
   "file_extension": ".py",
   "mimetype": "text/x-python",
   "name": "python",
   "nbconvert_exporter": "python",
   "pygments_lexer": "ipython3",
   "version": "3.12.7"
  }
 },
 "nbformat": 4,
 "nbformat_minor": 4
}
