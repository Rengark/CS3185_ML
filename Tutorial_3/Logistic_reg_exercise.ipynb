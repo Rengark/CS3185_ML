{
 "cells": [
  {
   "cell_type": "markdown",
   "metadata": {},
   "source": [
    "# Iris Flower Dataset\n",
    "\n",
    "The Iris dataset is a classic dataset in the field of machine learning and statistics.\n",
    "\n",
    "The dataset consists of 150 samples of iris flowers, each belonging to one of three species: **Setosa**, **Versicolor**, and **Virginica**.\n",
    "\n",
    "## Columns: \n",
    "\n",
    "* **sepal-length**:The length of the sepal, which is the outermost part of the flower that protects the petals.\n",
    "* **sepal-width**: The width of the sepal, measured at its widest point.\n",
    "* **petal-length**: The length of the petal, which is the colorful inner part of the flower.\n",
    "* **petal-width**: The width of the petal, measured at its widest point.\n",
    "* **species**: The species of iris flower, which can be one of three classes: Setosa, Versicolor, or Virginica.\n",
    "\n",
    "These columns provide measurements of various parts of the iris flower, along with the corresponding species labels, making it a versatile dataset for analysis and classification tasks."
   ]
  },
  {
   "cell_type": "markdown",
   "metadata": {},
   "source": [
    "**Tasks:** In this project, you are going to use Logistic Regression to categorize iris flowers into three distinct species: setosa, versicolor, and virginica based on their unique characteristics. Follow the steps below and ensure you answer the accompanying questions as a minimum requirement."
   ]
  },
  {
   "cell_type": "markdown",
   "metadata": {},
   "source": [
    "## Step 1: Import Library"
   ]
  },
  {
   "cell_type": "code",
   "execution_count": null,
   "metadata": {},
   "outputs": [],
   "source": []
  },
  {
   "cell_type": "markdown",
   "metadata": {},
   "source": [
    "## Step 2: Read the Data"
   ]
  },
  {
   "cell_type": "code",
   "execution_count": null,
   "metadata": {},
   "outputs": [],
   "source": []
  },
  {
   "cell_type": "markdown",
   "metadata": {},
   "source": [
    "## Step 3: Data Exploration/Visualization\n",
    "\n",
    "What are some interesting findings from your plots?\n",
    "\n",
    "Please answer the following questions based on your plots:\n",
    "- Can we differentiate the species based on **sepal length**? If so, which species stands out the most? If not, explain why. \n",
    "- What is the range of **sepal widths** for the majority of the data? Are there any overlapping ranges among species?\n",
    "- Based on **petal length**, is it possible to clearly identify one of the species? Which one?\n",
    "- Which species has the **shortest petal width** on average, and how does it compare to the others?"
   ]
  },
  {
   "cell_type": "code",
   "execution_count": null,
   "metadata": {},
   "outputs": [],
   "source": []
  },
  {
   "cell_type": "markdown",
   "metadata": {},
   "source": [
    "## Step 4: Split the Data"
   ]
  },
  {
   "cell_type": "code",
   "execution_count": null,
   "metadata": {},
   "outputs": [],
   "source": []
  },
  {
   "cell_type": "markdown",
   "metadata": {},
   "source": [
    "## Step 5: Model Building"
   ]
  },
  {
   "cell_type": "markdown",
   "metadata": {},
   "source": [
    "Using `model.get_params()` allows you to check the 'multi_class' method currently set for your logistic regression model. What happens if we choose the alternative method for a multi-class problem? You can experiment with different settings, such as 'ovr' (one-vs-rest) and 'multinomial', to understand their impact. Explore more in the [documentation](https://scikit-learn.org/1.5/modules/generated/sklearn.linear_model.LogisticRegression.html), and compare the model's performance under these different schemes for multiclass classification."
   ]
  },
  {
   "cell_type": "code",
   "execution_count": null,
   "metadata": {},
   "outputs": [],
   "source": [
    "# Model_1 with multi_class = \"\"\n"
   ]
  },
  {
   "cell_type": "code",
   "execution_count": null,
   "metadata": {},
   "outputs": [],
   "source": [
    "# Model_2 with multi_class = \"\"\n"
   ]
  },
  {
   "cell_type": "markdown",
   "metadata": {},
   "source": [
    "## Step 6: Model Performance (metrics)"
   ]
  },
  {
   "cell_type": "code",
   "execution_count": null,
   "metadata": {},
   "outputs": [],
   "source": [
    "# Performance of model_1\n"
   ]
  },
  {
   "cell_type": "code",
   "execution_count": null,
   "metadata": {},
   "outputs": [],
   "source": [
    "# Performance of model_2\n"
   ]
  },
  {
   "cell_type": "markdown",
   "metadata": {},
   "source": [
    "**What is your prediction on these two lists of values?**\n",
    "\n",
    "```python\n",
    "\n",
    "print(`your_model`.predict([[6.3,3.4,5.6,2.4]]))\n",
    "\n",
    "print(`your_model`.predict([[6.3,3.4,5.6,2.4]]))\n",
    "```"
   ]
  },
  {
   "cell_type": "code",
   "execution_count": null,
   "metadata": {},
   "outputs": [],
   "source": []
  },
  {
   "cell_type": "code",
   "execution_count": null,
   "metadata": {},
   "outputs": [],
   "source": []
  },
  {
   "cell_type": "code",
   "execution_count": null,
   "metadata": {},
   "outputs": [],
   "source": []
  }
 ],
 "metadata": {
  "kernelspec": {
   "display_name": "Python 3",
   "language": "python",
   "name": "python3"
  },
  "language_info": {
   "codemirror_mode": {
    "name": "ipython",
    "version": 3
   },
   "file_extension": ".py",
   "mimetype": "text/x-python",
   "name": "python",
   "nbconvert_exporter": "python",
   "pygments_lexer": "ipython3",
   "version": "3.8.8"
  }
 },
 "nbformat": 4,
 "nbformat_minor": 4
}
