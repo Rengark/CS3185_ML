{
 "cells": [
  {
   "cell_type": "markdown",
   "metadata": {},
   "source": [
    "##  Banknote Authentication Using K-Nearest Neighbours\n",
    "\n",
    "####  Introduction\n",
    "In this exercise, you will implement a machine learning pipeline to classify banknotes as genuine or counterfeit using the K-Nearest Neighbors (KNN) algorithm. The dataset contains numerical features derived from wavelet-transformed images, such as variance, skewness, curtosis, and entropy.\n",
    "\n",
    "####  Objective:\n",
    "Based on the attributes, classify a banknote as genuine or counterfeit.\n",
    "\n",
    "#### Dataset Description:\n",
    "The dataset can be found at https://archive.ics.uci.edu/dataset/267/banknote+authentication.  \n",
    "It contains 1372 entries with 4 independent variables and 1 target variable created by Volker Lohweg. The attributes are:                                    \n",
    "__Independent Variables__\n",
    "   * variance - variance of Wavelet Transformed image\n",
    "   * skewness - skewness of Wavelet Transformed image\n",
    "   * curtosis - curtosis of Wavelet Transformed image\n",
    "   * entropy  - entropy of image\n",
    "\n",
    "__Target Variable__ \n",
    "   * class : \n",
    "     - 0 = genuine\n",
    "     - 1 = counterfeit\n",
    "\n",
    "---"
   ]
  },
  {
   "cell_type": "markdown",
   "metadata": {},
   "source": [
    "**Now, you are requried to import sklearn library and build a K-Nearest Neighbour model by completing the following task.**"
   ]
  },
  {
   "cell_type": "markdown",
   "metadata": {},
   "source": [
    "#### Load and explore dataset"
   ]
  },
  {
   "cell_type": "code",
   "execution_count": 1,
   "metadata": {},
   "outputs": [],
   "source": []
  },
  {
   "cell_type": "code",
   "execution_count": null,
   "metadata": {},
   "outputs": [],
   "source": []
  },
  {
   "cell_type": "markdown",
   "metadata": {},
   "source": [
    "#### Data Preprocessing"
   ]
  },
  {
   "cell_type": "code",
   "execution_count": null,
   "metadata": {},
   "outputs": [],
   "source": []
  },
  {
   "cell_type": "code",
   "execution_count": 5,
   "metadata": {},
   "outputs": [],
   "source": []
  },
  {
   "cell_type": "markdown",
   "metadata": {},
   "source": [
    "#### Training the model"
   ]
  },
  {
   "cell_type": "code",
   "execution_count": null,
   "metadata": {},
   "outputs": [],
   "source": []
  },
  {
   "cell_type": "code",
   "execution_count": null,
   "metadata": {},
   "outputs": [],
   "source": []
  },
  {
   "cell_type": "markdown",
   "metadata": {},
   "source": [
    "#### Model Performance"
   ]
  },
  {
   "cell_type": "code",
   "execution_count": null,
   "metadata": {},
   "outputs": [],
   "source": []
  },
  {
   "cell_type": "code",
   "execution_count": null,
   "metadata": {},
   "outputs": [],
   "source": []
  },
  {
   "cell_type": "code",
   "execution_count": 41,
   "metadata": {},
   "outputs": [],
   "source": []
  }
 ],
 "metadata": {
  "kernelspec": {
   "display_name": "Python 3",
   "language": "python",
   "name": "python3"
  },
  "language_info": {
   "codemirror_mode": {
    "name": "ipython",
    "version": 3
   },
   "file_extension": ".py",
   "mimetype": "text/x-python",
   "name": "python",
   "nbconvert_exporter": "python",
   "pygments_lexer": "ipython3",
   "version": "3.10.11"
  }
 },
 "nbformat": 4,
 "nbformat_minor": 2
}
