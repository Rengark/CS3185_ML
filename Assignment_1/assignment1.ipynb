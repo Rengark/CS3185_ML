{
 "cells": [
  {
   "cell_type": "code",
   "execution_count": 57,
   "id": "bea907d1",
   "metadata": {},
   "outputs": [
    {
     "name": "stdout",
     "output_type": "stream",
     "text": [
      "Defaulting to user installation because normal site-packages is not writeable\n",
      "Requirement already satisfied: otter-grader in c:\\users\\fjw17\\appdata\\roaming\\python\\python312\\site-packages (6.0.4)\n",
      "Requirement already satisfied: click<9.0.0,>=8.1.7 in c:\\programdata\\anaconda3\\lib\\site-packages (from otter-grader) (8.1.7)\n",
      "Requirement already satisfied: dill>=0.3.0 in c:\\programdata\\anaconda3\\lib\\site-packages (from otter-grader) (0.3.8)\n",
      "Requirement already satisfied: fica>=0.4.1 in c:\\users\\fjw17\\appdata\\roaming\\python\\python312\\site-packages (from otter-grader) (0.4.1)\n",
      "Requirement already satisfied: ipylab<2.0.0,>=1.0.0 in c:\\users\\fjw17\\appdata\\roaming\\python\\python312\\site-packages (from otter-grader) (1.0.0)\n",
      "Requirement already satisfied: ipython in c:\\programdata\\anaconda3\\lib\\site-packages (from otter-grader) (8.27.0)\n",
      "Requirement already satisfied: ipywidgets<9.0.0,>=8.1.5 in c:\\users\\fjw17\\appdata\\roaming\\python\\python312\\site-packages (from otter-grader) (8.1.5)\n",
      "Requirement already satisfied: jinja2<4.0,>=3.1 in c:\\programdata\\anaconda3\\lib\\site-packages (from otter-grader) (3.1.4)\n",
      "Requirement already satisfied: jupytext<2.0.0,>=1.16.4 in c:\\users\\fjw17\\appdata\\roaming\\python\\python312\\site-packages (from otter-grader) (1.16.6)\n",
      "Requirement already satisfied: nbconvert>=6.0.0 in c:\\programdata\\anaconda3\\lib\\site-packages (from nbconvert[webpdf]>=6.0.0; sys_platform != \"emscripten\" and sys_platform != \"wasi\"->otter-grader) (7.16.4)\n",
      "Requirement already satisfied: nbformat>=5.0.0 in c:\\programdata\\anaconda3\\lib\\site-packages (from otter-grader) (5.10.4)\n",
      "Requirement already satisfied: pandas>=2.0.0 in c:\\programdata\\anaconda3\\lib\\site-packages (from otter-grader) (2.2.2)\n",
      "Requirement already satisfied: python-on-whales<1.0.0,>=0.72.0 in c:\\users\\fjw17\\appdata\\roaming\\python\\python312\\site-packages (from otter-grader) (0.75.1)\n",
      "Requirement already satisfied: pyyaml<7,>=6 in c:\\programdata\\anaconda3\\lib\\site-packages (from otter-grader) (6.0.1)\n",
      "Requirement already satisfied: requests<3.0,>=2.31 in c:\\programdata\\anaconda3\\lib\\site-packages (from otter-grader) (2.32.3)\n",
      "Requirement already satisfied: wrapt<2.0.0,>=1.16.0 in c:\\users\\fjw17\\appdata\\roaming\\python\\python312\\site-packages (from otter-grader) (1.17.2)\n",
      "Requirement already satisfied: colorama in c:\\programdata\\anaconda3\\lib\\site-packages (from click<9.0.0,>=8.1.7->otter-grader) (0.4.6)\n",
      "Requirement already satisfied: docutils in c:\\programdata\\anaconda3\\lib\\site-packages (from fica>=0.4.1->otter-grader) (0.18.1)\n",
      "Requirement already satisfied: sphinx in c:\\programdata\\anaconda3\\lib\\site-packages (from fica>=0.4.1->otter-grader) (7.3.7)\n",
      "Requirement already satisfied: comm>=0.1.3 in c:\\programdata\\anaconda3\\lib\\site-packages (from ipywidgets<9.0.0,>=8.1.5->otter-grader) (0.2.1)\n",
      "Requirement already satisfied: traitlets>=4.3.1 in c:\\programdata\\anaconda3\\lib\\site-packages (from ipywidgets<9.0.0,>=8.1.5->otter-grader) (5.14.3)\n",
      "Requirement already satisfied: widgetsnbextension~=4.0.12 in c:\\users\\fjw17\\appdata\\roaming\\python\\python312\\site-packages (from ipywidgets<9.0.0,>=8.1.5->otter-grader) (4.0.13)\n",
      "Requirement already satisfied: jupyterlab-widgets~=3.0.12 in c:\\users\\fjw17\\appdata\\roaming\\python\\python312\\site-packages (from ipywidgets<9.0.0,>=8.1.5->otter-grader) (3.0.13)\n",
      "Requirement already satisfied: decorator in c:\\programdata\\anaconda3\\lib\\site-packages (from ipython->otter-grader) (5.1.1)\n",
      "Requirement already satisfied: jedi>=0.16 in c:\\programdata\\anaconda3\\lib\\site-packages (from ipython->otter-grader) (0.19.1)\n",
      "Requirement already satisfied: matplotlib-inline in c:\\programdata\\anaconda3\\lib\\site-packages (from ipython->otter-grader) (0.1.6)\n",
      "Requirement already satisfied: prompt-toolkit<3.1.0,>=3.0.41 in c:\\programdata\\anaconda3\\lib\\site-packages (from ipython->otter-grader) (3.0.43)\n",
      "Requirement already satisfied: pygments>=2.4.0 in c:\\programdata\\anaconda3\\lib\\site-packages (from ipython->otter-grader) (2.15.1)\n",
      "Requirement already satisfied: stack-data in c:\\programdata\\anaconda3\\lib\\site-packages (from ipython->otter-grader) (0.2.0)\n",
      "Requirement already satisfied: MarkupSafe>=2.0 in c:\\programdata\\anaconda3\\lib\\site-packages (from jinja2<4.0,>=3.1->otter-grader) (2.1.3)\n",
      "Requirement already satisfied: markdown-it-py>=1.0 in c:\\programdata\\anaconda3\\lib\\site-packages (from jupytext<2.0.0,>=1.16.4->otter-grader) (2.2.0)\n",
      "Requirement already satisfied: mdit-py-plugins in c:\\programdata\\anaconda3\\lib\\site-packages (from jupytext<2.0.0,>=1.16.4->otter-grader) (0.3.0)\n",
      "Requirement already satisfied: packaging in c:\\programdata\\anaconda3\\lib\\site-packages (from jupytext<2.0.0,>=1.16.4->otter-grader) (24.1)\n",
      "Requirement already satisfied: beautifulsoup4 in c:\\programdata\\anaconda3\\lib\\site-packages (from nbconvert>=6.0.0->nbconvert[webpdf]>=6.0.0; sys_platform != \"emscripten\" and sys_platform != \"wasi\"->otter-grader) (4.12.3)\n",
      "Requirement already satisfied: bleach!=5.0.0 in c:\\programdata\\anaconda3\\lib\\site-packages (from nbconvert>=6.0.0->nbconvert[webpdf]>=6.0.0; sys_platform != \"emscripten\" and sys_platform != \"wasi\"->otter-grader) (4.1.0)\n",
      "Requirement already satisfied: defusedxml in c:\\programdata\\anaconda3\\lib\\site-packages (from nbconvert>=6.0.0->nbconvert[webpdf]>=6.0.0; sys_platform != \"emscripten\" and sys_platform != \"wasi\"->otter-grader) (0.7.1)\n",
      "Requirement already satisfied: jupyter-core>=4.7 in c:\\programdata\\anaconda3\\lib\\site-packages (from nbconvert>=6.0.0->nbconvert[webpdf]>=6.0.0; sys_platform != \"emscripten\" and sys_platform != \"wasi\"->otter-grader) (5.7.2)\n",
      "Requirement already satisfied: jupyterlab-pygments in c:\\programdata\\anaconda3\\lib\\site-packages (from nbconvert>=6.0.0->nbconvert[webpdf]>=6.0.0; sys_platform != \"emscripten\" and sys_platform != \"wasi\"->otter-grader) (0.1.2)\n",
      "Requirement already satisfied: mistune<4,>=2.0.3 in c:\\programdata\\anaconda3\\lib\\site-packages (from nbconvert>=6.0.0->nbconvert[webpdf]>=6.0.0; sys_platform != \"emscripten\" and sys_platform != \"wasi\"->otter-grader) (2.0.4)\n",
      "Requirement already satisfied: nbclient>=0.5.0 in c:\\programdata\\anaconda3\\lib\\site-packages (from nbconvert>=6.0.0->nbconvert[webpdf]>=6.0.0; sys_platform != \"emscripten\" and sys_platform != \"wasi\"->otter-grader) (0.8.0)\n",
      "Requirement already satisfied: pandocfilters>=1.4.1 in c:\\programdata\\anaconda3\\lib\\site-packages (from nbconvert>=6.0.0->nbconvert[webpdf]>=6.0.0; sys_platform != \"emscripten\" and sys_platform != \"wasi\"->otter-grader) (1.5.0)\n",
      "Requirement already satisfied: tinycss2 in c:\\programdata\\anaconda3\\lib\\site-packages (from nbconvert>=6.0.0->nbconvert[webpdf]>=6.0.0; sys_platform != \"emscripten\" and sys_platform != \"wasi\"->otter-grader) (1.2.1)\n",
      "Requirement already satisfied: playwright in c:\\users\\fjw17\\appdata\\roaming\\python\\python312\\site-packages (from nbconvert[webpdf]>=6.0.0; sys_platform != \"emscripten\" and sys_platform != \"wasi\"->otter-grader) (1.49.1)\n",
      "Requirement already satisfied: fastjsonschema>=2.15 in c:\\programdata\\anaconda3\\lib\\site-packages (from nbformat>=5.0.0->otter-grader) (2.16.2)\n",
      "Requirement already satisfied: jsonschema>=2.6 in c:\\programdata\\anaconda3\\lib\\site-packages (from nbformat>=5.0.0->otter-grader) (4.23.0)\n",
      "Requirement already satisfied: numpy>=1.26.0 in c:\\programdata\\anaconda3\\lib\\site-packages (from pandas>=2.0.0->otter-grader) (1.26.4)\n",
      "Requirement already satisfied: python-dateutil>=2.8.2 in c:\\programdata\\anaconda3\\lib\\site-packages (from pandas>=2.0.0->otter-grader) (2.9.0.post0)\n",
      "Requirement already satisfied: pytz>=2020.1 in c:\\programdata\\anaconda3\\lib\\site-packages (from pandas>=2.0.0->otter-grader) (2024.1)\n",
      "Requirement already satisfied: tzdata>=2022.7 in c:\\programdata\\anaconda3\\lib\\site-packages (from pandas>=2.0.0->otter-grader) (2023.3)\n",
      "Requirement already satisfied: pydantic!=2.0.*,<3,>=2 in c:\\programdata\\anaconda3\\lib\\site-packages (from python-on-whales<1.0.0,>=0.72.0->otter-grader) (2.8.2)\n",
      "Requirement already satisfied: typing-extensions in c:\\programdata\\anaconda3\\lib\\site-packages (from python-on-whales<1.0.0,>=0.72.0->otter-grader) (4.11.0)\n",
      "Requirement already satisfied: charset-normalizer<4,>=2 in c:\\programdata\\anaconda3\\lib\\site-packages (from requests<3.0,>=2.31->otter-grader) (3.3.2)\n",
      "Requirement already satisfied: idna<4,>=2.5 in c:\\programdata\\anaconda3\\lib\\site-packages (from requests<3.0,>=2.31->otter-grader) (3.7)\n",
      "Requirement already satisfied: urllib3<3,>=1.21.1 in c:\\programdata\\anaconda3\\lib\\site-packages (from requests<3.0,>=2.31->otter-grader) (2.2.3)\n",
      "Requirement already satisfied: certifi>=2017.4.17 in c:\\programdata\\anaconda3\\lib\\site-packages (from requests<3.0,>=2.31->otter-grader) (2024.12.14)\n",
      "Requirement already satisfied: six>=1.9.0 in c:\\programdata\\anaconda3\\lib\\site-packages (from bleach!=5.0.0->nbconvert>=6.0.0->nbconvert[webpdf]>=6.0.0; sys_platform != \"emscripten\" and sys_platform != \"wasi\"->otter-grader) (1.16.0)\n",
      "Requirement already satisfied: webencodings in c:\\programdata\\anaconda3\\lib\\site-packages (from bleach!=5.0.0->nbconvert>=6.0.0->nbconvert[webpdf]>=6.0.0; sys_platform != \"emscripten\" and sys_platform != \"wasi\"->otter-grader) (0.5.1)\n",
      "Requirement already satisfied: parso<0.9.0,>=0.8.3 in c:\\programdata\\anaconda3\\lib\\site-packages (from jedi>=0.16->ipython->otter-grader) (0.8.3)\n",
      "Requirement already satisfied: attrs>=22.2.0 in c:\\programdata\\anaconda3\\lib\\site-packages (from jsonschema>=2.6->nbformat>=5.0.0->otter-grader) (23.1.0)\n",
      "Requirement already satisfied: jsonschema-specifications>=2023.03.6 in c:\\programdata\\anaconda3\\lib\\site-packages (from jsonschema>=2.6->nbformat>=5.0.0->otter-grader) (2023.7.1)\n",
      "Requirement already satisfied: referencing>=0.28.4 in c:\\programdata\\anaconda3\\lib\\site-packages (from jsonschema>=2.6->nbformat>=5.0.0->otter-grader) (0.30.2)\n",
      "Requirement already satisfied: rpds-py>=0.7.1 in c:\\programdata\\anaconda3\\lib\\site-packages (from jsonschema>=2.6->nbformat>=5.0.0->otter-grader) (0.10.6)\n",
      "Requirement already satisfied: platformdirs>=2.5 in c:\\programdata\\anaconda3\\lib\\site-packages (from jupyter-core>=4.7->nbconvert>=6.0.0->nbconvert[webpdf]>=6.0.0; sys_platform != \"emscripten\" and sys_platform != \"wasi\"->otter-grader) (3.10.0)\n",
      "Requirement already satisfied: pywin32>=300 in c:\\programdata\\anaconda3\\lib\\site-packages (from jupyter-core>=4.7->nbconvert>=6.0.0->nbconvert[webpdf]>=6.0.0; sys_platform != \"emscripten\" and sys_platform != \"wasi\"->otter-grader) (305.1)\n",
      "Requirement already satisfied: mdurl~=0.1 in c:\\programdata\\anaconda3\\lib\\site-packages (from markdown-it-py>=1.0->jupytext<2.0.0,>=1.16.4->otter-grader) (0.1.0)\n",
      "Requirement already satisfied: jupyter-client>=6.1.12 in c:\\programdata\\anaconda3\\lib\\site-packages (from nbclient>=0.5.0->nbconvert>=6.0.0->nbconvert[webpdf]>=6.0.0; sys_platform != \"emscripten\" and sys_platform != \"wasi\"->otter-grader) (8.6.0)\n",
      "Requirement already satisfied: wcwidth in c:\\programdata\\anaconda3\\lib\\site-packages (from prompt-toolkit<3.1.0,>=3.0.41->ipython->otter-grader) (0.2.5)\n",
      "Requirement already satisfied: annotated-types>=0.4.0 in c:\\programdata\\anaconda3\\lib\\site-packages (from pydantic!=2.0.*,<3,>=2->python-on-whales<1.0.0,>=0.72.0->otter-grader) (0.6.0)\n",
      "Requirement already satisfied: pydantic-core==2.20.1 in c:\\programdata\\anaconda3\\lib\\site-packages (from pydantic!=2.0.*,<3,>=2->python-on-whales<1.0.0,>=0.72.0->otter-grader) (2.20.1)\n",
      "Requirement already satisfied: soupsieve>1.2 in c:\\programdata\\anaconda3\\lib\\site-packages (from beautifulsoup4->nbconvert>=6.0.0->nbconvert[webpdf]>=6.0.0; sys_platform != \"emscripten\" and sys_platform != \"wasi\"->otter-grader) (2.5)\n",
      "Requirement already satisfied: greenlet==3.1.1 in c:\\users\\fjw17\\appdata\\roaming\\python\\python312\\site-packages (from playwright->nbconvert[webpdf]>=6.0.0; sys_platform != \"emscripten\" and sys_platform != \"wasi\"->otter-grader) (3.1.1)\n",
      "Requirement already satisfied: pyee==12.0.0 in c:\\users\\fjw17\\appdata\\roaming\\python\\python312\\site-packages (from playwright->nbconvert[webpdf]>=6.0.0; sys_platform != \"emscripten\" and sys_platform != \"wasi\"->otter-grader) (12.0.0)\n",
      "Requirement already satisfied: sphinxcontrib-applehelp in c:\\programdata\\anaconda3\\lib\\site-packages (from sphinx->fica>=0.4.1->otter-grader) (1.0.2)\n",
      "Requirement already satisfied: sphinxcontrib-devhelp in c:\\programdata\\anaconda3\\lib\\site-packages (from sphinx->fica>=0.4.1->otter-grader) (1.0.2)\n",
      "Requirement already satisfied: sphinxcontrib-jsmath in c:\\programdata\\anaconda3\\lib\\site-packages (from sphinx->fica>=0.4.1->otter-grader) (1.0.1)\n",
      "Requirement already satisfied: sphinxcontrib-htmlhelp>=2.0.0 in c:\\programdata\\anaconda3\\lib\\site-packages (from sphinx->fica>=0.4.1->otter-grader) (2.0.0)\n",
      "Requirement already satisfied: sphinxcontrib-serializinghtml>=1.1.9 in c:\\programdata\\anaconda3\\lib\\site-packages (from sphinx->fica>=0.4.1->otter-grader) (1.1.10)\n",
      "Requirement already satisfied: sphinxcontrib-qthelp in c:\\programdata\\anaconda3\\lib\\site-packages (from sphinx->fica>=0.4.1->otter-grader) (1.0.3)\n",
      "Requirement already satisfied: snowballstemmer>=2.0 in c:\\programdata\\anaconda3\\lib\\site-packages (from sphinx->fica>=0.4.1->otter-grader) (2.2.0)\n",
      "Requirement already satisfied: babel>=2.9 in c:\\programdata\\anaconda3\\lib\\site-packages (from sphinx->fica>=0.4.1->otter-grader) (2.11.0)\n",
      "Requirement already satisfied: alabaster~=0.7.14 in c:\\programdata\\anaconda3\\lib\\site-packages (from sphinx->fica>=0.4.1->otter-grader) (0.7.16)\n",
      "Requirement already satisfied: imagesize>=1.3 in c:\\programdata\\anaconda3\\lib\\site-packages (from sphinx->fica>=0.4.1->otter-grader) (1.4.1)\n",
      "Requirement already satisfied: executing in c:\\programdata\\anaconda3\\lib\\site-packages (from stack-data->ipython->otter-grader) (0.8.3)\n",
      "Requirement already satisfied: asttokens in c:\\programdata\\anaconda3\\lib\\site-packages (from stack-data->ipython->otter-grader) (2.0.5)\n",
      "Requirement already satisfied: pure-eval in c:\\programdata\\anaconda3\\lib\\site-packages (from stack-data->ipython->otter-grader) (0.2.2)\n",
      "Requirement already satisfied: pyzmq>=23.0 in c:\\programdata\\anaconda3\\lib\\site-packages (from jupyter-client>=6.1.12->nbclient>=0.5.0->nbconvert>=6.0.0->nbconvert[webpdf]>=6.0.0; sys_platform != \"emscripten\" and sys_platform != \"wasi\"->otter-grader) (25.1.2)\n",
      "Requirement already satisfied: tornado>=6.2 in c:\\programdata\\anaconda3\\lib\\site-packages (from jupyter-client>=6.1.12->nbclient>=0.5.0->nbconvert>=6.0.0->nbconvert[webpdf]>=6.0.0; sys_platform != \"emscripten\" and sys_platform != \"wasi\"->otter-grader) (6.4.1)\n"
     ]
    }
   ],
   "source": [
    "\n",
    "# Otter Grader is an autograder that is designed to grade \n",
    "# Python and R code. We choose it to grade your assignments. \n",
    "# Otter also supports in-notebook checks so that you can \n",
    "# check the progress when working through assignments.\n",
    "# Use the `grader.check()` function in the cells to get feedback on your solution.\n",
    "\n",
    "# Execute this cell for the first time to install the otter library\n",
    "!pip install otter-grader"
   ]
  },
  {
   "cell_type": "code",
   "execution_count": 58,
   "id": "02edefcd",
   "metadata": {
    "deletable": false,
    "editable": false
   },
   "outputs": [],
   "source": [
    "# Initialize Otter\n",
    "import otter\n",
    "grader = otter.Notebook(\"assignment1.ipynb\")"
   ]
  },
  {
   "cell_type": "markdown",
   "id": "d8a7201e",
   "metadata": {},
   "source": [
    "# CS385/CSD3185/CSD3186: Assignment 1\n",
    "\n",
    "## Topics Covered\n",
    "- Linear Regression\n",
    "- Gradient Descent Algorithm\n",
    "- Mean Squared Error (MSE)\n"
   ]
  },
  {
   "cell_type": "markdown",
   "id": "f164c746",
   "metadata": {},
   "source": [
    "## Objectives"
   ]
  },
  {
   "cell_type": "markdown",
   "id": "67d9947a",
   "metadata": {},
   "source": [
    "1. Apply gradient descent algorithm to predict the housing prices in Boston city.  \n",
    "2. Get familiarized on determining values of hyperparameters and evaluating the performance of a machine learning algorithm."
   ]
  },
  {
   "cell_type": "markdown",
   "id": "6ac97acd",
   "metadata": {},
   "source": [
    "## Deliverables"
   ]
  },
  {
   "cell_type": "markdown",
   "id": "87fd7f70",
   "metadata": {},
   "source": [
    "Your submission for this assignment should be __ONE__ file - a zip file generated by the `grader.export(_)` function down below under 'Submission'. This function will auto create the zip file which contains this particular completed notebook file for you.  \n",
    "\n",
    "Subsequently, rename your zip file like this: __coursecode_A1_your_full_name.zip__  \n",
    "Eg. CS385_A1_john_doe.zip  \n",
    "\n",
    "To complete this assignment, you should follow instructions in Section Tasks."
   ]
  },
  {
   "cell_type": "markdown",
   "id": "1ee1578c",
   "metadata": {},
   "source": [
    "## IMPORTANT! READ THIS BEFORE STARTING...\n",
    "- DO NOT delete existing cells, but you can add more cells in between.\n",
    "- DO NOT modify the content of the existing cells unless otherwise stated.\n",
    "- Run the cell with `grader.check(_)` to check your solutions whenever you have completed each tasks.\n",
    "- Follow the file naming convention for the zip file as spelled out above strictly.\n",
    "- DO NOT rename this notebook file. It shall be 'assignment1.ipynb'. \n",
    "\n",
    "Please adhere strictly to the instructions as stated above as failure to do so might result in deduction of marks by the autograder."
   ]
  },
  {
   "cell_type": "markdown",
   "id": "881eaaef",
   "metadata": {},
   "source": [
    "---"
   ]
  },
  {
   "cell_type": "markdown",
   "id": "9bc21da5",
   "metadata": {},
   "source": [
    "Your tasks begins here!!"
   ]
  },
  {
   "cell_type": "markdown",
   "id": "9bc41552",
   "metadata": {},
   "source": [
    "## Load libraries"
   ]
  },
  {
   "cell_type": "code",
   "execution_count": 59,
   "id": "57231de6",
   "metadata": {},
   "outputs": [],
   "source": [
    "# Load necessary libraries here\n",
    "import pandas as pd\n",
    "import numpy as np"
   ]
  },
  {
   "cell_type": "markdown",
   "id": "255ca47d",
   "metadata": {},
   "source": [
    "## Read in data"
   ]
  },
  {
   "cell_type": "code",
   "execution_count": 60,
   "id": "cabdd4fc",
   "metadata": {},
   "outputs": [
    {
     "data": {
      "text/html": [
       "<div>\n",
       "<style scoped>\n",
       "    .dataframe tbody tr th:only-of-type {\n",
       "        vertical-align: middle;\n",
       "    }\n",
       "\n",
       "    .dataframe tbody tr th {\n",
       "        vertical-align: top;\n",
       "    }\n",
       "\n",
       "    .dataframe thead th {\n",
       "        text-align: right;\n",
       "    }\n",
       "</style>\n",
       "<table border=\"1\" class=\"dataframe\">\n",
       "  <thead>\n",
       "    <tr style=\"text-align: right;\">\n",
       "      <th></th>\n",
       "      <th>CRIM</th>\n",
       "      <th>ZN</th>\n",
       "      <th>INDUS</th>\n",
       "      <th>CHAS</th>\n",
       "      <th>NOX</th>\n",
       "      <th>RM</th>\n",
       "      <th>AGE</th>\n",
       "      <th>DIS</th>\n",
       "      <th>RAD</th>\n",
       "      <th>TAX</th>\n",
       "      <th>PTRATIO</th>\n",
       "      <th>B</th>\n",
       "      <th>LSTAT</th>\n",
       "      <th>MEDV</th>\n",
       "    </tr>\n",
       "  </thead>\n",
       "  <tbody>\n",
       "    <tr>\n",
       "      <th>0</th>\n",
       "      <td>0.00632</td>\n",
       "      <td>18.0</td>\n",
       "      <td>2.31</td>\n",
       "      <td>0</td>\n",
       "      <td>0.538</td>\n",
       "      <td>6.575</td>\n",
       "      <td>65.2</td>\n",
       "      <td>4.0900</td>\n",
       "      <td>1</td>\n",
       "      <td>296</td>\n",
       "      <td>15.3</td>\n",
       "      <td>396.90</td>\n",
       "      <td>4.98</td>\n",
       "      <td>24.0</td>\n",
       "    </tr>\n",
       "    <tr>\n",
       "      <th>1</th>\n",
       "      <td>0.02731</td>\n",
       "      <td>0.0</td>\n",
       "      <td>7.07</td>\n",
       "      <td>0</td>\n",
       "      <td>0.469</td>\n",
       "      <td>6.421</td>\n",
       "      <td>78.9</td>\n",
       "      <td>4.9671</td>\n",
       "      <td>2</td>\n",
       "      <td>242</td>\n",
       "      <td>17.8</td>\n",
       "      <td>396.90</td>\n",
       "      <td>9.14</td>\n",
       "      <td>21.6</td>\n",
       "    </tr>\n",
       "    <tr>\n",
       "      <th>2</th>\n",
       "      <td>0.02729</td>\n",
       "      <td>0.0</td>\n",
       "      <td>7.07</td>\n",
       "      <td>0</td>\n",
       "      <td>0.469</td>\n",
       "      <td>7.185</td>\n",
       "      <td>61.1</td>\n",
       "      <td>4.9671</td>\n",
       "      <td>2</td>\n",
       "      <td>242</td>\n",
       "      <td>17.8</td>\n",
       "      <td>392.83</td>\n",
       "      <td>4.03</td>\n",
       "      <td>34.7</td>\n",
       "    </tr>\n",
       "    <tr>\n",
       "      <th>3</th>\n",
       "      <td>0.03237</td>\n",
       "      <td>0.0</td>\n",
       "      <td>2.18</td>\n",
       "      <td>0</td>\n",
       "      <td>0.458</td>\n",
       "      <td>6.998</td>\n",
       "      <td>45.8</td>\n",
       "      <td>6.0622</td>\n",
       "      <td>3</td>\n",
       "      <td>222</td>\n",
       "      <td>18.7</td>\n",
       "      <td>394.63</td>\n",
       "      <td>2.94</td>\n",
       "      <td>33.4</td>\n",
       "    </tr>\n",
       "    <tr>\n",
       "      <th>4</th>\n",
       "      <td>0.06905</td>\n",
       "      <td>0.0</td>\n",
       "      <td>2.18</td>\n",
       "      <td>0</td>\n",
       "      <td>0.458</td>\n",
       "      <td>7.147</td>\n",
       "      <td>54.2</td>\n",
       "      <td>6.0622</td>\n",
       "      <td>3</td>\n",
       "      <td>222</td>\n",
       "      <td>18.7</td>\n",
       "      <td>396.90</td>\n",
       "      <td>5.33</td>\n",
       "      <td>36.2</td>\n",
       "    </tr>\n",
       "  </tbody>\n",
       "</table>\n",
       "</div>"
      ],
      "text/plain": [
       "      CRIM    ZN  INDUS  CHAS    NOX     RM   AGE     DIS  RAD  TAX  PTRATIO  \\\n",
       "0  0.00632  18.0   2.31     0  0.538  6.575  65.2  4.0900    1  296     15.3   \n",
       "1  0.02731   0.0   7.07     0  0.469  6.421  78.9  4.9671    2  242     17.8   \n",
       "2  0.02729   0.0   7.07     0  0.469  7.185  61.1  4.9671    2  242     17.8   \n",
       "3  0.03237   0.0   2.18     0  0.458  6.998  45.8  6.0622    3  222     18.7   \n",
       "4  0.06905   0.0   2.18     0  0.458  7.147  54.2  6.0622    3  222     18.7   \n",
       "\n",
       "        B  LSTAT  MEDV  \n",
       "0  396.90   4.98  24.0  \n",
       "1  396.90   9.14  21.6  \n",
       "2  392.83   4.03  34.7  \n",
       "3  394.63   2.94  33.4  \n",
       "4  396.90   5.33  36.2  "
      ]
     },
     "execution_count": 60,
     "metadata": {},
     "output_type": "execute_result"
    }
   ],
   "source": [
    "# DO NOT modify the code below (ensure dataset in same folder as this notebook)\n",
    "df = pd.read_csv('Boston_housing_price.csv')\n",
    "df.head()"
   ]
  },
  {
   "cell_type": "markdown",
   "id": "468e3af3",
   "metadata": {},
   "source": [
    "## Splitting the data"
   ]
  },
  {
   "cell_type": "code",
   "execution_count": 61,
   "id": "f0a2774e",
   "metadata": {},
   "outputs": [],
   "source": [
    "# Separate features (X) and target (y)\n",
    "X = df.drop(\"MEDV\", axis=1).values  # Convert to numpy array for slicing\n",
    "y = df[\"MEDV\"].values  # Ensure y is a column vector"
   ]
  },
  {
   "cell_type": "markdown",
   "id": "d72855e1",
   "metadata": {
    "deletable": false,
    "editable": false
   },
   "source": [
    " __Task 1__ (5 marks)  \n",
    " Split your data into train and test set with train set holding 404 rows and test set with 102 rows."
   ]
  },
  {
   "cell_type": "code",
   "execution_count": 62,
   "id": "34de7b97",
   "metadata": {
    "tags": []
   },
   "outputs": [],
   "source": [
    "# Split dataset into Train (404 rows) and Test (102 rows) sets\n",
    "# Replace ... with your code\n",
    "X_train = X[:404]\n",
    "y_train = y[:404]\n",
    "X_test = X[404:]\n",
    "y_test = y[404:]"
   ]
  },
  {
   "cell_type": "markdown",
   "id": "2f5d1a27",
   "metadata": {
    "deletable": false,
    "editable": false
   },
   "source": [
    "Validate your train and test set.  \n",
    "`X_train.shape, X_test.shape` should print `(404, 13) (102, 13)`  \n",
    "`y_train.shape, y_test.shape` should print `(404,) (102,)`"
   ]
  },
  {
   "cell_type": "code",
   "execution_count": 63,
   "id": "50c0c42a",
   "metadata": {
    "deletable": false,
    "editable": false
   },
   "outputs": [
    {
     "name": "stdout",
     "output_type": "stream",
     "text": [
      "(404, 13) (102, 13)\n",
      "(404,) (102,)\n"
     ]
    }
   ],
   "source": [
    "print(X_train.shape, X_test.shape)\n",
    "print(y_train.shape, y_test.shape)"
   ]
  },
  {
   "cell_type": "code",
   "execution_count": 64,
   "id": "8440d3e7",
   "metadata": {
    "deletable": false,
    "editable": false
   },
   "outputs": [
    {
     "data": {
      "text/html": [
       "<p><strong><pre style='display: inline;'>task1</pre></strong> passed! 🍀</p>"
      ],
      "text/plain": [
       "task1 results: All test cases passed!"
      ]
     },
     "execution_count": 64,
     "metadata": {},
     "output_type": "execute_result"
    }
   ],
   "source": [
    "grader.check(\"task1\")"
   ]
  },
  {
   "cell_type": "markdown",
   "id": "3a7de248",
   "metadata": {},
   "source": [
    "## Normalization of data"
   ]
  },
  {
   "cell_type": "markdown",
   "id": "c1726962",
   "metadata": {
    "deletable": false,
    "editable": false
   },
   "source": [
    "__Task 2__ (15 marks)    \n",
    "Create a function `z_score_norm` that uses Z-score normalization for features scaling.  \n",
    "Use numpy vectorization operation instead of using `for` loop to achieve your goal. (Hint: `np.mean()`)"
   ]
  },
  {
   "cell_type": "code",
   "execution_count": 65,
   "id": "4787c2ab",
   "metadata": {
    "tags": []
   },
   "outputs": [],
   "source": [
    "def z_score_norm(X) :\n",
    "    \"\"\"\n",
    "    Normalize dataset using Z-Score normalization.\n",
    "    Inputs: X - numpy.ndarray, the dataset for normalization\n",
    "    Outputs: (X_norm, (mean, std)) - tuple, the normalized dataset and mean/std for each feature\n",
    "    \"\"\"\n",
    "    # replace ... with your code\n",
    "    mean = X.mean(axis=0) # this will compute the mean along the rows for each col(or feature)\n",
    "    std = X.std(axis=0)   # same for this, just for standard dev.\n",
    "    X_norm = (X - mean) / std  \n",
    "    return X_norm, (mean, std)"
   ]
  },
  {
   "cell_type": "code",
   "execution_count": 66,
   "id": "1d57e560",
   "metadata": {
    "deletable": false,
    "editable": false
   },
   "outputs": [],
   "source": [
    "X_train_norm, z_score_vals = z_score_norm(X_train)"
   ]
  },
  {
   "cell_type": "markdown",
   "id": "09b93426",
   "metadata": {
    "deletable": false,
    "editable": false
   },
   "source": [
    "Validate your normalized data. Use `print(np.mean(X_train_norm, axis=0))` and verify if the output is similar as below:  \n",
    "[-5.27630744e-17 -5.27630744e-17  2.02258452e-16  3.51753830e-17\n",
    " -2.63815372e-16  1.93464606e-16 -5.27630744e-17  2.02258452e-16\n",
    " -3.51753830e-17 -1.93464606e-16  1.24872610e-15 -1.35425224e-15\n",
    "  1.05526149e-16]"
   ]
  },
  {
   "cell_type": "code",
   "execution_count": 67,
   "id": "fe22f1f1",
   "metadata": {
    "deletable": false,
    "editable": false
   },
   "outputs": [
    {
     "name": "stdout",
     "output_type": "stream",
     "text": [
      "[-5.27630744e-17 -5.27630744e-17  2.02258452e-16  3.51753830e-17\n",
      " -2.63815372e-16  1.93464606e-16 -5.27630744e-17  2.02258452e-16\n",
      " -3.51753830e-17 -1.93464606e-16  1.24872610e-15 -1.35425224e-15\n",
      "  1.05526149e-16]\n"
     ]
    }
   ],
   "source": [
    "print(np.mean(X_train_norm, axis=0))\n"
   ]
  },
  {
   "cell_type": "code",
   "execution_count": 68,
   "id": "82afbc33",
   "metadata": {
    "deletable": false,
    "editable": false
   },
   "outputs": [
    {
     "data": {
      "text/html": [
       "<p><strong><pre style='display: inline;'>task2</pre></strong> passed! 🍀</p>"
      ],
      "text/plain": [
       "task2 results: All test cases passed!"
      ]
     },
     "execution_count": 68,
     "metadata": {},
     "output_type": "execute_result"
    }
   ],
   "source": [
    "grader.check(\"task2\")"
   ]
  },
  {
   "cell_type": "markdown",
   "id": "84bbb794",
   "metadata": {},
   "source": [
    "Alternatively, we can use the StandardScaler class from scikit-learn to normalize the dataset and verify that the results are the same."
   ]
  },
  {
   "cell_type": "code",
   "execution_count": 69,
   "id": "d5c8299c",
   "metadata": {},
   "outputs": [
    {
     "name": "stdout",
     "output_type": "stream",
     "text": [
      "[-5.27630744e-17 -5.27630744e-17  2.02258452e-16  3.51753830e-17\n",
      " -2.63815372e-16  1.93464606e-16 -5.27630744e-17  2.02258452e-16\n",
      " -3.51753830e-17 -1.93464606e-16  1.24872610e-15 -1.35425224e-15\n",
      "  1.05526149e-16]\n"
     ]
    }
   ],
   "source": [
    "from sklearn.preprocessing import StandardScaler\n",
    "\n",
    "X_train_norm_sk = StandardScaler().fit_transform(X_train)\n",
    "print(np.mean(X_train_norm_sk, axis=0))"
   ]
  },
  {
   "cell_type": "markdown",
   "id": "5383b18c",
   "metadata": {},
   "source": [
    "## Mean Squared Error (MSE) function"
   ]
  },
  {
   "cell_type": "markdown",
   "id": "653f7522",
   "metadata": {
    "deletable": false,
    "editable": false
   },
   "source": [
    "__Task 3__ (15 marks)    \n",
    "Create a function to calculate the Mean Squared Error (MSE) for multiple features. The function should take the input features, target values, bias, and weights as inputs, and return the MSE as float.  \n",
    "*Note: This function will be used in the `train` function later.*  \n",
    "*Note: Use numpy vectorization method instead of for loop.*"
   ]
  },
  {
   "cell_type": "code",
   "execution_count": 70,
   "id": "e2db7f23",
   "metadata": {
    "tags": []
   },
   "outputs": [],
   "source": [
    "# Mean Squared Error\n",
    "def loss_MSE(X, Y, b, W) -> float:\n",
    "    \"\"\"\n",
    "    Generalized MSE calculation for multiple features.\n",
    "    Inputs: X - numpy.ndarray, the input feature values\n",
    "            Y - numpy.ndarray, the true output values\n",
    "            b - float/int, bias\n",
    "            W - numpy.ndarray, weights for features\n",
    "    Outputs: MSE - float\n",
    "    \"\"\"\n",
    "    # replace ... with your code\n",
    "    # Matrix multiplication of (XW) + bias, which is basically what is happening in the for loop code anyway\n",
    "    # where each row of X is being multiplied with each weight. -> b + (X[i] * W1), in this case n = num col (for both X and W)\n",
    "    predicted = X @ W + b \n",
    "    MSE = np.mean((predicted - Y) ** 2) # using mean is the same as div by num rows in X\n",
    "    return float(MSE)"
   ]
  },
  {
   "cell_type": "markdown",
   "id": "1846b39e",
   "metadata": {
    "deletable": false,
    "editable": false
   },
   "source": [
    "Validate your MSE function by executing the following statement, the output should be:  \n",
    "670.0209405940593"
   ]
  },
  {
   "cell_type": "code",
   "execution_count": 71,
   "id": "b7959023",
   "metadata": {
    "deletable": false,
    "editable": false
   },
   "outputs": [
    {
     "data": {
      "text/plain": [
       "670.0209405940593"
      ]
     },
     "execution_count": 71,
     "metadata": {},
     "output_type": "execute_result"
    }
   ],
   "source": [
    "loss_MSE(X_train, y_train, 0, np.zeros((X_train.shape[1])))"
   ]
  },
  {
   "cell_type": "code",
   "execution_count": 72,
   "id": "f7df02b1",
   "metadata": {
    "deletable": false,
    "editable": false
   },
   "outputs": [
    {
     "data": {
      "text/html": [
       "<p><strong><pre style='display: inline;'>task3</pre></strong> passed! 💯</p>"
      ],
      "text/plain": [
       "task3 results: All test cases passed!"
      ]
     },
     "execution_count": 72,
     "metadata": {},
     "output_type": "execute_result"
    }
   ],
   "source": [
    "grader.check(\"task3\")"
   ]
  },
  {
   "cell_type": "markdown",
   "id": "ccf11223",
   "metadata": {},
   "source": [
    "## Bias and weight computation"
   ]
  },
  {
   "cell_type": "markdown",
   "id": "b021967d",
   "metadata": {
    "deletable": false,
    "editable": false
   },
   "source": [
    "__Task 4__ (25 marks)  \n",
    "Create a function to update the bias and weights. The function should return the updated bias and weights as a tuple.  \n",
    "*Note: This function will be used in the `train` function later.*  \n",
    "*Note: Use numpy vectorization method instead of for loop.*"
   ]
  },
  {
   "cell_type": "code",
   "execution_count": 75,
   "id": "1db48495",
   "metadata": {
    "tags": []
   },
   "outputs": [],
   "source": [
    "# Update Bias and Weights\n",
    "def update_bias_weights(X, Y, b, W, learning_rate):\n",
    "    \"\"\"\n",
    "    Update bias and weights for multiple features using Gradient Descent.\n",
    "    Inputs: X - numpy.ndarray, the input feature values\n",
    "            Y - numpy.ndarray, the true output values\n",
    "            b - float/int, bias\n",
    "            W - numpy.ndarray, weights for features\n",
    "            learning_rate - float, the learning rate\n",
    "    Outputs: (b, W) - tuple, the updated bias and weights\n",
    "    \"\"\"\n",
    "    # replace ... with your code\n",
    "\n",
    "    dL = X @ W + b\n",
    "    dL_db = -2 * np.mean((Y - dL))\n",
    "    \n",
    "    # Need to transpose X... for matrix mul\n",
    "    dL_W = -2 * (X.T @ (Y - dL)) / X.shape[0] # cant use mean, have to use div\n",
    "\n",
    "    b = b - dL_db * learning_rate\n",
    "    W = W - dL_W * learning_rate\n",
    "\n",
    "    return b, W"
   ]
  },
  {
   "cell_type": "markdown",
   "id": "29226027",
   "metadata": {
    "deletable": false,
    "editable": false
   },
   "source": [
    "Validate your bias and weight function by executing the following statement, the output should be:  \n",
    "4.835148514851486  \n",
    "[5.83764037e+00 8.34692079e+01 4.12637550e+01 4.92772277e-01\n",
    " 2.50331342e+00 3.16321551e+01 2.95818871e+02 2.06984080e+01\n",
    " 3.00719307e+01 1.62410193e+03 8.53398366e+01 1.84758496e+03\n",
    " 4.59696307e+01]"
   ]
  },
  {
   "cell_type": "code",
   "execution_count": 76,
   "id": "39d4bd87",
   "metadata": {
    "deletable": false,
    "editable": false
   },
   "outputs": [
    {
     "name": "stdout",
     "output_type": "stream",
     "text": [
      "4.835148514851486\n",
      "[5.83764037e+00 8.34692079e+01 4.12637550e+01 4.92772277e-01\n",
      " 2.50331342e+00 3.16321551e+01 2.95818871e+02 2.06984080e+01\n",
      " 3.00719307e+01 1.62410193e+03 8.53398366e+01 1.84758496e+03\n",
      " 4.59696307e+01]\n"
     ]
    }
   ],
   "source": [
    "b, W = update_bias_weights(X_train, y_train, 0, np.zeros((X_train.shape[1])), 0.1)\n",
    "print(b)\n",
    "print(W)"
   ]
  },
  {
   "cell_type": "code",
   "execution_count": 77,
   "id": "537a154c",
   "metadata": {
    "deletable": false,
    "editable": false
   },
   "outputs": [
    {
     "data": {
      "text/html": [
       "<p><strong><pre style='display: inline;'>task4</pre></strong> passed! 💯</p>"
      ],
      "text/plain": [
       "task4 results: All test cases passed!"
      ]
     },
     "execution_count": 77,
     "metadata": {},
     "output_type": "execute_result"
    }
   ],
   "source": [
    "grader.check(\"task4\")"
   ]
  },
  {
   "cell_type": "markdown",
   "id": "0bbc85ae",
   "metadata": {},
   "source": [
    "### The training and optimal learning rate function"
   ]
  },
  {
   "cell_type": "markdown",
   "id": "47c46e97",
   "metadata": {
    "deletable": false,
    "editable": false
   },
   "source": [
    "__Task 5__ (40 marks)   \n",
    "For this task, you are required to create two functions as detailed below and will be evaluated together by producing the MSE for the best learning rate."
   ]
  },
  {
   "cell_type": "markdown",
   "id": "6259a6e2",
   "metadata": {
    "deletable": false,
    "editable": false
   },
   "source": [
    "Create a function to train the model. The function will iterate over the training data for a specified number of iterations, updating the bias and weights at each step. The function will return the loss history and the final bias and weights.  \n",
    "*Note: The loss history is a list of the mean squared error (MSE) after each iteration.*  \n",
    "*Note: The function will utilize the `loss_MSE` and `update_bias_weights` function.*"
   ]
  },
  {
   "cell_type": "code",
   "execution_count": null,
   "id": "42d8b1ab",
   "metadata": {
    "tags": []
   },
   "outputs": [],
   "source": [
    "# Train Model\n",
    "def train(X, Y, b, W, learning_rate, learning_iterations):\n",
    "    \"\"\"\n",
    "    Train a linear regression model for multiple features.\n",
    "    Inputs: X - numpy.ndarray, the input feature values\n",
    "            Y - numpy.ndarray, the true output values\n",
    "            b - float/int, bias\n",
    "            W - numpy.ndarray, weights for features\n",
    "            learning_rate - float, the learning rate\n",
    "            learning_iterations - int, the number of training iterations\n",
    "    Outputs: (loss_history, b, W) - tuple, the loss history and the final bias and weights\n",
    "    \"\"\"\n",
    "    # replace ... with your code\n",
    "    ...\n",
    "    return loss_history, b, W"
   ]
  },
  {
   "cell_type": "markdown",
   "id": "7f28b6d3",
   "metadata": {},
   "source": [
    "Create a function to find the optimal learning rate for training the model. The learning rate is a hyperparameter of gradient descent algorithm. Choosing the learning rate is challenging. A too small value may result in a long training process, whereas a too large value may result in learning divergence.  \n",
    "*Note: This function uses the `train` function.*"
   ]
  },
  {
   "cell_type": "code",
   "execution_count": null,
   "id": "c8408bf2",
   "metadata": {
    "tags": []
   },
   "outputs": [],
   "source": [
    "# Select optimal learning rate\n",
    "def optimal_learning_rate(X, Y, b, W, learning_rates, learning_iterations):\n",
    "    \"\"\"\n",
    "    Select the best learning rate based on the final MSE.\n",
    "    Inputs:\n",
    "        X - numpy.ndarray, the input feature values\n",
    "        Y - numpy.ndarray, the true output values\n",
    "        b - float/int, initial bias\n",
    "        W - numpy.ndarray, initial weights for features\n",
    "        learning_rates - list, a list of learning rates to evaluate\n",
    "        learning_iterations - int, the number of training iterations for each learning rate\n",
    "    Outputs:\n",
    "        best_lr - float, the learning rate with the lowest final MSE\n",
    "        best_loss - float, the final MSE for the best learning rate\n",
    "        results - dict, details of MSE for all learning rates\n",
    "    \"\"\"\n",
    "    # replace ... with your code\n",
    "    ...\n",
    "    return best_lr, best_loss, results"
   ]
  },
  {
   "cell_type": "markdown",
   "id": "1e5581c7",
   "metadata": {
    "deletable": false,
    "editable": false
   },
   "source": [
    "Finally, time to piece all of work or functions completed earlier. Execute the cell below to test if your functions work properly.  \n",
    "Use the following learning rates: [0.001, 0,1]. For each learning rate, train the model for 10000 iterations and record the final loss.  \n",
    "If all works, the output should look like:  \n",
    "<pre>\n",
    "Results for all learning rates:\n",
    "Learning rate: 0.001, Final MSE: 22.80830\n",
    "Learning rate: 0.1, Final MSE: 22.77838\n",
    "\n",
    "Best learning rate: 0.1 with Final MSE: 22.77838\n",
    "</pre>"
   ]
  },
  {
   "cell_type": "code",
   "execution_count": null,
   "id": "d76b1ce3",
   "metadata": {
    "deletable": false,
    "editable": false
   },
   "outputs": [],
   "source": [
    "# Initialize bias and weights\n",
    "initial_b = 0\n",
    "initial_W = np.zeros((X_train.shape[1]))\n",
    "\n",
    "# Define learning rates to test\n",
    "learning_rates = [0.001, 0.1]\n",
    "\n",
    "# Number of iterations\n",
    "learning_iterations = 10000\n",
    "\n",
    "# Find the best learning rate\n",
    "best_lr, best_loss, all_results = optimal_learning_rate(X_train_norm, y_train, initial_b, initial_W, learning_rates, learning_iterations)\n",
    "\n",
    "\n",
    "# Print the results\n",
    "print(\"\\nResults for all learning rates:\")\n",
    "for lr, loss in all_results.items():\n",
    "    print(f\"Learning rate: {lr}, Final MSE: {loss:.5f}\")\n",
    "\n",
    "print(f\"\\nBest learning rate: {best_lr} with Final MSE: {best_loss:.5f}\")"
   ]
  },
  {
   "cell_type": "code",
   "execution_count": null,
   "id": "5df1b48d",
   "metadata": {
    "deletable": false,
    "editable": false
   },
   "outputs": [],
   "source": [
    "grader.check(\"task5\")"
   ]
  },
  {
   "cell_type": "markdown",
   "id": "2b0f2db2",
   "metadata": {},
   "source": [
    "Plot the loss history for the best learning rate. The loss history should show the MSE decreasing over the training iterations (plot the first 100 iterations). (Hint: use `train` to obtain the loss history)"
   ]
  },
  {
   "cell_type": "code",
   "execution_count": null,
   "id": "95d0ba9f",
   "metadata": {},
   "outputs": [],
   "source": [
    "import matplotlib.pyplot as plt\n",
    "\n",
    "# complete the code below\n",
    "..."
   ]
  },
  {
   "cell_type": "markdown",
   "id": "b6e1afd8",
   "metadata": {},
   "source": [
    "## Predict on test data"
   ]
  },
  {
   "cell_type": "markdown",
   "id": "508d15fe",
   "metadata": {},
   "source": [
    "  Perform Z-Score normalization on the test set using the mean and standard deviation values from the training set. Subsequently, evaluate the model on the test set using the final bias and weights from the best learning rate. What is the MSE on the test set?"
   ]
  },
  {
   "cell_type": "code",
   "execution_count": null,
   "id": "f3970827",
   "metadata": {},
   "outputs": [],
   "source": [
    "# Extract mean and std from z_score_vals\n",
    "means, stds = z_score_vals\n",
    "\n",
    "# complete the code below\n",
    "..."
   ]
  },
  {
   "cell_type": "markdown",
   "id": "eb600a3e",
   "metadata": {},
   "source": [
    "---"
   ]
  },
  {
   "cell_type": "markdown",
   "id": "cff80cbe",
   "metadata": {
    "deletable": false,
    "editable": false
   },
   "source": [
    "## <a id='sub-id'></a> Submission\n",
    "\n",
    "Make sure you have run all cells in your notebook in order before running the cell below, so that all images/graphs appear in the output. The cell below will generate a zip file for you to submit. **Please save before exporting!**"
   ]
  },
  {
   "cell_type": "code",
   "execution_count": null,
   "id": "db544ed4",
   "metadata": {
    "deletable": false,
    "editable": false
   },
   "outputs": [],
   "source": [
    "# Save your notebook first, then run this cell to export your submission.\n",
    "grader.export(pdf=False, run_tests=True)"
   ]
  },
  {
   "cell_type": "markdown",
   "id": "a68d2741",
   "metadata": {},
   "source": [
    " "
   ]
  }
 ],
 "metadata": {
  "kernelspec": {
   "display_name": "base",
   "language": "python",
   "name": "python3"
  },
  "language_info": {
   "codemirror_mode": {
    "name": "ipython",
    "version": 3
   },
   "file_extension": ".py",
   "mimetype": "text/x-python",
   "name": "python",
   "nbconvert_exporter": "python",
   "pygments_lexer": "ipython3",
   "version": "3.12.7"
  },
  "otter": {
   "OK_FORMAT": true,
   "tests": {
    "task1": {
     "name": "task1",
     "points": null,
     "suites": [
      {
       "cases": [
        {
         "code": ">>> assert X_train.shape == (404, 13), 'X_train.shape is incorrect'\n>>> assert X_test.shape == (102, 13), 'X_test.shape is incorrect'\n>>> assert y_train.shape == (404,), 'y_train.shape is incorrect'\n>>> assert y_test.shape == (102,), 'y_test.shape is incorrect'\n",
         "hidden": false,
         "locked": false,
         "points": 5
        }
       ],
       "scored": true,
       "setup": "",
       "teardown": "",
       "type": "doctest"
      }
     ]
    },
    "task2": {
     "name": "task2",
     "points": null,
     "suites": [
      {
       "cases": [
        {
         "code": ">>> print(np.mean(X_train_norm, axis=0))\n[-5.27630744e-17 -5.27630744e-17  2.02258452e-16  3.51753830e-17\n -2.63815372e-16  1.93464606e-16 -5.27630744e-17  2.02258452e-16\n -3.51753830e-17 -1.93464606e-16  1.24872610e-15 -1.35425224e-15\n  1.05526149e-16]\n",
         "hidden": false,
         "locked": false,
         "points": 15
        }
       ],
       "scored": true,
       "setup": "",
       "teardown": "",
       "type": "doctest"
      }
     ]
    },
    "task3": {
     "name": "task3",
     "points": null,
     "suites": [
      {
       "cases": [
        {
         "code": ">>> loss = loss_MSE(X_train, y_train, 0, np.zeros(X_train.shape[1]))\n>>> assert np.isclose(round(loss, 2), 670.02), 'loss_MSE is incorrect'\n",
         "hidden": false,
         "locked": false,
         "points": 15
        }
       ],
       "scored": true,
       "setup": "",
       "teardown": "",
       "type": "doctest"
      }
     ]
    },
    "task4": {
     "name": "task4",
     "points": null,
     "suites": [
      {
       "cases": [
        {
         "code": ">>> import math\n>>> assert math.isclose(b, 4.835148514851486, rel_tol=1e-09, abs_tol=0.0001), 'b is incorrect'\n",
         "hidden": false,
         "locked": false,
         "points": 10
        },
        {
         "code": ">>> print(W)\n[5.83764037e+00 8.34692079e+01 4.12637550e+01 4.92772277e-01\n 2.50331342e+00 3.16321551e+01 2.95818871e+02 2.06984080e+01\n 3.00719307e+01 1.62410193e+03 8.53398366e+01 1.84758496e+03\n 4.59696307e+01]\n",
         "hidden": false,
         "locked": false,
         "points": 15
        }
       ],
       "scored": true,
       "setup": "",
       "teardown": "",
       "type": "doctest"
      }
     ]
    },
    "task5": {
     "name": "task5",
     "points": null,
     "suites": [
      {
       "cases": [
        {
         "code": ">>> import math\n>>> assert best_lr == 0.1, 'best_lr is incorrect'\n>>> assert math.isclose(round(best_loss, 5), 22.77838), 'best_loss is incorrect'\n",
         "hidden": false,
         "locked": false,
         "points": 40
        }
       ],
       "scored": true,
       "setup": "",
       "teardown": "",
       "type": "doctest"
      }
     ]
    }
   }
  }
 },
 "nbformat": 4,
 "nbformat_minor": 5
}
