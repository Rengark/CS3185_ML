{
 "cells": [
  {
   "cell_type": "markdown",
   "metadata": {},
   "source": [
    "### Table of Content\n",
    "\n",
    "* [1. Simple Linear Regression](#1)\n",
    "    * [1.1 Simple Linear Regression Codes](#1.1)\n",
    "    * [1.2 Comparison with Scikit-Learn](#1.2)\n",
    "* [2. Multi-Variables Linear Regression](#2)\n",
    "    * [2.1 Multi-Variables Linear Regression Codes](#2.1)\n",
    "    * [2.2 Comparison with Scikit-Learn](#2.2)"
   ]
  },
  {
   "cell_type": "markdown",
   "metadata": {},
   "source": [
    "<a id='1'></a>\n",
    "# <p style=\"background-color:skyblue; font-family:newtimeroman; font-size:150%; text-align:center\">1. Simple Linear Regression</p>\n",
    "\n",
    "\n",
    "Simple linear regression, or univariate linear regression, involves only one independent variable (or feature, **X**) and one dependent variable (**Y**), which is the simplest form of regression.\n",
    "\n",
    "\n",
    "<a id='1.1'></a>\n",
    "## <p style=\"background-color:skyblue; font-family:newtimeroman; font-size:150%; text-align:center\">1.1 Simple Linear Regression Codes</p>"
   ]
  },
  {
   "cell_type": "code",
   "execution_count": 8,
   "metadata": {},
   "outputs": [],
   "source": [
    "import pandas as pd\n",
    "import numpy as np"
   ]
  },
  {
   "cell_type": "code",
   "execution_count": 9,
   "metadata": {},
   "outputs": [],
   "source": [
    "def loss_MSE(X, Y, b, W1): # Mean Squared Error\n",
    "    \"\"\"\n",
    "    Find the Mean Squared Error between true outputs and predicted outputs\n",
    "    Inputs: X - list, the input feature values\n",
    "            Y - list, the true output values\n",
    "            b - float/int, bias\n",
    "            W1 - float/int, weight\n",
    "\n",
    "    Outputs: MSE - float\n",
    "    \"\"\"\n",
    "    m = len(X)\n",
    "    total_loss = 0\n",
    "    for i in range(m):\n",
    "        total_loss = total_loss + (Y[i] - (b + W1 * X[i]))**2\n",
    "    MSE = total_loss / m\n",
    "    return MSE"
   ]
  },
  {
   "cell_type": "code",
   "execution_count": 10,
   "metadata": {},
   "outputs": [],
   "source": [
    "def update_bias_weights(X, Y, b, W1, learning_rate):\n",
    "    \"\"\"\n",
    "    Update the bias and weights based on Gradient Descent \n",
    "    Inputs: X - list, the input feature values\n",
    "            Y - list, the true output values\n",
    "            b - float/int, bias\n",
    "            W1 - float/int, weight   \n",
    "            learning_rate - float, the learning rate used in Gradient Descent\n",
    "    Outputs: \n",
    "            (b, W1) - tuple, the updated bias and weights\n",
    "    \"\"\"\n",
    "    m = len(X)\n",
    "    dL_db = 0\n",
    "    dL_dW1 = 0\n",
    "    \n",
    "    for i in range(m):     \n",
    "        dL_db  = dL_db  + 2 * (Y[i] - (b + W1 * X[i])) * (-1)\n",
    "        dL_dW1 = dL_dW1 + 2 * (Y[i] - (b + W1 * X[i])) * (-X[i])\n",
    "            \n",
    "    dL_db  = dL_db/m\n",
    "    dL_dW1 = dL_dW1/m\n",
    "\n",
    "    # We subtract because the derivatives point in direction of steepest ascent\n",
    "    b  = b - dL_db  * learning_rate\n",
    "    W1  = W1 - dL_dW1  * learning_rate \n",
    "    \n",
    "    return (b, W1)"
   ]
  },
  {
   "cell_type": "code",
   "execution_count": 11,
   "metadata": {},
   "outputs": [],
   "source": [
    "def train(X, Y, b, W1, learning_rate, learning_iterations):\n",
    "    \"\"\"\n",
    "    Train linear regression model for the specified iterations\n",
    "    Inputs: X - list, the input feature values\n",
    "            Y - list, the true output values\n",
    "            b - float/int, bias\n",
    "            W1 - float/int, weight \n",
    "            learning_rate - float, the learning rate used in Gradient Descent\n",
    "            learning_iterations - int, the number of times of training\n",
    "    Outputs: \n",
    "            (loss_history, b, W) - tuple, return loss_history and final parameters \n",
    "    \"\"\"\n",
    "    loss_history = []\n",
    "\n",
    "    for i in range(learning_iterations):\n",
    "        b, W1 = update_bias_weights(X, Y, b, W1, learning_rate)\n",
    "        \n",
    "        # find MSE after the ith iteration of updating bias and weights\n",
    "        loss = loss_MSE(X, Y, b, W1)\n",
    "        loss_history.append(loss)\n",
    "        \n",
    "        if i < 5 or i >= learning_iterations-5:\n",
    "            print (\"iter={:d} \\t b={:.5f} \\t W1={:.5f} \\t MSE={}\".format(i+1, b, W1, loss))\n",
    "    return (loss_history, b, W1)"
   ]
  },
  {
   "cell_type": "markdown",
   "metadata": {},
   "source": [
    "**Note**: Since there is only one dependent variable in this case, normalization of 𝑋 is not strictly necessary. "
   ]
  },
  {
   "cell_type": "code",
   "execution_count": 12,
   "metadata": {},
   "outputs": [
    {
     "name": "stdout",
     "output_type": "stream",
     "text": [
      "   num_bedrooms  sale_price_million\n",
      "0           5.0                2.28\n",
      "1           4.0                1.50\n",
      "2           2.0                0.88 \n",
      "\n",
      "iter=1 \t b=0.03107 \t W1=0.12773 \t MSE=1.2876418074074072\n",
      "iter=2 \t b=0.05214 \t W1=0.21487 \t MSE=0.6117608990377611\n",
      "iter=3 \t b=0.06641 \t W1=0.27432 \t MSE=0.2974261267093362\n",
      "iter=4 \t b=0.07603 \t W1=0.31489 \t MSE=0.15123366696611604\n",
      "iter=5 \t b=0.08249 \t W1=0.34258 \t MSE=0.08323825972420885\n",
      "iter=99996 \t b=-0.07571 \t W1=0.44429 \t MSE=0.021038095238095248\n",
      "iter=99997 \t b=-0.07571 \t W1=0.44429 \t MSE=0.021038095238095248\n",
      "iter=99998 \t b=-0.07571 \t W1=0.44429 \t MSE=0.021038095238095248\n",
      "iter=99999 \t b=-0.07571 \t W1=0.44429 \t MSE=0.021038095238095248\n",
      "iter=100000 \t b=-0.07571 \t W1=0.44429 \t MSE=0.021038095238095248\n"
     ]
    }
   ],
   "source": [
    "# The small dataset\n",
    "data = np.array([[5,2.28],\n",
    "                 [4,1.5],\n",
    "                 [2,0.88]])\n",
    "col_names = ['num_bedrooms', 'sale_price_million']\n",
    "print(pd.DataFrame(data, columns=col_names), \"\\n\")\n",
    "\n",
    "X = data[:, 0]  # first column\n",
    "Y = data[:, 1]  # second/last column \n",
    "\n",
    "X = X.tolist()\n",
    "Y = Y.tolist()\n",
    "\n",
    "# Initialize bias and weights\n",
    "initial_b  = 0\n",
    "initial_W1 = 0\n",
    "\n",
    "# Set learing rate and iterations\n",
    "learning_rate = 0.01\n",
    "learning_iterations = 100000 \n",
    "\n",
    "# Start the training of linear regression model\n",
    "loss_history, b, W1 = train(X, Y, initial_b, initial_W1, learning_rate, learning_iterations)"
   ]
  },
  {
   "cell_type": "code",
   "execution_count": 13,
   "metadata": {},
   "outputs": [
    {
     "data": {
      "image/png": "[encoded data removed]",
      "text/plain": [
       "<Figure size 432x288 with 1 Axes>"
      ]
     },
     "metadata": {
      "needs_background": "light"
     },
     "output_type": "display_data"
    }
   ],
   "source": [
    "import matplotlib.pyplot as plt\n",
    "# Plot the true data points and predicted line\n",
    "plt.scatter(X, Y, color='blue', label='True Data Points')\n",
    "X_pred = np.linspace(min(X), max(X), 100)  # Generate points for the line\n",
    "Y_pred = b + W1 * X_pred                  # Predicted values\n",
    "plt.plot(X_pred, Y_pred, color='red', label='Predicted Line')\n",
    "\n",
    "plt.xlabel('Number of Bedrooms')\n",
    "plt.ylabel('Sale Price (in million)')\n",
    "plt.title('True Data Points vs. Predicted Line')\n",
    "plt.legend()\n",
    "plt.show()"
   ]
  },
  {
   "cell_type": "code",
   "execution_count": 14,
   "metadata": {},
   "outputs": [
    {
     "name": "stdout",
     "output_type": "stream",
     "text": [
      "For the house with 3 bedrooms, \n",
      "the sale price is predicted to be 1.257 million.\n"
     ]
    }
   ],
   "source": [
    "new_data = np.array([[3]], dtype = float) \n",
    "    \n",
    "# Use the final bias and weights values\n",
    "predicted_price = b + W1*new_data[0][0] \n",
    "\n",
    "print(f'''For the house with 3 bedrooms, \n",
    "the sale price is predicted to be {np.round(predicted_price,3)} million.''')"
   ]
  },
  {
   "cell_type": "code",
   "execution_count": 15,
   "metadata": {},
   "outputs": [
    {
     "data": {
      "image/png": "[encoded data removed]",
      "text/plain": [
       "<Figure size 720x432 with 1 Axes>"
      ]
     },
     "metadata": {
      "needs_background": "light"
     },
     "output_type": "display_data"
    }
   ],
   "source": [
    "itr = list(range(0, learning_iterations))\n",
    "fig = plt.figure(figsize = (10, 6))\n",
    "plt.xlabel('Learning Iterations', fontsize=18)\n",
    "plt.ylabel('Mean Squared Error', fontsize=18)\n",
    "plt.yticks(fontsize=14)\n",
    "plt.xticks(fontsize=14)\n",
    "plt.plot(itr[:100], loss_history[:100], color='black')\n",
    "# plt.savefig('MSE_LREG_1000.jpg', dpi=600)\n",
    "plt.show()"
   ]
  },
  {
   "cell_type": "markdown",
   "metadata": {},
   "source": [
    "<a id='1.2'></a>\n",
    "## <p style=\"background-color:skyblue; font-family:newtimeroman; font-size:150%; text-align:center\">1.2 Comparison with Scikit-Learn</p>"
   ]
  },
  {
   "cell_type": "code",
   "execution_count": 16,
   "metadata": {},
   "outputs": [
    {
     "name": "stdout",
     "output_type": "stream",
     "text": [
      "The optimal bias found by sklearn: -0.07571\n",
      "The optimal weights found by sklearn: [0.44429]\n",
      "The R^2 value: 0.93588\n"
     ]
    }
   ],
   "source": [
    "import numpy as np\n",
    "# from sklearn.preprocessing import MinMaxScaler\n",
    "from sklearn.linear_model import LinearRegression\n",
    "\n",
    "# The small dataset\n",
    "data = np.array([[5,2.28],\n",
    "                 [4,1.5],\n",
    "                 [2,0.88]])\n",
    "X = data[:, 0].reshape(-1,1) # Reshape to 2D array with shape (n_samples, n_features)\n",
    "Y = data[:, 1]  # all rows, last column only\n",
    "\n",
    "# scaler = MinMaxScaler()\n",
    "# scaler.fit(X)\n",
    "# X = scaler.transform(X) # update to Normalized X\n",
    "\n",
    "reg = LinearRegression().fit(X, Y)\n",
    "\n",
    "print(f\"The optimal bias found by sklearn: {np.round(reg.intercept_,5)}\")\n",
    "print(f\"The optimal weights found by sklearn: {np.round(reg.coef_,5)}\")"
   ]
  },
  {
   "cell_type": "code",
   "execution_count": 17,
   "metadata": {},
   "outputs": [
    {
     "name": "stdout",
     "output_type": "stream",
     "text": [
      "For the house with 3 bedrooms, \n",
      "the sale price is predicted to be [1.257] million.\n"
     ]
    }
   ],
   "source": [
    "new_data = np.array([[3]], dtype = float)\n",
    "# new_data = scaler.transform(new_data)\n",
    "\n",
    "print(f'''For the house with 3 bedrooms, \n",
    "the sale price is predicted to be {np.round(reg.predict(new_data),3)} million.''')"
   ]
  },
  {
   "cell_type": "markdown",
   "metadata": {},
   "source": [
    "<a id='2'></a>\n",
    "# <p style=\"background-color:skyblue; font-family:newtimeroman; font-size:150%; text-align:center\">2. Multi-Variable Linear Regression</p>\n",
    "\n",
    "Multi-Variable Linear Regression establishes the relationship between multiple independnet variables (**X**) and one dependent variable(**Y**).\n",
    "\n",
    "<a id='2.1'></a>\n",
    "## <p style=\"background-color:skyblue; font-family:newtimeroman; font-size:150%; text-align:center\">2.1 Multi-Variable Linear Regression Codes </p>"
   ]
  },
  {
   "cell_type": "code",
   "execution_count": 18,
   "metadata": {},
   "outputs": [],
   "source": [
    "def loss_MSE(X, Y, b, W1, W2): # Mean Squared Error\n",
    "    \"\"\"\n",
    "    Find the Mean Squared Error between true outputs and predicted outputs\n",
    "    Inputs: X - list, the input feature values\n",
    "            Y - list, the true output values\n",
    "            b - float/int, bias\n",
    "            W1 - float/int, weight for the 1st feature (i.e., size_sqft)\n",
    "            W2 - float/int, weight for the 2nd feature (i.e., num_bedrooms)\n",
    "    Outputs: MSE - float\n",
    "    \"\"\"\n",
    "    X1 = [val[0] for val in X]\n",
    "    X2 = [val[1] for val in X]\n",
    "    m = len(X)\n",
    "    total_loss = 0\n",
    "    for i in range(m):\n",
    "        total_loss = total_loss + (Y[i] - (b + X1[i]*W1 + X2[i]*W2))**2\n",
    "    MSE = total_loss / m\n",
    "    return MSE\n",
    "\n",
    "\n",
    "def update_bias_weights(X, Y, b, W1, W2, learning_rate):\n",
    "    \"\"\"\n",
    "    Update the bias and weights based on Gradient Descent \n",
    "    Inputs: X - list, the input feature values\n",
    "            Y - list, the true output values\n",
    "            b - float/int, bias\n",
    "            W1 - float/int, weight for the 1st feature (i.e., size_sqft)\n",
    "            W2 - float/int, weight for the 2nd feature (i.e., num_bedrooms)\n",
    "            learning_rate - float, the learning rate used in Gradient Descent\n",
    "    Outputs: (b, W1, W2) - tuple, the updated bias and weights\n",
    "    \"\"\"\n",
    "    X1 = [val[0] for val in X]\n",
    "    X2 = [val[1] for val in X]\n",
    "    m = len(X)\n",
    "    dL_dW1 = 0\n",
    "    dL_dW2 = 0\n",
    "    dL_db  = 0\n",
    "    \n",
    "    for i in range(m):     \n",
    "        dL_db  = dL_db  + 2 * (Y[i] - (b + X1[i]*W1 + X2[i]*W2)) * (-1)\n",
    "        dL_dW1 = dL_dW1 + 2 * (Y[i] - (b + X1[i]*W1 + X2[i]*W2)) * (-X1[i])\n",
    "        dL_dW2 = dL_dW2 + 2 * (Y[i] - (b + X1[i]*W1 + X2[i]*W2)) * (-X2[i])\n",
    "            \n",
    "    dL_db  = dL_db/m\n",
    "    dL_dW1 = dL_dW1/m\n",
    "    dL_dW2 = dL_dW2/m\n",
    "    \n",
    "    # We subtract because the derivatives point in direction of steepest ascent\n",
    "    b  = b  - dL_db  * learning_rate\n",
    "    W1 = W1 - dL_dW1 * learning_rate \n",
    "    W2 = W2 - dL_dW2 * learning_rate\n",
    "    \n",
    "    return (b, W1, W2)\n",
    "\n",
    "def train(X, Y, b, W1, W2, learning_rate, learning_iterations):\n",
    "    \"\"\"\n",
    "    Train linear regression model for the specified iterations\n",
    "    Inputs: X - list, the input feature values\n",
    "            Y - list, the true output values\n",
    "            b - float/int, bias\n",
    "            W1 - float/int, weight for the 1st feature (i.e., size_sqft)\n",
    "            W2 - float/int, weight for the 2nd feature (i.e., num_bedrooms)\n",
    "            learning_rate - float, the learning rate used in Gradient Descent\n",
    "            learning_iterations - int, the number of times of training\n",
    "    Outputs: (loss_history, b, W1, W2) - tuple, return the loss_history, and \n",
    "                                                the final bias and weights\n",
    "    \"\"\"\n",
    "    loss_history = []\n",
    "\n",
    "    for i in range(learning_iterations):\n",
    "        b, W1, W2 = update_bias_weights(X, Y, b, W1, W2, learning_rate)\n",
    "        \n",
    "        # find MSE after the ith iteration of updating bias and weights\n",
    "        loss = loss_MSE(X, Y, b, W1, W2)\n",
    "        loss_history.append(loss)\n",
    "        \n",
    "        if i < 5 or i >= learning_iterations-5:\n",
    "            print (\"iter={:d} \\t b={:.5f} \\t W1={:.5f} \\t W2={:.5f} \\t MSE={}\".format(i+1, b, W1, W2, loss))\n",
    "    return (loss_history, b, W1, W2)\n",
    "\n",
    "\n",
    "def max_min_norm(X):\n",
    "    \"\"\"\n",
    "    Normalize dataset by using the Max-min normalization technique\n",
    "    Inputs: X - numpy.ndarray, the dataset for normalization\n",
    "    Outputs: (X_norm, np.array(max_min_vals)) - tuple, return the normalized dataset, \n",
    "                                            and the max and min values of each feature\n",
    "    \"\"\"\n",
    "    X_norm = X.copy().astype(float)\n",
    "    max_min_vals = []\n",
    "    for col in range(0, X_norm.shape[1]):\n",
    "        X_max = X_norm[:, col].max()\n",
    "        X_min = X_norm[:, col].min()\n",
    "        X_range = X_max - X_min\n",
    "        X_norm[:, col] = (X_norm[:, col] - X_min) / X_range\n",
    "        max_min_vals.append({\"X_max\":X_max, \"X_min\":X_min, \"X_range\":X_range})\n",
    "    return (X_norm, np.array(max_min_vals))"
   ]
  },
  {
   "cell_type": "markdown",
   "metadata": {},
   "source": [
    "*The above code is specifically designed for two independent variables. You can try modifying it to generalize for multiple (an undefined number of) variables in your free time.*"
   ]
  },
  {
   "cell_type": "code",
   "execution_count": 19,
   "metadata": {},
   "outputs": [
    {
     "name": "stdout",
     "output_type": "stream",
     "text": [
      "   size_sqft  num_bedrooms  sale_price_million\n",
      "0     1600.0           5.0                2.28\n",
      "1     1200.0           4.0                1.50\n",
      "2      740.0           2.0                0.88 \n",
      "\n",
      "iter=1 \t b=0.03107 \t W1=0.02055 \t W2=0.02187 \t MSE=2.5575697626286185\n",
      "iter=2 \t b=0.06106 \t W1=0.04041 \t W2=0.04299 \t MSE=2.386536425797163\n",
      "iter=3 \t b=0.09001 \t W1=0.05959 \t W2=0.06340 \t MSE=2.227004062632732\n",
      "iter=4 \t b=0.11797 \t W1=0.07814 \t W2=0.08312 \t MSE=2.0781991850671244\n",
      "iter=5 \t b=0.14495 \t W1=0.09606 \t W2=0.10217 \t MSE=1.9394003261916515\n",
      "iter=499996 \t b=0.88000 \t W1=2.37765 \t W2=-0.97765 \t MSE=3.271661739987268e-19\n",
      "iter=499997 \t b=0.88000 \t W1=2.37765 \t W2=-0.97765 \t MSE=3.271412898125512e-19\n",
      "iter=499998 \t b=0.88000 \t W1=2.37765 \t W2=-0.97765 \t MSE=3.2711650159687197e-19\n",
      "iter=499999 \t b=0.88000 \t W1=2.37765 \t W2=-0.97765 \t MSE=3.2709145253923147e-19\n",
      "iter=500000 \t b=0.88000 \t W1=2.37765 \t W2=-0.97765 \t MSE=3.2706657119492734e-19\n"
     ]
    }
   ],
   "source": [
    "# The small dataset\n",
    "data = np.array([[1600,5,2.28],\n",
    "                 [1200,4,1.5],\n",
    "                 [740,2,0.88]])\n",
    "col_names = ['size_sqft', 'num_bedrooms', 'sale_price_million']\n",
    "print(pd.DataFrame(data, columns=col_names), \"\\n\")\n",
    "\n",
    "X = data[:, :-1] # all rows, all columns except the last column\n",
    "Y = data[:, -1]  # all rows, last column only\n",
    "\n",
    "X, max_min_vals = max_min_norm(X) # normalize the input features\n",
    "X = X.tolist()\n",
    "Y = Y.tolist()\n",
    "\n",
    "# Initialize bias and weights\n",
    "initial_b  = 0\n",
    "initial_W1 = 0\n",
    "initial_W2 = 0\n",
    "\n",
    "# Set learing rate and iterations\n",
    "learning_rate = 0.01\n",
    "learning_iterations = 500000\n",
    "\n",
    "# Start the training of linear regression model\n",
    "loss_history, b, W1, W2 = train(X, Y, initial_b, initial_W1, initial_W2, learning_rate, learning_iterations)"
   ]
  },
  {
   "cell_type": "code",
   "execution_count": 20,
   "metadata": {},
   "outputs": [
    {
     "name": "stdout",
     "output_type": "stream",
     "text": [
      "For the house with 1200 sqft and 3 bedrooms, \n",
      "the sale price is predicted to be 1.826 million.\n"
     ]
    }
   ],
   "source": [
    "new_data = np.array([[1200,3]], dtype = float)\n",
    "\n",
    "# Max-min normalization\n",
    "for col in range(0, new_data.shape[1]):\n",
    "    new_data[:, col] = ((new_data[:, col] \n",
    "                        - max_min_vals[col]['X_min']) \n",
    "                        / max_min_vals[col]['X_range'])\n",
    "    \n",
    "# Use the final bias and weights values\n",
    "predicted_price = b + W1*new_data[0][0] + W2*new_data[0][1]\n",
    "\n",
    "print(f'''For the house with 1200 sqft and 3 bedrooms, \n",
    "the sale price is predicted to be {np.round(predicted_price,3)} million.''')"
   ]
  },
  {
   "cell_type": "code",
   "execution_count": 21,
   "metadata": {},
   "outputs": [
    {
     "data": {
      "image/png": "[encoded data removed]",
      "text/plain": [
       "<Figure size 720x432 with 1 Axes>"
      ]
     },
     "metadata": {
      "needs_background": "light"
     },
     "output_type": "display_data"
    }
   ],
   "source": [
    "import matplotlib.pyplot as plt\n",
    "\n",
    "itr = list(range(0, learning_iterations))\n",
    "fig = plt.figure(figsize = (10, 6))\n",
    "plt.xlabel('Learning Iterations', fontsize=18)\n",
    "plt.ylabel('Mean Squared Error', fontsize=18)\n",
    "plt.yticks(fontsize=14)\n",
    "plt.xticks(fontsize=14)\n",
    "plt.plot(itr[:1000], loss_history[:1000], color='black')\n",
    "# plt.savefig('MSE_LREG_1000.jpg', dpi=600)\n",
    "plt.show()"
   ]
  },
  {
   "cell_type": "markdown",
   "metadata": {},
   "source": [
    "<a id='2.2'></a>\n",
    "## <p style=\"background-color:skyblue; font-family:newtimeroman; font-size:150%; text-align:center\">2.2 Comparison with Scikit-Learn</p>"
   ]
  },
  {
   "cell_type": "code",
   "execution_count": 22,
   "metadata": {},
   "outputs": [
    {
     "name": "stdout",
     "output_type": "stream",
     "text": [
      "The optimal bias found by sklearn: 0.88\n",
      "The optimal weights found by sklearn: [ 2.37765 -0.97765]\n",
      "The R^2 value: 1.0\n"
     ]
    }
   ],
   "source": [
    "import numpy as np\n",
    "from sklearn.preprocessing import MinMaxScaler\n",
    "from sklearn.linear_model import LinearRegression\n",
    "\n",
    "# The small dataset\n",
    "data = np.array([[1600,5,2.28],\n",
    "                 [1200,4,1.5],\n",
    "                 [740,2,0.88]])\n",
    "X = data[:, :-1] # all rows, all columns except the last column\n",
    "Y = data[:, -1]  # all rows, last column only\n",
    "\n",
    "scaler = MinMaxScaler()\n",
    "scaler.fit(X)\n",
    "X = scaler.transform(X) # update to Normalized X\n",
    "\n",
    "reg = LinearRegression().fit(X, Y)\n",
    "\n",
    "print(f\"The optimal bias found by sklearn: {np.round(reg.intercept_,5)}\")\n",
    "print(f\"The optimal weights found by sklearn: {np.round(reg.coef_,5)}\")"
   ]
  },
  {
   "cell_type": "code",
   "execution_count": 23,
   "metadata": {},
   "outputs": [
    {
     "name": "stdout",
     "output_type": "stream",
     "text": [
      "For the house with 1200 sqft and 3 bedrooms, \n",
      "the sale price is predicted to be [1.826] million.\n"
     ]
    }
   ],
   "source": [
    "new_data = np.array([[1200,3]], dtype = float)\n",
    "new_data = scaler.transform(new_data)\n",
    "\n",
    "print(f'''For the house with 1200 sqft and 3 bedrooms, \n",
    "the sale price is predicted to be {np.round(reg.predict(new_data),3)} million.''')"
   ]
  }
 ],
 "metadata": {
  "kernelspec": {
   "display_name": "base",
   "language": "python",
   "name": "python3"
  },
  "language_info": {
   "codemirror_mode": {
    "name": "ipython",
    "version": 3
   },
   "file_extension": ".py",
   "mimetype": "text/x-python",
   "name": "python",
   "nbconvert_exporter": "python",
   "pygments_lexer": "ipython3",
   "version": "3.12.7"
  }
 },
 "nbformat": 4,
 "nbformat_minor": 4
}
