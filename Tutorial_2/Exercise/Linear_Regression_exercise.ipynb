{
 "cells": [
  {
   "cell_type": "markdown",
   "id": "726ef920-8a6d-4820-b128-e45738950647",
   "metadata": {
    "tags": []
   },
   "source": [
    "# Exercise: Linear Regression\n",
    "\n",
    "You are given a dataset `Advertising.csv` that contains statistics about the Sales of a product in 200 different markets, together with advertising budgets in each of these markets for different media channels, namely, TV, Radio, and Newspaper. <br>\n",
    "<br><br>\n",
    "**The dataset (200x4) comprises four columns as follows:**\n",
    "- TV: The advertising budget for television in thousands of dollars.\n",
    "- Radio: The advertising budget for radio in thousands of dollars.\n",
    "- Newspaper: The advertising budget for newspapers in thousands of dollars.\n",
    "- Sales: The number of product units sold, represented in thousands.\n",
    "\n",
    "<br><br>\n",
    "**Now, you are required to import sklearn library and build a linear regression model.**\n",
    "- TV, Radio, and Newspaper are the <u>input features</u>. \n",
    "- Sales is the <u>output</u> \n",
    "\n",
    "<br>\n",
    "At a minimum, you should complete the following steps and answer the accompanying questions."
   ]
  },
  {
   "cell_type": "markdown",
   "id": "60faead6",
   "metadata": {},
   "source": [
    "## Import Library & Read the Data"
   ]
  },
  {
   "cell_type": "code",
   "execution_count": 1,
   "id": "5d9086b2-e6be-45ef-aa63-3452b7345f01",
   "metadata": {},
   "outputs": [
    {
     "data": {
      "text/html": [
       "<div>\n",
       "<style scoped>\n",
       "    .dataframe tbody tr th:only-of-type {\n",
       "        vertical-align: middle;\n",
       "    }\n",
       "\n",
       "    .dataframe tbody tr th {\n",
       "        vertical-align: top;\n",
       "    }\n",
       "\n",
       "    .dataframe thead th {\n",
       "        text-align: right;\n",
       "    }\n",
       "</style>\n",
       "<table border=\"1\" class=\"dataframe\">\n",
       "  <thead>\n",
       "    <tr style=\"text-align: right;\">\n",
       "      <th></th>\n",
       "      <th>TV</th>\n",
       "      <th>Radio</th>\n",
       "      <th>Newspaper</th>\n",
       "      <th>Sales</th>\n",
       "    </tr>\n",
       "  </thead>\n",
       "  <tbody>\n",
       "    <tr>\n",
       "      <th>0</th>\n",
       "      <td>230.1</td>\n",
       "      <td>37.8</td>\n",
       "      <td>69.2</td>\n",
       "      <td>22.1</td>\n",
       "    </tr>\n",
       "    <tr>\n",
       "      <th>1</th>\n",
       "      <td>44.5</td>\n",
       "      <td>39.3</td>\n",
       "      <td>45.1</td>\n",
       "      <td>10.4</td>\n",
       "    </tr>\n",
       "    <tr>\n",
       "      <th>2</th>\n",
       "      <td>17.2</td>\n",
       "      <td>45.9</td>\n",
       "      <td>69.3</td>\n",
       "      <td>9.3</td>\n",
       "    </tr>\n",
       "    <tr>\n",
       "      <th>3</th>\n",
       "      <td>151.5</td>\n",
       "      <td>41.3</td>\n",
       "      <td>58.5</td>\n",
       "      <td>18.5</td>\n",
       "    </tr>\n",
       "    <tr>\n",
       "      <th>4</th>\n",
       "      <td>180.8</td>\n",
       "      <td>10.8</td>\n",
       "      <td>58.4</td>\n",
       "      <td>12.9</td>\n",
       "    </tr>\n",
       "    <tr>\n",
       "      <th>...</th>\n",
       "      <td>...</td>\n",
       "      <td>...</td>\n",
       "      <td>...</td>\n",
       "      <td>...</td>\n",
       "    </tr>\n",
       "    <tr>\n",
       "      <th>195</th>\n",
       "      <td>38.2</td>\n",
       "      <td>3.7</td>\n",
       "      <td>13.8</td>\n",
       "      <td>7.6</td>\n",
       "    </tr>\n",
       "    <tr>\n",
       "      <th>196</th>\n",
       "      <td>94.2</td>\n",
       "      <td>4.9</td>\n",
       "      <td>8.1</td>\n",
       "      <td>9.7</td>\n",
       "    </tr>\n",
       "    <tr>\n",
       "      <th>197</th>\n",
       "      <td>177.0</td>\n",
       "      <td>9.3</td>\n",
       "      <td>6.4</td>\n",
       "      <td>12.8</td>\n",
       "    </tr>\n",
       "    <tr>\n",
       "      <th>198</th>\n",
       "      <td>283.6</td>\n",
       "      <td>42.0</td>\n",
       "      <td>66.2</td>\n",
       "      <td>25.5</td>\n",
       "    </tr>\n",
       "    <tr>\n",
       "      <th>199</th>\n",
       "      <td>232.1</td>\n",
       "      <td>8.6</td>\n",
       "      <td>8.7</td>\n",
       "      <td>13.4</td>\n",
       "    </tr>\n",
       "  </tbody>\n",
       "</table>\n",
       "<p>200 rows × 4 columns</p>\n",
       "</div>"
      ],
      "text/plain": [
       "        TV  Radio  Newspaper  Sales\n",
       "0    230.1   37.8       69.2   22.1\n",
       "1     44.5   39.3       45.1   10.4\n",
       "2     17.2   45.9       69.3    9.3\n",
       "3    151.5   41.3       58.5   18.5\n",
       "4    180.8   10.8       58.4   12.9\n",
       "..     ...    ...        ...    ...\n",
       "195   38.2    3.7       13.8    7.6\n",
       "196   94.2    4.9        8.1    9.7\n",
       "197  177.0    9.3        6.4   12.8\n",
       "198  283.6   42.0       66.2   25.5\n",
       "199  232.1    8.6        8.7   13.4\n",
       "\n",
       "[200 rows x 4 columns]"
      ]
     },
     "execution_count": 1,
     "metadata": {},
     "output_type": "execute_result"
    }
   ],
   "source": [
    "import pandas as pd\n",
    "filename = \"Advertising.csv\"\n",
    "df = pd.read_csv(filename)\n",
    "df"
   ]
  },
  {
   "cell_type": "markdown",
   "id": "6c665299",
   "metadata": {},
   "source": [
    "## Data Exploration/Visualization"
   ]
  },
  {
   "cell_type": "code",
   "execution_count": null,
   "id": "e7739fa6",
   "metadata": {},
   "outputs": [],
   "source": []
  },
  {
   "cell_type": "markdown",
   "id": "adfc5cc6",
   "metadata": {},
   "source": [
    "## Simple Linear Regression\n",
    "You need to build three different simple linear regression models, each with one of the variables (TV, Radio, Newspaper) as the feature(X). \n",
    "\n",
    "Save the performance metrics (MSE, RMSE, R²) for each of the simple regression models and compare them later with a multi-variable linear regression model that uses all three variables as independent variables."
   ]
  },
  {
   "cell_type": "code",
   "execution_count": null,
   "id": "f7058634",
   "metadata": {},
   "outputs": [],
   "source": []
  },
  {
   "cell_type": "code",
   "execution_count": null,
   "id": "64d24fcf",
   "metadata": {},
   "outputs": [],
   "source": []
  },
  {
   "cell_type": "code",
   "execution_count": null,
   "id": "47bb0c0a",
   "metadata": {},
   "outputs": [],
   "source": []
  },
  {
   "cell_type": "markdown",
   "id": "114ec710",
   "metadata": {},
   "source": [
    "## Multi-variable Linear Regression"
   ]
  },
  {
   "cell_type": "code",
   "execution_count": null,
   "id": "09c4eb09",
   "metadata": {},
   "outputs": [],
   "source": [
    "# Normalization/Scaling"
   ]
  },
  {
   "cell_type": "code",
   "execution_count": null,
   "id": "1e031a68",
   "metadata": {},
   "outputs": [],
   "source": [
    "# Model building"
   ]
  },
  {
   "cell_type": "markdown",
   "id": "3f5a9929",
   "metadata": {},
   "source": [
    "## Model Performance\n",
    "Based on the metric values, determine which linear regression model seems to be the best fit among all models?"
   ]
  },
  {
   "cell_type": "code",
   "execution_count": null,
   "id": "c6f87b66",
   "metadata": {},
   "outputs": [],
   "source": []
  },
  {
   "cell_type": "markdown",
   "id": "5dedbf5d",
   "metadata": {},
   "source": [
    "## Prediction on Unseen Data\n",
    "Using your best model above to make a prediction "
   ]
  },
  {
   "cell_type": "code",
   "execution_count": null,
   "id": "9a380611",
   "metadata": {},
   "outputs": [],
   "source": [
    "# Predict for new, previously unseen data\n",
    "\n",
    "new_data = pd.DataFrame({'TV': [200], 'Radio': [30], 'Newspaper': [50]})"
   ]
  },
  {
   "cell_type": "code",
   "execution_count": null,
   "id": "94283f37",
   "metadata": {},
   "outputs": [],
   "source": []
  },
  {
   "cell_type": "markdown",
   "id": "7637cbcf",
   "metadata": {},
   "source": [
    "**Is it a good idea to include as many featuers (X) as possible in a linear regression for better performance? Please share your thoughts.**"
   ]
  },
  {
   "cell_type": "code",
   "execution_count": null,
   "id": "a17aad0e",
   "metadata": {},
   "outputs": [],
   "source": []
  }
 ],
 "metadata": {
  "kernelspec": {
   "display_name": "Python 3",
   "language": "python",
   "name": "python3"
  },
  "language_info": {
   "codemirror_mode": {
    "name": "ipython",
    "version": 3
   },
   "file_extension": ".py",
   "mimetype": "text/x-python",
   "name": "python",
   "nbconvert_exporter": "python",
   "pygments_lexer": "ipython3",
   "version": "3.8.8"
  }
 },
 "nbformat": 4,
 "nbformat_minor": 5
}
