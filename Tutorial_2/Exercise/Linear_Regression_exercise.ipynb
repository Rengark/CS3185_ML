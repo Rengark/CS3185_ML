{
 "cells": [
  {
   "cell_type": "markdown",
   "id": "726ef920-8a6d-4820-b128-e45738950647",
   "metadata": {
    "tags": []
   },
   "source": [
    "# Exercise: Linear Regression\n",
    "\n",
    "You are given a dataset `Advertising.csv` that contains statistics about the Sales of a product in 200 different markets, together with advertising budgets in each of these markets for different media channels, namely, TV, Radio, and Newspaper. <br>\n",
    "<br><br>\n",
    "**The dataset (200x4) comprises four columns as follows:**\n",
    "- TV: The advertising budget for television in thousands of dollars.\n",
    "- Radio: The advertising budget for radio in thousands of dollars.\n",
    "- Newspaper: The advertising budget for newspapers in thousands of dollars.\n",
    "- Sales: The number of product units sold, represented in thousands.\n",
    "\n",
    "<br><br>\n",
    "**Now, you are required to import sklearn library and build a linear regression model.**\n",
    "- TV, Radio, and Newspaper are the <u>input features</u>. \n",
    "- Sales is the <u>output</u> \n",
    "\n",
    "<br>\n",
    "At a minimum, you should complete the following steps and answer the accompanying questions."
   ]
  },
  {
   "cell_type": "markdown",
   "id": "60faead6",
   "metadata": {},
   "source": [
    "## Import Library & Read the Data"
   ]
  },
  {
   "cell_type": "code",
   "execution_count": 18,
   "id": "5d9086b2-e6be-45ef-aa63-3452b7345f01",
   "metadata": {},
   "outputs": [
    {
     "data": {
      "text/html": [
       "<div>\n",
       "<style scoped>\n",
       "    .dataframe tbody tr th:only-of-type {\n",
       "        vertical-align: middle;\n",
       "    }\n",
       "\n",
       "    .dataframe tbody tr th {\n",
       "        vertical-align: top;\n",
       "    }\n",
       "\n",
       "    .dataframe thead th {\n",
       "        text-align: right;\n",
       "    }\n",
       "</style>\n",
       "<table border=\"1\" class=\"dataframe\">\n",
       "  <thead>\n",
       "    <tr style=\"text-align: right;\">\n",
       "      <th></th>\n",
       "      <th>longitude</th>\n",
       "      <th>latitude</th>\n",
       "      <th>housing_median_age</th>\n",
       "      <th>total_rooms</th>\n",
       "      <th>total_bedrooms</th>\n",
       "      <th>population</th>\n",
       "      <th>households</th>\n",
       "      <th>median_income</th>\n",
       "      <th>median_house_value</th>\n",
       "    </tr>\n",
       "  </thead>\n",
       "  <tbody>\n",
       "    <tr>\n",
       "      <th>0</th>\n",
       "      <td>-114.31</td>\n",
       "      <td>34.19</td>\n",
       "      <td>15.0</td>\n",
       "      <td>5612.0</td>\n",
       "      <td>1283.0</td>\n",
       "      <td>1015.0</td>\n",
       "      <td>472.0</td>\n",
       "      <td>1.4936</td>\n",
       "      <td>66900.0</td>\n",
       "    </tr>\n",
       "    <tr>\n",
       "      <th>1</th>\n",
       "      <td>-114.47</td>\n",
       "      <td>34.40</td>\n",
       "      <td>19.0</td>\n",
       "      <td>7650.0</td>\n",
       "      <td>1901.0</td>\n",
       "      <td>1129.0</td>\n",
       "      <td>463.0</td>\n",
       "      <td>1.8200</td>\n",
       "      <td>80100.0</td>\n",
       "    </tr>\n",
       "    <tr>\n",
       "      <th>2</th>\n",
       "      <td>-114.56</td>\n",
       "      <td>33.69</td>\n",
       "      <td>17.0</td>\n",
       "      <td>720.0</td>\n",
       "      <td>174.0</td>\n",
       "      <td>333.0</td>\n",
       "      <td>117.0</td>\n",
       "      <td>1.6509</td>\n",
       "      <td>85700.0</td>\n",
       "    </tr>\n",
       "    <tr>\n",
       "      <th>3</th>\n",
       "      <td>-114.57</td>\n",
       "      <td>33.64</td>\n",
       "      <td>14.0</td>\n",
       "      <td>1501.0</td>\n",
       "      <td>337.0</td>\n",
       "      <td>515.0</td>\n",
       "      <td>226.0</td>\n",
       "      <td>3.1917</td>\n",
       "      <td>73400.0</td>\n",
       "    </tr>\n",
       "    <tr>\n",
       "      <th>4</th>\n",
       "      <td>-114.57</td>\n",
       "      <td>33.57</td>\n",
       "      <td>20.0</td>\n",
       "      <td>1454.0</td>\n",
       "      <td>326.0</td>\n",
       "      <td>624.0</td>\n",
       "      <td>262.0</td>\n",
       "      <td>1.9250</td>\n",
       "      <td>65500.0</td>\n",
       "    </tr>\n",
       "    <tr>\n",
       "      <th>...</th>\n",
       "      <td>...</td>\n",
       "      <td>...</td>\n",
       "      <td>...</td>\n",
       "      <td>...</td>\n",
       "      <td>...</td>\n",
       "      <td>...</td>\n",
       "      <td>...</td>\n",
       "      <td>...</td>\n",
       "      <td>...</td>\n",
       "    </tr>\n",
       "    <tr>\n",
       "      <th>16995</th>\n",
       "      <td>-124.26</td>\n",
       "      <td>40.58</td>\n",
       "      <td>52.0</td>\n",
       "      <td>2217.0</td>\n",
       "      <td>394.0</td>\n",
       "      <td>907.0</td>\n",
       "      <td>369.0</td>\n",
       "      <td>2.3571</td>\n",
       "      <td>111400.0</td>\n",
       "    </tr>\n",
       "    <tr>\n",
       "      <th>16996</th>\n",
       "      <td>-124.27</td>\n",
       "      <td>40.69</td>\n",
       "      <td>36.0</td>\n",
       "      <td>2349.0</td>\n",
       "      <td>528.0</td>\n",
       "      <td>1194.0</td>\n",
       "      <td>465.0</td>\n",
       "      <td>2.5179</td>\n",
       "      <td>79000.0</td>\n",
       "    </tr>\n",
       "    <tr>\n",
       "      <th>16997</th>\n",
       "      <td>-124.30</td>\n",
       "      <td>41.84</td>\n",
       "      <td>17.0</td>\n",
       "      <td>2677.0</td>\n",
       "      <td>531.0</td>\n",
       "      <td>1244.0</td>\n",
       "      <td>456.0</td>\n",
       "      <td>3.0313</td>\n",
       "      <td>103600.0</td>\n",
       "    </tr>\n",
       "    <tr>\n",
       "      <th>16998</th>\n",
       "      <td>-124.30</td>\n",
       "      <td>41.80</td>\n",
       "      <td>19.0</td>\n",
       "      <td>2672.0</td>\n",
       "      <td>552.0</td>\n",
       "      <td>1298.0</td>\n",
       "      <td>478.0</td>\n",
       "      <td>1.9797</td>\n",
       "      <td>85800.0</td>\n",
       "    </tr>\n",
       "    <tr>\n",
       "      <th>16999</th>\n",
       "      <td>-124.35</td>\n",
       "      <td>40.54</td>\n",
       "      <td>52.0</td>\n",
       "      <td>1820.0</td>\n",
       "      <td>300.0</td>\n",
       "      <td>806.0</td>\n",
       "      <td>270.0</td>\n",
       "      <td>3.0147</td>\n",
       "      <td>94600.0</td>\n",
       "    </tr>\n",
       "  </tbody>\n",
       "</table>\n",
       "<p>17000 rows × 9 columns</p>\n",
       "</div>"
      ],
      "text/plain": [
       "       longitude  latitude  housing_median_age  total_rooms  total_bedrooms  \\\n",
       "0        -114.31     34.19                15.0       5612.0          1283.0   \n",
       "1        -114.47     34.40                19.0       7650.0          1901.0   \n",
       "2        -114.56     33.69                17.0        720.0           174.0   \n",
       "3        -114.57     33.64                14.0       1501.0           337.0   \n",
       "4        -114.57     33.57                20.0       1454.0           326.0   \n",
       "...          ...       ...                 ...          ...             ...   \n",
       "16995    -124.26     40.58                52.0       2217.0           394.0   \n",
       "16996    -124.27     40.69                36.0       2349.0           528.0   \n",
       "16997    -124.30     41.84                17.0       2677.0           531.0   \n",
       "16998    -124.30     41.80                19.0       2672.0           552.0   \n",
       "16999    -124.35     40.54                52.0       1820.0           300.0   \n",
       "\n",
       "       population  households  median_income  median_house_value  \n",
       "0          1015.0       472.0         1.4936             66900.0  \n",
       "1          1129.0       463.0         1.8200             80100.0  \n",
       "2           333.0       117.0         1.6509             85700.0  \n",
       "3           515.0       226.0         3.1917             73400.0  \n",
       "4           624.0       262.0         1.9250             65500.0  \n",
       "...           ...         ...            ...                 ...  \n",
       "16995       907.0       369.0         2.3571            111400.0  \n",
       "16996      1194.0       465.0         2.5179             79000.0  \n",
       "16997      1244.0       456.0         3.0313            103600.0  \n",
       "16998      1298.0       478.0         1.9797             85800.0  \n",
       "16999       806.0       270.0         3.0147             94600.0  \n",
       "\n",
       "[17000 rows x 9 columns]"
      ]
     },
     "execution_count": 18,
     "metadata": {},
     "output_type": "execute_result"
    }
   ],
   "source": [
    "import pandas as pd\n",
    "filename = \"Advertising.csv\"\n",
    "df = pd.read_csv(filename)\n",
    "df"
   ]
  },
  {
   "cell_type": "markdown",
   "id": "6c665299",
   "metadata": {},
   "source": [
    "## Data Exploration/Visualization"
   ]
  },
  {
   "cell_type": "code",
   "execution_count": 7,
   "id": "e7739fa6",
   "metadata": {},
   "outputs": [],
   "source": [
    "import numpy as np \n",
    "# import all the X values\n",
    "dataTV = np.array(df[\"TV\"]).tolist()\n",
    "dataRD = np.array(df[\"Radio\"]).tolist()\n",
    "dataNP = np.array(df[\"Newspaper\"]).tolist()\n",
    "\n",
    "# import the Y value (shared across the 3 of the X values)\n",
    "dataSales = np.array(df[\"Sales\"]).tolist()"
   ]
  },
  {
   "cell_type": "markdown",
   "id": "9eb17657",
   "metadata": {},
   "source": [
    "## Define helper functions"
   ]
  },
  {
   "cell_type": "code",
   "execution_count": 8,
   "id": "493f6fd8",
   "metadata": {},
   "outputs": [],
   "source": [
    "def MSE(x,y,b,w1):\n",
    "    \"\"\"\n",
    "    Find the Mean Squared Error between true outputs and predicted outputs\n",
    "    Inputs: x - list, the input feature values\n",
    "            y - list, the true output values\n",
    "            b - float/int, bias\n",
    "            w1 - float/int, weight\n",
    "\n",
    "    Outputs: MSE - float\n",
    "    \"\"\"\n",
    "    m = len(x)\n",
    "    total_loss = 0\n",
    "    for i in range(m):\n",
    "        total_loss = total_loss + (y[i] - (b + w1 * x[i])) ** 2\n",
    "    return total_loss/m #MSE\n",
    "\n",
    "def update_bias_weights(x, y, b, w1, alpha):\n",
    "    \"\"\"\n",
    "    Update the bias and weights based on Gradient Descent \n",
    "    Inputs: X - list, the input feature values\n",
    "            Y - list, the true output values\n",
    "            b - float/int, bias\n",
    "            W1 - float/int, weight   \n",
    "            alpha - float, the learning rate used in Gradient Descent\n",
    "    Outputs: \n",
    "            (b, W1) - tuple, the updated bias and weights    \n",
    "    \"\"\"\n",
    "    m = len(x)\n",
    "    db = 0\n",
    "    dw1 = 0\n",
    "    for i in range(m):\n",
    "        db  = db  + 2 * (y[i] - (b + w1 * x[i])) * (-1)\n",
    "        dw1 = dw1 + 2 * (y[i] - (b + w1 * x[i])) * (-x[i])\n",
    "\n",
    "    db = db / m\n",
    "    dw1 = dw1 / m\n",
    "\n",
    "    # subtract due to the derivatives pointing in the direction of steepest ascent (pos gradient)\n",
    "    b = b - db * alpha\n",
    "    w1 = w1 - dw1 * alpha\n",
    "\n",
    "    return (b, w1)"
   ]
  },
  {
   "cell_type": "markdown",
   "id": "f12de669",
   "metadata": {},
   "source": [
    "## Training function (put the two above functions together)"
   ]
  },
  {
   "cell_type": "code",
   "execution_count": 9,
   "id": "c4cd2cb0",
   "metadata": {},
   "outputs": [],
   "source": [
    "def train(x, y, b, w1, alpha, iterations):\n",
    "    \"\"\"\n",
    "    Train linear regression model for the specified iterations\n",
    "    Inputs: X - list, the input feature values\n",
    "            Y - list, the true output values\n",
    "            b - float/int, bias\n",
    "            W1 - float/int, weight \n",
    "            learning_rate - float, the learning rate used in Gradient Descent\n",
    "            learning_iterations - int, the number of times of training\n",
    "    Outputs: \n",
    "            (loss_history, b, W) - tuple, return loss_history and final parameters \n",
    "    \"\"\"\n",
    "    lHistory = []\n",
    "\n",
    "    for i in range(iterations):\n",
    "        b, w1 = update_bias_weights(x,y,b,w1,alpha)\n",
    "\n",
    "        # find MSE after each iteration of updating the bias and weights\n",
    "        loss = MSE(x,y,b,w1)\n",
    "        lHistory.append(loss)\n",
    "\n",
    "        if i < 5 or i >= iterations - 5:\n",
    "            print(\"iter={:d} \\t b={:.5f} \\t W1={:.5f} \\t MSE={}\".format(i+1, b, w1, loss))\n",
    "    return (lHistory, b, w1)  "
   ]
  },
  {
   "cell_type": "markdown",
   "id": "adfc5cc6",
   "metadata": {},
   "source": [
    "## Simple Linear Regression\n",
    "You need to build three different simple linear regression models, each with one of the variables (TV, Radio, Newspaper) as the feature(X). \n",
    "\n",
    "Save the performance metrics (MSE, RMSE, R²) for each of the simple regression models and compare them later with a multi-variable linear regression model that uses all three variables as independent variables."
   ]
  },
  {
   "cell_type": "code",
   "execution_count": 17,
   "id": "f7058634",
   "metadata": {},
   "outputs": [
    {
     "name": "stdout",
     "output_type": "stream",
     "text": [
      "iter=1 \t b=0.28045 \t W1=48.21083 \t MSE=67072797.712930396\n",
      "iter=2 \t b=-141.22554 \t W1=-27823.86783 \t MSE=22417771491462.227\n",
      "iter=3 \t b=81687.70113 \t W1=16085770.93375 \t MSE=7.492704456171997e+18\n",
      "iter=4 \t b=-47225785.22295 \t W1=-9299614799.30640 \t MSE=2.504290851968841e+24\n",
      "iter=5 \t b=27302490913.30220 \t W1=5376356297617.32129 \t MSE=8.370105491200568e+29\n"
     ]
    },
    {
     "ename": "OverflowError",
     "evalue": "(34, 'Result too large')",
     "output_type": "error",
     "traceback": [
      "\u001b[0;31m---------------------------------------------------------------------------\u001b[0m",
      "\u001b[0;31mOverflowError\u001b[0m                             Traceback (most recent call last)",
      "Cell \u001b[0;32mIn[17], line 8\u001b[0m\n\u001b[1;32m      4\u001b[0m alpha \u001b[38;5;241m=\u001b[39m \u001b[38;5;241m0.01\u001b[39m\n\u001b[1;32m      5\u001b[0m ite \u001b[38;5;241m=\u001b[39m \u001b[38;5;241m100000\u001b[39m\n\u001b[0;32m----> 8\u001b[0m lHist, b , w1 \u001b[38;5;241m=\u001b[39m train(dataTV, dataSales, initial_b, initial_w1, alpha, ite)\n",
      "Cell \u001b[0;32mIn[9], line 19\u001b[0m, in \u001b[0;36mtrain\u001b[0;34m(x, y, b, w1, alpha, iterations)\u001b[0m\n\u001b[1;32m     16\u001b[0m b, w1 \u001b[38;5;241m=\u001b[39m update_bias_weights(x,y,b,w1,alpha)\n\u001b[1;32m     18\u001b[0m \u001b[38;5;66;03m# find MSE after each iteration of updating the bias and weights\u001b[39;00m\n\u001b[0;32m---> 19\u001b[0m loss \u001b[38;5;241m=\u001b[39m MSE(x,y,b,w1)\n\u001b[1;32m     20\u001b[0m lHistory\u001b[38;5;241m.\u001b[39mappend(loss)\n\u001b[1;32m     22\u001b[0m \u001b[38;5;28;01mif\u001b[39;00m i \u001b[38;5;241m<\u001b[39m \u001b[38;5;241m5\u001b[39m \u001b[38;5;129;01mor\u001b[39;00m i \u001b[38;5;241m>\u001b[39m\u001b[38;5;241m=\u001b[39m iterations \u001b[38;5;241m-\u001b[39m \u001b[38;5;241m5\u001b[39m:\n",
      "Cell \u001b[0;32mIn[8], line 14\u001b[0m, in \u001b[0;36mMSE\u001b[0;34m(x, y, b, w1)\u001b[0m\n\u001b[1;32m     12\u001b[0m total_loss \u001b[38;5;241m=\u001b[39m \u001b[38;5;241m0\u001b[39m\n\u001b[1;32m     13\u001b[0m \u001b[38;5;28;01mfor\u001b[39;00m i \u001b[38;5;129;01min\u001b[39;00m \u001b[38;5;28mrange\u001b[39m(m):\n\u001b[0;32m---> 14\u001b[0m     total_loss \u001b[38;5;241m=\u001b[39m total_loss \u001b[38;5;241m+\u001b[39m (y[i] \u001b[38;5;241m-\u001b[39m (b \u001b[38;5;241m+\u001b[39m w1 \u001b[38;5;241m*\u001b[39m x[i])) \u001b[38;5;241m*\u001b[39m\u001b[38;5;241m*\u001b[39m \u001b[38;5;241m2\u001b[39m\n\u001b[1;32m     15\u001b[0m \u001b[38;5;28;01mreturn\u001b[39;00m total_loss\u001b[38;5;241m/\u001b[39mm\n",
      "\u001b[0;31mOverflowError\u001b[0m: (34, 'Result too large')"
     ]
    }
   ],
   "source": [
    "initial_b = 0\n",
    "initial_w1 = 0\n",
    "\n",
    "alpha = 0.01\n",
    "ite = 100000\n",
    "\n",
    "\n",
    "lHist, b , w1 = train(dataTV, dataSales, initial_b, initial_w1, alpha, ite)"
   ]
  },
  {
   "cell_type": "code",
   "execution_count": null,
   "id": "64d24fcf",
   "metadata": {},
   "outputs": [],
   "source": []
  },
  {
   "cell_type": "code",
   "execution_count": null,
   "id": "47bb0c0a",
   "metadata": {},
   "outputs": [],
   "source": []
  },
  {
   "cell_type": "markdown",
   "id": "114ec710",
   "metadata": {},
   "source": [
    "## Multi-variable Linear Regression"
   ]
  },
  {
   "cell_type": "code",
   "execution_count": 2,
   "id": "09c4eb09",
   "metadata": {},
   "outputs": [],
   "source": [
    "# Normalization/Scaling"
   ]
  },
  {
   "cell_type": "code",
   "execution_count": 3,
   "id": "1e031a68",
   "metadata": {},
   "outputs": [],
   "source": [
    "# Model building"
   ]
  },
  {
   "cell_type": "markdown",
   "id": "3f5a9929",
   "metadata": {},
   "source": [
    "## Model Performance\n",
    "Based on the metric values, determine which linear regression model seems to be the best fit among all models?"
   ]
  },
  {
   "cell_type": "code",
   "execution_count": null,
   "id": "c6f87b66",
   "metadata": {},
   "outputs": [],
   "source": []
  },
  {
   "cell_type": "markdown",
   "id": "5dedbf5d",
   "metadata": {},
   "source": [
    "## Prediction on Unseen Data\n",
    "Using your best model above to make a prediction "
   ]
  },
  {
   "cell_type": "code",
   "execution_count": 4,
   "id": "9a380611",
   "metadata": {},
   "outputs": [],
   "source": [
    "# Predict for new, previously unseen data\n",
    "\n",
    "new_data = pd.DataFrame({'TV': [200], 'Radio': [30], 'Newspaper': [50]})"
   ]
  },
  {
   "cell_type": "code",
   "execution_count": null,
   "id": "94283f37",
   "metadata": {},
   "outputs": [],
   "source": []
  },
  {
   "cell_type": "markdown",
   "id": "7637cbcf",
   "metadata": {},
   "source": [
    "**Is it a good idea to include as many featuers (X) as possible in a linear regression for better performance? Please share your thoughts.**"
   ]
  },
  {
   "cell_type": "code",
   "execution_count": null,
   "id": "a17aad0e",
   "metadata": {},
   "outputs": [],
   "source": []
  }
 ],
 "metadata": {
  "kernelspec": {
   "display_name": "base",
   "language": "python",
   "name": "python3"
  },
  "language_info": {
   "codemirror_mode": {
    "name": "ipython",
    "version": 3
   },
   "file_extension": ".py",
   "mimetype": "text/x-python",
   "name": "python",
   "nbconvert_exporter": "python",
   "pygments_lexer": "ipython3",
   "version": "3.12.7"
  }
 },
 "nbformat": 4,
 "nbformat_minor": 5
}
