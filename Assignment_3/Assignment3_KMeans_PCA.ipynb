{
 "cells": [
  {
   "cell_type": "code",
   "execution_count": 1,
   "metadata": {},
   "outputs": [
    {
     "name": "stdout",
     "output_type": "stream",
     "text": [
      "Defaulting to user installation because normal site-packages is not writeable\n",
      "Requirement already satisfied: otter-grader in c:\\users\\jun wei\\appdata\\roaming\\python\\python312\\site-packages (6.1.1)\n",
      "Requirement already satisfied: click<9.0.0,>=8.1.7 in c:\\programdata\\anaconda3\\lib\\site-packages (from otter-grader) (8.1.7)\n",
      "Requirement already satisfied: dill>=0.3.0 in c:\\programdata\\anaconda3\\lib\\site-packages (from otter-grader) (0.3.8)\n",
      "Requirement already satisfied: fica>=0.4.1 in c:\\users\\jun wei\\appdata\\roaming\\python\\python312\\site-packages (from otter-grader) (0.4.1)\n",
      "Requirement already satisfied: ipylab<2.0.0,>=1.0.0 in c:\\users\\jun wei\\appdata\\roaming\\python\\python312\\site-packages (from otter-grader) (1.0.0)\n",
      "Requirement already satisfied: ipython in c:\\programdata\\anaconda3\\lib\\site-packages (from otter-grader) (8.27.0)\n",
      "Requirement already satisfied: ipywidgets<9.0.0,>=8.1.5 in c:\\users\\jun wei\\appdata\\roaming\\python\\python312\\site-packages (from otter-grader) (8.1.5)\n",
      "Requirement already satisfied: jinja2<4.0,>=3.1 in c:\\programdata\\anaconda3\\lib\\site-packages (from otter-grader) (3.1.4)\n",
      "Requirement already satisfied: jupytext<2.0.0,>=1.16.4 in c:\\users\\jun wei\\appdata\\roaming\\python\\python312\\site-packages (from otter-grader) (1.16.7)\n",
      "Requirement already satisfied: nbconvert>=6.0.0 in c:\\programdata\\anaconda3\\lib\\site-packages (from nbconvert[webpdf]>=6.0.0; sys_platform != \"emscripten\" and sys_platform != \"wasi\"->otter-grader) (7.16.4)\n",
      "Requirement already satisfied: nbformat>=5.0.0 in c:\\programdata\\anaconda3\\lib\\site-packages (from otter-grader) (5.10.4)\n",
      "Requirement already satisfied: pandas>=2.0.0 in c:\\programdata\\anaconda3\\lib\\site-packages (from otter-grader) (2.2.2)\n",
      "Requirement already satisfied: python-on-whales<1.0.0,>=0.72.0 in c:\\users\\jun wei\\appdata\\roaming\\python\\python312\\site-packages (from otter-grader) (0.75.1)\n",
      "Requirement already satisfied: pyyaml<7,>=6 in c:\\programdata\\anaconda3\\lib\\site-packages (from otter-grader) (6.0.1)\n",
      "Requirement already satisfied: requests<3.0,>=2.31 in c:\\programdata\\anaconda3\\lib\\site-packages (from otter-grader) (2.32.3)\n",
      "Requirement already satisfied: wrapt<2.0.0,>=1.16.0 in c:\\users\\jun wei\\appdata\\roaming\\python\\python312\\site-packages (from otter-grader) (1.17.2)\n",
      "Requirement already satisfied: colorama in c:\\programdata\\anaconda3\\lib\\site-packages (from click<9.0.0,>=8.1.7->otter-grader) (0.4.6)\n",
      "Requirement already satisfied: docutils in c:\\programdata\\anaconda3\\lib\\site-packages (from fica>=0.4.1->otter-grader) (0.18.1)\n",
      "Requirement already satisfied: sphinx in c:\\programdata\\anaconda3\\lib\\site-packages (from fica>=0.4.1->otter-grader) (7.3.7)\n",
      "Requirement already satisfied: comm>=0.1.3 in c:\\programdata\\anaconda3\\lib\\site-packages (from ipywidgets<9.0.0,>=8.1.5->otter-grader) (0.2.1)\n",
      "Requirement already satisfied: traitlets>=4.3.1 in c:\\programdata\\anaconda3\\lib\\site-packages (from ipywidgets<9.0.0,>=8.1.5->otter-grader) (5.14.3)\n",
      "Requirement already satisfied: widgetsnbextension~=4.0.12 in c:\\users\\jun wei\\appdata\\roaming\\python\\python312\\site-packages (from ipywidgets<9.0.0,>=8.1.5->otter-grader) (4.0.13)\n",
      "Requirement already satisfied: jupyterlab-widgets~=3.0.12 in c:\\users\\jun wei\\appdata\\roaming\\python\\python312\\site-packages (from ipywidgets<9.0.0,>=8.1.5->otter-grader) (3.0.13)\n",
      "Requirement already satisfied: decorator in c:\\programdata\\anaconda3\\lib\\site-packages (from ipython->otter-grader) (5.1.1)\n",
      "Requirement already satisfied: jedi>=0.16 in c:\\programdata\\anaconda3\\lib\\site-packages (from ipython->otter-grader) (0.19.1)\n",
      "Requirement already satisfied: matplotlib-inline in c:\\programdata\\anaconda3\\lib\\site-packages (from ipython->otter-grader) (0.1.6)\n",
      "Requirement already satisfied: prompt-toolkit<3.1.0,>=3.0.41 in c:\\programdata\\anaconda3\\lib\\site-packages (from ipython->otter-grader) (3.0.43)\n",
      "Requirement already satisfied: pygments>=2.4.0 in c:\\programdata\\anaconda3\\lib\\site-packages (from ipython->otter-grader) (2.15.1)\n",
      "Requirement already satisfied: stack-data in c:\\programdata\\anaconda3\\lib\\site-packages (from ipython->otter-grader) (0.2.0)\n",
      "Requirement already satisfied: MarkupSafe>=2.0 in c:\\programdata\\anaconda3\\lib\\site-packages (from jinja2<4.0,>=3.1->otter-grader) (2.1.3)\n",
      "Requirement already satisfied: markdown-it-py>=1.0 in c:\\programdata\\anaconda3\\lib\\site-packages (from jupytext<2.0.0,>=1.16.4->otter-grader) (2.2.0)\n",
      "Requirement already satisfied: mdit-py-plugins in c:\\programdata\\anaconda3\\lib\\site-packages (from jupytext<2.0.0,>=1.16.4->otter-grader) (0.3.0)\n",
      "Requirement already satisfied: packaging in c:\\programdata\\anaconda3\\lib\\site-packages (from jupytext<2.0.0,>=1.16.4->otter-grader) (24.1)\n",
      "Requirement already satisfied: beautifulsoup4 in c:\\programdata\\anaconda3\\lib\\site-packages (from nbconvert>=6.0.0->nbconvert[webpdf]>=6.0.0; sys_platform != \"emscripten\" and sys_platform != \"wasi\"->otter-grader) (4.12.3)\n",
      "Requirement already satisfied: bleach!=5.0.0 in c:\\programdata\\anaconda3\\lib\\site-packages (from nbconvert>=6.0.0->nbconvert[webpdf]>=6.0.0; sys_platform != \"emscripten\" and sys_platform != \"wasi\"->otter-grader) (4.1.0)\n",
      "Requirement already satisfied: defusedxml in c:\\programdata\\anaconda3\\lib\\site-packages (from nbconvert>=6.0.0->nbconvert[webpdf]>=6.0.0; sys_platform != \"emscripten\" and sys_platform != \"wasi\"->otter-grader) (0.7.1)\n",
      "Requirement already satisfied: jupyter-core>=4.7 in c:\\programdata\\anaconda3\\lib\\site-packages (from nbconvert>=6.0.0->nbconvert[webpdf]>=6.0.0; sys_platform != \"emscripten\" and sys_platform != \"wasi\"->otter-grader) (5.7.2)\n",
      "Requirement already satisfied: jupyterlab-pygments in c:\\programdata\\anaconda3\\lib\\site-packages (from nbconvert>=6.0.0->nbconvert[webpdf]>=6.0.0; sys_platform != \"emscripten\" and sys_platform != \"wasi\"->otter-grader) (0.1.2)\n",
      "Requirement already satisfied: mistune<4,>=2.0.3 in c:\\programdata\\anaconda3\\lib\\site-packages (from nbconvert>=6.0.0->nbconvert[webpdf]>=6.0.0; sys_platform != \"emscripten\" and sys_platform != \"wasi\"->otter-grader) (2.0.4)\n",
      "Requirement already satisfied: nbclient>=0.5.0 in c:\\programdata\\anaconda3\\lib\\site-packages (from nbconvert>=6.0.0->nbconvert[webpdf]>=6.0.0; sys_platform != \"emscripten\" and sys_platform != \"wasi\"->otter-grader) (0.8.0)\n",
      "Requirement already satisfied: pandocfilters>=1.4.1 in c:\\programdata\\anaconda3\\lib\\site-packages (from nbconvert>=6.0.0->nbconvert[webpdf]>=6.0.0; sys_platform != \"emscripten\" and sys_platform != \"wasi\"->otter-grader) (1.5.0)\n",
      "Requirement already satisfied: tinycss2 in c:\\programdata\\anaconda3\\lib\\site-packages (from nbconvert>=6.0.0->nbconvert[webpdf]>=6.0.0; sys_platform != \"emscripten\" and sys_platform != \"wasi\"->otter-grader) (1.2.1)\n",
      "Requirement already satisfied: playwright in c:\\users\\jun wei\\appdata\\roaming\\python\\python312\\site-packages (from nbconvert[webpdf]>=6.0.0; sys_platform != \"emscripten\" and sys_platform != \"wasi\"->otter-grader) (1.50.0)\n",
      "Requirement already satisfied: fastjsonschema>=2.15 in c:\\programdata\\anaconda3\\lib\\site-packages (from nbformat>=5.0.0->otter-grader) (2.16.2)\n",
      "Requirement already satisfied: jsonschema>=2.6 in c:\\programdata\\anaconda3\\lib\\site-packages (from nbformat>=5.0.0->otter-grader) (4.23.0)\n",
      "Requirement already satisfied: numpy>=1.26.0 in c:\\programdata\\anaconda3\\lib\\site-packages (from pandas>=2.0.0->otter-grader) (1.26.4)\n",
      "Requirement already satisfied: python-dateutil>=2.8.2 in c:\\programdata\\anaconda3\\lib\\site-packages (from pandas>=2.0.0->otter-grader) (2.9.0.post0)\n",
      "Requirement already satisfied: pytz>=2020.1 in c:\\programdata\\anaconda3\\lib\\site-packages (from pandas>=2.0.0->otter-grader) (2024.1)\n",
      "Requirement already satisfied: tzdata>=2022.7 in c:\\programdata\\anaconda3\\lib\\site-packages (from pandas>=2.0.0->otter-grader) (2023.3)\n",
      "Requirement already satisfied: pydantic!=2.0.*,<3,>=2 in c:\\programdata\\anaconda3\\lib\\site-packages (from python-on-whales<1.0.0,>=0.72.0->otter-grader) (2.8.2)\n",
      "Requirement already satisfied: typing-extensions in c:\\programdata\\anaconda3\\lib\\site-packages (from python-on-whales<1.0.0,>=0.72.0->otter-grader) (4.11.0)\n",
      "Requirement already satisfied: charset-normalizer<4,>=2 in c:\\programdata\\anaconda3\\lib\\site-packages (from requests<3.0,>=2.31->otter-grader) (3.3.2)\n",
      "Requirement already satisfied: idna<4,>=2.5 in c:\\programdata\\anaconda3\\lib\\site-packages (from requests<3.0,>=2.31->otter-grader) (3.7)\n",
      "Requirement already satisfied: urllib3<3,>=1.21.1 in c:\\programdata\\anaconda3\\lib\\site-packages (from requests<3.0,>=2.31->otter-grader) (2.2.3)\n",
      "Requirement already satisfied: certifi>=2017.4.17 in c:\\programdata\\anaconda3\\lib\\site-packages (from requests<3.0,>=2.31->otter-grader) (2024.8.30)\n",
      "Requirement already satisfied: six>=1.9.0 in c:\\programdata\\anaconda3\\lib\\site-packages (from bleach!=5.0.0->nbconvert>=6.0.0->nbconvert[webpdf]>=6.0.0; sys_platform != \"emscripten\" and sys_platform != \"wasi\"->otter-grader) (1.16.0)\n",
      "Requirement already satisfied: webencodings in c:\\programdata\\anaconda3\\lib\\site-packages (from bleach!=5.0.0->nbconvert>=6.0.0->nbconvert[webpdf]>=6.0.0; sys_platform != \"emscripten\" and sys_platform != \"wasi\"->otter-grader) (0.5.1)\n",
      "Requirement already satisfied: parso<0.9.0,>=0.8.3 in c:\\programdata\\anaconda3\\lib\\site-packages (from jedi>=0.16->ipython->otter-grader) (0.8.3)\n",
      "Requirement already satisfied: attrs>=22.2.0 in c:\\programdata\\anaconda3\\lib\\site-packages (from jsonschema>=2.6->nbformat>=5.0.0->otter-grader) (23.1.0)\n",
      "Requirement already satisfied: jsonschema-specifications>=2023.03.6 in c:\\programdata\\anaconda3\\lib\\site-packages (from jsonschema>=2.6->nbformat>=5.0.0->otter-grader) (2023.7.1)\n",
      "Requirement already satisfied: referencing>=0.28.4 in c:\\programdata\\anaconda3\\lib\\site-packages (from jsonschema>=2.6->nbformat>=5.0.0->otter-grader) (0.30.2)\n",
      "Requirement already satisfied: rpds-py>=0.7.1 in c:\\programdata\\anaconda3\\lib\\site-packages (from jsonschema>=2.6->nbformat>=5.0.0->otter-grader) (0.10.6)\n",
      "Requirement already satisfied: platformdirs>=2.5 in c:\\programdata\\anaconda3\\lib\\site-packages (from jupyter-core>=4.7->nbconvert>=6.0.0->nbconvert[webpdf]>=6.0.0; sys_platform != \"emscripten\" and sys_platform != \"wasi\"->otter-grader) (3.10.0)\n",
      "Requirement already satisfied: pywin32>=300 in c:\\programdata\\anaconda3\\lib\\site-packages (from jupyter-core>=4.7->nbconvert>=6.0.0->nbconvert[webpdf]>=6.0.0; sys_platform != \"emscripten\" and sys_platform != \"wasi\"->otter-grader) (305.1)\n",
      "Requirement already satisfied: mdurl~=0.1 in c:\\programdata\\anaconda3\\lib\\site-packages (from markdown-it-py>=1.0->jupytext<2.0.0,>=1.16.4->otter-grader) (0.1.0)\n",
      "Requirement already satisfied: jupyter-client>=6.1.12 in c:\\programdata\\anaconda3\\lib\\site-packages (from nbclient>=0.5.0->nbconvert>=6.0.0->nbconvert[webpdf]>=6.0.0; sys_platform != \"emscripten\" and sys_platform != \"wasi\"->otter-grader) (8.6.0)\n",
      "Requirement already satisfied: wcwidth in c:\\programdata\\anaconda3\\lib\\site-packages (from prompt-toolkit<3.1.0,>=3.0.41->ipython->otter-grader) (0.2.5)\n",
      "Requirement already satisfied: annotated-types>=0.4.0 in c:\\programdata\\anaconda3\\lib\\site-packages (from pydantic!=2.0.*,<3,>=2->python-on-whales<1.0.0,>=0.72.0->otter-grader) (0.6.0)\n",
      "Requirement already satisfied: pydantic-core==2.20.1 in c:\\programdata\\anaconda3\\lib\\site-packages (from pydantic!=2.0.*,<3,>=2->python-on-whales<1.0.0,>=0.72.0->otter-grader) (2.20.1)\n",
      "Requirement already satisfied: soupsieve>1.2 in c:\\programdata\\anaconda3\\lib\\site-packages (from beautifulsoup4->nbconvert>=6.0.0->nbconvert[webpdf]>=6.0.0; sys_platform != \"emscripten\" and sys_platform != \"wasi\"->otter-grader) (2.5)\n",
      "Requirement already satisfied: pyee<13,>=12 in c:\\users\\jun wei\\appdata\\roaming\\python\\python312\\site-packages (from playwright->nbconvert[webpdf]>=6.0.0; sys_platform != \"emscripten\" and sys_platform != \"wasi\"->otter-grader) (12.1.1)\n",
      "Requirement already satisfied: greenlet<4.0.0,>=3.1.1 in c:\\users\\jun wei\\appdata\\roaming\\python\\python312\\site-packages (from playwright->nbconvert[webpdf]>=6.0.0; sys_platform != \"emscripten\" and sys_platform != \"wasi\"->otter-grader) (3.1.1)\n",
      "Requirement already satisfied: sphinxcontrib-applehelp in c:\\programdata\\anaconda3\\lib\\site-packages (from sphinx->fica>=0.4.1->otter-grader) (1.0.2)\n",
      "Requirement already satisfied: sphinxcontrib-devhelp in c:\\programdata\\anaconda3\\lib\\site-packages (from sphinx->fica>=0.4.1->otter-grader) (1.0.2)\n",
      "Requirement already satisfied: sphinxcontrib-jsmath in c:\\programdata\\anaconda3\\lib\\site-packages (from sphinx->fica>=0.4.1->otter-grader) (1.0.1)\n",
      "Requirement already satisfied: sphinxcontrib-htmlhelp>=2.0.0 in c:\\programdata\\anaconda3\\lib\\site-packages (from sphinx->fica>=0.4.1->otter-grader) (2.0.0)\n",
      "Requirement already satisfied: sphinxcontrib-serializinghtml>=1.1.9 in c:\\programdata\\anaconda3\\lib\\site-packages (from sphinx->fica>=0.4.1->otter-grader) (1.1.10)\n",
      "Requirement already satisfied: sphinxcontrib-qthelp in c:\\programdata\\anaconda3\\lib\\site-packages (from sphinx->fica>=0.4.1->otter-grader) (1.0.3)\n",
      "Requirement already satisfied: snowballstemmer>=2.0 in c:\\programdata\\anaconda3\\lib\\site-packages (from sphinx->fica>=0.4.1->otter-grader) (2.2.0)\n",
      "Requirement already satisfied: babel>=2.9 in c:\\programdata\\anaconda3\\lib\\site-packages (from sphinx->fica>=0.4.1->otter-grader) (2.11.0)\n",
      "Requirement already satisfied: alabaster~=0.7.14 in c:\\programdata\\anaconda3\\lib\\site-packages (from sphinx->fica>=0.4.1->otter-grader) (0.7.16)\n",
      "Requirement already satisfied: imagesize>=1.3 in c:\\programdata\\anaconda3\\lib\\site-packages (from sphinx->fica>=0.4.1->otter-grader) (1.4.1)\n",
      "Requirement already satisfied: executing in c:\\programdata\\anaconda3\\lib\\site-packages (from stack-data->ipython->otter-grader) (0.8.3)\n",
      "Requirement already satisfied: asttokens in c:\\programdata\\anaconda3\\lib\\site-packages (from stack-data->ipython->otter-grader) (2.0.5)\n",
      "Requirement already satisfied: pure-eval in c:\\programdata\\anaconda3\\lib\\site-packages (from stack-data->ipython->otter-grader) (0.2.2)\n",
      "Requirement already satisfied: pyzmq>=23.0 in c:\\programdata\\anaconda3\\lib\\site-packages (from jupyter-client>=6.1.12->nbclient>=0.5.0->nbconvert>=6.0.0->nbconvert[webpdf]>=6.0.0; sys_platform != \"emscripten\" and sys_platform != \"wasi\"->otter-grader) (25.1.2)\n",
      "Requirement already satisfied: tornado>=6.2 in c:\\programdata\\anaconda3\\lib\\site-packages (from jupyter-client>=6.1.12->nbclient>=0.5.0->nbconvert>=6.0.0->nbconvert[webpdf]>=6.0.0; sys_platform != \"emscripten\" and sys_platform != \"wasi\"->otter-grader) (6.4.1)\n",
      "Note: you may need to restart the kernel to use updated packages.\n"
     ]
    }
   ],
   "source": [
    "%pip install otter-grader"
   ]
  },
  {
   "cell_type": "code",
   "execution_count": 2,
   "metadata": {
    "deletable": false,
    "editable": false
   },
   "outputs": [],
   "source": [
    "# Initialize Otter\n",
    "import otter\n",
    "grader = otter.Notebook(\"Assignment3_KMeans_PCA.ipynb\")"
   ]
  },
  {
   "cell_type": "markdown",
   "metadata": {},
   "source": [
    "# CS385/CSD3185/CSD3186: Assignment 3 K-Means & Principal Component Analysis\n",
    "\n",
    "## Deliverables\n",
    "Your submission for this assignment should be __ONE__ file - a zip file generated by the `grader.export(_)` function down below under 'Submission'. This function will auto create the zip file which contains this particular completed notebook file for you.  \n",
    "\n",
    "Subsequently, rename your zip file like this: __coursecode_A3_your_full_name.zip__  \n",
    "Eg. CS385_A3_john_doe.zip  \n",
    "\n",
    "To complete this assignment, you should follow instructions in Section Tasks.\n",
    "\n",
    "## IMPORTANT! READ THIS BEFORE STARTING...\n",
    "- DO NOT delete existing cells, but you can add more cells in between.\n",
    "- DO NOT modify the content of the existing cells unless otherwise stated.\n",
    "- Run the cell with `grader.check(_)` to check your solutions whenever you have completed each tasks.\n",
    "- Follow the file naming convention for the zip file as spelled out above strictly.\n",
    "- DO NOT rename this notebook file. It shall be 'Assignment3_KMeans_PCA.ipynb'. \n",
    "\n",
    "Please adhere strictly to the instructions as stated above as failure to do so might result in deduction of marks by the autograder.\n",
    "___"
   ]
  },
  {
   "cell_type": "markdown",
   "metadata": {},
   "source": [
    "## Overview\n",
    "In this assignment, you will apply two key machine learning techniques:\n",
    "* **K-Means Clustering**: An unsupervised learning algorithm that groups data into 'K' clusters based on feature similarity.  \n",
    "* **Principal Component Analysis (PCA)**: A dimensionality reduction technique that preserves maximum variance while reducing features.\n",
    "\n",
    "We'll use the [Spotify Songs Attribute Dataset](https://www.kaggle.com/datasets/byomokeshsenapati/spotify-song-attributes/data) by Byomokesh Senapati on Kaggle to:\n",
    "1. Preprocess data for clustering\n",
    "2. Reduce dimensions with PCA\n",
    "3. Cluster songs using K-Means\n",
    "4. Plotting graph to display the learned cluster\n",
    "\n",
    " This dataset contains a variety of audio features—such as danceability, energy, loudness, speechiness, acousticness, instrumentalness, liveness, valence, tempo and etc. — providing insights into musical characteristics. The dataset contains 22 feature columns and 10,080 records.\n",
    "\n",
    " Your goal is to load the data, preprocess it, reduce its dimensionality using PCA, perform K-Means clustering, and finally visualize the clusters on a 2D plot. \n",
    "\n",
    "**Notebook Structure**:\n",
    "1. Loading and Inspecting the Dataset [_5 marks_]\n",
    "2. Data Exploration and Preprocessing [_45 marks_]\n",
    "3. PCA and Variance Analysis [_15 marks_]\n",
    "4. K-Means Clustering [_30 marks_]\n",
    "5. Performance Evaluation [_5 marks_]\n",
    "\n",
    "---"
   ]
  },
  {
   "cell_type": "markdown",
   "metadata": {},
   "source": [
    "__Your tasks starts here!!__"
   ]
  },
  {
   "cell_type": "code",
   "execution_count": 3,
   "metadata": {},
   "outputs": [],
   "source": [
    "# import commonly used libraries\n",
    "import pandas as pd\n",
    "import numpy as np\n",
    "import matplotlib.pyplot as plt\n",
    "import seaborn as sns\n",
    "\n",
    "import warnings\n",
    "warnings.filterwarnings(\"ignore\")"
   ]
  },
  {
   "cell_type": "markdown",
   "metadata": {},
   "source": [
    "## 1. Loading and Inspecting the Dataset [__5 marks__]\n",
    "\n",
    "In this section, we will load the dataset into a pandas DataFrame and perform a quick inspection. This step ensures the data is properly loaded and gives an initial understanding of its structure."
   ]
  },
  {
   "cell_type": "markdown",
   "metadata": {},
   "source": [
    "__1-A Load Dataset and Print Info__  \n",
    "- Load the dataset \"`Spotify_Song_Attributes.csv`\" into a pandas DataFrame called `data`. \n",
    "- Display the first 5 rows of `data` using the <code>head()</code> method.\n",
    "- Prints a concise summary of the DataFrame using the `info()` method."
   ]
  },
  {
   "cell_type": "code",
   "execution_count": 4,
   "metadata": {
    "tags": []
   },
   "outputs": [],
   "source": [
    "# load the data\n",
    "data = pd.read_csv(\"Spotify_Song_Attributes.csv\")\n"
   ]
  },
  {
   "cell_type": "code",
   "execution_count": 5,
   "metadata": {
    "deletable": false,
    "editable": false
   },
   "outputs": [
    {
     "data": {
      "application/vnd.microsoft.datawrangler.viewer.v0+json": {
       "columns": [
        {
         "name": "index",
         "rawType": "int64",
         "type": "integer"
        },
        {
         "name": "trackName",
         "rawType": "object",
         "type": "string"
        },
        {
         "name": "artistName",
         "rawType": "object",
         "type": "string"
        },
        {
         "name": "msPlayed",
         "rawType": "int64",
         "type": "integer"
        },
        {
         "name": "genre",
         "rawType": "object",
         "type": "unknown"
        },
        {
         "name": "danceability",
         "rawType": "float64",
         "type": "float"
        },
        {
         "name": "energy",
         "rawType": "float64",
         "type": "float"
        },
        {
         "name": "key",
         "rawType": "float64",
         "type": "float"
        },
        {
         "name": "loudness",
         "rawType": "float64",
         "type": "float"
        },
        {
         "name": "mode",
         "rawType": "float64",
         "type": "float"
        },
        {
         "name": "speechiness",
         "rawType": "float64",
         "type": "float"
        },
        {
         "name": "acousticness",
         "rawType": "float64",
         "type": "float"
        },
        {
         "name": "instrumentalness",
         "rawType": "float64",
         "type": "float"
        },
        {
         "name": "liveness",
         "rawType": "float64",
         "type": "float"
        },
        {
         "name": "valence",
         "rawType": "float64",
         "type": "float"
        },
        {
         "name": "tempo",
         "rawType": "float64",
         "type": "float"
        },
        {
         "name": "type",
         "rawType": "object",
         "type": "string"
        },
        {
         "name": "id",
         "rawType": "object",
         "type": "string"
        },
        {
         "name": "uri",
         "rawType": "object",
         "type": "string"
        },
        {
         "name": "track_href",
         "rawType": "object",
         "type": "string"
        },
        {
         "name": "analysis_url",
         "rawType": "object",
         "type": "string"
        },
        {
         "name": "duration_ms",
         "rawType": "float64",
         "type": "float"
        },
        {
         "name": "time_signature",
         "rawType": "float64",
         "type": "float"
        }
       ],
       "conversionMethod": "pd.DataFrame",
       "ref": "9a76c8d7-a410-4e26-ab58-1c431db45487",
       "rows": [
        [
         "0",
         "\"Honest\"",
         "Nico Collins",
         "191772",
         null,
         "0.476",
         "0.799",
         "4.0",
         "-4.939",
         "0.0",
         "0.212",
         "0.0162",
         "0.0",
         "0.257",
         "0.577",
         "162.139",
         "audio_features",
         "7dTxqsaFGHOXwtzHINjfHv",
         "spotify:track:7dTxqsaFGHOXwtzHINjfHv",
         "https://api.spotify.com/v1/tracks/7dTxqsaFGHOXwtzHINjfHv",
         "https://api.spotify.com/v1/audio-analysis/7dTxqsaFGHOXwtzHINjfHv",
         "191948.0",
         "4.0"
        ],
        [
         "1",
         "\"In The Hall Of The Mountain King\" from Peer Gynt Suite N°1, Op. 46",
         "London Symphony Orchestra",
         "1806234",
         "british orchestra",
         "0.475",
         "0.13",
         "7.0",
         "-17.719",
         "1.0",
         "0.051",
         "0.916",
         "0.956",
         "0.101",
         "0.122",
         "112.241",
         "audio_features",
         "14Qcrx6Dfjvcj0H8oV8oUW",
         "spotify:track:14Qcrx6Dfjvcj0H8oV8oUW",
         "https://api.spotify.com/v1/tracks/14Qcrx6Dfjvcj0H8oV8oUW",
         "https://api.spotify.com/v1/audio-analysis/14Qcrx6Dfjvcj0H8oV8oUW",
         "150827.0",
         "4.0"
        ],
        [
         "2",
         "#BrooklynBloodPop!",
         "SyKo",
         "145610",
         "glitchcore",
         "0.691",
         "0.814",
         "1.0",
         "-3.788",
         "0.0",
         "0.117",
         "0.0164",
         "0.0",
         "0.366",
         "0.509",
         "132.012",
         "audio_features",
         "7K9Z3yFNNLv5kwTjQYGjnu",
         "spotify:track:7K9Z3yFNNLv5kwTjQYGjnu",
         "https://api.spotify.com/v1/tracks/7K9Z3yFNNLv5kwTjQYGjnu",
         "https://api.spotify.com/v1/audio-analysis/7K9Z3yFNNLv5kwTjQYGjnu",
         "145611.0",
         "4.0"
        ],
        [
         "3",
         "$10",
         "Good Morning",
         "25058",
         "experimental pop",
         "0.624",
         "0.596",
         "4.0",
         "-9.804",
         "1.0",
         "0.0314",
         "0.475",
         "0.203",
         "0.119",
         "0.896",
         "120.969",
         "audio_features",
         "3koAwrM1RO0TGMeQJ3qt9J",
         "spotify:track:3koAwrM1RO0TGMeQJ3qt9J",
         "https://api.spotify.com/v1/tracks/3koAwrM1RO0TGMeQJ3qt9J",
         "https://api.spotify.com/v1/audio-analysis/3koAwrM1RO0TGMeQJ3qt9J",
         "89509.0",
         "4.0"
        ],
        [
         "4",
         "(I Just) Died In Your Arms",
         "Cutting Crew",
         "5504949",
         "album rock",
         "0.625",
         "0.726",
         "11.0",
         "-11.402",
         "0.0",
         "0.0444",
         "0.0158",
         "0.000169",
         "0.0625",
         "0.507",
         "124.945",
         "audio_features",
         "4ByEFOBuLXpCqvO1kw8Wdm",
         "spotify:track:4ByEFOBuLXpCqvO1kw8Wdm",
         "https://api.spotify.com/v1/tracks/4ByEFOBuLXpCqvO1kw8Wdm",
         "https://api.spotify.com/v1/audio-analysis/4ByEFOBuLXpCqvO1kw8Wdm",
         "280400.0",
         "4.0"
        ]
       ],
       "shape": {
        "columns": 22,
        "rows": 5
       }
      },
      "text/html": [
       "<div>\n",
       "<style scoped>\n",
       "    .dataframe tbody tr th:only-of-type {\n",
       "        vertical-align: middle;\n",
       "    }\n",
       "\n",
       "    .dataframe tbody tr th {\n",
       "        vertical-align: top;\n",
       "    }\n",
       "\n",
       "    .dataframe thead th {\n",
       "        text-align: right;\n",
       "    }\n",
       "</style>\n",
       "<table border=\"1\" class=\"dataframe\">\n",
       "  <thead>\n",
       "    <tr style=\"text-align: right;\">\n",
       "      <th></th>\n",
       "      <th>trackName</th>\n",
       "      <th>artistName</th>\n",
       "      <th>msPlayed</th>\n",
       "      <th>genre</th>\n",
       "      <th>danceability</th>\n",
       "      <th>energy</th>\n",
       "      <th>key</th>\n",
       "      <th>loudness</th>\n",
       "      <th>mode</th>\n",
       "      <th>speechiness</th>\n",
       "      <th>...</th>\n",
       "      <th>liveness</th>\n",
       "      <th>valence</th>\n",
       "      <th>tempo</th>\n",
       "      <th>type</th>\n",
       "      <th>id</th>\n",
       "      <th>uri</th>\n",
       "      <th>track_href</th>\n",
       "      <th>analysis_url</th>\n",
       "      <th>duration_ms</th>\n",
       "      <th>time_signature</th>\n",
       "    </tr>\n",
       "  </thead>\n",
       "  <tbody>\n",
       "    <tr>\n",
       "      <th>0</th>\n",
       "      <td>\"Honest\"</td>\n",
       "      <td>Nico Collins</td>\n",
       "      <td>191772</td>\n",
       "      <td>NaN</td>\n",
       "      <td>0.476</td>\n",
       "      <td>0.799</td>\n",
       "      <td>4.0</td>\n",
       "      <td>-4.939</td>\n",
       "      <td>0.0</td>\n",
       "      <td>0.2120</td>\n",
       "      <td>...</td>\n",
       "      <td>0.2570</td>\n",
       "      <td>0.577</td>\n",
       "      <td>162.139</td>\n",
       "      <td>audio_features</td>\n",
       "      <td>7dTxqsaFGHOXwtzHINjfHv</td>\n",
       "      <td>spotify:track:7dTxqsaFGHOXwtzHINjfHv</td>\n",
       "      <td>https://api.spotify.com/v1/tracks/7dTxqsaFGHOX...</td>\n",
       "      <td>https://api.spotify.com/v1/audio-analysis/7dTx...</td>\n",
       "      <td>191948.0</td>\n",
       "      <td>4.0</td>\n",
       "    </tr>\n",
       "    <tr>\n",
       "      <th>1</th>\n",
       "      <td>\"In The Hall Of The Mountain King\" from Peer G...</td>\n",
       "      <td>London Symphony Orchestra</td>\n",
       "      <td>1806234</td>\n",
       "      <td>british orchestra</td>\n",
       "      <td>0.475</td>\n",
       "      <td>0.130</td>\n",
       "      <td>7.0</td>\n",
       "      <td>-17.719</td>\n",
       "      <td>1.0</td>\n",
       "      <td>0.0510</td>\n",
       "      <td>...</td>\n",
       "      <td>0.1010</td>\n",
       "      <td>0.122</td>\n",
       "      <td>112.241</td>\n",
       "      <td>audio_features</td>\n",
       "      <td>14Qcrx6Dfjvcj0H8oV8oUW</td>\n",
       "      <td>spotify:track:14Qcrx6Dfjvcj0H8oV8oUW</td>\n",
       "      <td>https://api.spotify.com/v1/tracks/14Qcrx6Dfjvc...</td>\n",
       "      <td>https://api.spotify.com/v1/audio-analysis/14Qc...</td>\n",
       "      <td>150827.0</td>\n",
       "      <td>4.0</td>\n",
       "    </tr>\n",
       "    <tr>\n",
       "      <th>2</th>\n",
       "      <td>#BrooklynBloodPop!</td>\n",
       "      <td>SyKo</td>\n",
       "      <td>145610</td>\n",
       "      <td>glitchcore</td>\n",
       "      <td>0.691</td>\n",
       "      <td>0.814</td>\n",
       "      <td>1.0</td>\n",
       "      <td>-3.788</td>\n",
       "      <td>0.0</td>\n",
       "      <td>0.1170</td>\n",
       "      <td>...</td>\n",
       "      <td>0.3660</td>\n",
       "      <td>0.509</td>\n",
       "      <td>132.012</td>\n",
       "      <td>audio_features</td>\n",
       "      <td>7K9Z3yFNNLv5kwTjQYGjnu</td>\n",
       "      <td>spotify:track:7K9Z3yFNNLv5kwTjQYGjnu</td>\n",
       "      <td>https://api.spotify.com/v1/tracks/7K9Z3yFNNLv5...</td>\n",
       "      <td>https://api.spotify.com/v1/audio-analysis/7K9Z...</td>\n",
       "      <td>145611.0</td>\n",
       "      <td>4.0</td>\n",
       "    </tr>\n",
       "    <tr>\n",
       "      <th>3</th>\n",
       "      <td>$10</td>\n",
       "      <td>Good Morning</td>\n",
       "      <td>25058</td>\n",
       "      <td>experimental pop</td>\n",
       "      <td>0.624</td>\n",
       "      <td>0.596</td>\n",
       "      <td>4.0</td>\n",
       "      <td>-9.804</td>\n",
       "      <td>1.0</td>\n",
       "      <td>0.0314</td>\n",
       "      <td>...</td>\n",
       "      <td>0.1190</td>\n",
       "      <td>0.896</td>\n",
       "      <td>120.969</td>\n",
       "      <td>audio_features</td>\n",
       "      <td>3koAwrM1RO0TGMeQJ3qt9J</td>\n",
       "      <td>spotify:track:3koAwrM1RO0TGMeQJ3qt9J</td>\n",
       "      <td>https://api.spotify.com/v1/tracks/3koAwrM1RO0T...</td>\n",
       "      <td>https://api.spotify.com/v1/audio-analysis/3koA...</td>\n",
       "      <td>89509.0</td>\n",
       "      <td>4.0</td>\n",
       "    </tr>\n",
       "    <tr>\n",
       "      <th>4</th>\n",
       "      <td>(I Just) Died In Your Arms</td>\n",
       "      <td>Cutting Crew</td>\n",
       "      <td>5504949</td>\n",
       "      <td>album rock</td>\n",
       "      <td>0.625</td>\n",
       "      <td>0.726</td>\n",
       "      <td>11.0</td>\n",
       "      <td>-11.402</td>\n",
       "      <td>0.0</td>\n",
       "      <td>0.0444</td>\n",
       "      <td>...</td>\n",
       "      <td>0.0625</td>\n",
       "      <td>0.507</td>\n",
       "      <td>124.945</td>\n",
       "      <td>audio_features</td>\n",
       "      <td>4ByEFOBuLXpCqvO1kw8Wdm</td>\n",
       "      <td>spotify:track:4ByEFOBuLXpCqvO1kw8Wdm</td>\n",
       "      <td>https://api.spotify.com/v1/tracks/4ByEFOBuLXpC...</td>\n",
       "      <td>https://api.spotify.com/v1/audio-analysis/4ByE...</td>\n",
       "      <td>280400.0</td>\n",
       "      <td>4.0</td>\n",
       "    </tr>\n",
       "  </tbody>\n",
       "</table>\n",
       "<p>5 rows × 22 columns</p>\n",
       "</div>"
      ],
      "text/plain": [
       "                                           trackName  \\\n",
       "0                                           \"Honest\"   \n",
       "1  \"In The Hall Of The Mountain King\" from Peer G...   \n",
       "2                                 #BrooklynBloodPop!   \n",
       "3                                                $10   \n",
       "4                         (I Just) Died In Your Arms   \n",
       "\n",
       "                  artistName  msPlayed              genre  danceability  \\\n",
       "0               Nico Collins    191772                NaN         0.476   \n",
       "1  London Symphony Orchestra   1806234  british orchestra         0.475   \n",
       "2                       SyKo    145610         glitchcore         0.691   \n",
       "3               Good Morning     25058   experimental pop         0.624   \n",
       "4               Cutting Crew   5504949         album rock         0.625   \n",
       "\n",
       "   energy   key  loudness  mode  speechiness  ...  liveness  valence    tempo  \\\n",
       "0   0.799   4.0    -4.939   0.0       0.2120  ...    0.2570    0.577  162.139   \n",
       "1   0.130   7.0   -17.719   1.0       0.0510  ...    0.1010    0.122  112.241   \n",
       "2   0.814   1.0    -3.788   0.0       0.1170  ...    0.3660    0.509  132.012   \n",
       "3   0.596   4.0    -9.804   1.0       0.0314  ...    0.1190    0.896  120.969   \n",
       "4   0.726  11.0   -11.402   0.0       0.0444  ...    0.0625    0.507  124.945   \n",
       "\n",
       "             type                      id  \\\n",
       "0  audio_features  7dTxqsaFGHOXwtzHINjfHv   \n",
       "1  audio_features  14Qcrx6Dfjvcj0H8oV8oUW   \n",
       "2  audio_features  7K9Z3yFNNLv5kwTjQYGjnu   \n",
       "3  audio_features  3koAwrM1RO0TGMeQJ3qt9J   \n",
       "4  audio_features  4ByEFOBuLXpCqvO1kw8Wdm   \n",
       "\n",
       "                                    uri  \\\n",
       "0  spotify:track:7dTxqsaFGHOXwtzHINjfHv   \n",
       "1  spotify:track:14Qcrx6Dfjvcj0H8oV8oUW   \n",
       "2  spotify:track:7K9Z3yFNNLv5kwTjQYGjnu   \n",
       "3  spotify:track:3koAwrM1RO0TGMeQJ3qt9J   \n",
       "4  spotify:track:4ByEFOBuLXpCqvO1kw8Wdm   \n",
       "\n",
       "                                          track_href  \\\n",
       "0  https://api.spotify.com/v1/tracks/7dTxqsaFGHOX...   \n",
       "1  https://api.spotify.com/v1/tracks/14Qcrx6Dfjvc...   \n",
       "2  https://api.spotify.com/v1/tracks/7K9Z3yFNNLv5...   \n",
       "3  https://api.spotify.com/v1/tracks/3koAwrM1RO0T...   \n",
       "4  https://api.spotify.com/v1/tracks/4ByEFOBuLXpC...   \n",
       "\n",
       "                                        analysis_url duration_ms  \\\n",
       "0  https://api.spotify.com/v1/audio-analysis/7dTx...    191948.0   \n",
       "1  https://api.spotify.com/v1/audio-analysis/14Qc...    150827.0   \n",
       "2  https://api.spotify.com/v1/audio-analysis/7K9Z...    145611.0   \n",
       "3  https://api.spotify.com/v1/audio-analysis/3koA...     89509.0   \n",
       "4  https://api.spotify.com/v1/audio-analysis/4ByE...    280400.0   \n",
       "\n",
       "  time_signature  \n",
       "0            4.0  \n",
       "1            4.0  \n",
       "2            4.0  \n",
       "3            4.0  \n",
       "4            4.0  \n",
       "\n",
       "[5 rows x 22 columns]"
      ]
     },
     "execution_count": 5,
     "metadata": {},
     "output_type": "execute_result"
    }
   ],
   "source": [
    "# display the first 5 rows of the data\n",
    "data.head()"
   ]
  },
  {
   "cell_type": "code",
   "execution_count": 6,
   "metadata": {
    "deletable": false,
    "editable": false
   },
   "outputs": [
    {
     "name": "stdout",
     "output_type": "stream",
     "text": [
      "<class 'pandas.core.frame.DataFrame'>\n",
      "RangeIndex: 10080 entries, 0 to 10079\n",
      "Data columns (total 22 columns):\n",
      " #   Column            Non-Null Count  Dtype  \n",
      "---  ------            --------------  -----  \n",
      " 0   trackName         10080 non-null  object \n",
      " 1   artistName        10080 non-null  object \n",
      " 2   msPlayed          10080 non-null  int64  \n",
      " 3   genre             8580 non-null   object \n",
      " 4   danceability      9530 non-null   float64\n",
      " 5   energy            9530 non-null   float64\n",
      " 6   key               9530 non-null   float64\n",
      " 7   loudness          9530 non-null   float64\n",
      " 8   mode              9530 non-null   float64\n",
      " 9   speechiness       9530 non-null   float64\n",
      " 10  acousticness      9530 non-null   float64\n",
      " 11  instrumentalness  9530 non-null   float64\n",
      " 12  liveness          9530 non-null   float64\n",
      " 13  valence           9530 non-null   float64\n",
      " 14  tempo             9530 non-null   float64\n",
      " 15  type              9530 non-null   object \n",
      " 16  id                9530 non-null   object \n",
      " 17  uri               9530 non-null   object \n",
      " 18  track_href        9530 non-null   object \n",
      " 19  analysis_url      9530 non-null   object \n",
      " 20  duration_ms       9530 non-null   float64\n",
      " 21  time_signature    9530 non-null   float64\n",
      "dtypes: float64(13), int64(1), object(8)\n",
      "memory usage: 1.7+ MB\n"
     ]
    }
   ],
   "source": [
    "# display the information about the data\n",
    "data.info()"
   ]
  },
  {
   "cell_type": "markdown",
   "metadata": {
    "deletable": false,
    "editable": false
   },
   "source": [
    "__1-B Data Types of Features__  \n",
    "\n",
    "What are the different types of data which made up the dataset? Assign your answer as a list to the variable `data_types`.  \n",
    "\n",
    "Use methods or attributes associated to the DataFrame to come up with your answer."
   ]
  },
  {
   "cell_type": "code",
   "execution_count": 7,
   "metadata": {
    "tags": []
   },
   "outputs": [
    {
     "data": {
      "text/plain": [
       "array([dtype('O'), dtype('int64'), dtype('float64')], dtype=object)"
      ]
     },
     "execution_count": 7,
     "metadata": {},
     "output_type": "execute_result"
    }
   ],
   "source": [
    "# get a list of the unique types of columns\n",
    "data_types = data.dtypes.unique()\n",
    "data_types"
   ]
  },
  {
   "cell_type": "code",
   "execution_count": 8,
   "metadata": {
    "deletable": false,
    "editable": false
   },
   "outputs": [
    {
     "data": {
      "text/html": [
       "<p><strong><pre style='display: inline;'>q1</pre></strong> passed! 🎉</p>"
      ],
      "text/plain": [
       "q1 results: All test cases passed!"
      ]
     },
     "execution_count": 8,
     "metadata": {},
     "output_type": "execute_result"
    }
   ],
   "source": [
    "grader.check(\"q1\")"
   ]
  },
  {
   "cell_type": "markdown",
   "metadata": {},
   "source": [
    "## 2. Data Exploration and Preprocessing [__45 marks__]\n",
    "In this section, we will take a close look at the dataset to uncover duplicate rows, missing data, plotting of graphs, and scaling features.\n",
    "\n",
    "### Instructions\n",
    "- **Detect Missing Values**: Use an appropriate pandas method to calculate and display the number of missing values in each column.\n",
    "- **Identify Features Correlation**: Plot a heatmap displaying correlation of numeric features.\n"
   ]
  },
  {
   "cell_type": "markdown",
   "metadata": {
    "deletable": false,
    "editable": false
   },
   "source": [
    "__2-A Check/Drop duplicates__  \n",
    "Check the total number of duplicate rows and remove them if any."
   ]
  },
  {
   "cell_type": "code",
   "execution_count": 9,
   "metadata": {
    "tags": []
   },
   "outputs": [
    {
     "data": {
      "text/plain": [
       "5040"
      ]
     },
     "execution_count": 9,
     "metadata": {},
     "output_type": "execute_result"
    }
   ],
   "source": [
    "# check the total duplicate rows in the data\n",
    "duplicates = data.shape[0] - data.drop_duplicates().shape[0] # this all duplicates, not just unique\n",
    "duplicates"
   ]
  },
  {
   "cell_type": "code",
   "execution_count": 10,
   "metadata": {
    "tags": []
   },
   "outputs": [],
   "source": [
    "# remove the duplicate rows from the data\n",
    "data = data.drop_duplicates()"
   ]
  },
  {
   "cell_type": "markdown",
   "metadata": {
    "deletable": false,
    "editable": false
   },
   "source": [
    "__2-B Selecting Subset__  \n",
    "Since our goal is to eventually cluster the songs based on certain audio characteristics, we will select the following subset of audio features for analysis:\n",
    "- danceability\n",
    "- energy\n",
    "- key\n",
    "- loudness\n",
    "- mode\n",
    "- speechiness\n",
    "- acousticness\n",
    "- instrumentalness\n",
    "- liveness\n",
    "- valence\n",
    "- tempo\n",
    "- time_signature\n",
    "\n",
    "Store the newly created subset of features in a DataFrame under `df_feature`."
   ]
  },
  {
   "cell_type": "code",
   "execution_count": 11,
   "metadata": {
    "tags": []
   },
   "outputs": [
    {
     "data": {
      "application/vnd.microsoft.datawrangler.viewer.v0+json": {
       "columns": [
        {
         "name": "index",
         "rawType": "int64",
         "type": "integer"
        },
        {
         "name": "danceability",
         "rawType": "float64",
         "type": "float"
        },
        {
         "name": "energy",
         "rawType": "float64",
         "type": "float"
        },
        {
         "name": "key",
         "rawType": "float64",
         "type": "float"
        },
        {
         "name": "loudness",
         "rawType": "float64",
         "type": "float"
        },
        {
         "name": "mode",
         "rawType": "float64",
         "type": "float"
        },
        {
         "name": "speechiness",
         "rawType": "float64",
         "type": "float"
        },
        {
         "name": "acousticness",
         "rawType": "float64",
         "type": "float"
        },
        {
         "name": "instrumentalness",
         "rawType": "float64",
         "type": "float"
        },
        {
         "name": "liveness",
         "rawType": "float64",
         "type": "float"
        },
        {
         "name": "valence",
         "rawType": "float64",
         "type": "float"
        },
        {
         "name": "tempo",
         "rawType": "float64",
         "type": "float"
        },
        {
         "name": "time_signature",
         "rawType": "float64",
         "type": "float"
        }
       ],
       "conversionMethod": "pd.DataFrame",
       "ref": "1ac41e94-8e31-4161-afae-83ab798bf8dd",
       "rows": [
        [
         "0",
         "0.476",
         "0.799",
         "4.0",
         "-4.939",
         "0.0",
         "0.212",
         "0.0162",
         "0.0",
         "0.257",
         "0.577",
         "162.139",
         "4.0"
        ],
        [
         "1",
         "0.475",
         "0.13",
         "7.0",
         "-17.719",
         "1.0",
         "0.051",
         "0.916",
         "0.956",
         "0.101",
         "0.122",
         "112.241",
         "4.0"
        ],
        [
         "2",
         "0.691",
         "0.814",
         "1.0",
         "-3.788",
         "0.0",
         "0.117",
         "0.0164",
         "0.0",
         "0.366",
         "0.509",
         "132.012",
         "4.0"
        ],
        [
         "3",
         "0.624",
         "0.596",
         "4.0",
         "-9.804",
         "1.0",
         "0.0314",
         "0.475",
         "0.203",
         "0.119",
         "0.896",
         "120.969",
         "4.0"
        ],
        [
         "4",
         "0.625",
         "0.726",
         "11.0",
         "-11.402",
         "0.0",
         "0.0444",
         "0.0158",
         "0.000169",
         "0.0625",
         "0.507",
         "124.945",
         "4.0"
        ]
       ],
       "shape": {
        "columns": 12,
        "rows": 5
       }
      },
      "text/html": [
       "<div>\n",
       "<style scoped>\n",
       "    .dataframe tbody tr th:only-of-type {\n",
       "        vertical-align: middle;\n",
       "    }\n",
       "\n",
       "    .dataframe tbody tr th {\n",
       "        vertical-align: top;\n",
       "    }\n",
       "\n",
       "    .dataframe thead th {\n",
       "        text-align: right;\n",
       "    }\n",
       "</style>\n",
       "<table border=\"1\" class=\"dataframe\">\n",
       "  <thead>\n",
       "    <tr style=\"text-align: right;\">\n",
       "      <th></th>\n",
       "      <th>danceability</th>\n",
       "      <th>energy</th>\n",
       "      <th>key</th>\n",
       "      <th>loudness</th>\n",
       "      <th>mode</th>\n",
       "      <th>speechiness</th>\n",
       "      <th>acousticness</th>\n",
       "      <th>instrumentalness</th>\n",
       "      <th>liveness</th>\n",
       "      <th>valence</th>\n",
       "      <th>tempo</th>\n",
       "      <th>time_signature</th>\n",
       "    </tr>\n",
       "  </thead>\n",
       "  <tbody>\n",
       "    <tr>\n",
       "      <th>0</th>\n",
       "      <td>0.476</td>\n",
       "      <td>0.799</td>\n",
       "      <td>4.0</td>\n",
       "      <td>-4.939</td>\n",
       "      <td>0.0</td>\n",
       "      <td>0.2120</td>\n",
       "      <td>0.0162</td>\n",
       "      <td>0.000000</td>\n",
       "      <td>0.2570</td>\n",
       "      <td>0.577</td>\n",
       "      <td>162.139</td>\n",
       "      <td>4.0</td>\n",
       "    </tr>\n",
       "    <tr>\n",
       "      <th>1</th>\n",
       "      <td>0.475</td>\n",
       "      <td>0.130</td>\n",
       "      <td>7.0</td>\n",
       "      <td>-17.719</td>\n",
       "      <td>1.0</td>\n",
       "      <td>0.0510</td>\n",
       "      <td>0.9160</td>\n",
       "      <td>0.956000</td>\n",
       "      <td>0.1010</td>\n",
       "      <td>0.122</td>\n",
       "      <td>112.241</td>\n",
       "      <td>4.0</td>\n",
       "    </tr>\n",
       "    <tr>\n",
       "      <th>2</th>\n",
       "      <td>0.691</td>\n",
       "      <td>0.814</td>\n",
       "      <td>1.0</td>\n",
       "      <td>-3.788</td>\n",
       "      <td>0.0</td>\n",
       "      <td>0.1170</td>\n",
       "      <td>0.0164</td>\n",
       "      <td>0.000000</td>\n",
       "      <td>0.3660</td>\n",
       "      <td>0.509</td>\n",
       "      <td>132.012</td>\n",
       "      <td>4.0</td>\n",
       "    </tr>\n",
       "    <tr>\n",
       "      <th>3</th>\n",
       "      <td>0.624</td>\n",
       "      <td>0.596</td>\n",
       "      <td>4.0</td>\n",
       "      <td>-9.804</td>\n",
       "      <td>1.0</td>\n",
       "      <td>0.0314</td>\n",
       "      <td>0.4750</td>\n",
       "      <td>0.203000</td>\n",
       "      <td>0.1190</td>\n",
       "      <td>0.896</td>\n",
       "      <td>120.969</td>\n",
       "      <td>4.0</td>\n",
       "    </tr>\n",
       "    <tr>\n",
       "      <th>4</th>\n",
       "      <td>0.625</td>\n",
       "      <td>0.726</td>\n",
       "      <td>11.0</td>\n",
       "      <td>-11.402</td>\n",
       "      <td>0.0</td>\n",
       "      <td>0.0444</td>\n",
       "      <td>0.0158</td>\n",
       "      <td>0.000169</td>\n",
       "      <td>0.0625</td>\n",
       "      <td>0.507</td>\n",
       "      <td>124.945</td>\n",
       "      <td>4.0</td>\n",
       "    </tr>\n",
       "  </tbody>\n",
       "</table>\n",
       "</div>"
      ],
      "text/plain": [
       "   danceability  energy   key  loudness  mode  speechiness  acousticness  \\\n",
       "0         0.476   0.799   4.0    -4.939   0.0       0.2120        0.0162   \n",
       "1         0.475   0.130   7.0   -17.719   1.0       0.0510        0.9160   \n",
       "2         0.691   0.814   1.0    -3.788   0.0       0.1170        0.0164   \n",
       "3         0.624   0.596   4.0    -9.804   1.0       0.0314        0.4750   \n",
       "4         0.625   0.726  11.0   -11.402   0.0       0.0444        0.0158   \n",
       "\n",
       "   instrumentalness  liveness  valence    tempo  time_signature  \n",
       "0          0.000000    0.2570    0.577  162.139             4.0  \n",
       "1          0.956000    0.1010    0.122  112.241             4.0  \n",
       "2          0.000000    0.3660    0.509  132.012             4.0  \n",
       "3          0.203000    0.1190    0.896  120.969             4.0  \n",
       "4          0.000169    0.0625    0.507  124.945             4.0  "
      ]
     },
     "execution_count": 11,
     "metadata": {},
     "output_type": "execute_result"
    }
   ],
   "source": [
    "# extract the interested features from the data and store to df_features\n",
    "sel_features = [\"danceability\", \"energy\", \"key\", \"loudness\", \"mode\", \"speechiness\", \"acousticness\", \"instrumentalness\", \"liveness\", \"valence\", \"tempo\", \"time_signature\"]\n",
    "df_features = data[sel_features]\n",
    "df_features.head()"
   ]
  },
  {
   "cell_type": "markdown",
   "metadata": {
    "deletable": false,
    "editable": false
   },
   "source": [
    "__2-C Plot Histograms__  \n",
    "We want to analyze the distribution for each features. So, let's plot a histogram displaying all the distribution for the features.\n",
    "\n",
    "Complete the function named `plot_feature_distributions` that takes an input: a Pandas DataFrame. This function should:\n",
    "- Plot a Histogram: Generate a histogram that shows the distribution of values of each features in the DataFrame. Do not include a KDE overlay in the plot.\n",
    "- Return of Axes Object: Ensure your function returns the matplotlib Axes objects in an array."
   ]
  },
  {
   "cell_type": "code",
   "execution_count": 12,
   "metadata": {
    "tags": []
   },
   "outputs": [],
   "source": [
    "def plot_feature_distributions(df):\n",
    "    '''\n",
    "    Parameters:\n",
    "    -----------\n",
    "    df : pandas.DataFrame\n",
    "        A DataFrame containing the features whose distributions are to be visualized.\n",
    "    \n",
    "    Returns:\n",
    "    --------\n",
    "    numpy.ndarray\n",
    "        A flattened array of matplotlib.axes.Axes objects, one for each feature plotted.\n",
    "    '''\n",
    "    \n",
    "    # construct grid size as 4 plots per row\n",
    "    n_cols = len(df.columns)\n",
    "    n_rows = (n_cols + 3) // 4\n",
    "\n",
    "    _, axes = plt.subplots(n_rows, 4, figsize=(16, 4 * n_rows))\n",
    "    axes = axes.flatten()\n",
    "\n",
    "    # Loop over the features and create a subplot for each\n",
    "    for i, col in enumerate(df.columns):\n",
    "        df[col].hist(ax=axes[i], bins=30, edgecolor='black')\n",
    "        axes[i].set_title(col)\n",
    "        axes[i].set_xlabel(\"Value\")\n",
    "        axes[i].set_ylabel(\"Frequency\")\n",
    "\n",
    "    return axes"
   ]
  },
  {
   "cell_type": "code",
   "execution_count": 13,
   "metadata": {
    "tags": []
   },
   "outputs": [
    {
     "data": {
      "image/png": "[encoded data removed]",
      "text/plain": [
       "<Figure size 1600x1200 with 12 Axes>"
      ]
     },
     "metadata": {},
     "output_type": "display_data"
    }
   ],
   "source": [
    "axes = plot_feature_distributions(df_features)"
   ]
  },
  {
   "cell_type": "markdown",
   "metadata": {
    "deletable": false,
    "editable": false
   },
   "source": [
    "__2-D Handling Missing Values__  \n",
    "Compute and display the count of missing values in each column. Handle the missing values by using the `SimpleImputer` class from `sklearn` library."
   ]
  },
  {
   "cell_type": "code",
   "execution_count": 14,
   "metadata": {
    "deletable": false,
    "editable": false
   },
   "outputs": [
    {
     "name": "stdout",
     "output_type": "stream",
     "text": [
      "<class 'pandas.core.frame.DataFrame'>\n",
      "Index: 5040 entries, 0 to 5039\n",
      "Data columns (total 12 columns):\n",
      " #   Column            Non-Null Count  Dtype  \n",
      "---  ------            --------------  -----  \n",
      " 0   danceability      4765 non-null   float64\n",
      " 1   energy            4765 non-null   float64\n",
      " 2   key               4765 non-null   float64\n",
      " 3   loudness          4765 non-null   float64\n",
      " 4   mode              4765 non-null   float64\n",
      " 5   speechiness       4765 non-null   float64\n",
      " 6   acousticness      4765 non-null   float64\n",
      " 7   instrumentalness  4765 non-null   float64\n",
      " 8   liveness          4765 non-null   float64\n",
      " 9   valence           4765 non-null   float64\n",
      " 10  tempo             4765 non-null   float64\n",
      " 11  time_signature    4765 non-null   float64\n",
      "dtypes: float64(12)\n",
      "memory usage: 511.9 KB\n"
     ]
    }
   ],
   "source": [
    "df_features.info()"
   ]
  },
  {
   "cell_type": "code",
   "execution_count": 15,
   "metadata": {
    "tags": []
   },
   "outputs": [
    {
     "data": {
      "text/plain": [
       "danceability        275\n",
       "energy              275\n",
       "key                 275\n",
       "loudness            275\n",
       "mode                275\n",
       "speechiness         275\n",
       "acousticness        275\n",
       "instrumentalness    275\n",
       "liveness            275\n",
       "valence             275\n",
       "tempo               275\n",
       "time_signature      275\n",
       "dtype: int64"
      ]
     },
     "execution_count": 15,
     "metadata": {},
     "output_type": "execute_result"
    }
   ],
   "source": [
    "# inspect the number of missing values in each column\n",
    "missing_values = df_features.isna().sum()\n",
    "missing_values"
   ]
  },
  {
   "cell_type": "markdown",
   "metadata": {
    "deletable": false,
    "editable": false
   },
   "source": [
    "Here's how we will handle the missing values for specific column:\n",
    "- `danceability`, `energy`, `loudness`, `speechiness`, `acousticness`, `instrumentalness`, `liveness`, `valence`, `tempo`:\n",
    "  - These are continuous numerical features.\n",
    "  - Use __mean__ to fill in missing values.\n",
    "- `key`, `mode`, `time_signature`:\n",
    "  - These are discrete numerical features.\n",
    "  - Use __mode__ to fill in missing values.\n",
    "\n",
    "__Note__: The final processed dataframe shall be reassigned to the existing `df_features` if you created a new variable during the process to hold the data."
   ]
  },
  {
   "cell_type": "code",
   "execution_count": 16,
   "metadata": {
    "tags": []
   },
   "outputs": [],
   "source": [
    "from sklearn.impute import SimpleImputer\n",
    "# use mean\n",
    "mean_cols = [\"danceability\", \"energy\",  \"loudness\",  \"speechiness\", \"acousticness\", \"instrumentalness\", \"liveness\", \"valence\", \"tempo\"]\n",
    "imputer = SimpleImputer(strategy=\"mean\")\n",
    "df_features[mean_cols] = imputer.fit_transform(df_features[mean_cols])\n",
    "# use mode\n",
    "discrete_cols = [\"key\", \"mode\", \"time_signature\"] \n",
    "imputer = SimpleImputer(strategy=\"most_frequent\")\n",
    "df_features[discrete_cols] = imputer.fit_transform(df_features[discrete_cols])\n"
   ]
  },
  {
   "cell_type": "markdown",
   "metadata": {
    "deletable": false,
    "editable": false,
    "vscode": {
     "languageId": "raw"
    }
   },
   "source": [
    "__2-E Correlation Heatmap__  \n",
    "Create a correlation matrix of the dataset and plot a heatmap to display the correlations between features in `df_features`.  \n",
    "Assign the heatmap plotting to the variable `corr_heatmap`."
   ]
  },
  {
   "cell_type": "code",
   "execution_count": 17,
   "metadata": {
    "tags": []
   },
   "outputs": [
    {
     "data": {
      "image/png": "[encoded data removed]",
      "text/plain": [
       "<Figure size 800x600 with 2 Axes>"
      ]
     },
     "metadata": {},
     "output_type": "display_data"
    }
   ],
   "source": [
    "# visualize the correlation matrix\n",
    "data_corr = df_features.corr()\n",
    "plt.figure(figsize=(8,6))\n",
    "corr_heatmap = sns.heatmap(data_corr, annot=True, cmap='magma', fmt=\".2f\", linewidths=0.5)\n",
    "plt.show()"
   ]
  },
  {
   "cell_type": "markdown",
   "metadata": {
    "deletable": false,
    "editable": false
   },
   "source": [
    "__2-F Scaling Features__  \n",
    "Scale the features using `StandardScaler` class in `sklearn`."
   ]
  },
  {
   "cell_type": "code",
   "execution_count": 18,
   "metadata": {
    "tags": []
   },
   "outputs": [],
   "source": [
    "from sklearn.preprocessing import StandardScaler\n",
    "\n",
    "scaler = StandardScaler()\n",
    "df_features_clean = scaler.fit_transform(df_features)"
   ]
  },
  {
   "cell_type": "code",
   "execution_count": 19,
   "metadata": {
    "deletable": false,
    "editable": false
   },
   "outputs": [
    {
     "data": {
      "text/html": [
       "<p><strong><pre style='display: inline;'>q2</pre></strong> passed! 🙌</p>"
      ],
      "text/plain": [
       "q2 results: All test cases passed!"
      ]
     },
     "execution_count": 19,
     "metadata": {},
     "output_type": "execute_result"
    }
   ],
   "source": [
    "grader.check(\"q2\")"
   ]
  },
  {
   "cell_type": "markdown",
   "metadata": {},
   "source": [
    "## 3. PCA & Variance Analysis [__15 marks__]\n",
    "\n",
    "After done with the scaling, we are ready to perform dimensionality reduction with PCA."
   ]
  },
  {
   "cell_type": "markdown",
   "metadata": {
    "deletable": false,
    "editable": false
   },
   "source": [
    "__3-A Apply PCA__:  \n",
    "Create a PCA object `pca` with the default parameters and apply it to the cleaned features.  \n",
    "Subsequently, save the PCA-transformed data to a new DataFrame `df_pca` with column names as PC1, PC2, and so on."
   ]
  },
  {
   "cell_type": "code",
   "execution_count": 20,
   "metadata": {
    "tags": []
   },
   "outputs": [
    {
     "data": {
      "application/vnd.microsoft.datawrangler.viewer.v0+json": {
       "columns": [
        {
         "name": "index",
         "rawType": "int64",
         "type": "integer"
        },
        {
         "name": "PC1",
         "rawType": "float64",
         "type": "float"
        },
        {
         "name": "PC2",
         "rawType": "float64",
         "type": "float"
        },
        {
         "name": "PC3",
         "rawType": "float64",
         "type": "float"
        },
        {
         "name": "PC4",
         "rawType": "float64",
         "type": "float"
        },
        {
         "name": "PC5",
         "rawType": "float64",
         "type": "float"
        },
        {
         "name": "PC6",
         "rawType": "float64",
         "type": "float"
        },
        {
         "name": "PC7",
         "rawType": "float64",
         "type": "float"
        },
        {
         "name": "PC8",
         "rawType": "float64",
         "type": "float"
        },
        {
         "name": "PC9",
         "rawType": "float64",
         "type": "float"
        },
        {
         "name": "PC10",
         "rawType": "float64",
         "type": "float"
        },
        {
         "name": "PC11",
         "rawType": "float64",
         "type": "float"
        },
        {
         "name": "PC12",
         "rawType": "float64",
         "type": "float"
        }
       ],
       "conversionMethod": "pd.DataFrame",
       "ref": "757c9a28-3a70-47ab-b01a-84ceab8172dc",
       "rows": [
        [
         "0",
         "1.9742029244446662",
         "-0.6812256915333118",
         "-1.7346041524414577",
         "0.9095736370094346",
         "0.4519661413005331",
         "1.2211169605194978",
         "-0.4779229238898408",
         "-0.36449806737797436",
         "-0.38020424644608075",
         "-0.9726824841995763",
         "-0.2551101578263749",
         "-0.15280143163632923"
        ],
        [
         "1",
         "-4.070960735486682",
         "-0.34503155382570666",
         "0.432136541964104",
         "0.15433919330744894",
         "0.11218681448855096",
         "0.6905408342040557",
         "1.033697227412131",
         "0.23956612513276848",
         "1.0808889762383629",
         "0.1742896547363046",
         "0.49757359770936577",
         "-0.2722944397598902"
        ],
        [
         "2",
         "2.175575971805844",
         "-0.3624752637229406",
         "-0.8419862247924328",
         "0.6108596095986242",
         "-0.9553351842916286",
         "0.7635474915285988",
         "-0.852881071361291",
         "0.6259572201358662",
         "-0.9120032084864157",
         "0.23505081350110038",
         "-0.07232386272533808",
         "-0.015363116422834482"
        ],
        [
         "3",
         "0.3453390156941044",
         "0.6053305170434155",
         "1.185361271452413",
         "0.05302180340803188",
         "0.4950780008050752",
         "-0.42318231580881094",
         "0.5997244342048623",
         "1.0452959384917893",
         "0.031088952780907852",
         "-1.2385216329223798",
         "0.022119656895064156",
         "0.0465094721494836"
        ],
        [
         "4",
         "0.8073110479547497",
         "-1.5698009895252165",
         "-0.08820152865089119",
         "-1.5449775818386964",
         "0.9069477133364561",
         "-0.028873513438616882",
         "-0.05929515175743386",
         "-0.12467894100599371",
         "0.2214329886746797",
         "-0.16411953322613312",
         "-0.9786976081274331",
         "0.5929659035364828"
        ],
        [
         "5",
         "1.0293193868215251",
         "-1.055942602652425",
         "-1.9136316497142685",
         "0.7147565925282846",
         "1.639844887739007",
         "-1.3738578836874182",
         "-0.7984016779054505",
         "0.8522344875118989",
         "-0.43570157964752787",
         "0.030264608823256687",
         "-0.015029784053484194",
         "-0.2813029036241528"
        ],
        [
         "6",
         "1.9940812385212232",
         "-0.10634864702500074",
         "-0.36098691738065336",
         "0.24134805122955857",
         "-0.9221107375947588",
         "-0.2826108561416068",
         "1.013799496874011",
         "0.8417944410671473",
         "1.019627053333426",
         "-0.18156048619884427",
         "0.07035302450473156",
         "0.10513592834184844"
        ],
        [
         "7",
         "-0.017617287843770216",
         "1.2865513048128643",
         "0.37416039198409373",
         "0.5008048420430227",
         "-0.355758310205017",
         "0.4522741200956413",
         "-0.18345637010310817",
         "0.15177677573609452",
         "-0.09332188690497234",
         "-0.04169552843597874",
         "-0.007997765147378813",
         "0.016157157903590843"
        ],
        [
         "8",
         "0.28858073788531813",
         "1.1306342177794784",
         "0.6207507045755726",
         "-0.3063127770367904",
         "-0.3590688069412689",
         "0.2822705005932041",
         "-0.31387919823070537",
         "-0.3648811361211536",
         "-0.0014555073033570153",
         "1.8887699270847176",
         "-0.3487591830372374",
         "-0.06943971177275793"
        ],
        [
         "9",
         "1.9489035976921738",
         "-0.49022787850968647",
         "0.5803834011277101",
         "0.5166906368163666",
         "-1.9099340388894517",
         "-0.4864969575846182",
         "-0.7774461597891538",
         "1.8841541621885582",
         "-1.5360086510697648",
         "-0.6183744083454088",
         "-0.19633441265266038",
         "-0.1959516781568592"
        ],
        [
         "10",
         "1.6492768634494843",
         "0.006964152333108514",
         "0.31853151022462517",
         "0.1839045127571619",
         "0.9434436058430097",
         "-0.34620075749705814",
         "1.0617012972249864",
         "0.18848702660744368",
         "0.28750531330959295",
         "0.16352623197963342",
         "-0.32997242988804115",
         "-0.01934543342704781"
        ],
        [
         "11",
         "-4.734977148908888",
         "-0.811992942578579",
         "0.13812658068706318",
         "0.2865854582895094",
         "-0.09312951144602744",
         "-0.5585016485552545",
         "-2.3941305582292207",
         "1.4980016504121922",
         "0.6696138112655314",
         "0.8751354536079343",
         "0.4836991837478814",
         "0.042454043097269155"
        ],
        [
         "12",
         "0.7602891623379001",
         "-0.057712062988174724",
         "0.6253014952588644",
         "-1.3535818294258508",
         "-0.2648363931634545",
         "-1.086412651226594",
         "0.5697781349053974",
         "-0.6751238278271849",
         "0.8572510006039673",
         "0.37409627130814677",
         "-0.03251557206562197",
         "-0.20677262697611987"
        ],
        [
         "13",
         "-1.1604005140994074",
         "-0.1091019342223347",
         "1.0411990240912612",
         "0.427905066980007",
         "0.9308122502638019",
         "-0.9702167823252282",
         "1.1463936885494792",
         "-0.5166082581258836",
         "-0.69059708653519",
         "-0.4156684618920089",
         "0.2861258380556841",
         "-0.2036528460324483"
        ],
        [
         "14",
         "0.7380536650774423",
         "0.15253620774580806",
         "2.01914048462235",
         "1.4788060815656636",
         "-0.2620190177078849",
         "-1.071742102881473",
         "-0.22934077381817775",
         "0.03386855189812307",
         "-0.06699371457065063",
         "-0.1918878503527115",
         "1.871164135883293e-05",
         "-0.504933063387433"
        ],
        [
         "15",
         "1.4197954307446037",
         "-0.37248658170966165",
         "-0.23604936872377524",
         "-0.41415200006048536",
         "-0.8269283612358097",
         "0.5395224335350779",
         "0.929547718838866",
         "1.387276931582939",
         "2.208357090276166",
         "1.4165787739231879",
         "1.2286768277452846",
         "-0.11127959340459948"
        ],
        [
         "16",
         "-1.272908028198797",
         "0.9242388918000565",
         "-0.26929393754960973",
         "0.033221253371107214",
         "1.280345586695498",
         "0.27115681922092244",
         "1.2339134344890095",
         "-0.4589961931569657",
         "-1.1160734380602353",
         "-0.2436780525188203",
         "-0.20810373479780953",
         "-0.5698426907166287"
        ],
        [
         "17",
         "0.4211949216310896",
         "0.7022890476191204",
         "-1.0431059644799237",
         "0.12702671264031562",
         "1.1069418318222577",
         "-2.0584663950161386",
         "-0.2306035455184531",
         "0.5425533729399571",
         "0.45434903955786277",
         "0.2962168398962778",
         "0.4499424181919717",
         "0.4191776150881242"
        ],
        [
         "18",
         "1.267597487678293",
         "-1.1404567094624216",
         "-0.5128091461917518",
         "0.4899440426222585",
         "0.6754717852041151",
         "0.31828645085967994",
         "0.19693418875716334",
         "0.6093770554213845",
         "-1.1552268625188762",
         "-0.5261110462920482",
         "0.08041314263680813",
         "0.3632136251255364"
        ],
        [
         "19",
         "-0.5593947070148952",
         "-0.9773830553047301",
         "-0.47203564746805576",
         "0.9010551530472772",
         "-0.46156112998807564",
         "-0.7357070172075589",
         "2.246090573071387",
         "-0.24218272208411118",
         "-0.7557712313849151",
         "2.08794763101137",
         "-0.9333498272315189",
         "-0.1809909773637052"
        ],
        [
         "20",
         "1.3626311085797143",
         "0.748552949828262",
         "1.144858209341656",
         "-0.3291900096614858",
         "0.19958643730622078",
         "-0.34446709253413804",
         "0.020529063447831973",
         "0.32028697371183157",
         "0.2934766913571851",
         "0.44695679052209886",
         "-0.4668862672729618",
         "-0.31632840837588605"
        ],
        [
         "21",
         "-7.271459344597303",
         "-0.22883646419486275",
         "-5.328344706752707",
         "0.8147713267522269",
         "3.4805173363491755",
         "-2.571743940315289",
         "-2.1058934612727476",
         "2.776124854753599",
         "0.7179200300558851",
         "-0.5676667377890009",
         "-1.4203748627070034",
         "0.8316734784340452"
        ],
        [
         "22",
         "1.6162342259927003",
         "0.25088005998971297",
         "-0.25437380209568333",
         "-0.9680521090553552",
         "0.4251723376148632",
         "-0.26698162368143213",
         "0.9461333302818922",
         "-0.3224278325405843",
         "0.6164928563068492",
         "0.6353910547249496",
         "-0.01576342205923641",
         "-0.145124651993719"
        ],
        [
         "23",
         "2.0780461831268653",
         "-0.6970251207188831",
         "-0.5689385202132792",
         "0.1471413430677159",
         "0.14694347835625157",
         "0.34249743480374895",
         "0.21823865346473453",
         "1.6007245765919893",
         "-1.3125583953785322",
         "-0.8514698411368044",
         "-0.6906950471641228",
         "-0.1092291757306689"
        ],
        [
         "24",
         "1.1042727235636518",
         "0.8107102250980168",
         "-0.47940818235584143",
         "-0.7679402754810349",
         "-0.6463396738999241",
         "0.09809609583448334",
         "0.5034119089817849",
         "0.059265783050544765",
         "0.5050434463113737",
         "0.24516001321362277",
         "-0.36354658692657543",
         "0.5669964408939828"
        ],
        [
         "25",
         "0.2739397678250423",
         "1.3750441523719519",
         "-0.4124416340685623",
         "-0.9254899189820777",
         "-1.2394384559504412",
         "1.110515738219606",
         "-0.6286747822602015",
         "0.20973400216996013",
         "1.801815219935896",
         "-0.1424897134675614",
         "0.4190080050786424",
         "0.3554152801708079"
        ],
        [
         "26",
         "0.022870607844243496",
         "-0.4384799351315197",
         "-0.4848451783801488",
         "-1.0156298007080098",
         "0.8517352040485514",
         "1.064478858057608",
         "-0.5515379854254334",
         "-0.24118284429317724",
         "-0.8602799474121849",
         "1.1595860604623385",
         "-0.4933297392435625",
         "0.1549735332492602"
        ],
        [
         "27",
         "1.1980746343880362",
         "-0.4744475322494962",
         "0.06660429234521345",
         "-1.4857991962746362",
         "-0.7486657670565933",
         "-0.28714891504013007",
         "-1.3133982299579638",
         "-0.3359179163053399",
         "0.02117895660993174",
         "-1.3875560070171615",
         "0.6377703102061284",
         "0.017118719367096292"
        ],
        [
         "28",
         "1.4698883259820332",
         "-1.570101373861259",
         "-1.3022010308649137",
         "-0.8238829766072052",
         "0.772418460845643",
         "0.4439865114103168",
         "0.11994519047421372",
         "-0.7921618127527686",
         "0.13465365194839826",
         "0.3238480123246078",
         "0.2434571054943774",
         "0.571503175650456"
        ],
        [
         "29",
         "-0.11027830343993919",
         "1.222890779486561",
         "1.613202991209345",
         "0.48380718732807054",
         "0.12547668437025636",
         "-0.06978573452488714",
         "-0.4220403276660838",
         "0.03709322629810902",
         "-0.7226550384162717",
         "1.1837894381353",
         "0.6712340260808993",
         "0.2597039608873337"
        ],
        [
         "30",
         "0.8937011618767886",
         "-1.6622082970839889",
         "1.5315525537570274",
         "0.7521581285896931",
         "0.00436345748934966",
         "-0.6901382704942419",
         "-1.4122798345509255",
         "-0.5802583091632425",
         "-0.13327726055553704",
         "-0.04628286381525323",
         "0.38477257162491085",
         "-0.32270322312823746"
        ],
        [
         "31",
         "0.3504265538212801",
         "0.38057779655360685",
         "0.15177071822684132",
         "0.022047663385674515",
         "-1.3604602529569225",
         "-0.6939050289164237",
         "0.7642021782018685",
         "0.15678053463790473",
         "-0.37019746521422825",
         "0.7410512018171689",
         "-0.7327098550027518",
         "-0.5749088442858967"
        ],
        [
         "32",
         "-3.9163537662848675",
         "-1.0907818941019554",
         "-2.3418098388965998",
         "0.2999356520872925",
         "0.8430917060808297",
         "-0.4549026556177916",
         "-0.19167237861450684",
         "1.5464265038764256",
         "-0.3333070081270577",
         "-0.4400489421898578",
         "0.48512841502317783",
         "-0.6282760247148083"
        ],
        [
         "33",
         "-4.232236495091705",
         "-1.2795363587498119",
         "0.028792126342283002",
         "-0.83759884375303",
         "-0.33887367731240237",
         "0.17305938951803537",
         "-0.3556646890553707",
         "-0.7113654644891056",
         "-0.4648960206315868",
         "-1.5808793390227975",
         "-0.7967512250250254",
         "-0.030658397818030567"
        ],
        [
         "34",
         "-3.1670722695302773",
         "-1.5056429733477343",
         "-0.1564257429826717",
         "-0.15813956145594815",
         "1.0793383052611494",
         "1.1649973045773587",
         "0.6172392829996314",
         "1.4233165837129147",
         "-0.11812703662370304",
         "-1.683083839289947",
         "0.5277664256590019",
         "-0.7867488860341083"
        ],
        [
         "35",
         "1.3073568984549295",
         "0.48794395798691403",
         "0.7606755173145611",
         "-1.1172284099866348",
         "0.13364846544365297",
         "-0.649271189289037",
         "0.2868975156350196",
         "-0.04154718929241193",
         "0.7869205995068668",
         "-0.2889454372735859",
         "-0.46608867896292194",
         "-0.16276453788507686"
        ],
        [
         "36",
         "2.1564972451858395",
         "0.5420112269064198",
         "0.7542753732878955",
         "1.5610231943721342",
         "-0.03046232978735822",
         "-0.2128299119131763",
         "0.3888889611681234",
         "0.8696135284981213",
         "-0.3091321904691092",
         "0.23444090209689697",
         "-0.6174112396926514",
         "-0.8358914834707433"
        ],
        [
         "37",
         "0.8057076446913269",
         "0.15661613529292812",
         "-1.0717616024372014",
         "-0.9788864988242202",
         "0.27515021464276396",
         "-0.10221520378717026",
         "1.468835808852153",
         "-0.5090063122284312",
         "0.4161426776261812",
         "0.21742981807923745",
         "-0.3500634932895514",
         "0.34073858387126166"
        ],
        [
         "38",
         "1.0546242441966598",
         "-0.7852351083383586",
         "-0.7168106668212363",
         "-1.3239662670791474",
         "0.02441341459007466",
         "0.5356960477176371",
         "-0.8189025776013106",
         "-0.7067521574926761",
         "0.08403635589934906",
         "0.4583257197692798",
         "-0.12150126069363944",
         "0.027962250206778456"
        ],
        [
         "39",
         "-0.1392872301301224",
         "0.29780528736607753",
         "-0.05138047476837055",
         "0.9759193495334495",
         "1.0239046254250626",
         "-0.14175628974326698",
         "1.48161448679265",
         "-0.07563608622265931",
         "-1.1028101174274536",
         "0.13790639773439473",
         "0.6311059530047607",
         "0.10946098008663989"
        ],
        [
         "40",
         "-0.5912110682379315",
         "1.5892593384779672",
         "0.7252517396463755",
         "0.26925188036237624",
         "0.6170778005144719",
         "0.2617286774054303",
         "0.15602039557296316",
         "0.07855341481622737",
         "-1.1858631744394916",
         "0.024982254389236798",
         "0.40045659111332593",
         "-0.3057594383053296"
        ],
        [
         "41",
         "0.4474900173766845",
         "-1.5500604724811393",
         "-1.177598937155412",
         "-1.271725982127954",
         "-0.06346287091199125",
         "-0.07060410715551303",
         "0.556852725698136",
         "-0.2572296161338684",
         "-0.5160839203836184",
         "0.07941661906109425",
         "-0.4504254933202053",
         "0.0592506801649848"
        ],
        [
         "42",
         "1.3129644603791908",
         "0.6661292999948837",
         "1.4837264707471378",
         "0.3015095101532895",
         "1.0225761959223099",
         "-0.623864657631801",
         "0.5255629916139063",
         "0.794971470535538",
         "-0.4421805541750825",
         "-0.4937697033883768",
         "0.4650462528492338",
         "-0.20179606582377344"
        ],
        [
         "43",
         "1.4490151455850537",
         "-0.6033358488214485",
         "-2.202139240796538",
         "-1.0555704283651302",
         "0.04354148623802507",
         "1.0431754278405723",
         "0.06905488258533862",
         "-0.3143951115267385",
         "-0.4179092626154947",
         "-0.09838756496044353",
         "-0.024162544097117766",
         "0.3759210318374669"
        ],
        [
         "44",
         "-0.7333742922104873",
         "-2.5772581229361635",
         "-0.024062267881777726",
         "2.4076227633626015",
         "0.16211080735910968",
         "-0.13402442190496794",
         "-1.318756644008985",
         "-2.880934138547953",
         "0.7128917933887875",
         "-1.0050187830741684",
         "-0.8637619974110311",
         "-0.4619688190206811"
        ],
        [
         "45",
         "-1.0543238371102441",
         "0.6140115044092999",
         "-0.16125840459306934",
         "-0.574157696417307",
         "0.0023489952735839623",
         "0.7146516236740281",
         "0.38789255101764836",
         "-0.06975100575355822",
         "1.0598655417175054",
         "-0.0076460166968912065",
         "-0.6813427928162197",
         "-0.1784409822562524"
        ],
        [
         "46",
         "-1.7978900401115274",
         "1.5364169840564497",
         "0.3106822077736921",
         "0.23700170439192988",
         "0.13561896133898305",
         "0.5465785368136025",
         "0.11715612751084414",
         "-0.39758185128922247",
         "-1.091844365717695",
         "0.4383083147336669",
         "0.38872742168468916",
         "0.24692201132027602"
        ],
        [
         "47",
         "-0.017617287843770216",
         "1.2865513048128643",
         "0.37416039198409373",
         "0.5008048420430227",
         "-0.355758310205017",
         "0.4522741200956413",
         "-0.18345637010310817",
         "0.15177677573609452",
         "-0.09332188690497234",
         "-0.04169552843597874",
         "-0.007997765147378813",
         "0.016157157903590843"
        ],
        [
         "48",
         "1.3228900149365856",
         "-0.7269802168384155",
         "1.01829706024926",
         "-0.6749127443639722",
         "-0.1856748906909574",
         "-0.19070756419676077",
         "-1.2768092970485647",
         "0.40199469262340065",
         "-0.3706091803883096",
         "-0.043308392428728956",
         "-0.1027664008987337",
         "-0.11958889661211002"
        ],
        [
         "49",
         "1.1763869451048694",
         "-0.6986382803915557",
         "0.7055438406518204",
         "-0.7022464836148639",
         "-0.4351561096173301",
         "-0.08439154749640194",
         "-1.2526839228672102",
         "0.19429740397469863",
         "-0.40894424534089124",
         "0.25973777180269664",
         "0.012452836298020407",
         "-0.07288275548589974"
        ]
       ],
       "shape": {
        "columns": 12,
        "rows": 5040
       }
      },
      "text/html": [
       "<div>\n",
       "<style scoped>\n",
       "    .dataframe tbody tr th:only-of-type {\n",
       "        vertical-align: middle;\n",
       "    }\n",
       "\n",
       "    .dataframe tbody tr th {\n",
       "        vertical-align: top;\n",
       "    }\n",
       "\n",
       "    .dataframe thead th {\n",
       "        text-align: right;\n",
       "    }\n",
       "</style>\n",
       "<table border=\"1\" class=\"dataframe\">\n",
       "  <thead>\n",
       "    <tr style=\"text-align: right;\">\n",
       "      <th></th>\n",
       "      <th>PC1</th>\n",
       "      <th>PC2</th>\n",
       "      <th>PC3</th>\n",
       "      <th>PC4</th>\n",
       "      <th>PC5</th>\n",
       "      <th>PC6</th>\n",
       "      <th>PC7</th>\n",
       "      <th>PC8</th>\n",
       "      <th>PC9</th>\n",
       "      <th>PC10</th>\n",
       "      <th>PC11</th>\n",
       "      <th>PC12</th>\n",
       "    </tr>\n",
       "  </thead>\n",
       "  <tbody>\n",
       "    <tr>\n",
       "      <th>0</th>\n",
       "      <td>1.974203</td>\n",
       "      <td>-0.681226</td>\n",
       "      <td>-1.734604</td>\n",
       "      <td>0.909574</td>\n",
       "      <td>0.451966</td>\n",
       "      <td>1.221117</td>\n",
       "      <td>-0.477923</td>\n",
       "      <td>-0.364498</td>\n",
       "      <td>-0.380204</td>\n",
       "      <td>-0.972682</td>\n",
       "      <td>-0.255110</td>\n",
       "      <td>-0.152801</td>\n",
       "    </tr>\n",
       "    <tr>\n",
       "      <th>1</th>\n",
       "      <td>-4.070961</td>\n",
       "      <td>-0.345032</td>\n",
       "      <td>0.432137</td>\n",
       "      <td>0.154339</td>\n",
       "      <td>0.112187</td>\n",
       "      <td>0.690541</td>\n",
       "      <td>1.033697</td>\n",
       "      <td>0.239566</td>\n",
       "      <td>1.080889</td>\n",
       "      <td>0.174290</td>\n",
       "      <td>0.497574</td>\n",
       "      <td>-0.272294</td>\n",
       "    </tr>\n",
       "    <tr>\n",
       "      <th>2</th>\n",
       "      <td>2.175576</td>\n",
       "      <td>-0.362475</td>\n",
       "      <td>-0.841986</td>\n",
       "      <td>0.610860</td>\n",
       "      <td>-0.955335</td>\n",
       "      <td>0.763547</td>\n",
       "      <td>-0.852881</td>\n",
       "      <td>0.625957</td>\n",
       "      <td>-0.912003</td>\n",
       "      <td>0.235051</td>\n",
       "      <td>-0.072324</td>\n",
       "      <td>-0.015363</td>\n",
       "    </tr>\n",
       "    <tr>\n",
       "      <th>3</th>\n",
       "      <td>0.345339</td>\n",
       "      <td>0.605331</td>\n",
       "      <td>1.185361</td>\n",
       "      <td>0.053022</td>\n",
       "      <td>0.495078</td>\n",
       "      <td>-0.423182</td>\n",
       "      <td>0.599724</td>\n",
       "      <td>1.045296</td>\n",
       "      <td>0.031089</td>\n",
       "      <td>-1.238522</td>\n",
       "      <td>0.022120</td>\n",
       "      <td>0.046509</td>\n",
       "    </tr>\n",
       "    <tr>\n",
       "      <th>4</th>\n",
       "      <td>0.807311</td>\n",
       "      <td>-1.569801</td>\n",
       "      <td>-0.088202</td>\n",
       "      <td>-1.544978</td>\n",
       "      <td>0.906948</td>\n",
       "      <td>-0.028874</td>\n",
       "      <td>-0.059295</td>\n",
       "      <td>-0.124679</td>\n",
       "      <td>0.221433</td>\n",
       "      <td>-0.164120</td>\n",
       "      <td>-0.978698</td>\n",
       "      <td>0.592966</td>\n",
       "    </tr>\n",
       "    <tr>\n",
       "      <th>...</th>\n",
       "      <td>...</td>\n",
       "      <td>...</td>\n",
       "      <td>...</td>\n",
       "      <td>...</td>\n",
       "      <td>...</td>\n",
       "      <td>...</td>\n",
       "      <td>...</td>\n",
       "      <td>...</td>\n",
       "      <td>...</td>\n",
       "      <td>...</td>\n",
       "      <td>...</td>\n",
       "      <td>...</td>\n",
       "    </tr>\n",
       "    <tr>\n",
       "      <th>5035</th>\n",
       "      <td>-3.067108</td>\n",
       "      <td>1.440131</td>\n",
       "      <td>-0.482576</td>\n",
       "      <td>0.734131</td>\n",
       "      <td>1.289125</td>\n",
       "      <td>-1.546222</td>\n",
       "      <td>-0.546165</td>\n",
       "      <td>0.257628</td>\n",
       "      <td>-1.017373</td>\n",
       "      <td>0.480420</td>\n",
       "      <td>-0.249232</td>\n",
       "      <td>0.319114</td>\n",
       "    </tr>\n",
       "    <tr>\n",
       "      <th>5036</th>\n",
       "      <td>-0.017617</td>\n",
       "      <td>1.286551</td>\n",
       "      <td>0.374160</td>\n",
       "      <td>0.500805</td>\n",
       "      <td>-0.355758</td>\n",
       "      <td>0.452274</td>\n",
       "      <td>-0.183456</td>\n",
       "      <td>0.151777</td>\n",
       "      <td>-0.093322</td>\n",
       "      <td>-0.041696</td>\n",
       "      <td>-0.007998</td>\n",
       "      <td>0.016157</td>\n",
       "    </tr>\n",
       "    <tr>\n",
       "      <th>5037</th>\n",
       "      <td>-1.734433</td>\n",
       "      <td>0.247257</td>\n",
       "      <td>-0.916859</td>\n",
       "      <td>-0.130123</td>\n",
       "      <td>-2.984350</td>\n",
       "      <td>-1.091827</td>\n",
       "      <td>1.032149</td>\n",
       "      <td>-0.842448</td>\n",
       "      <td>-0.479935</td>\n",
       "      <td>-0.520011</td>\n",
       "      <td>-0.283622</td>\n",
       "      <td>-1.394559</td>\n",
       "    </tr>\n",
       "    <tr>\n",
       "      <th>5038</th>\n",
       "      <td>-1.684986</td>\n",
       "      <td>-1.748443</td>\n",
       "      <td>-0.100503</td>\n",
       "      <td>0.211892</td>\n",
       "      <td>0.423106</td>\n",
       "      <td>-0.214292</td>\n",
       "      <td>0.399803</td>\n",
       "      <td>-0.681735</td>\n",
       "      <td>-1.625178</td>\n",
       "      <td>0.614572</td>\n",
       "      <td>0.221524</td>\n",
       "      <td>0.393331</td>\n",
       "    </tr>\n",
       "    <tr>\n",
       "      <th>5039</th>\n",
       "      <td>-1.886912</td>\n",
       "      <td>1.309647</td>\n",
       "      <td>-0.285482</td>\n",
       "      <td>0.383173</td>\n",
       "      <td>0.974027</td>\n",
       "      <td>-2.011332</td>\n",
       "      <td>-0.675813</td>\n",
       "      <td>0.442282</td>\n",
       "      <td>-0.541977</td>\n",
       "      <td>0.034359</td>\n",
       "      <td>0.249443</td>\n",
       "      <td>0.254593</td>\n",
       "    </tr>\n",
       "  </tbody>\n",
       "</table>\n",
       "<p>5040 rows × 12 columns</p>\n",
       "</div>"
      ],
      "text/plain": [
       "           PC1       PC2       PC3       PC4       PC5       PC6       PC7  \\\n",
       "0     1.974203 -0.681226 -1.734604  0.909574  0.451966  1.221117 -0.477923   \n",
       "1    -4.070961 -0.345032  0.432137  0.154339  0.112187  0.690541  1.033697   \n",
       "2     2.175576 -0.362475 -0.841986  0.610860 -0.955335  0.763547 -0.852881   \n",
       "3     0.345339  0.605331  1.185361  0.053022  0.495078 -0.423182  0.599724   \n",
       "4     0.807311 -1.569801 -0.088202 -1.544978  0.906948 -0.028874 -0.059295   \n",
       "...        ...       ...       ...       ...       ...       ...       ...   \n",
       "5035 -3.067108  1.440131 -0.482576  0.734131  1.289125 -1.546222 -0.546165   \n",
       "5036 -0.017617  1.286551  0.374160  0.500805 -0.355758  0.452274 -0.183456   \n",
       "5037 -1.734433  0.247257 -0.916859 -0.130123 -2.984350 -1.091827  1.032149   \n",
       "5038 -1.684986 -1.748443 -0.100503  0.211892  0.423106 -0.214292  0.399803   \n",
       "5039 -1.886912  1.309647 -0.285482  0.383173  0.974027 -2.011332 -0.675813   \n",
       "\n",
       "           PC8       PC9      PC10      PC11      PC12  \n",
       "0    -0.364498 -0.380204 -0.972682 -0.255110 -0.152801  \n",
       "1     0.239566  1.080889  0.174290  0.497574 -0.272294  \n",
       "2     0.625957 -0.912003  0.235051 -0.072324 -0.015363  \n",
       "3     1.045296  0.031089 -1.238522  0.022120  0.046509  \n",
       "4    -0.124679  0.221433 -0.164120 -0.978698  0.592966  \n",
       "...        ...       ...       ...       ...       ...  \n",
       "5035  0.257628 -1.017373  0.480420 -0.249232  0.319114  \n",
       "5036  0.151777 -0.093322 -0.041696 -0.007998  0.016157  \n",
       "5037 -0.842448 -0.479935 -0.520011 -0.283622 -1.394559  \n",
       "5038 -0.681735 -1.625178  0.614572  0.221524  0.393331  \n",
       "5039  0.442282 -0.541977  0.034359  0.249443  0.254593  \n",
       "\n",
       "[5040 rows x 12 columns]"
      ]
     },
     "execution_count": 20,
     "metadata": {},
     "output_type": "execute_result"
    }
   ],
   "source": [
    "from sklearn.decomposition import PCA\n",
    "pca = PCA()\n",
    "df_pca = pca.fit_transform(df_features_clean)\n",
    "df_pca = pd.DataFrame(df_pca, columns=[f\"PC{i+1}\" for i in range(df_pca.shape[1])])\n",
    "df_pca"
   ]
  },
  {
   "cell_type": "code",
   "execution_count": 21,
   "metadata": {
    "tags": []
   },
   "outputs": [
    {
     "data": {
      "text/plain": [
       "array([0.28551073, 0.1010864 , 0.09829919, 0.08805026, 0.08236032,\n",
       "       0.07565611, 0.07079086, 0.06426967, 0.05693429, 0.04090045,\n",
       "       0.02511807, 0.01102364])"
      ]
     },
     "execution_count": 21,
     "metadata": {},
     "output_type": "execute_result"
    }
   ],
   "source": [
    "pca.explained_variance_ratio_"
   ]
  },
  {
   "cell_type": "markdown",
   "metadata": {
    "deletable": false,
    "editable": false
   },
   "source": [
    "__3-B Plotting Explained Variance__  \n",
    "Plot the explained variance ratio and the cumulative explained variance."
   ]
  },
  {
   "cell_type": "markdown",
   "metadata": {
    "deletable": false,
    "editable": false
   },
   "source": [
    "Complete the function `plot_explained_variance_ratio` to create a line plot showcasing the explained variance ratio vs principal components."
   ]
  },
  {
   "cell_type": "code",
   "execution_count": 22,
   "metadata": {
    "tags": []
   },
   "outputs": [
    {
     "data": {
      "image/png": "[encoded data removed]",
      "text/plain": [
       "<Figure size 1000x600 with 1 Axes>"
      ]
     },
     "metadata": {},
     "output_type": "display_data"
    }
   ],
   "source": [
    "def plot_explained_variance_ratio(pca_model):\n",
    "    '''\n",
    "    Parameters:\n",
    "    -----------\n",
    "    pca_model : sklearn.decomposition.PCA\n",
    "        A fitted PCA model with the attribute 'explained_variance_ratio_', which is an array-like \n",
    "        of shape (n_components,) containing the variance explained by each principal component.\n",
    "    \n",
    "    Returns:\n",
    "    --------\n",
    "    matplotlib.axes.Axes\n",
    "        The Axes object that contains the explained variance ratio plot.\n",
    "    '''\n",
    "    _, ax = plt.subplots(figsize=(10, 6))\n",
    "    \n",
    "    # get explained variance ratio\n",
    "    expl_var = pca_model.explained_variance_ratio_\n",
    "\n",
    "    # plot cumulative explained var as ln plot\n",
    "    ax.plot(range(1, len(expl_var) + 1), expl_var, marker='o', linestyle='-', color='blue', label='Cumulative Explained Variance')\n",
    "    ax.set_xlabel(\"Principal Components\")\n",
    "    ax.set_ylabel(\"Cumulative Explained Variance Ratio\")\n",
    "    ax.set_title(\"Cumulative Explained Variance by Principal Components\")\n",
    "    return ax\n",
    "\n",
    "ax1 = plot_explained_variance_ratio(pca)"
   ]
  },
  {
   "cell_type": "markdown",
   "metadata": {
    "deletable": false,
    "editable": false
   },
   "source": [
    "Next, create a function that plots the cumulative explained variance ratio of the principal components by completing the function below:"
   ]
  },
  {
   "cell_type": "code",
   "execution_count": 23,
   "metadata": {
    "tags": []
   },
   "outputs": [
    {
     "data": {
      "image/png": "[encoded data removed]",
      "text/plain": [
       "<Figure size 1000x600 with 1 Axes>"
      ]
     },
     "metadata": {},
     "output_type": "display_data"
    }
   ],
   "source": [
    "# Plot the cumulative explained variance ratio for a fitted PCA model.\n",
    "def plot_cumulative_explained_variance(pca_model):\n",
    "    \"\"\"\n",
    "    Parameters:\n",
    "    -----------\n",
    "    pca_model : sklearn.decomposition.PCA\n",
    "        A fitted PCA model with the attribute 'explained_variance_ratio_', which is an array-like\n",
    "        containing the variance explained by each principal component.\n",
    "\n",
    "    Returns:\n",
    "    --------\n",
    "    matplotlib.axes.Axes\n",
    "        The Axes object containing the cumulative explained variance ratio plot.\n",
    "    \"\"\"\n",
    "    fig, ax = plt.subplots(figsize=(10, 6))\n",
    "    expl_var = pca_model.explained_variance_ratio_\n",
    "    cumu_var = np.cumsum(expl_var)\n",
    "\n",
    "    # plot cumulative explained var as ln plot\n",
    "    ax.plot(range(1, len(cumu_var) + 1), cumu_var, marker='o', linestyle='-', color='blue', label='Cumulative Explained Variance')\n",
    "    ax.set_xlabel(\"Principal Components\")\n",
    "    ax.set_ylabel(\"Cumulative Explained Variance Ratio\")\n",
    "    ax.set_title(\"Cumulative Explained Variance by Principal Components\")\n",
    "\n",
    "    return ax\n",
    "\n",
    "ax2 = plot_cumulative_explained_variance(pca)"
   ]
  },
  {
   "cell_type": "markdown",
   "metadata": {
    "deletable": false,
    "editable": false
   },
   "source": [
    "__WHAT DO YOU THINK?__:  \n",
    "In your own words, briefly explain how does the graph above help us in determining the appropriate number of components to select so that it results in a simpler model and less computational expense?"
   ]
  },
  {
   "cell_type": "markdown",
   "metadata": {},
   "source": [
    "The graph allows us to determine the optimal number of principal components by visually showing how much variance is retained as more components are added. By minimizing the number of components used, it reduces the ammount of computation required."
   ]
  },
  {
   "cell_type": "code",
   "execution_count": 24,
   "metadata": {
    "deletable": false,
    "editable": false
   },
   "outputs": [
    {
     "data": {
      "text/html": [
       "<p><strong><pre style='display: inline;'>q3</pre></strong> passed! 🍀</p>"
      ],
      "text/plain": [
       "q3 results: All test cases passed!"
      ]
     },
     "execution_count": 24,
     "metadata": {},
     "output_type": "execute_result"
    }
   ],
   "source": [
    "grader.check(\"q3\")"
   ]
  },
  {
   "cell_type": "markdown",
   "metadata": {},
   "source": [
    "## 4. K-Means Clustering [__30 marks__]\n",
    "\n",
    "Perform K-Means with the PCA-transformed data."
   ]
  },
  {
   "cell_type": "markdown",
   "metadata": {
    "deletable": false,
    "editable": false
   },
   "source": [
    "__4-A PCA with 2 Components__  \n",
    "For experimental purpose only, we will try with a 2 components PCA dataset. Create a new PCA object that compose of the top 2 components. Name the column \"PC1\" and \"PC2\"."
   ]
  },
  {
   "cell_type": "code",
   "execution_count": 25,
   "metadata": {
    "tags": []
   },
   "outputs": [
    {
     "data": {
      "application/vnd.microsoft.datawrangler.viewer.v0+json": {
       "columns": [
        {
         "name": "index",
         "rawType": "int64",
         "type": "integer"
        },
        {
         "name": "PC1",
         "rawType": "float64",
         "type": "float"
        },
        {
         "name": "PC2",
         "rawType": "float64",
         "type": "float"
        }
       ],
       "conversionMethod": "pd.DataFrame",
       "ref": "126018bd-5fb4-4535-923b-e827caf500a4",
       "rows": [
        [
         "0",
         "1.9742029244446662",
         "-0.6812256915333117"
        ],
        [
         "1",
         "-4.070960735486682",
         "-0.3450315538257066"
        ],
        [
         "2",
         "2.1755759718058445",
         "-0.3624752637229406"
        ],
        [
         "3",
         "0.3453390156941044",
         "0.6053305170434155"
        ],
        [
         "4",
         "0.8073110479547496",
         "-1.5698009895252165"
        ],
        [
         "5",
         "1.0293193868215251",
         "-1.0559426026524248"
        ],
        [
         "6",
         "1.9940812385212232",
         "-0.1063486470250008"
        ],
        [
         "7",
         "-0.017617287843770216",
         "1.2865513048128643"
        ],
        [
         "8",
         "0.28858073788531813",
         "1.1306342177794784"
        ],
        [
         "9",
         "1.948903597692174",
         "-0.49022787850968647"
        ],
        [
         "10",
         "1.6492768634494843",
         "0.0069641523331084925"
        ],
        [
         "11",
         "-4.734977148908888",
         "-0.8119929425785793"
        ],
        [
         "12",
         "0.7602891623379001",
         "-0.05771206298817467"
        ],
        [
         "13",
         "-1.1604005140994074",
         "-0.10910193422233472"
        ],
        [
         "14",
         "0.7380536650774424",
         "0.15253620774580803"
        ],
        [
         "15",
         "1.4197954307446041",
         "-0.37248658170966165"
        ],
        [
         "16",
         "-1.2729080281987968",
         "0.9242388918000565"
        ],
        [
         "17",
         "0.4211949216310896",
         "0.7022890476191204"
        ],
        [
         "18",
         "1.267597487678293",
         "-1.1404567094624214"
        ],
        [
         "19",
         "-0.5593947070148951",
         "-0.9773830553047301"
        ],
        [
         "20",
         "1.3626311085797143",
         "0.7485529498282621"
        ],
        [
         "21",
         "-7.271459344597303",
         "-0.22883646419486295"
        ],
        [
         "22",
         "1.6162342259927003",
         "0.25088005998971297"
        ],
        [
         "23",
         "2.078046183126865",
         "-0.697025120718883"
        ],
        [
         "24",
         "1.1042727235636516",
         "0.8107102250980167"
        ],
        [
         "25",
         "0.27393976782504226",
         "1.3750441523719517"
        ],
        [
         "26",
         "0.02287060784424344",
         "-0.4384799351315196"
        ],
        [
         "27",
         "1.1980746343880362",
         "-0.4744475322494962"
        ],
        [
         "28",
         "1.4698883259820335",
         "-1.570101373861259"
        ],
        [
         "29",
         "-0.11027830343993922",
         "1.222890779486561"
        ],
        [
         "30",
         "0.8937011618767886",
         "-1.6622082970839887"
        ],
        [
         "31",
         "0.3504265538212801",
         "0.38057779655360696"
        ],
        [
         "32",
         "-3.916353766284867",
         "-1.0907818941019554"
        ],
        [
         "33",
         "-4.232236495091705",
         "-1.2795363587498116"
        ],
        [
         "34",
         "-3.1670722695302773",
         "-1.5056429733477343"
        ],
        [
         "35",
         "1.3073568984549298",
         "0.48794395798691403"
        ],
        [
         "36",
         "2.1564972451858395",
         "0.5420112269064196"
        ],
        [
         "37",
         "0.8057076446913269",
         "0.1566161352929281"
        ],
        [
         "38",
         "1.0546242441966598",
         "-0.7852351083383585"
        ],
        [
         "39",
         "-0.1392872301301224",
         "0.29780528736607753"
        ],
        [
         "40",
         "-0.5912110682379315",
         "1.5892593384779672"
        ],
        [
         "41",
         "0.4474900173766845",
         "-1.5500604724811395"
        ],
        [
         "42",
         "1.3129644603791908",
         "0.6661292999948837"
        ],
        [
         "43",
         "1.4490151455850537",
         "-0.6033358488214486"
        ],
        [
         "44",
         "-0.7333742922104872",
         "-2.5772581229361635"
        ],
        [
         "45",
         "-1.0543238371102444",
         "0.6140115044093"
        ],
        [
         "46",
         "-1.7978900401115274",
         "1.5364169840564494"
        ],
        [
         "47",
         "-0.017617287843770216",
         "1.2865513048128643"
        ],
        [
         "48",
         "1.3228900149365859",
         "-0.7269802168384154"
        ],
        [
         "49",
         "1.1763869451048694",
         "-0.6986382803915557"
        ]
       ],
       "shape": {
        "columns": 2,
        "rows": 5040
       }
      },
      "text/html": [
       "<div>\n",
       "<style scoped>\n",
       "    .dataframe tbody tr th:only-of-type {\n",
       "        vertical-align: middle;\n",
       "    }\n",
       "\n",
       "    .dataframe tbody tr th {\n",
       "        vertical-align: top;\n",
       "    }\n",
       "\n",
       "    .dataframe thead th {\n",
       "        text-align: right;\n",
       "    }\n",
       "</style>\n",
       "<table border=\"1\" class=\"dataframe\">\n",
       "  <thead>\n",
       "    <tr style=\"text-align: right;\">\n",
       "      <th></th>\n",
       "      <th>PC1</th>\n",
       "      <th>PC2</th>\n",
       "    </tr>\n",
       "  </thead>\n",
       "  <tbody>\n",
       "    <tr>\n",
       "      <th>0</th>\n",
       "      <td>1.974203</td>\n",
       "      <td>-0.681226</td>\n",
       "    </tr>\n",
       "    <tr>\n",
       "      <th>1</th>\n",
       "      <td>-4.070961</td>\n",
       "      <td>-0.345032</td>\n",
       "    </tr>\n",
       "    <tr>\n",
       "      <th>2</th>\n",
       "      <td>2.175576</td>\n",
       "      <td>-0.362475</td>\n",
       "    </tr>\n",
       "    <tr>\n",
       "      <th>3</th>\n",
       "      <td>0.345339</td>\n",
       "      <td>0.605331</td>\n",
       "    </tr>\n",
       "    <tr>\n",
       "      <th>4</th>\n",
       "      <td>0.807311</td>\n",
       "      <td>-1.569801</td>\n",
       "    </tr>\n",
       "    <tr>\n",
       "      <th>...</th>\n",
       "      <td>...</td>\n",
       "      <td>...</td>\n",
       "    </tr>\n",
       "    <tr>\n",
       "      <th>5035</th>\n",
       "      <td>-3.067108</td>\n",
       "      <td>1.440131</td>\n",
       "    </tr>\n",
       "    <tr>\n",
       "      <th>5036</th>\n",
       "      <td>-0.017617</td>\n",
       "      <td>1.286551</td>\n",
       "    </tr>\n",
       "    <tr>\n",
       "      <th>5037</th>\n",
       "      <td>-1.734433</td>\n",
       "      <td>0.247257</td>\n",
       "    </tr>\n",
       "    <tr>\n",
       "      <th>5038</th>\n",
       "      <td>-1.684986</td>\n",
       "      <td>-1.748443</td>\n",
       "    </tr>\n",
       "    <tr>\n",
       "      <th>5039</th>\n",
       "      <td>-1.886912</td>\n",
       "      <td>1.309647</td>\n",
       "    </tr>\n",
       "  </tbody>\n",
       "</table>\n",
       "<p>5040 rows × 2 columns</p>\n",
       "</div>"
      ],
      "text/plain": [
       "           PC1       PC2\n",
       "0     1.974203 -0.681226\n",
       "1    -4.070961 -0.345032\n",
       "2     2.175576 -0.362475\n",
       "3     0.345339  0.605331\n",
       "4     0.807311 -1.569801\n",
       "...        ...       ...\n",
       "5035 -3.067108  1.440131\n",
       "5036 -0.017617  1.286551\n",
       "5037 -1.734433  0.247257\n",
       "5038 -1.684986 -1.748443\n",
       "5039 -1.886912  1.309647\n",
       "\n",
       "[5040 rows x 2 columns]"
      ]
     },
     "execution_count": 25,
     "metadata": {},
     "output_type": "execute_result"
    }
   ],
   "source": [
    "pca_n2 = PCA(n_components=2)\n",
    "df_pca_n2 = pca_n2.fit_transform(df_features_clean)\n",
    "df_pca_n2 = pd.DataFrame(df_pca_n2, columns=[f\"PC{i+1}\" for i in range(df_pca_n2.shape[1])])\n",
    "df_pca_n2"
   ]
  },
  {
   "cell_type": "markdown",
   "metadata": {
    "deletable": false,
    "editable": false
   },
   "source": [
    "__4-B Determine Optimal K__  \n",
    "Find the optimum number of clusters for the K-Means model using the new PCA dataset. Plot the graph showing inertia vs clusters.\n",
    "\n",
    "Note: Set `random_state=42` for the model. And use default params for the rest."
   ]
  },
  {
   "cell_type": "code",
   "execution_count": 26,
   "metadata": {
    "tags": []
   },
   "outputs": [
    {
     "name": "stderr",
     "output_type": "stream",
     "text": [
      "  File \"c:\\ProgramData\\anaconda3\\Lib\\site-packages\\joblib\\externals\\loky\\backend\\context.py\", line 257, in _count_physical_cores\n",
      "    cpu_info = subprocess.run(\n",
      "               ^^^^^^^^^^^^^^^\n",
      "  File \"c:\\ProgramData\\anaconda3\\Lib\\subprocess.py\", line 548, in run\n",
      "    with Popen(*popenargs, **kwargs) as process:\n",
      "         ^^^^^^^^^^^^^^^^^^^^^^^^^^^\n",
      "  File \"c:\\ProgramData\\anaconda3\\Lib\\subprocess.py\", line 1026, in __init__\n",
      "    self._execute_child(args, executable, preexec_fn, close_fds,\n",
      "  File \"c:\\ProgramData\\anaconda3\\Lib\\subprocess.py\", line 1538, in _execute_child\n",
      "    hp, ht, pid, tid = _winapi.CreateProcess(executable, args,\n",
      "                       ^^^^^^^^^^^^^^^^^^^^^^^^^^^^^^^^^^^^^^^\n"
     ]
    },
    {
     "data": {
      "image/png": "[encoded data removed]",
      "text/plain": [
       "<Figure size 1500x600 with 1 Axes>"
      ]
     },
     "metadata": {},
     "output_type": "display_data"
    }
   ],
   "source": [
    "# determine optimum K value for KMeans with 2 components\n",
    "from sklearn.cluster import KMeans\n",
    "# disable warnings\n",
    "import warnings\n",
    "warnings.filterwarnings(\"ignore\")\n",
    "# create a list to store the inertia values\n",
    "inertia_values = []\n",
    "\n",
    "# loop through K values from 1 to 20 inclusive\n",
    "for i in range(1, 21):\n",
    "    kmeans = KMeans(n_clusters=i, random_state=42)\n",
    "    kmeans.fit(df_pca_n2)\n",
    "    inertia_values.append(kmeans.inertia_)\n",
    "\n",
    "# plot the inertia values\n",
    "# Plot the Within-Cluster Sum of Squares (WCSS) for different numbers of clusters\n",
    "plt.figure(figsize=(15, 6))\n",
    "plt.plot(range(1, 21), inertia_values, marker=\"o\", linestyle=\"--\")\n",
    "plt.xlabel(\"Number of Clusters\")\n",
    "plt.ylabel(\"WCSS\")\n",
    "plt.title(\"K-Means Clustering\")\n",
    "plt.show()"
   ]
  },
  {
   "cell_type": "markdown",
   "metadata": {
    "deletable": false,
    "editable": false
   },
   "source": [
    "Note: If the optimal K is hard to determine from the graph above, you can use yellowbrick library to help. But that code portion for yellowbrick shouldn't be included in this assignment. Delete after finding the optimal K."
   ]
  },
  {
   "cell_type": "markdown",
   "metadata": {
    "deletable": false,
    "editable": false
   },
   "source": [
    "What is optimal K value?"
   ]
  },
  {
   "cell_type": "code",
   "execution_count": 27,
   "metadata": {
    "tags": []
   },
   "outputs": [],
   "source": [
    "optimal_k = 4"
   ]
  },
  {
   "cell_type": "markdown",
   "metadata": {
    "deletable": false,
    "editable": false
   },
   "source": [
    "__4-C Train with Optimal K & Plotting the Clusters__  \n",
    "Given a PCA-transformed DataFrame `df_pca_n2` (with columns 'PC1' and 'PC2') and an integer `optimal_k` representing the optimal number of clusters, complete the following tasks:\n",
    "\n",
    "__Clustering__:  \n",
    "Fit a KMeans model with `optimal_k` clusters (using random_state=42) on `df_pca_n2` and default params for the rest.\n",
    "Add a new column \"cluster\" to `df_pca_n2` with the predicted cluster labels.\n",
    "\n",
    "__Visualization__:  \n",
    "Create a scatter plot of 'PC1' vs. 'PC2', coloring points by their cluster assignment.\n",
    "Overlay the cluster centroids (in red) on the same plot.\n",
    "Label the axes appropriately and add a title.\n",
    "\n",
    "Hint: Use `final_kmeans.cluster_centers_` to obtain the centroids."
   ]
  },
  {
   "cell_type": "code",
   "execution_count": 28,
   "metadata": {
    "tags": []
   },
   "outputs": [
    {
     "data": {
      "image/png": "[encoded data removed]",
      "text/plain": [
       "<Figure size 800x600 with 1 Axes>"
      ]
     },
     "metadata": {},
     "output_type": "display_data"
    }
   ],
   "source": [
    "# make a copy of the PCA transformed data, use this copy for the rest of the task\n",
    "df_pca_n2_copy = df_pca_n2.copy()\n",
    "final_kmeans = KMeans(n_clusters=optimal_k, random_state=42)\n",
    "final_kmeans.fit(df_pca_n2_copy)\n",
    "pred_y = final_kmeans.predict(df_pca_n2_copy)\n",
    "df_pca_n2_copy[\"cluster\"] = pred_y\n",
    "\n",
    "plt.figure(figsize=(8, 6))\n",
    "plt.scatter(df_pca_n2_copy.iloc[pred_y == 0, 0], df_pca_n2_copy.iloc[pred_y == 0, 1], s=50, c=\"yellow\", label=\"Cluster 0\")\n",
    "plt.scatter(df_pca_n2_copy.iloc[pred_y == 1, 0], df_pca_n2_copy.iloc[pred_y == 1, 1], s=50, c=\"blue\", label=\"Cluster 1\")\n",
    "plt.scatter(df_pca_n2_copy.iloc[pred_y == 2, 0], df_pca_n2_copy.iloc[pred_y == 2, 1], s=50, c=\"green\", label=\"Cluster 2\")\n",
    "plt.scatter(df_pca_n2_copy.iloc[pred_y == 3, 0], df_pca_n2_copy.iloc[pred_y == 3, 1], s=50, c=\"purple\", label=\"Cluster 3\")\n",
    "\n",
    "plt.scatter(\n",
    "    final_kmeans.cluster_centers_[:, 0],\n",
    "    final_kmeans.cluster_centers_[:, 1],\n",
    "    s=200,\n",
    "    marker=\"X\",\n",
    "    c=\"red\",\n",
    "    label=\"Centroids\",\n",
    ")\n",
    "\n",
    "plt.title(\"KMeans assigned cluster\")\n",
    "plt.xlabel(\"PC1\")\n",
    "plt.ylabel(\"PC2\")\n",
    "plt.legend()\n",
    "plt.show()"
   ]
  },
  {
   "cell_type": "code",
   "execution_count": 29,
   "metadata": {
    "deletable": false,
    "editable": false
   },
   "outputs": [
    {
     "data": {
      "text/html": [
       "<p><strong><pre style='display: inline;'>q4</pre></strong> passed! 🌈</p>"
      ],
      "text/plain": [
       "q4 results: All test cases passed!"
      ]
     },
     "execution_count": 29,
     "metadata": {},
     "output_type": "execute_result"
    }
   ],
   "source": [
    "grader.check(\"q4\")"
   ]
  },
  {
   "cell_type": "markdown",
   "metadata": {},
   "source": [
    "## 5. Performance Evaluation [__5 marks__]\n",
    "Lastly, we will evaluate the performance of our cluster by using a technique called silhouette score.\n",
    "\n",
    "The silhouette score is a metric used to evaluate the quality of clustering in unsupervised machine learning. It measures how well-separated and cohesive the clusters are by comparing the similarity of data points within a cluster to their similarity with points in other clusters.\n",
    "\n",
    "The score ranges from -1 to 1:  \n",
    "* _+1_: The point is well-clustered (far from other clusters, close to its own).  \n",
    "*  _0_ : The point is on or near the boundary between clusters.  \n",
    "* _-1_: The point may have been assigned to the wrong cluster (closer to another cluster than its own).  \n",
    "\n",
    "Purpose:  \n",
    "* Cluster Validation: It helps assess how appropriate the clustering is without needing labeled data.\n",
    "* Choosing the Number of Clusters: By computing the average silhouette score across all points for different numbers of clusters (e.g., in k-means), you can identify the optimal number of clusters where cohesion and separation are maximized.\n",
    "* Interpretation: It provides a quantitative way to compare different clustering algorithms or parameter settings."
   ]
  },
  {
   "cell_type": "code",
   "execution_count": 30,
   "metadata": {
    "tags": []
   },
   "outputs": [
    {
     "data": {
      "image/png": "[encoded data removed]",
      "text/plain": [
       "<Figure size 1000x600 with 1 Axes>"
      ]
     },
     "metadata": {},
     "output_type": "display_data"
    }
   ],
   "source": [
    "# use silhouette score to evaluate the model\n",
    "from sklearn.metrics import silhouette_score\n",
    "\n",
    "silhouette = []\n",
    "\n",
    "# loop through K values from 2 to 20 inclusive\n",
    "for i in range(2,21):\n",
    "    kmeans = KMeans(n_clusters=i, random_state=42)\n",
    "    kmeans.fit(df_pca_n2_copy)\n",
    "    silhouette.append(silhouette_score(df_pca_n2_copy, kmeans.labels_))\n",
    "\n",
    "\n",
    "# plot the silhouette scores\n",
    "plt.figure(figsize=(10, 6))\n",
    "plt.plot(range(2, 21), silhouette, marker='o', linestyle='-', color='b')\n",
    "plt.title('Silhouette Scores for Different Values of K')\n",
    "plt.xlabel('Number of Clusters (K)')\n",
    "plt.ylabel('Silhouette Score')\n",
    "plt.xticks(range(2, 21))\n",
    "plt.grid(True)\n",
    "plt.show()\n"
   ]
  },
  {
   "cell_type": "code",
   "execution_count": 31,
   "metadata": {
    "deletable": false,
    "editable": false
   },
   "outputs": [
    {
     "data": {
      "text/html": [
       "<p><strong><pre style='display: inline;'>q5</pre></strong> passed! 💯</p>"
      ],
      "text/plain": [
       "q5 results: All test cases passed!"
      ]
     },
     "execution_count": 31,
     "metadata": {},
     "output_type": "execute_result"
    }
   ],
   "source": [
    "grader.check(\"q5\")"
   ]
  },
  {
   "cell_type": "markdown",
   "metadata": {},
   "source": [
    "__QUESTION__:  \n",
    "Now given the silhouette score, explain what is your observation on the results. And comparing this with the optimal number of clusters obtain using the inertia with this silhouette score, are they different? Explain in your own words."
   ]
  },
  {
   "cell_type": "markdown",
   "metadata": {},
   "source": [
    "The silhouette scores all lie in the range of [~0.36, ~0.50], as all the values are positive, this means that it is unlikely that any of the values will be assigned into the wrong cluster using any of these k-values. (as the closer the score gets to 1, the better the seperation between clusters)\n",
    "\n",
    "The highest score is ~0.5, where k = 4, which aligns with the optimal k-value found using intertia. This suggests that it is unlikely for the model to over/underfit. "
   ]
  },
  {
   "cell_type": "markdown",
   "metadata": {
    "deletable": false,
    "editable": false
   },
   "source": [
    "## Submission\n",
    "\n",
    "Make sure you have run all cells in your notebook in order before running the cell below, so that all images/graphs appear in the output. The cell below will generate a zip file for you to submit. **Please save before exporting!**"
   ]
  },
  {
   "cell_type": "code",
   "execution_count": 32,
   "metadata": {
    "deletable": false,
    "editable": false
   },
   "outputs": [
    {
     "data": {
      "text/html": [
       "\n",
       "                    <p>\n",
       "                        Your submission has been exported. Click\n",
       "                        <a href=\"Assignment3_KMeans_PCA_2025_03_13T14_04_48_448866.zip\" download=\"Assignment3_KMeans_PCA_2025_03_13T14_04_48_448866.zip\" target=\"_blank\">here</a> to download\n",
       "                        the zip file.\n",
       "                    </p>\n",
       "                "
      ],
      "text/plain": [
       "<IPython.core.display.HTML object>"
      ]
     },
     "metadata": {},
     "output_type": "display_data"
    }
   ],
   "source": [
    "# Save your notebook first, then run this cell to export your submission.\n",
    "grader.export(pdf=False, run_tests=False)"
   ]
  },
  {
   "cell_type": "markdown",
   "metadata": {},
   "source": [
    " "
   ]
  }
 ],
 "metadata": {
  "kernelspec": {
   "display_name": "base",
   "language": "python",
   "name": "python3"
  },
  "language_info": {
   "codemirror_mode": {
    "name": "ipython",
    "version": 3
   },
   "file_extension": ".py",
   "mimetype": "text/x-python",
   "name": "python",
   "nbconvert_exporter": "python",
   "pygments_lexer": "ipython3",
   "version": "3.12.7"
  },
  "otter": {
   "OK_FORMAT": true,
   "tests": {
    "q1": {
     "name": "q1",
     "points": null,
     "suites": [
      {
       "cases": [
        {
         "code": ">>> assert data.shape[0] == 10080, 'Dataset should have 10080 rows. Please check if you loaded the correct dataset.'\n>>> assert data.shape[1] == 22, 'Dataset should have 22 columns. Please check if you loaded the correct dataset.'\n",
         "hidden": false,
         "locked": false,
         "points": 2
        },
        {
         "code": ">>> assert 'int64' in data_types and 'O' in data_types and ('float64' in data_types), 'Data types are wrong.'\n",
         "hidden": false,
         "locked": false,
         "points": 3
        }
       ],
       "scored": true,
       "setup": "",
       "teardown": "",
       "type": "doctest"
      }
     ]
    },
    "q2": {
     "name": "q2",
     "points": null,
     "suites": [
      {
       "cases": [
        {
         "code": ">>> assert duplicates == 5040, 'The total count of duplicate rows is not correct.'\n",
         "hidden": false,
         "locked": false,
         "points": 3
        },
        {
         "code": ">>> assert data.shape[0] == 5040, 'Dataset should have 5040 rows after removing duplicates.'\n",
         "hidden": false,
         "locked": false,
         "points": 3
        },
        {
         "code": ">>> assert df_features.shape[0] == 5040, 'Dataset should have 5040 rows.'\n>>> assert df_features.shape[1] == 12, 'Dataset should have 12 columns.'\n",
         "hidden": false,
         "locked": false,
         "points": 5
        },
        {
         "code": ">>> import matplotlib.axes\n>>> import matplotlib.patches as mpatches\n>>> assert all((isinstance(ax, matplotlib.axes.Axes) for ax in axes)), 'The function did not return a list of matplotlib Axes object.'\n>>> rectangles = [ax.patch for ax in axes if isinstance(ax.patch, mpatches.Rectangle)]\n>>> assert len(rectangles) == 12, 'Ensure you had plotted histograms and not other type of graphs.'\n",
         "hidden": false,
         "locked": false,
         "points": 15
        },
        {
         "code": ">>> assert missing_values.sum() == 3300, \"The total of 'missing_values' is not correct.\"\n",
         "hidden": false,
         "locked": false,
         "points": 2
        },
        {
         "code": ">>> assert df_features.isnull().sum().sum() == 0, \"There are still missing values in 'df_features'.\"\n",
         "hidden": false,
         "locked": false,
         "points": 2
        },
        {
         "code": ">>> import matplotlib.axes\n>>> import matplotlib.collections as mcoll\n>>> import matplotlib.image as mimage\n>>> assert isinstance(corr_heatmap, matplotlib.axes.Axes) or isinstance(corr_heatmap, mimage.AxesImage) or isinstance(corr_heatmap, mcoll.QuadMesh), 'corr_heatmap should be a matplotlib Axes, AxesImage or QuadMesh object.'\n",
         "hidden": false,
         "locked": false,
         "points": 10
        },
        {
         "code": ">>> assert df_features_clean.shape == df_features.shape, 'df_features_clean should have the same shape as df_features'\n>>> assert np.allclose(df_features_clean.mean(axis=0), 0, atol=1e-07), 'Mean of scaled features in X_train_scaled should be close to 0'\n>>> assert np.allclose(df_features_clean.std(axis=0), 1, atol=1e-07), 'Standard deviation of scaled features in X_train_scaled should be close to 1'\n",
         "hidden": false,
         "locked": false,
         "points": 5
        }
       ],
       "scored": true,
       "setup": "",
       "teardown": "",
       "type": "doctest"
      }
     ]
    },
    "q3": {
     "name": "q3",
     "points": null,
     "suites": [
      {
       "cases": [
        {
         "code": ">>> assert pca.n_components_ == 12, 'PCA should be trained on default parameters'\n",
         "hidden": false,
         "locked": false,
         "points": 2
        },
        {
         "code": ">>> assert np.allclose(df_pca.mean(axis=0), 0, atol=1e-07), 'Mean of PCA transformed data should be close to 0'\n>>> assert np.allclose(pca.explained_variance_ratio_[:5], [0.286, 0.101, 0.098, 0.088, 0.082], atol=0.01), 'Explained variance ratio of the first 5 PCs is not correct'\n",
         "hidden": false,
         "locked": false,
         "points": 3
        },
        {
         "code": ">>> import matplotlib.axes\n>>> assert isinstance(ax1, matplotlib.axes.Axes), 'The function should return a matplotlib Axes object.'\n>>> assert np.allclose(ax1.get_lines()[0].get_ydata()[:5], [0.286, 0.101, 0.098, 0.088, 0.082], atol=0.01), 'The y-data in the plot is not correct'\n",
         "hidden": false,
         "locked": false,
         "points": 5
        },
        {
         "code": ">>> import matplotlib.axes\n>>> assert isinstance(ax2, matplotlib.axes.Axes), 'The function should return a matplotlib Axes object.'\n>>> assert np.allclose(ax2.get_lines()[0].get_ydata()[:5], [0.286, 0.387, 0.485, 0.573, 0.655], atol=0.01), 'The y-data in the plot is not correct'\n",
         "hidden": false,
         "locked": false,
         "points": 5
        }
       ],
       "scored": true,
       "setup": "",
       "teardown": "",
       "type": "doctest"
      }
     ]
    },
    "q4": {
     "name": "q4",
     "points": null,
     "suites": [
      {
       "cases": [
        {
         "code": ">>> assert pca_n2.n_components_ == 2, 'PCA should be trained on n_components=2'\n",
         "hidden": false,
         "locked": false,
         "points": 5
        },
        {
         "code": ">>> assert df_pca_n2.shape[1] == 2, \"Check the PCA transformed data's shape.\"\n>>> assert np.allclose(pca_n2.explained_variance_ratio_, [0.286, 0.101], atol=0.01), 'Explained variance ratio of the first 2 PCs is not correct'\n",
         "hidden": false,
         "locked": false,
         "points": 5
        },
        {
         "code": ">>> inertia = [23381.394266654388, 11660.669352945773, 8107.546751929296, 6190.034957807583, 5104.434442361167, 4173.8134328772585, 3671.7676657951656, 3229.1327962159985, 2844.494071646097, 2585.1052161666266, 2347.5072073201977, 2152.9943653046626, 2005.2562617103727, 1887.6790115930582, 1777.8487042270158, 1690.6464536267772, 1606.7321292931283, 1545.405326507397, 1449.303446538871, 1367.8548729066933]\n>>> assert np.allclose(inertia_values, inertia, atol=1e-07), 'Inertia values are not correct'\n",
         "hidden": false,
         "locked": false,
         "points": 10
        },
        {
         "code": ">>> assert optimal_k == 4, 'The optimal K value is not correct.'\n",
         "hidden": false,
         "locked": false,
         "points": 5
        },
        {
         "code": ">>> assert np.allclose(final_kmeans.inertia_, 6190.034957807583, atol=1e-07), 'Inertia value is not correct'\n",
         "hidden": false,
         "locked": false,
         "points": 5
        }
       ],
       "scored": true,
       "setup": "",
       "teardown": "",
       "type": "doctest"
      }
     ]
    },
    "q5": {
     "name": "q5",
     "points": null,
     "suites": [
      {
       "cases": [
        {
         "code": ">>> assert max(silhouette) > 0.5, 'Check your silhouette scores again.'\n",
         "hidden": false,
         "locked": false,
         "points": 5
        }
       ],
       "scored": true,
       "setup": "",
       "teardown": "",
       "type": "doctest"
      }
     ]
    }
   }
  }
 },
 "nbformat": 4,
 "nbformat_minor": 4
}
